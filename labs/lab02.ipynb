{
  "cells": [
    {
      "cell_type": "markdown",
      "id": "sunrise-diagram",
      "metadata": {
        "id": "sunrise-diagram"
      },
      "source": [
        "# CSC311 Lab 2: Decision Trees and Accuracy-based Diagnostics\n",
        "\n",
        "All artificial intelligence systems have the potential to fail and in some domains\n",
        "(like health) failures can have grave consequences.  When we work in these domains,\n",
        "it's important for us to understand our algorithmic errors and their potential risk.\n",
        "\n",
        "<!--\n",
        "In labs 2, 5 and 7, we'll loosely be following the autiding procedure suggested by [Lui et. al](https://www.thelancet.com/journals/landig/article/PIIS2589-7500(22)00003-6/fulltext) in order to build and analyze a decision making system that operates in a high risk domain.\n",
        "-->\n",
        "\n",
        "In labs 2, 5 and 7, we will use data from The National Health and Nutrition Examination Survey [NHANES](https://www.cdc.gov/nchs/nhanes/index.htm) in the United States.\n",
        "This survey runs annually to assess people's health and nutritional status, and it combines data from interviews and physical examinations. We will be exploring a\n",
        "handful of attributes from the 2014 instance of this survey and their ability to predict heart disease.\n",
        "Making decisions using health data is particularly high risk, so we will use this opportunity to discuss\n",
        "how to assess our model prior to using it.\n",
        "\n",
        "<!--\n",
        "We will then do some testing according to\n",
        "the [auditing recipe](https://www.thelancet.com/journals/landig/article/PIIS2589-7500(22)00003-6/fulltext#seccestitle40) presented by Liu.\n",
        "-->\n",
        "\n",
        "In this lab, we will explore the features in this data set, use `sklearn` to fit a\n",
        "decision tree to our data, and do some work to select hyperparamters that maximize\n",
        "accuracy (or minimize the number of our classification mistakes). In future labs, we\n",
        "will be exploring our mistakes, relating them to important subgroups, and reflecting\n",
        "on our model's robustness. We will also consider how assessments of risk associated\n",
        "with our errors should or could inform our decision making criteria.\n",
        "\n",
        "By the end of this lab, you will be able to:\n",
        "\n",
        "1. Perform an exploratory analysis to understand the features that we use to make predictions.\n",
        "2. Transform features into formats amenable to machine learning (i.e. using one-hot embeddings).\n",
        "3. Use `sklearn` to fit a decision tree to our data and determine its training/validation/test accuracy.\n",
        "4. Visualize, understand and interpret a decision tree diagram.\n",
        "5. Explain how various hyperparameter choices may cause our decision tree to underfit or overfit data.\n",
        "6. Perform hyperparameter tuning to search for the optimal hyperparameters of a decision tree.\n",
        "\n",
        "Please work in groups of 1-2 during the labs.\n",
        "\n",
        "Acknowledgements:\n",
        "\n",
        "- Thanks to https://www.kaggle.com/code/tobyanderson/health-survey-analysis for some utilities to decode NHANES categories!  \n",
        "- This lab was created in collaboration with, Prof. Sonya Allin, Mustafa Haiderbhai, Carolyn Quinlan, Brandon Jaipersaud and others.\n",
        "\n",
        "## Submission\n",
        "\n",
        "If you are working with a partner, start by creating a group on Markus. If you are working alone,\n",
        "click \"Working Alone\".\n",
        "\n",
        "Submit the ipynb file `lab02.ipynb` on Markus\n",
        "**containing all your solutions to the Graded Tasks**.\n",
        "Your notebook file must contain your code **and outputs** where applicable,\n",
        "including printed lines and images.\n",
        "Your TA will not run your code for the purpose of grading.\n",
        "\n",
        "For this lab, you should submit the following:\n",
        "\n",
        "\n",
        "- Part 1. Your explanation for whether our features are likely to be informative predictors. (1 point)\n",
        "- Part 1. Your explanation for why encoding categorical variables as numeric values is problematic for a decision tree. (1 point)\n",
        "- Part 1. Your explanation as to why there is no need to normalize the features of a decision tree. (1 point)\n",
        "- Part 2. Your classification of `X_train[5]` based on your generated decision tree diagram and a justification for your classification. (1 point)\n",
        "- Part 2. The values of `max_depth` you chose to make your decision tree underfit/overfit, along with the generated diagrams. A justification as to why those values make the tree underfit/overfit. (1 point)\n",
        "- Part 2. The values of `min_samples_split` you chose to make your decision tree underfit/overfit. A justification as to why those values make the tree underfit/overfit. (1 point)\n",
        "- Part 3. Your implementation of `build_all_models`.  (2 points)\n",
        "- Part 3. Your implementation of grid search, including print statement(s) that show your best parameters and corresponding scores for both `entropy` and `gini` criteria.  (1 point)\n",
        "- Part 4. Your reflections on the exercise, and our definition of a model that performs \"well\". (1 point)\n",
        "\n",
        "## Google Colab Setup\n",
        "\n",
        "As before, we will import `matplotlib` and `numpy` for plotting and linear algebra\n",
        "manipulations."
      ]
    },
    {
      "cell_type": "code",
      "execution_count": 55,
      "id": "significant-aggregate",
      "metadata": {
        "id": "significant-aggregate"
      },
      "outputs": [],
      "source": [
        "import matplotlib.pyplot as plt # For plotting\n",
        "import numpy as np              # Linear algebra library"
      ]
    },
    {
      "cell_type": "markdown",
      "id": "alpine-knife",
      "metadata": {
        "id": "alpine-knife"
      },
      "source": [
        "In addition to using `numpy` for its linear algebra functionalities, we will also use\n",
        "a library called `pandas` to help us read CSV files and manipulate tabular data.\n",
        "The below code reads each of the csv files into a **data frame**, which is a way that\n",
        "`pandas` stores tabular data.\n",
        "As an added bonus, Jupyter notebooks display these data frames in a human-readable way."
      ]
    },
    {
      "cell_type": "code",
      "execution_count": 56,
      "id": "sharing-stroke",
      "metadata": {
        "id": "sharing-stroke"
      },
      "outputs": [],
      "source": [
        "import pandas as pd"
      ]
    },
    {
      "cell_type": "markdown",
      "id": "verified-season",
      "metadata": {
        "id": "verified-season"
      },
      "source": [
        "As before, we will start by downloading the data to Google Colab."
      ]
    },
    {
      "cell_type": "code",
      "execution_count": 57,
      "id": "preceding-trade",
      "metadata": {
        "colab": {
          "base_uri": "https://localhost:8080/"
        },
        "id": "preceding-trade",
        "outputId": "305f6438-dbb3-4cc7-f128-7ac075780a97"
      },
      "outputs": [
        {
          "output_type": "stream",
          "name": "stdout",
          "text": [
            "--2024-01-17 21:33:46--  https://www.cs.toronto.edu/~lczhang/311/lab02/NHANES-heart.csv\n",
            "Resolving www.cs.toronto.edu (www.cs.toronto.edu)... 128.100.3.30\n",
            "Connecting to www.cs.toronto.edu (www.cs.toronto.edu)|128.100.3.30|:443... connected.\n",
            "HTTP request sent, awaiting response... 200 OK\n",
            "Length: 450659 (440K) [text/csv]\n",
            "Saving to: ‘NHANES-heart.csv.1’\n",
            "\n",
            "NHANES-heart.csv.1  100%[===================>] 440.10K  1.06MB/s    in 0.4s    \n",
            "\n",
            "2024-01-17 21:33:47 (1.06 MB/s) - ‘NHANES-heart.csv.1’ saved [450659/450659]\n",
            "\n"
          ]
        }
      ],
      "source": [
        "!wget https://www.cs.toronto.edu/~lczhang/311/lab02/NHANES-heart.csv"
      ]
    },
    {
      "cell_type": "markdown",
      "id": "military-graduate",
      "metadata": {
        "id": "military-graduate"
      },
      "source": [
        "Use pandas to read the dataset."
      ]
    },
    {
      "cell_type": "code",
      "execution_count": 58,
      "id": "suited-robinson",
      "metadata": {
        "colab": {
          "base_uri": "https://localhost:8080/",
          "height": 439
        },
        "id": "suited-robinson",
        "outputId": "0f24c6d9-741d-4bf7-fda8-563f655d1333"
      },
      "outputs": [
        {
          "output_type": "execute_result",
          "data": {
            "text/plain": [
              "      gender  race_ethnicity  chest_pain_ever  drink_alcohol  age   BMI  \\\n",
              "0          1               4              1.0            1.0   62  29.1   \n",
              "1          1               6              2.0            1.0   50  20.9   \n",
              "2          2               1              2.0            2.0   62  16.6   \n",
              "3          1               3              2.0            1.0   61  17.6   \n",
              "4          1               4              2.0            1.0   69  13.5   \n",
              "...      ...             ...              ...            ...  ...   ...   \n",
              "7995       2               3              1.0            2.0   76  24.6   \n",
              "7996       2               2              2.0            2.0   43  29.0   \n",
              "7997       1               6              2.0            2.0   51  14.3   \n",
              "7998       1               2              1.0            1.0   64  24.6   \n",
              "7999       2               3              2.0            2.0   80  32.2   \n",
              "\n",
              "      weight_kg  blood_pressure_sys  diastolic_bp  blood_cholesterol  \\\n",
              "0          77.3               104.0          56.0               5.64   \n",
              "1          42.9               118.0          46.0               5.25   \n",
              "2          27.3               116.0          66.0               3.23   \n",
              "3          26.2                90.0          52.0               3.67   \n",
              "4          21.0               116.0          66.0               4.50   \n",
              "...         ...                 ...           ...                ...   \n",
              "7995       13.1               116.0          66.0               4.50   \n",
              "7996       81.4               134.0          62.0               3.05   \n",
              "7997       15.6               116.0          66.0               4.50   \n",
              "7998       11.6               116.0          66.0               4.50   \n",
              "7999       78.3               114.0          66.0               4.55   \n",
              "\n",
              "      calories  family_income  target_heart  \n",
              "0        815.0           0.87           0.0  \n",
              "1       2339.0           3.63           0.0  \n",
              "2       1405.0           3.09           0.0  \n",
              "3       1735.0           2.13           0.0  \n",
              "4       1735.0           1.74           0.0  \n",
              "...        ...            ...           ...  \n",
              "7995    1735.0           2.05           1.0  \n",
              "7996    1735.0           0.45           1.0  \n",
              "7997    1735.0           0.48           1.0  \n",
              "7998    1120.0           0.31           1.0  \n",
              "7999    3274.0           0.62           1.0  \n",
              "\n",
              "[8000 rows x 13 columns]"
            ],
            "text/html": [
              "\n",
              "  <div id=\"df-c9911b9a-091b-4d08-9822-ed2682cf3608\" class=\"colab-df-container\">\n",
              "    <div>\n",
              "<style scoped>\n",
              "    .dataframe tbody tr th:only-of-type {\n",
              "        vertical-align: middle;\n",
              "    }\n",
              "\n",
              "    .dataframe tbody tr th {\n",
              "        vertical-align: top;\n",
              "    }\n",
              "\n",
              "    .dataframe thead th {\n",
              "        text-align: right;\n",
              "    }\n",
              "</style>\n",
              "<table border=\"1\" class=\"dataframe\">\n",
              "  <thead>\n",
              "    <tr style=\"text-align: right;\">\n",
              "      <th></th>\n",
              "      <th>gender</th>\n",
              "      <th>race_ethnicity</th>\n",
              "      <th>chest_pain_ever</th>\n",
              "      <th>drink_alcohol</th>\n",
              "      <th>age</th>\n",
              "      <th>BMI</th>\n",
              "      <th>weight_kg</th>\n",
              "      <th>blood_pressure_sys</th>\n",
              "      <th>diastolic_bp</th>\n",
              "      <th>blood_cholesterol</th>\n",
              "      <th>calories</th>\n",
              "      <th>family_income</th>\n",
              "      <th>target_heart</th>\n",
              "    </tr>\n",
              "  </thead>\n",
              "  <tbody>\n",
              "    <tr>\n",
              "      <th>0</th>\n",
              "      <td>1</td>\n",
              "      <td>4</td>\n",
              "      <td>1.0</td>\n",
              "      <td>1.0</td>\n",
              "      <td>62</td>\n",
              "      <td>29.1</td>\n",
              "      <td>77.3</td>\n",
              "      <td>104.0</td>\n",
              "      <td>56.0</td>\n",
              "      <td>5.64</td>\n",
              "      <td>815.0</td>\n",
              "      <td>0.87</td>\n",
              "      <td>0.0</td>\n",
              "    </tr>\n",
              "    <tr>\n",
              "      <th>1</th>\n",
              "      <td>1</td>\n",
              "      <td>6</td>\n",
              "      <td>2.0</td>\n",
              "      <td>1.0</td>\n",
              "      <td>50</td>\n",
              "      <td>20.9</td>\n",
              "      <td>42.9</td>\n",
              "      <td>118.0</td>\n",
              "      <td>46.0</td>\n",
              "      <td>5.25</td>\n",
              "      <td>2339.0</td>\n",
              "      <td>3.63</td>\n",
              "      <td>0.0</td>\n",
              "    </tr>\n",
              "    <tr>\n",
              "      <th>2</th>\n",
              "      <td>2</td>\n",
              "      <td>1</td>\n",
              "      <td>2.0</td>\n",
              "      <td>2.0</td>\n",
              "      <td>62</td>\n",
              "      <td>16.6</td>\n",
              "      <td>27.3</td>\n",
              "      <td>116.0</td>\n",
              "      <td>66.0</td>\n",
              "      <td>3.23</td>\n",
              "      <td>1405.0</td>\n",
              "      <td>3.09</td>\n",
              "      <td>0.0</td>\n",
              "    </tr>\n",
              "    <tr>\n",
              "      <th>3</th>\n",
              "      <td>1</td>\n",
              "      <td>3</td>\n",
              "      <td>2.0</td>\n",
              "      <td>1.0</td>\n",
              "      <td>61</td>\n",
              "      <td>17.6</td>\n",
              "      <td>26.2</td>\n",
              "      <td>90.0</td>\n",
              "      <td>52.0</td>\n",
              "      <td>3.67</td>\n",
              "      <td>1735.0</td>\n",
              "      <td>2.13</td>\n",
              "      <td>0.0</td>\n",
              "    </tr>\n",
              "    <tr>\n",
              "      <th>4</th>\n",
              "      <td>1</td>\n",
              "      <td>4</td>\n",
              "      <td>2.0</td>\n",
              "      <td>1.0</td>\n",
              "      <td>69</td>\n",
              "      <td>13.5</td>\n",
              "      <td>21.0</td>\n",
              "      <td>116.0</td>\n",
              "      <td>66.0</td>\n",
              "      <td>4.50</td>\n",
              "      <td>1735.0</td>\n",
              "      <td>1.74</td>\n",
              "      <td>0.0</td>\n",
              "    </tr>\n",
              "    <tr>\n",
              "      <th>...</th>\n",
              "      <td>...</td>\n",
              "      <td>...</td>\n",
              "      <td>...</td>\n",
              "      <td>...</td>\n",
              "      <td>...</td>\n",
              "      <td>...</td>\n",
              "      <td>...</td>\n",
              "      <td>...</td>\n",
              "      <td>...</td>\n",
              "      <td>...</td>\n",
              "      <td>...</td>\n",
              "      <td>...</td>\n",
              "      <td>...</td>\n",
              "    </tr>\n",
              "    <tr>\n",
              "      <th>7995</th>\n",
              "      <td>2</td>\n",
              "      <td>3</td>\n",
              "      <td>1.0</td>\n",
              "      <td>2.0</td>\n",
              "      <td>76</td>\n",
              "      <td>24.6</td>\n",
              "      <td>13.1</td>\n",
              "      <td>116.0</td>\n",
              "      <td>66.0</td>\n",
              "      <td>4.50</td>\n",
              "      <td>1735.0</td>\n",
              "      <td>2.05</td>\n",
              "      <td>1.0</td>\n",
              "    </tr>\n",
              "    <tr>\n",
              "      <th>7996</th>\n",
              "      <td>2</td>\n",
              "      <td>2</td>\n",
              "      <td>2.0</td>\n",
              "      <td>2.0</td>\n",
              "      <td>43</td>\n",
              "      <td>29.0</td>\n",
              "      <td>81.4</td>\n",
              "      <td>134.0</td>\n",
              "      <td>62.0</td>\n",
              "      <td>3.05</td>\n",
              "      <td>1735.0</td>\n",
              "      <td>0.45</td>\n",
              "      <td>1.0</td>\n",
              "    </tr>\n",
              "    <tr>\n",
              "      <th>7997</th>\n",
              "      <td>1</td>\n",
              "      <td>6</td>\n",
              "      <td>2.0</td>\n",
              "      <td>2.0</td>\n",
              "      <td>51</td>\n",
              "      <td>14.3</td>\n",
              "      <td>15.6</td>\n",
              "      <td>116.0</td>\n",
              "      <td>66.0</td>\n",
              "      <td>4.50</td>\n",
              "      <td>1735.0</td>\n",
              "      <td>0.48</td>\n",
              "      <td>1.0</td>\n",
              "    </tr>\n",
              "    <tr>\n",
              "      <th>7998</th>\n",
              "      <td>1</td>\n",
              "      <td>2</td>\n",
              "      <td>1.0</td>\n",
              "      <td>1.0</td>\n",
              "      <td>64</td>\n",
              "      <td>24.6</td>\n",
              "      <td>11.6</td>\n",
              "      <td>116.0</td>\n",
              "      <td>66.0</td>\n",
              "      <td>4.50</td>\n",
              "      <td>1120.0</td>\n",
              "      <td>0.31</td>\n",
              "      <td>1.0</td>\n",
              "    </tr>\n",
              "    <tr>\n",
              "      <th>7999</th>\n",
              "      <td>2</td>\n",
              "      <td>3</td>\n",
              "      <td>2.0</td>\n",
              "      <td>2.0</td>\n",
              "      <td>80</td>\n",
              "      <td>32.2</td>\n",
              "      <td>78.3</td>\n",
              "      <td>114.0</td>\n",
              "      <td>66.0</td>\n",
              "      <td>4.55</td>\n",
              "      <td>3274.0</td>\n",
              "      <td>0.62</td>\n",
              "      <td>1.0</td>\n",
              "    </tr>\n",
              "  </tbody>\n",
              "</table>\n",
              "<p>8000 rows × 13 columns</p>\n",
              "</div>\n",
              "    <div class=\"colab-df-buttons\">\n",
              "\n",
              "  <div class=\"colab-df-container\">\n",
              "    <button class=\"colab-df-convert\" onclick=\"convertToInteractive('df-c9911b9a-091b-4d08-9822-ed2682cf3608')\"\n",
              "            title=\"Convert this dataframe to an interactive table.\"\n",
              "            style=\"display:none;\">\n",
              "\n",
              "  <svg xmlns=\"http://www.w3.org/2000/svg\" height=\"24px\" viewBox=\"0 -960 960 960\">\n",
              "    <path d=\"M120-120v-720h720v720H120Zm60-500h600v-160H180v160Zm220 220h160v-160H400v160Zm0 220h160v-160H400v160ZM180-400h160v-160H180v160Zm440 0h160v-160H620v160ZM180-180h160v-160H180v160Zm440 0h160v-160H620v160Z\"/>\n",
              "  </svg>\n",
              "    </button>\n",
              "\n",
              "  <style>\n",
              "    .colab-df-container {\n",
              "      display:flex;\n",
              "      gap: 12px;\n",
              "    }\n",
              "\n",
              "    .colab-df-convert {\n",
              "      background-color: #E8F0FE;\n",
              "      border: none;\n",
              "      border-radius: 50%;\n",
              "      cursor: pointer;\n",
              "      display: none;\n",
              "      fill: #1967D2;\n",
              "      height: 32px;\n",
              "      padding: 0 0 0 0;\n",
              "      width: 32px;\n",
              "    }\n",
              "\n",
              "    .colab-df-convert:hover {\n",
              "      background-color: #E2EBFA;\n",
              "      box-shadow: 0px 1px 2px rgba(60, 64, 67, 0.3), 0px 1px 3px 1px rgba(60, 64, 67, 0.15);\n",
              "      fill: #174EA6;\n",
              "    }\n",
              "\n",
              "    .colab-df-buttons div {\n",
              "      margin-bottom: 4px;\n",
              "    }\n",
              "\n",
              "    [theme=dark] .colab-df-convert {\n",
              "      background-color: #3B4455;\n",
              "      fill: #D2E3FC;\n",
              "    }\n",
              "\n",
              "    [theme=dark] .colab-df-convert:hover {\n",
              "      background-color: #434B5C;\n",
              "      box-shadow: 0px 1px 3px 1px rgba(0, 0, 0, 0.15);\n",
              "      filter: drop-shadow(0px 1px 2px rgba(0, 0, 0, 0.3));\n",
              "      fill: #FFFFFF;\n",
              "    }\n",
              "  </style>\n",
              "\n",
              "    <script>\n",
              "      const buttonEl =\n",
              "        document.querySelector('#df-c9911b9a-091b-4d08-9822-ed2682cf3608 button.colab-df-convert');\n",
              "      buttonEl.style.display =\n",
              "        google.colab.kernel.accessAllowed ? 'block' : 'none';\n",
              "\n",
              "      async function convertToInteractive(key) {\n",
              "        const element = document.querySelector('#df-c9911b9a-091b-4d08-9822-ed2682cf3608');\n",
              "        const dataTable =\n",
              "          await google.colab.kernel.invokeFunction('convertToInteractive',\n",
              "                                                    [key], {});\n",
              "        if (!dataTable) return;\n",
              "\n",
              "        const docLinkHtml = 'Like what you see? Visit the ' +\n",
              "          '<a target=\"_blank\" href=https://colab.research.google.com/notebooks/data_table.ipynb>data table notebook</a>'\n",
              "          + ' to learn more about interactive tables.';\n",
              "        element.innerHTML = '';\n",
              "        dataTable['output_type'] = 'display_data';\n",
              "        await google.colab.output.renderOutput(dataTable, element);\n",
              "        const docLink = document.createElement('div');\n",
              "        docLink.innerHTML = docLinkHtml;\n",
              "        element.appendChild(docLink);\n",
              "      }\n",
              "    </script>\n",
              "  </div>\n",
              "\n",
              "\n",
              "<div id=\"df-e240c34b-da4e-48a8-96e2-505aad2b0643\">\n",
              "  <button class=\"colab-df-quickchart\" onclick=\"quickchart('df-e240c34b-da4e-48a8-96e2-505aad2b0643')\"\n",
              "            title=\"Suggest charts\"\n",
              "            style=\"display:none;\">\n",
              "\n",
              "<svg xmlns=\"http://www.w3.org/2000/svg\" height=\"24px\"viewBox=\"0 0 24 24\"\n",
              "     width=\"24px\">\n",
              "    <g>\n",
              "        <path d=\"M19 3H5c-1.1 0-2 .9-2 2v14c0 1.1.9 2 2 2h14c1.1 0 2-.9 2-2V5c0-1.1-.9-2-2-2zM9 17H7v-7h2v7zm4 0h-2V7h2v10zm4 0h-2v-4h2v4z\"/>\n",
              "    </g>\n",
              "</svg>\n",
              "  </button>\n",
              "\n",
              "<style>\n",
              "  .colab-df-quickchart {\n",
              "      --bg-color: #E8F0FE;\n",
              "      --fill-color: #1967D2;\n",
              "      --hover-bg-color: #E2EBFA;\n",
              "      --hover-fill-color: #174EA6;\n",
              "      --disabled-fill-color: #AAA;\n",
              "      --disabled-bg-color: #DDD;\n",
              "  }\n",
              "\n",
              "  [theme=dark] .colab-df-quickchart {\n",
              "      --bg-color: #3B4455;\n",
              "      --fill-color: #D2E3FC;\n",
              "      --hover-bg-color: #434B5C;\n",
              "      --hover-fill-color: #FFFFFF;\n",
              "      --disabled-bg-color: #3B4455;\n",
              "      --disabled-fill-color: #666;\n",
              "  }\n",
              "\n",
              "  .colab-df-quickchart {\n",
              "    background-color: var(--bg-color);\n",
              "    border: none;\n",
              "    border-radius: 50%;\n",
              "    cursor: pointer;\n",
              "    display: none;\n",
              "    fill: var(--fill-color);\n",
              "    height: 32px;\n",
              "    padding: 0;\n",
              "    width: 32px;\n",
              "  }\n",
              "\n",
              "  .colab-df-quickchart:hover {\n",
              "    background-color: var(--hover-bg-color);\n",
              "    box-shadow: 0 1px 2px rgba(60, 64, 67, 0.3), 0 1px 3px 1px rgba(60, 64, 67, 0.15);\n",
              "    fill: var(--button-hover-fill-color);\n",
              "  }\n",
              "\n",
              "  .colab-df-quickchart-complete:disabled,\n",
              "  .colab-df-quickchart-complete:disabled:hover {\n",
              "    background-color: var(--disabled-bg-color);\n",
              "    fill: var(--disabled-fill-color);\n",
              "    box-shadow: none;\n",
              "  }\n",
              "\n",
              "  .colab-df-spinner {\n",
              "    border: 2px solid var(--fill-color);\n",
              "    border-color: transparent;\n",
              "    border-bottom-color: var(--fill-color);\n",
              "    animation:\n",
              "      spin 1s steps(1) infinite;\n",
              "  }\n",
              "\n",
              "  @keyframes spin {\n",
              "    0% {\n",
              "      border-color: transparent;\n",
              "      border-bottom-color: var(--fill-color);\n",
              "      border-left-color: var(--fill-color);\n",
              "    }\n",
              "    20% {\n",
              "      border-color: transparent;\n",
              "      border-left-color: var(--fill-color);\n",
              "      border-top-color: var(--fill-color);\n",
              "    }\n",
              "    30% {\n",
              "      border-color: transparent;\n",
              "      border-left-color: var(--fill-color);\n",
              "      border-top-color: var(--fill-color);\n",
              "      border-right-color: var(--fill-color);\n",
              "    }\n",
              "    40% {\n",
              "      border-color: transparent;\n",
              "      border-right-color: var(--fill-color);\n",
              "      border-top-color: var(--fill-color);\n",
              "    }\n",
              "    60% {\n",
              "      border-color: transparent;\n",
              "      border-right-color: var(--fill-color);\n",
              "    }\n",
              "    80% {\n",
              "      border-color: transparent;\n",
              "      border-right-color: var(--fill-color);\n",
              "      border-bottom-color: var(--fill-color);\n",
              "    }\n",
              "    90% {\n",
              "      border-color: transparent;\n",
              "      border-bottom-color: var(--fill-color);\n",
              "    }\n",
              "  }\n",
              "</style>\n",
              "\n",
              "  <script>\n",
              "    async function quickchart(key) {\n",
              "      const quickchartButtonEl =\n",
              "        document.querySelector('#' + key + ' button');\n",
              "      quickchartButtonEl.disabled = true;  // To prevent multiple clicks.\n",
              "      quickchartButtonEl.classList.add('colab-df-spinner');\n",
              "      try {\n",
              "        const charts = await google.colab.kernel.invokeFunction(\n",
              "            'suggestCharts', [key], {});\n",
              "      } catch (error) {\n",
              "        console.error('Error during call to suggestCharts:', error);\n",
              "      }\n",
              "      quickchartButtonEl.classList.remove('colab-df-spinner');\n",
              "      quickchartButtonEl.classList.add('colab-df-quickchart-complete');\n",
              "    }\n",
              "    (() => {\n",
              "      let quickchartButtonEl =\n",
              "        document.querySelector('#df-e240c34b-da4e-48a8-96e2-505aad2b0643 button');\n",
              "      quickchartButtonEl.style.display =\n",
              "        google.colab.kernel.accessAllowed ? 'block' : 'none';\n",
              "    })();\n",
              "  </script>\n",
              "</div>\n",
              "\n",
              "  <div id=\"id_ea87ca3d-3510-4e09-b621-6d380cf3e08b\">\n",
              "    <style>\n",
              "      .colab-df-generate {\n",
              "        background-color: #E8F0FE;\n",
              "        border: none;\n",
              "        border-radius: 50%;\n",
              "        cursor: pointer;\n",
              "        display: none;\n",
              "        fill: #1967D2;\n",
              "        height: 32px;\n",
              "        padding: 0 0 0 0;\n",
              "        width: 32px;\n",
              "      }\n",
              "\n",
              "      .colab-df-generate:hover {\n",
              "        background-color: #E2EBFA;\n",
              "        box-shadow: 0px 1px 2px rgba(60, 64, 67, 0.3), 0px 1px 3px 1px rgba(60, 64, 67, 0.15);\n",
              "        fill: #174EA6;\n",
              "      }\n",
              "\n",
              "      [theme=dark] .colab-df-generate {\n",
              "        background-color: #3B4455;\n",
              "        fill: #D2E3FC;\n",
              "      }\n",
              "\n",
              "      [theme=dark] .colab-df-generate:hover {\n",
              "        background-color: #434B5C;\n",
              "        box-shadow: 0px 1px 3px 1px rgba(0, 0, 0, 0.15);\n",
              "        filter: drop-shadow(0px 1px 2px rgba(0, 0, 0, 0.3));\n",
              "        fill: #FFFFFF;\n",
              "      }\n",
              "    </style>\n",
              "    <button class=\"colab-df-generate\" onclick=\"generateWithVariable('data')\"\n",
              "            title=\"Generate code using this dataframe.\"\n",
              "            style=\"display:none;\">\n",
              "\n",
              "  <svg xmlns=\"http://www.w3.org/2000/svg\" height=\"24px\"viewBox=\"0 0 24 24\"\n",
              "       width=\"24px\">\n",
              "    <path d=\"M7,19H8.4L18.45,9,17,7.55,7,17.6ZM5,21V16.75L18.45,3.32a2,2,0,0,1,2.83,0l1.4,1.43a1.91,1.91,0,0,1,.58,1.4,1.91,1.91,0,0,1-.58,1.4L9.25,21ZM18.45,9,17,7.55Zm-12,3A5.31,5.31,0,0,0,4.9,8.1,5.31,5.31,0,0,0,1,6.5,5.31,5.31,0,0,0,4.9,4.9,5.31,5.31,0,0,0,6.5,1,5.31,5.31,0,0,0,8.1,4.9,5.31,5.31,0,0,0,12,6.5,5.46,5.46,0,0,0,6.5,12Z\"/>\n",
              "  </svg>\n",
              "    </button>\n",
              "    <script>\n",
              "      (() => {\n",
              "      const buttonEl =\n",
              "        document.querySelector('#id_ea87ca3d-3510-4e09-b621-6d380cf3e08b button.colab-df-generate');\n",
              "      buttonEl.style.display =\n",
              "        google.colab.kernel.accessAllowed ? 'block' : 'none';\n",
              "\n",
              "      buttonEl.onclick = () => {\n",
              "        google.colab.notebook.generateWithVariable('data');\n",
              "      }\n",
              "      })();\n",
              "    </script>\n",
              "  </div>\n",
              "\n",
              "    </div>\n",
              "  </div>\n"
            ]
          },
          "metadata": {},
          "execution_count": 58
        }
      ],
      "source": [
        "# read each of the csv files as a *pandas data frame*\n",
        "data = pd.read_csv(\"NHANES-heart.csv\")\n",
        "\n",
        "# display one the dataframes in the notebook\n",
        "data"
      ]
    },
    {
      "cell_type": "markdown",
      "id": "alternative-liquid",
      "metadata": {
        "id": "alternative-liquid"
      },
      "source": [
        "## Part 1. Data\n",
        "\n",
        "We will be focusing on NHANES survey data relevant to the assessment of heart disease.\n",
        "Note however that assessing the presence of heart disease based on this survey data is not an easy task.\n",
        "This is because people may have heart disease but not know it, or people may think they have heart disease\n",
        "when they do not. In our data, we have defined an individual as having heart disease if they answered \"Yes\"\n",
        "to this question on the NHANES survey: \"Have you ever been told by a doctor that you had congestive heart\n",
        "failure, coronary heart disease, a heart attack, or a stroke?\".  This is, as you may notice, not the perfect\n",
        "measure of heart disease! It is however the information we have in hand and it is consistent with the way others\n",
        "have defined heart disease in the [literature](https://www.ncbi.nlm.nih.gov/pmc/articles/PMC6836338/).\n",
        "\n",
        "If you are interested in better understanding the NHANES survey responses, we encourage you to look at\n",
        "the [NHANES data dictionary](https://wwwn.cdc.gov/nchs/nhanes/continuousnhanes/default.aspx). Understanding\n",
        "your data is extremely important, as there are often situations in which measurements may be ambiguous or\n",
        "inaccurate, and these inaccuracies impact any decision making algorithm you create.\n",
        "\n",
        "If you do work to gather data, it will be your responsibility to document this data.  And if you use data to\n",
        "create an algorithm, it will be your responsibility to understand its limitations.  If you are interested in\n",
        "best practices related to data documentation, we encourage you to read [Gebru's article on this topic](https://arxiv.org/pdf/1803.09010.pdf).\n",
        "You may also be interested in current data [reporting standards](https://www.bmj.com/content/370/bmj.m3164) for clinical trials that involve automated decision making tools.\n",
        "\n",
        "In this lab, we will be looking at 10 features from the NHANES data set. We have done work to clean the data for you so that it is approachable, but we encourage you to take a look at the raw data as you are able.  The definitions of the features are as follows:\n",
        "\n",
        "- `gender` (RIAGENDR): which is binary 2=female, 1=male\n",
        "- `race_ethnicity` (RIDRETH3): which can be 1=mexican american, 2=other hispanic, 3=white, 4=black, 6=asian, ...\n",
        "- `age` (RIDAGEYR): Age in years\n",
        "- `drink_alcohol` (ALQ101): which is binary; 1 indicates the individual reportedly drinks alcohol and 2 indicates they do not\n",
        "- `blood_cholesterol` (LBDTCSI): Results of an individual's blood cholesterol tests (mmol of cholesterol/L of blood)\n",
        "- `blood_pressure_sys` (BPXSY1): an individual's systolic blood pressure\n",
        "- `diastolic_bp` (BPXDI1): an individual's diastolic blood pressure\n",
        "- `calories` (DR1TKCAL): the number of calories an individual eats per day\n",
        "- `BMI` (BMXBMI): an individual's Body Mass Index (which can be used to assess obesity)\n",
        "- `chest_pain_ever` (CDQ001): If an individual has ever reported chest pain.\n",
        "- `family_income` (INDFMPIR): Ratio of a family's income to poverty threshold\n",
        "\n",
        "We will be using these features to predict the column `target_heart`:\n",
        "\n",
        "- `target_heart`: An individual reports that they have heart disease (1=yes, 0=no).\n",
        "\n",
        "\n",
        "Let's start by exploring the data that we have in hand. Pandas has a nice function to summarize the mean and dispersion of each feature in our data frame:"
      ]
    },
    {
      "cell_type": "code",
      "execution_count": 59,
      "id": "noted-valuation",
      "metadata": {
        "colab": {
          "base_uri": "https://localhost:8080/",
          "height": 317
        },
        "id": "noted-valuation",
        "outputId": "94c23185-fc05-49ca-e90e-014c47c218d9"
      },
      "outputs": [
        {
          "output_type": "execute_result",
          "data": {
            "text/plain": [
              "            gender  race_ethnicity  chest_pain_ever  drink_alcohol  \\\n",
              "count  8000.000000     8000.000000      8000.000000    8000.000000   \n",
              "mean      1.498375        3.222000         1.649125       1.304375   \n",
              "std       0.500029        1.330672         0.477274       0.460171   \n",
              "min       1.000000        1.000000         1.000000       1.000000   \n",
              "25%       1.000000        3.000000         1.000000       1.000000   \n",
              "50%       1.000000        3.000000         2.000000       1.000000   \n",
              "75%       2.000000        4.000000         2.000000       2.000000   \n",
              "max       2.000000        7.000000         2.000000       2.000000   \n",
              "\n",
              "               age          BMI    weight_kg  blood_pressure_sys  \\\n",
              "count  8000.000000  8000.000000  8000.000000         8000.000000   \n",
              "mean     62.627875    25.352687    61.112887          117.135500   \n",
              "std      12.225806     7.683466    32.803242           15.050115   \n",
              "min      40.000000    12.900000     3.300000           82.000000   \n",
              "25%      52.000000    19.700000    33.600000          108.000000   \n",
              "50%      63.000000    24.600000    63.700000          116.000000   \n",
              "75%      73.000000    29.500000    83.000000          122.000000   \n",
              "max      80.000000    82.900000   201.600000          220.000000   \n",
              "\n",
              "       diastolic_bp  blood_cholesterol     calories  family_income  \\\n",
              "count   8000.000000        8000.000000  8000.000000    8000.000000   \n",
              "mean      65.705000           4.584376  1866.986875       2.456017   \n",
              "std       11.610893           0.908403   867.494312       1.532800   \n",
              "min        0.000000           2.020000   171.000000       0.000000   \n",
              "25%       60.000000           4.090000  1337.750000       1.180000   \n",
              "50%       66.000000           4.500000  1735.000000       2.050000   \n",
              "75%       72.000000           4.970000  2215.250000       3.800000   \n",
              "max      116.000000          11.970000  8496.000000       5.000000   \n",
              "\n",
              "       target_heart  \n",
              "count   8000.000000  \n",
              "mean       0.500000  \n",
              "std        0.500031  \n",
              "min        0.000000  \n",
              "25%        0.000000  \n",
              "50%        0.500000  \n",
              "75%        1.000000  \n",
              "max        1.000000  "
            ],
            "text/html": [
              "\n",
              "  <div id=\"df-20677dce-e3cc-4bc2-a3fb-364f51f0cee4\" class=\"colab-df-container\">\n",
              "    <div>\n",
              "<style scoped>\n",
              "    .dataframe tbody tr th:only-of-type {\n",
              "        vertical-align: middle;\n",
              "    }\n",
              "\n",
              "    .dataframe tbody tr th {\n",
              "        vertical-align: top;\n",
              "    }\n",
              "\n",
              "    .dataframe thead th {\n",
              "        text-align: right;\n",
              "    }\n",
              "</style>\n",
              "<table border=\"1\" class=\"dataframe\">\n",
              "  <thead>\n",
              "    <tr style=\"text-align: right;\">\n",
              "      <th></th>\n",
              "      <th>gender</th>\n",
              "      <th>race_ethnicity</th>\n",
              "      <th>chest_pain_ever</th>\n",
              "      <th>drink_alcohol</th>\n",
              "      <th>age</th>\n",
              "      <th>BMI</th>\n",
              "      <th>weight_kg</th>\n",
              "      <th>blood_pressure_sys</th>\n",
              "      <th>diastolic_bp</th>\n",
              "      <th>blood_cholesterol</th>\n",
              "      <th>calories</th>\n",
              "      <th>family_income</th>\n",
              "      <th>target_heart</th>\n",
              "    </tr>\n",
              "  </thead>\n",
              "  <tbody>\n",
              "    <tr>\n",
              "      <th>count</th>\n",
              "      <td>8000.000000</td>\n",
              "      <td>8000.000000</td>\n",
              "      <td>8000.000000</td>\n",
              "      <td>8000.000000</td>\n",
              "      <td>8000.000000</td>\n",
              "      <td>8000.000000</td>\n",
              "      <td>8000.000000</td>\n",
              "      <td>8000.000000</td>\n",
              "      <td>8000.000000</td>\n",
              "      <td>8000.000000</td>\n",
              "      <td>8000.000000</td>\n",
              "      <td>8000.000000</td>\n",
              "      <td>8000.000000</td>\n",
              "    </tr>\n",
              "    <tr>\n",
              "      <th>mean</th>\n",
              "      <td>1.498375</td>\n",
              "      <td>3.222000</td>\n",
              "      <td>1.649125</td>\n",
              "      <td>1.304375</td>\n",
              "      <td>62.627875</td>\n",
              "      <td>25.352687</td>\n",
              "      <td>61.112887</td>\n",
              "      <td>117.135500</td>\n",
              "      <td>65.705000</td>\n",
              "      <td>4.584376</td>\n",
              "      <td>1866.986875</td>\n",
              "      <td>2.456017</td>\n",
              "      <td>0.500000</td>\n",
              "    </tr>\n",
              "    <tr>\n",
              "      <th>std</th>\n",
              "      <td>0.500029</td>\n",
              "      <td>1.330672</td>\n",
              "      <td>0.477274</td>\n",
              "      <td>0.460171</td>\n",
              "      <td>12.225806</td>\n",
              "      <td>7.683466</td>\n",
              "      <td>32.803242</td>\n",
              "      <td>15.050115</td>\n",
              "      <td>11.610893</td>\n",
              "      <td>0.908403</td>\n",
              "      <td>867.494312</td>\n",
              "      <td>1.532800</td>\n",
              "      <td>0.500031</td>\n",
              "    </tr>\n",
              "    <tr>\n",
              "      <th>min</th>\n",
              "      <td>1.000000</td>\n",
              "      <td>1.000000</td>\n",
              "      <td>1.000000</td>\n",
              "      <td>1.000000</td>\n",
              "      <td>40.000000</td>\n",
              "      <td>12.900000</td>\n",
              "      <td>3.300000</td>\n",
              "      <td>82.000000</td>\n",
              "      <td>0.000000</td>\n",
              "      <td>2.020000</td>\n",
              "      <td>171.000000</td>\n",
              "      <td>0.000000</td>\n",
              "      <td>0.000000</td>\n",
              "    </tr>\n",
              "    <tr>\n",
              "      <th>25%</th>\n",
              "      <td>1.000000</td>\n",
              "      <td>3.000000</td>\n",
              "      <td>1.000000</td>\n",
              "      <td>1.000000</td>\n",
              "      <td>52.000000</td>\n",
              "      <td>19.700000</td>\n",
              "      <td>33.600000</td>\n",
              "      <td>108.000000</td>\n",
              "      <td>60.000000</td>\n",
              "      <td>4.090000</td>\n",
              "      <td>1337.750000</td>\n",
              "      <td>1.180000</td>\n",
              "      <td>0.000000</td>\n",
              "    </tr>\n",
              "    <tr>\n",
              "      <th>50%</th>\n",
              "      <td>1.000000</td>\n",
              "      <td>3.000000</td>\n",
              "      <td>2.000000</td>\n",
              "      <td>1.000000</td>\n",
              "      <td>63.000000</td>\n",
              "      <td>24.600000</td>\n",
              "      <td>63.700000</td>\n",
              "      <td>116.000000</td>\n",
              "      <td>66.000000</td>\n",
              "      <td>4.500000</td>\n",
              "      <td>1735.000000</td>\n",
              "      <td>2.050000</td>\n",
              "      <td>0.500000</td>\n",
              "    </tr>\n",
              "    <tr>\n",
              "      <th>75%</th>\n",
              "      <td>2.000000</td>\n",
              "      <td>4.000000</td>\n",
              "      <td>2.000000</td>\n",
              "      <td>2.000000</td>\n",
              "      <td>73.000000</td>\n",
              "      <td>29.500000</td>\n",
              "      <td>83.000000</td>\n",
              "      <td>122.000000</td>\n",
              "      <td>72.000000</td>\n",
              "      <td>4.970000</td>\n",
              "      <td>2215.250000</td>\n",
              "      <td>3.800000</td>\n",
              "      <td>1.000000</td>\n",
              "    </tr>\n",
              "    <tr>\n",
              "      <th>max</th>\n",
              "      <td>2.000000</td>\n",
              "      <td>7.000000</td>\n",
              "      <td>2.000000</td>\n",
              "      <td>2.000000</td>\n",
              "      <td>80.000000</td>\n",
              "      <td>82.900000</td>\n",
              "      <td>201.600000</td>\n",
              "      <td>220.000000</td>\n",
              "      <td>116.000000</td>\n",
              "      <td>11.970000</td>\n",
              "      <td>8496.000000</td>\n",
              "      <td>5.000000</td>\n",
              "      <td>1.000000</td>\n",
              "    </tr>\n",
              "  </tbody>\n",
              "</table>\n",
              "</div>\n",
              "    <div class=\"colab-df-buttons\">\n",
              "\n",
              "  <div class=\"colab-df-container\">\n",
              "    <button class=\"colab-df-convert\" onclick=\"convertToInteractive('df-20677dce-e3cc-4bc2-a3fb-364f51f0cee4')\"\n",
              "            title=\"Convert this dataframe to an interactive table.\"\n",
              "            style=\"display:none;\">\n",
              "\n",
              "  <svg xmlns=\"http://www.w3.org/2000/svg\" height=\"24px\" viewBox=\"0 -960 960 960\">\n",
              "    <path d=\"M120-120v-720h720v720H120Zm60-500h600v-160H180v160Zm220 220h160v-160H400v160Zm0 220h160v-160H400v160ZM180-400h160v-160H180v160Zm440 0h160v-160H620v160ZM180-180h160v-160H180v160Zm440 0h160v-160H620v160Z\"/>\n",
              "  </svg>\n",
              "    </button>\n",
              "\n",
              "  <style>\n",
              "    .colab-df-container {\n",
              "      display:flex;\n",
              "      gap: 12px;\n",
              "    }\n",
              "\n",
              "    .colab-df-convert {\n",
              "      background-color: #E8F0FE;\n",
              "      border: none;\n",
              "      border-radius: 50%;\n",
              "      cursor: pointer;\n",
              "      display: none;\n",
              "      fill: #1967D2;\n",
              "      height: 32px;\n",
              "      padding: 0 0 0 0;\n",
              "      width: 32px;\n",
              "    }\n",
              "\n",
              "    .colab-df-convert:hover {\n",
              "      background-color: #E2EBFA;\n",
              "      box-shadow: 0px 1px 2px rgba(60, 64, 67, 0.3), 0px 1px 3px 1px rgba(60, 64, 67, 0.15);\n",
              "      fill: #174EA6;\n",
              "    }\n",
              "\n",
              "    .colab-df-buttons div {\n",
              "      margin-bottom: 4px;\n",
              "    }\n",
              "\n",
              "    [theme=dark] .colab-df-convert {\n",
              "      background-color: #3B4455;\n",
              "      fill: #D2E3FC;\n",
              "    }\n",
              "\n",
              "    [theme=dark] .colab-df-convert:hover {\n",
              "      background-color: #434B5C;\n",
              "      box-shadow: 0px 1px 3px 1px rgba(0, 0, 0, 0.15);\n",
              "      filter: drop-shadow(0px 1px 2px rgba(0, 0, 0, 0.3));\n",
              "      fill: #FFFFFF;\n",
              "    }\n",
              "  </style>\n",
              "\n",
              "    <script>\n",
              "      const buttonEl =\n",
              "        document.querySelector('#df-20677dce-e3cc-4bc2-a3fb-364f51f0cee4 button.colab-df-convert');\n",
              "      buttonEl.style.display =\n",
              "        google.colab.kernel.accessAllowed ? 'block' : 'none';\n",
              "\n",
              "      async function convertToInteractive(key) {\n",
              "        const element = document.querySelector('#df-20677dce-e3cc-4bc2-a3fb-364f51f0cee4');\n",
              "        const dataTable =\n",
              "          await google.colab.kernel.invokeFunction('convertToInteractive',\n",
              "                                                    [key], {});\n",
              "        if (!dataTable) return;\n",
              "\n",
              "        const docLinkHtml = 'Like what you see? Visit the ' +\n",
              "          '<a target=\"_blank\" href=https://colab.research.google.com/notebooks/data_table.ipynb>data table notebook</a>'\n",
              "          + ' to learn more about interactive tables.';\n",
              "        element.innerHTML = '';\n",
              "        dataTable['output_type'] = 'display_data';\n",
              "        await google.colab.output.renderOutput(dataTable, element);\n",
              "        const docLink = document.createElement('div');\n",
              "        docLink.innerHTML = docLinkHtml;\n",
              "        element.appendChild(docLink);\n",
              "      }\n",
              "    </script>\n",
              "  </div>\n",
              "\n",
              "\n",
              "<div id=\"df-5916fa11-a47c-46c8-95dd-23bcca7a08f9\">\n",
              "  <button class=\"colab-df-quickchart\" onclick=\"quickchart('df-5916fa11-a47c-46c8-95dd-23bcca7a08f9')\"\n",
              "            title=\"Suggest charts\"\n",
              "            style=\"display:none;\">\n",
              "\n",
              "<svg xmlns=\"http://www.w3.org/2000/svg\" height=\"24px\"viewBox=\"0 0 24 24\"\n",
              "     width=\"24px\">\n",
              "    <g>\n",
              "        <path d=\"M19 3H5c-1.1 0-2 .9-2 2v14c0 1.1.9 2 2 2h14c1.1 0 2-.9 2-2V5c0-1.1-.9-2-2-2zM9 17H7v-7h2v7zm4 0h-2V7h2v10zm4 0h-2v-4h2v4z\"/>\n",
              "    </g>\n",
              "</svg>\n",
              "  </button>\n",
              "\n",
              "<style>\n",
              "  .colab-df-quickchart {\n",
              "      --bg-color: #E8F0FE;\n",
              "      --fill-color: #1967D2;\n",
              "      --hover-bg-color: #E2EBFA;\n",
              "      --hover-fill-color: #174EA6;\n",
              "      --disabled-fill-color: #AAA;\n",
              "      --disabled-bg-color: #DDD;\n",
              "  }\n",
              "\n",
              "  [theme=dark] .colab-df-quickchart {\n",
              "      --bg-color: #3B4455;\n",
              "      --fill-color: #D2E3FC;\n",
              "      --hover-bg-color: #434B5C;\n",
              "      --hover-fill-color: #FFFFFF;\n",
              "      --disabled-bg-color: #3B4455;\n",
              "      --disabled-fill-color: #666;\n",
              "  }\n",
              "\n",
              "  .colab-df-quickchart {\n",
              "    background-color: var(--bg-color);\n",
              "    border: none;\n",
              "    border-radius: 50%;\n",
              "    cursor: pointer;\n",
              "    display: none;\n",
              "    fill: var(--fill-color);\n",
              "    height: 32px;\n",
              "    padding: 0;\n",
              "    width: 32px;\n",
              "  }\n",
              "\n",
              "  .colab-df-quickchart:hover {\n",
              "    background-color: var(--hover-bg-color);\n",
              "    box-shadow: 0 1px 2px rgba(60, 64, 67, 0.3), 0 1px 3px 1px rgba(60, 64, 67, 0.15);\n",
              "    fill: var(--button-hover-fill-color);\n",
              "  }\n",
              "\n",
              "  .colab-df-quickchart-complete:disabled,\n",
              "  .colab-df-quickchart-complete:disabled:hover {\n",
              "    background-color: var(--disabled-bg-color);\n",
              "    fill: var(--disabled-fill-color);\n",
              "    box-shadow: none;\n",
              "  }\n",
              "\n",
              "  .colab-df-spinner {\n",
              "    border: 2px solid var(--fill-color);\n",
              "    border-color: transparent;\n",
              "    border-bottom-color: var(--fill-color);\n",
              "    animation:\n",
              "      spin 1s steps(1) infinite;\n",
              "  }\n",
              "\n",
              "  @keyframes spin {\n",
              "    0% {\n",
              "      border-color: transparent;\n",
              "      border-bottom-color: var(--fill-color);\n",
              "      border-left-color: var(--fill-color);\n",
              "    }\n",
              "    20% {\n",
              "      border-color: transparent;\n",
              "      border-left-color: var(--fill-color);\n",
              "      border-top-color: var(--fill-color);\n",
              "    }\n",
              "    30% {\n",
              "      border-color: transparent;\n",
              "      border-left-color: var(--fill-color);\n",
              "      border-top-color: var(--fill-color);\n",
              "      border-right-color: var(--fill-color);\n",
              "    }\n",
              "    40% {\n",
              "      border-color: transparent;\n",
              "      border-right-color: var(--fill-color);\n",
              "      border-top-color: var(--fill-color);\n",
              "    }\n",
              "    60% {\n",
              "      border-color: transparent;\n",
              "      border-right-color: var(--fill-color);\n",
              "    }\n",
              "    80% {\n",
              "      border-color: transparent;\n",
              "      border-right-color: var(--fill-color);\n",
              "      border-bottom-color: var(--fill-color);\n",
              "    }\n",
              "    90% {\n",
              "      border-color: transparent;\n",
              "      border-bottom-color: var(--fill-color);\n",
              "    }\n",
              "  }\n",
              "</style>\n",
              "\n",
              "  <script>\n",
              "    async function quickchart(key) {\n",
              "      const quickchartButtonEl =\n",
              "        document.querySelector('#' + key + ' button');\n",
              "      quickchartButtonEl.disabled = true;  // To prevent multiple clicks.\n",
              "      quickchartButtonEl.classList.add('colab-df-spinner');\n",
              "      try {\n",
              "        const charts = await google.colab.kernel.invokeFunction(\n",
              "            'suggestCharts', [key], {});\n",
              "      } catch (error) {\n",
              "        console.error('Error during call to suggestCharts:', error);\n",
              "      }\n",
              "      quickchartButtonEl.classList.remove('colab-df-spinner');\n",
              "      quickchartButtonEl.classList.add('colab-df-quickchart-complete');\n",
              "    }\n",
              "    (() => {\n",
              "      let quickchartButtonEl =\n",
              "        document.querySelector('#df-5916fa11-a47c-46c8-95dd-23bcca7a08f9 button');\n",
              "      quickchartButtonEl.style.display =\n",
              "        google.colab.kernel.accessAllowed ? 'block' : 'none';\n",
              "    })();\n",
              "  </script>\n",
              "</div>\n",
              "\n",
              "    </div>\n",
              "  </div>\n"
            ]
          },
          "metadata": {},
          "execution_count": 59
        }
      ],
      "source": [
        "data.describe()"
      ]
    },
    {
      "cell_type": "markdown",
      "id": "collect-moore",
      "metadata": {
        "id": "collect-moore"
      },
      "source": [
        "We can also visualize the spread of numerical features using *box plots*. A box plot visually summarizes much of the information that is produced by a call to data.describe(). The orange line in the middle of each box represents the median (or 50th percentile) of the data.  Each box spans a range from the 25th to 75th percentile of the attribute in question. Outliers are plotted as points outside of the box.\n",
        "\n",
        "If, after you review some box plots, you are not comfortable with how box plots work, [Khan Academy has a good series of videos that explain how to read and interpret them.](https://www.khanacademy.org/math/statistics-probability/summarizing-quantitative-data/box-whisker-plots/v/reading-box-and-whisker-plots)"
      ]
    },
    {
      "cell_type": "code",
      "execution_count": 60,
      "id": "historical-huntington",
      "metadata": {
        "colab": {
          "base_uri": "https://localhost:8080/",
          "height": 588
        },
        "id": "historical-huntington",
        "outputId": "59f774fc-6e6d-4da2-d266-9f8263d314b4"
      },
      "outputs": [
        {
          "data": {
            "text/plain": [
              "{'whiskers': [<matplotlib.lines.Line2D at 0x7b98951275b0>,\n",
              "  <matplotlib.lines.Line2D at 0x7b9895127340>],\n",
              " 'caps': [<matplotlib.lines.Line2D at 0x7b98951253f0>,\n",
              "  <matplotlib.lines.Line2D at 0x7b9895126290>],\n",
              " 'boxes': [<matplotlib.lines.Line2D at 0x7b9895124fd0>],\n",
              " 'medians': [<matplotlib.lines.Line2D at 0x7b9895125cf0>],\n",
              " 'fliers': [<matplotlib.lines.Line2D at 0x7b9895124b80>],\n",
              " 'means': []}"
            ]
          },
          "execution_count": 60,
          "metadata": {},
          "output_type": "execute_result"
        },
        {
          "data": {
            "image/png": "[encoded data removed]",
            "text/plain": [
              "<Figure size 640x480 with 1 Axes>"
            ]
          },
          "metadata": {},
          "output_type": "display_data"
        }
      ],
      "source": [
        "plt.title(\"Box Plot Showing the Distribution of 'weight_kg'\")\n",
        "plt.boxplot(data[\"weight_kg\"])"
      ]
    },
    {
      "cell_type": "code",
      "execution_count": 61,
      "id": "verbal-digit",
      "metadata": {
        "colab": {
          "base_uri": "https://localhost:8080/",
          "height": 588
        },
        "id": "verbal-digit",
        "outputId": "771c2390-d339-491c-f10f-f970491ae1d6"
      },
      "outputs": [
        {
          "data": {
            "text/plain": [
              "{'whiskers': [<matplotlib.lines.Line2D at 0x7b98951a3d90>,\n",
              "  <matplotlib.lines.Line2D at 0x7b9894fe0070>],\n",
              " 'caps': [<matplotlib.lines.Line2D at 0x7b9894fe0310>,\n",
              "  <matplotlib.lines.Line2D at 0x7b9894fe05b0>],\n",
              " 'boxes': [<matplotlib.lines.Line2D at 0x7b98951a3af0>],\n",
              " 'medians': [<matplotlib.lines.Line2D at 0x7b9894fe0850>],\n",
              " 'fliers': [<matplotlib.lines.Line2D at 0x7b9894fe0af0>],\n",
              " 'means': []}"
            ]
          },
          "execution_count": 61,
          "metadata": {},
          "output_type": "execute_result"
        },
        {
          "data": {
            "image/png": "[encoded data removed]",
            "text/plain": [
              "<Figure size 640x480 with 1 Axes>"
            ]
          },
          "metadata": {},
          "output_type": "display_data"
        }
      ],
      "source": [
        "plt.title(\"Box Plot Showing the Distribution of 'age'\")\n",
        "plt.boxplot(data[\"age\"])"
      ]
    },
    {
      "cell_type": "markdown",
      "id": "seven-birthday",
      "metadata": {
        "id": "seven-birthday"
      },
      "source": [
        "In the first box plot, we see that half of the people in the data set are under 64 kg,\n",
        "just as shown in the table generated by `data.describe()`. We see also that there are some outliers who weigh more than the general population of people in our data set.\n",
        "\n",
        "\n",
        "**Task:** Plot box plots for the remaining numerical features."
      ]
    },
    {
      "cell_type": "code",
      "execution_count": 62,
      "id": "brief-globe",
      "metadata": {
        "colab": {
          "base_uri": "https://localhost:8080/",
          "height": 588
        },
        "id": "brief-globe",
        "outputId": "3f6ee955-aab7-4548-9c9b-f17bb2ab1647"
      },
      "outputs": [
        {
          "data": {
            "text/plain": [
              "{'whiskers': [<matplotlib.lines.Line2D at 0x7b98950199c0>,\n",
              "  <matplotlib.lines.Line2D at 0x7b98951a1ae0>],\n",
              " 'caps': [<matplotlib.lines.Line2D at 0x7b9895044cd0>,\n",
              "  <matplotlib.lines.Line2D at 0x7b9895044f70>],\n",
              " 'boxes': [<matplotlib.lines.Line2D at 0x7b9895044b20>],\n",
              " 'medians': [<matplotlib.lines.Line2D at 0x7b9895045210>],\n",
              " 'fliers': [<matplotlib.lines.Line2D at 0x7b98950454b0>],\n",
              " 'means': []}"
            ]
          },
          "execution_count": 62,
          "metadata": {},
          "output_type": "execute_result"
        },
        {
          "data": {
            "image/png": "[encoded data removed]",
            "text/plain": [
              "<Figure size 640x480 with 1 Axes>"
            ]
          },
          "metadata": {},
          "output_type": "display_data"
        }
      ],
      "source": [
        "plt.title(\"Box Plot Showing the Distribution of 'BMI'\")\n",
        "plt.boxplot(data[\"BMI\"])\n"
      ]
    },
    {
      "cell_type": "code",
      "source": [
        "plt.title(\"Box Plot Showing the Distribution of 'diastolic_bp'\")\n",
        "plt.boxplot(data[\"diastolic_bp\"])"
      ],
      "metadata": {
        "colab": {
          "base_uri": "https://localhost:8080/",
          "height": 588
        },
        "id": "O_8Ub3zxB449",
        "outputId": "e02dd48b-a3cd-4195-c49a-0108e1472e81"
      },
      "id": "O_8Ub3zxB449",
      "execution_count": 63,
      "outputs": [
        {
          "data": {
            "text/plain": [
              "{'whiskers': [<matplotlib.lines.Line2D at 0x7b9894ed48b0>,\n",
              "  <matplotlib.lines.Line2D at 0x7b9894ed4b50>],\n",
              " 'caps': [<matplotlib.lines.Line2D at 0x7b9894ed4df0>,\n",
              "  <matplotlib.lines.Line2D at 0x7b9894ed5090>],\n",
              " 'boxes': [<matplotlib.lines.Line2D at 0x7b9894ed4610>],\n",
              " 'medians': [<matplotlib.lines.Line2D at 0x7b9894ed5360>],\n",
              " 'fliers': [<matplotlib.lines.Line2D at 0x7b9894ed5600>],\n",
              " 'means': []}"
            ]
          },
          "execution_count": 63,
          "metadata": {},
          "output_type": "execute_result"
        },
        {
          "data": {
            "image/png": "[encoded data removed]",
            "text/plain": [
              "<Figure size 640x480 with 1 Axes>"
            ]
          },
          "metadata": {},
          "output_type": "display_data"
        }
      ]
    },
    {
      "cell_type": "code",
      "source": [
        "plt.title(\"Box Plot Showing the Distribution of 'calories'\")\n",
        "plt.boxplot(data[\"calories\"])"
      ],
      "metadata": {
        "colab": {
          "base_uri": "https://localhost:8080/",
          "height": 588
        },
        "id": "JrE6hywZB8FY",
        "outputId": "5a11fef9-ad11-4a5d-d869-51c2efd5e67a"
      },
      "id": "JrE6hywZB8FY",
      "execution_count": 64,
      "outputs": [
        {
          "data": {
            "text/plain": [
              "{'whiskers': [<matplotlib.lines.Line2D at 0x7b9894f23df0>,\n",
              "  <matplotlib.lines.Line2D at 0x7b9894f54100>],\n",
              " 'caps': [<matplotlib.lines.Line2D at 0x7b9894f543a0>,\n",
              "  <matplotlib.lines.Line2D at 0x7b9894f54640>],\n",
              " 'boxes': [<matplotlib.lines.Line2D at 0x7b9894f23b50>],\n",
              " 'medians': [<matplotlib.lines.Line2D at 0x7b9894f548e0>],\n",
              " 'fliers': [<matplotlib.lines.Line2D at 0x7b9894f54b80>],\n",
              " 'means': []}"
            ]
          },
          "execution_count": 64,
          "metadata": {},
          "output_type": "execute_result"
        },
        {
          "data": {
            "image/png": "[encoded data removed]",
            "text/plain": [
              "<Figure size 640x480 with 1 Axes>"
            ]
          },
          "metadata": {},
          "output_type": "display_data"
        }
      ]
    },
    {
      "cell_type": "markdown",
      "id": "boxed-blair",
      "metadata": {
        "id": "boxed-blair"
      },
      "source": [
        "For the categorical features, we can also tabulate the frequency that each category\n",
        "occurs in the data set:"
      ]
    },
    {
      "cell_type": "code",
      "execution_count": 65,
      "id": "honey-minneapolis",
      "metadata": {
        "colab": {
          "base_uri": "https://localhost:8080/"
        },
        "id": "honey-minneapolis",
        "outputId": "08212603-fe22-4d77-ac96-6e340d860de3"
      },
      "outputs": [
        {
          "data": {
            "text/plain": [
              "1    4013\n",
              "2    3987\n",
              "Name: gender, dtype: int64"
            ]
          },
          "execution_count": 65,
          "metadata": {},
          "output_type": "execute_result"
        }
      ],
      "source": [
        "data['gender'].value_counts()"
      ]
    },
    {
      "cell_type": "code",
      "execution_count": 66,
      "id": "powerful-occasion",
      "metadata": {
        "colab": {
          "base_uri": "https://localhost:8080/"
        },
        "id": "powerful-occasion",
        "outputId": "0516d443-34b3-4670-8f7c-b4506e43bfc9"
      },
      "outputs": [
        {
          "data": {
            "text/plain": [
              "1.0    5565\n",
              "2.0    2435\n",
              "Name: drink_alcohol, dtype: int64"
            ]
          },
          "execution_count": 66,
          "metadata": {},
          "output_type": "execute_result"
        }
      ],
      "source": [
        "data['drink_alcohol'].value_counts()"
      ]
    },
    {
      "cell_type": "code",
      "execution_count": 67,
      "id": "herbal-printing",
      "metadata": {
        "colab": {
          "base_uri": "https://localhost:8080/"
        },
        "id": "herbal-printing",
        "outputId": "5be5c593-47a0-4782-cc8b-43d861289730"
      },
      "outputs": [
        {
          "data": {
            "text/plain": [
              "2.0    5193\n",
              "1.0    2807\n",
              "Name: chest_pain_ever, dtype: int64"
            ]
          },
          "execution_count": 67,
          "metadata": {},
          "output_type": "execute_result"
        }
      ],
      "source": [
        "data['chest_pain_ever'].value_counts()"
      ]
    },
    {
      "cell_type": "markdown",
      "id": "bound-rebate",
      "metadata": {
        "id": "bound-rebate"
      },
      "source": [
        "We see there are roughly equal numbers of men and women in the dataset and the majority report they drink alcohol.  About 1 in 4 report that they have experienced chest pain at some point in their lives.\n",
        "\n",
        "Finally, let's take a look at the distribution of our target variable."
      ]
    },
    {
      "cell_type": "code",
      "execution_count": 68,
      "id": "immediate-found",
      "metadata": {
        "colab": {
          "base_uri": "https://localhost:8080/"
        },
        "id": "immediate-found",
        "outputId": "013dfcf7-b36a-483e-fca7-baefed996b91"
      },
      "outputs": [
        {
          "data": {
            "text/plain": [
              "0.0    4000\n",
              "1.0    4000\n",
              "Name: target_heart, dtype: int64"
            ]
          },
          "execution_count": 68,
          "metadata": {},
          "output_type": "execute_result"
        }
      ],
      "source": [
        "data['target_heart'].value_counts()"
      ]
    },
    {
      "cell_type": "markdown",
      "id": "arabic-venice",
      "metadata": {
        "id": "arabic-venice"
      },
      "source": [
        "Note there are an equal number of cases that are labelled as having heart disease as not having heart disease.  This is both curious and convenient but it is absolutely **NOT** representative of the distribution of heart disease in the general population.  In the general population of Canada, about 1 in 12 (or 8%) have heart disease.  This is roughly the same as the distribution of reported heart disease across all NHANES survey respondents.  So why doesn't the data we are analyzing here reflect this distribution?  This is because we have sampled the NHANES survey data so as to **balance** the cases of heart disease against the cases without.\n",
        "\n",
        "**Task** Why did we create a dataset with a roughly equal number of data points that have `target_heart=1` and `target_heart=0`? In particular, what do you think might happen to our decision tree if we allowed 92% our training data to reflect the true prevalence of heart disease? <!-- ... and to therefore consist of data points with `target_heart=0`? -->"
      ]
    },
    {
      "cell_type": "code",
      "execution_count": 69,
      "id": "exposed-conducting",
      "metadata": {
        "id": "exposed-conducting"
      },
      "outputs": [],
      "source": [
        " #If only a small percentage of the population actually has heart disease,\n",
        " #a model trained on an imbalanced dataset may struggle to effectively learn\n",
        " #patterns associated with the minority class."
      ]
    },
    {
      "cell_type": "markdown",
      "id": "pediatric-interview",
      "metadata": {
        "id": "pediatric-interview"
      },
      "source": [
        "**Task**: Let's continue exploring our data by plotting separate box plots for people with heart disease and people without heart disease. These box plots for (for `blood_cholesterol`, `age`, `calories` and `BMI`) should give you a sense of whether people with heart disease are\n",
        "different from those without heart disease, according to each of these characteristics. You should see that those with heart disease are, on average, older."
      ]
    },
    {
      "cell_type": "code",
      "execution_count": 70,
      "id": "altered-skill",
      "metadata": {
        "colab": {
          "base_uri": "https://localhost:8080/",
          "height": 495
        },
        "id": "altered-skill",
        "outputId": "818bee4b-bde4-44bf-ea0d-5fdc0defa654"
      },
      "outputs": [
        {
          "data": {
            "text/plain": [
              "<Axes: title={'center': 'blood_cholesterol'}, xlabel='target_heart'>"
            ]
          },
          "execution_count": 70,
          "metadata": {},
          "output_type": "execute_result"
        },
        {
          "data": {
            "image/png": "[encoded data removed]",
            "text/plain": [
              "<Figure size 640x480 with 1 Axes>"
            ]
          },
          "metadata": {},
          "output_type": "display_data"
        }
      ],
      "source": [
        "# analyze the distribution of blood_cholesterol for people with and without heart disease\n",
        "data.boxplot(column='blood_cholesterol', by='target_heart')\n",
        "\n",
        "# TODO do the same for 'age', 'calories', and 'BMI'"
      ]
    },
    {
      "cell_type": "code",
      "source": [
        "data.boxplot(column='age', by='target_heart')\n"
      ],
      "metadata": {
        "colab": {
          "base_uri": "https://localhost:8080/",
          "height": 495
        },
        "id": "p2A4ahvGD9EU",
        "outputId": "1c113a16-88b4-40bc-9f7b-01821983b079"
      },
      "id": "p2A4ahvGD9EU",
      "execution_count": 71,
      "outputs": [
        {
          "data": {
            "text/plain": [
              "<Axes: title={'center': 'age'}, xlabel='target_heart'>"
            ]
          },
          "execution_count": 71,
          "metadata": {},
          "output_type": "execute_result"
        },
        {
          "data": {
            "image/png": "[encoded data removed]",
            "text/plain": [
              "<Figure size 640x480 with 1 Axes>"
            ]
          },
          "metadata": {},
          "output_type": "display_data"
        }
      ]
    },
    {
      "cell_type": "code",
      "source": [
        "data.boxplot(column='calories', by='target_heart')\n"
      ],
      "metadata": {
        "colab": {
          "base_uri": "https://localhost:8080/",
          "height": 495
        },
        "id": "4PaA6y80D9Xv",
        "outputId": "db094419-7ee3-454d-8a9c-30c285761f82"
      },
      "id": "4PaA6y80D9Xv",
      "execution_count": 72,
      "outputs": [
        {
          "data": {
            "text/plain": [
              "<Axes: title={'center': 'calories'}, xlabel='target_heart'>"
            ]
          },
          "execution_count": 72,
          "metadata": {},
          "output_type": "execute_result"
        },
        {
          "data": {
            "image/png": "[encoded data removed]",
            "text/plain": [
              "<Figure size 640x480 with 1 Axes>"
            ]
          },
          "metadata": {},
          "output_type": "display_data"
        }
      ]
    },
    {
      "cell_type": "code",
      "source": [
        "data.boxplot(column='BMI', by='target_heart')\n"
      ],
      "metadata": {
        "colab": {
          "base_uri": "https://localhost:8080/",
          "height": 495
        },
        "id": "sVeRq7RVD9iL",
        "outputId": "aaa1f0fb-fdcd-402a-b5fd-4c87d1182d0b"
      },
      "id": "sVeRq7RVD9iL",
      "execution_count": 73,
      "outputs": [
        {
          "data": {
            "text/plain": [
              "<Axes: title={'center': 'BMI'}, xlabel='target_heart'>"
            ]
          },
          "execution_count": 73,
          "metadata": {},
          "output_type": "execute_result"
        },
        {
          "data": {
            "image/png": "[encoded data removed]",
            "text/plain": [
              "<Figure size 640x480 with 1 Axes>"
            ]
          },
          "metadata": {},
          "output_type": "display_data"
        }
      ]
    },
    {
      "cell_type": "markdown",
      "id": "advanced-jumping",
      "metadata": {
        "id": "advanced-jumping"
      },
      "source": [
        "**Task**: We will do the same type of exploration for the categorical\n",
        "variables. Read the documentation for\n",
        "[pandas.crosstab](https://pandas.pydata.org/docs/reference/api/pandas.crosstab.html)\n",
        "so that you can explain the results of the following calls:"
      ]
    },
    {
      "cell_type": "code",
      "execution_count": 74,
      "id": "going-fantasy",
      "metadata": {
        "colab": {
          "base_uri": "https://localhost:8080/",
          "height": 142
        },
        "id": "going-fantasy",
        "outputId": "4adbe369-fa1c-42b5-f77c-2b9315d0ed91"
      },
      "outputs": [
        {
          "data": {
            "text/html": [
              "\n",
              "  <div id=\"df-d8502632-0733-40e9-a1b2-b6a3bcf195ca\" class=\"colab-df-container\">\n",
              "    <div>\n",
              "<style scoped>\n",
              "    .dataframe tbody tr th:only-of-type {\n",
              "        vertical-align: middle;\n",
              "    }\n",
              "\n",
              "    .dataframe tbody tr th {\n",
              "        vertical-align: top;\n",
              "    }\n",
              "\n",
              "    .dataframe thead th {\n",
              "        text-align: right;\n",
              "    }\n",
              "</style>\n",
              "<table border=\"1\" class=\"dataframe\">\n",
              "  <thead>\n",
              "    <tr style=\"text-align: right;\">\n",
              "      <th>gender</th>\n",
              "      <th>1</th>\n",
              "      <th>2</th>\n",
              "    </tr>\n",
              "    <tr>\n",
              "      <th>target_heart</th>\n",
              "      <th></th>\n",
              "      <th></th>\n",
              "    </tr>\n",
              "  </thead>\n",
              "  <tbody>\n",
              "    <tr>\n",
              "      <th>0.0</th>\n",
              "      <td>1819</td>\n",
              "      <td>2181</td>\n",
              "    </tr>\n",
              "    <tr>\n",
              "      <th>1.0</th>\n",
              "      <td>2194</td>\n",
              "      <td>1806</td>\n",
              "    </tr>\n",
              "  </tbody>\n",
              "</table>\n",
              "</div>\n",
              "    <div class=\"colab-df-buttons\">\n",
              "\n",
              "  <div class=\"colab-df-container\">\n",
              "    <button class=\"colab-df-convert\" onclick=\"convertToInteractive('df-d8502632-0733-40e9-a1b2-b6a3bcf195ca')\"\n",
              "            title=\"Convert this dataframe to an interactive table.\"\n",
              "            style=\"display:none;\">\n",
              "\n",
              "  <svg xmlns=\"http://www.w3.org/2000/svg\" height=\"24px\" viewBox=\"0 -960 960 960\">\n",
              "    <path d=\"M120-120v-720h720v720H120Zm60-500h600v-160H180v160Zm220 220h160v-160H400v160Zm0 220h160v-160H400v160ZM180-400h160v-160H180v160Zm440 0h160v-160H620v160ZM180-180h160v-160H180v160Zm440 0h160v-160H620v160Z\"/>\n",
              "  </svg>\n",
              "    </button>\n",
              "\n",
              "  <style>\n",
              "    .colab-df-container {\n",
              "      display:flex;\n",
              "      gap: 12px;\n",
              "    }\n",
              "\n",
              "    .colab-df-convert {\n",
              "      background-color: #E8F0FE;\n",
              "      border: none;\n",
              "      border-radius: 50%;\n",
              "      cursor: pointer;\n",
              "      display: none;\n",
              "      fill: #1967D2;\n",
              "      height: 32px;\n",
              "      padding: 0 0 0 0;\n",
              "      width: 32px;\n",
              "    }\n",
              "\n",
              "    .colab-df-convert:hover {\n",
              "      background-color: #E2EBFA;\n",
              "      box-shadow: 0px 1px 2px rgba(60, 64, 67, 0.3), 0px 1px 3px 1px rgba(60, 64, 67, 0.15);\n",
              "      fill: #174EA6;\n",
              "    }\n",
              "\n",
              "    .colab-df-buttons div {\n",
              "      margin-bottom: 4px;\n",
              "    }\n",
              "\n",
              "    [theme=dark] .colab-df-convert {\n",
              "      background-color: #3B4455;\n",
              "      fill: #D2E3FC;\n",
              "    }\n",
              "\n",
              "    [theme=dark] .colab-df-convert:hover {\n",
              "      background-color: #434B5C;\n",
              "      box-shadow: 0px 1px 3px 1px rgba(0, 0, 0, 0.15);\n",
              "      filter: drop-shadow(0px 1px 2px rgba(0, 0, 0, 0.3));\n",
              "      fill: #FFFFFF;\n",
              "    }\n",
              "  </style>\n",
              "\n",
              "    <script>\n",
              "      const buttonEl =\n",
              "        document.querySelector('#df-d8502632-0733-40e9-a1b2-b6a3bcf195ca button.colab-df-convert');\n",
              "      buttonEl.style.display =\n",
              "        google.colab.kernel.accessAllowed ? 'block' : 'none';\n",
              "\n",
              "      async function convertToInteractive(key) {\n",
              "        const element = document.querySelector('#df-d8502632-0733-40e9-a1b2-b6a3bcf195ca');\n",
              "        const dataTable =\n",
              "          await google.colab.kernel.invokeFunction('convertToInteractive',\n",
              "                                                    [key], {});\n",
              "        if (!dataTable) return;\n",
              "\n",
              "        const docLinkHtml = 'Like what you see? Visit the ' +\n",
              "          '<a target=\"_blank\" href=https://colab.research.google.com/notebooks/data_table.ipynb>data table notebook</a>'\n",
              "          + ' to learn more about interactive tables.';\n",
              "        element.innerHTML = '';\n",
              "        dataTable['output_type'] = 'display_data';\n",
              "        await google.colab.output.renderOutput(dataTable, element);\n",
              "        const docLink = document.createElement('div');\n",
              "        docLink.innerHTML = docLinkHtml;\n",
              "        element.appendChild(docLink);\n",
              "      }\n",
              "    </script>\n",
              "  </div>\n",
              "\n",
              "\n",
              "<div id=\"df-f165ac0e-593f-44c1-8041-680d3dd30442\">\n",
              "  <button class=\"colab-df-quickchart\" onclick=\"quickchart('df-f165ac0e-593f-44c1-8041-680d3dd30442')\"\n",
              "            title=\"Suggest charts\"\n",
              "            style=\"display:none;\">\n",
              "\n",
              "<svg xmlns=\"http://www.w3.org/2000/svg\" height=\"24px\"viewBox=\"0 0 24 24\"\n",
              "     width=\"24px\">\n",
              "    <g>\n",
              "        <path d=\"M19 3H5c-1.1 0-2 .9-2 2v14c0 1.1.9 2 2 2h14c1.1 0 2-.9 2-2V5c0-1.1-.9-2-2-2zM9 17H7v-7h2v7zm4 0h-2V7h2v10zm4 0h-2v-4h2v4z\"/>\n",
              "    </g>\n",
              "</svg>\n",
              "  </button>\n",
              "\n",
              "<style>\n",
              "  .colab-df-quickchart {\n",
              "      --bg-color: #E8F0FE;\n",
              "      --fill-color: #1967D2;\n",
              "      --hover-bg-color: #E2EBFA;\n",
              "      --hover-fill-color: #174EA6;\n",
              "      --disabled-fill-color: #AAA;\n",
              "      --disabled-bg-color: #DDD;\n",
              "  }\n",
              "\n",
              "  [theme=dark] .colab-df-quickchart {\n",
              "      --bg-color: #3B4455;\n",
              "      --fill-color: #D2E3FC;\n",
              "      --hover-bg-color: #434B5C;\n",
              "      --hover-fill-color: #FFFFFF;\n",
              "      --disabled-bg-color: #3B4455;\n",
              "      --disabled-fill-color: #666;\n",
              "  }\n",
              "\n",
              "  .colab-df-quickchart {\n",
              "    background-color: var(--bg-color);\n",
              "    border: none;\n",
              "    border-radius: 50%;\n",
              "    cursor: pointer;\n",
              "    display: none;\n",
              "    fill: var(--fill-color);\n",
              "    height: 32px;\n",
              "    padding: 0;\n",
              "    width: 32px;\n",
              "  }\n",
              "\n",
              "  .colab-df-quickchart:hover {\n",
              "    background-color: var(--hover-bg-color);\n",
              "    box-shadow: 0 1px 2px rgba(60, 64, 67, 0.3), 0 1px 3px 1px rgba(60, 64, 67, 0.15);\n",
              "    fill: var(--button-hover-fill-color);\n",
              "  }\n",
              "\n",
              "  .colab-df-quickchart-complete:disabled,\n",
              "  .colab-df-quickchart-complete:disabled:hover {\n",
              "    background-color: var(--disabled-bg-color);\n",
              "    fill: var(--disabled-fill-color);\n",
              "    box-shadow: none;\n",
              "  }\n",
              "\n",
              "  .colab-df-spinner {\n",
              "    border: 2px solid var(--fill-color);\n",
              "    border-color: transparent;\n",
              "    border-bottom-color: var(--fill-color);\n",
              "    animation:\n",
              "      spin 1s steps(1) infinite;\n",
              "  }\n",
              "\n",
              "  @keyframes spin {\n",
              "    0% {\n",
              "      border-color: transparent;\n",
              "      border-bottom-color: var(--fill-color);\n",
              "      border-left-color: var(--fill-color);\n",
              "    }\n",
              "    20% {\n",
              "      border-color: transparent;\n",
              "      border-left-color: var(--fill-color);\n",
              "      border-top-color: var(--fill-color);\n",
              "    }\n",
              "    30% {\n",
              "      border-color: transparent;\n",
              "      border-left-color: var(--fill-color);\n",
              "      border-top-color: var(--fill-color);\n",
              "      border-right-color: var(--fill-color);\n",
              "    }\n",
              "    40% {\n",
              "      border-color: transparent;\n",
              "      border-right-color: var(--fill-color);\n",
              "      border-top-color: var(--fill-color);\n",
              "    }\n",
              "    60% {\n",
              "      border-color: transparent;\n",
              "      border-right-color: var(--fill-color);\n",
              "    }\n",
              "    80% {\n",
              "      border-color: transparent;\n",
              "      border-right-color: var(--fill-color);\n",
              "      border-bottom-color: var(--fill-color);\n",
              "    }\n",
              "    90% {\n",
              "      border-color: transparent;\n",
              "      border-bottom-color: var(--fill-color);\n",
              "    }\n",
              "  }\n",
              "</style>\n",
              "\n",
              "  <script>\n",
              "    async function quickchart(key) {\n",
              "      const quickchartButtonEl =\n",
              "        document.querySelector('#' + key + ' button');\n",
              "      quickchartButtonEl.disabled = true;  // To prevent multiple clicks.\n",
              "      quickchartButtonEl.classList.add('colab-df-spinner');\n",
              "      try {\n",
              "        const charts = await google.colab.kernel.invokeFunction(\n",
              "            'suggestCharts', [key], {});\n",
              "      } catch (error) {\n",
              "        console.error('Error during call to suggestCharts:', error);\n",
              "      }\n",
              "      quickchartButtonEl.classList.remove('colab-df-spinner');\n",
              "      quickchartButtonEl.classList.add('colab-df-quickchart-complete');\n",
              "    }\n",
              "    (() => {\n",
              "      let quickchartButtonEl =\n",
              "        document.querySelector('#df-f165ac0e-593f-44c1-8041-680d3dd30442 button');\n",
              "      quickchartButtonEl.style.display =\n",
              "        google.colab.kernel.accessAllowed ? 'block' : 'none';\n",
              "    })();\n",
              "  </script>\n",
              "</div>\n",
              "\n",
              "    </div>\n",
              "  </div>\n"
            ],
            "text/plain": [
              "gender           1     2\n",
              "target_heart            \n",
              "0.0           1819  2181\n",
              "1.0           2194  1806"
            ]
          },
          "execution_count": 74,
          "metadata": {},
          "output_type": "execute_result"
        }
      ],
      "source": [
        "pd.crosstab(data[\"target_heart\"], data[\"gender\"])"
      ]
    },
    {
      "cell_type": "code",
      "execution_count": 75,
      "id": "featured-preservation",
      "metadata": {
        "colab": {
          "base_uri": "https://localhost:8080/",
          "height": 142
        },
        "id": "featured-preservation",
        "outputId": "c6ae73f2-fdd0-4684-ae70-9344340be919"
      },
      "outputs": [
        {
          "data": {
            "text/html": [
              "\n",
              "  <div id=\"df-9b6c8a1e-5a64-496d-88ee-dedf0ae9fd51\" class=\"colab-df-container\">\n",
              "    <div>\n",
              "<style scoped>\n",
              "    .dataframe tbody tr th:only-of-type {\n",
              "        vertical-align: middle;\n",
              "    }\n",
              "\n",
              "    .dataframe tbody tr th {\n",
              "        vertical-align: top;\n",
              "    }\n",
              "\n",
              "    .dataframe thead th {\n",
              "        text-align: right;\n",
              "    }\n",
              "</style>\n",
              "<table border=\"1\" class=\"dataframe\">\n",
              "  <thead>\n",
              "    <tr style=\"text-align: right;\">\n",
              "      <th>drink_alcohol</th>\n",
              "      <th>1.0</th>\n",
              "      <th>2.0</th>\n",
              "    </tr>\n",
              "    <tr>\n",
              "      <th>target_heart</th>\n",
              "      <th></th>\n",
              "      <th></th>\n",
              "    </tr>\n",
              "  </thead>\n",
              "  <tbody>\n",
              "    <tr>\n",
              "      <th>0.0</th>\n",
              "      <td>2824</td>\n",
              "      <td>1176</td>\n",
              "    </tr>\n",
              "    <tr>\n",
              "      <th>1.0</th>\n",
              "      <td>2741</td>\n",
              "      <td>1259</td>\n",
              "    </tr>\n",
              "  </tbody>\n",
              "</table>\n",
              "</div>\n",
              "    <div class=\"colab-df-buttons\">\n",
              "\n",
              "  <div class=\"colab-df-container\">\n",
              "    <button class=\"colab-df-convert\" onclick=\"convertToInteractive('df-9b6c8a1e-5a64-496d-88ee-dedf0ae9fd51')\"\n",
              "            title=\"Convert this dataframe to an interactive table.\"\n",
              "            style=\"display:none;\">\n",
              "\n",
              "  <svg xmlns=\"http://www.w3.org/2000/svg\" height=\"24px\" viewBox=\"0 -960 960 960\">\n",
              "    <path d=\"M120-120v-720h720v720H120Zm60-500h600v-160H180v160Zm220 220h160v-160H400v160Zm0 220h160v-160H400v160ZM180-400h160v-160H180v160Zm440 0h160v-160H620v160ZM180-180h160v-160H180v160Zm440 0h160v-160H620v160Z\"/>\n",
              "  </svg>\n",
              "    </button>\n",
              "\n",
              "  <style>\n",
              "    .colab-df-container {\n",
              "      display:flex;\n",
              "      gap: 12px;\n",
              "    }\n",
              "\n",
              "    .colab-df-convert {\n",
              "      background-color: #E8F0FE;\n",
              "      border: none;\n",
              "      border-radius: 50%;\n",
              "      cursor: pointer;\n",
              "      display: none;\n",
              "      fill: #1967D2;\n",
              "      height: 32px;\n",
              "      padding: 0 0 0 0;\n",
              "      width: 32px;\n",
              "    }\n",
              "\n",
              "    .colab-df-convert:hover {\n",
              "      background-color: #E2EBFA;\n",
              "      box-shadow: 0px 1px 2px rgba(60, 64, 67, 0.3), 0px 1px 3px 1px rgba(60, 64, 67, 0.15);\n",
              "      fill: #174EA6;\n",
              "    }\n",
              "\n",
              "    .colab-df-buttons div {\n",
              "      margin-bottom: 4px;\n",
              "    }\n",
              "\n",
              "    [theme=dark] .colab-df-convert {\n",
              "      background-color: #3B4455;\n",
              "      fill: #D2E3FC;\n",
              "    }\n",
              "\n",
              "    [theme=dark] .colab-df-convert:hover {\n",
              "      background-color: #434B5C;\n",
              "      box-shadow: 0px 1px 3px 1px rgba(0, 0, 0, 0.15);\n",
              "      filter: drop-shadow(0px 1px 2px rgba(0, 0, 0, 0.3));\n",
              "      fill: #FFFFFF;\n",
              "    }\n",
              "  </style>\n",
              "\n",
              "    <script>\n",
              "      const buttonEl =\n",
              "        document.querySelector('#df-9b6c8a1e-5a64-496d-88ee-dedf0ae9fd51 button.colab-df-convert');\n",
              "      buttonEl.style.display =\n",
              "        google.colab.kernel.accessAllowed ? 'block' : 'none';\n",
              "\n",
              "      async function convertToInteractive(key) {\n",
              "        const element = document.querySelector('#df-9b6c8a1e-5a64-496d-88ee-dedf0ae9fd51');\n",
              "        const dataTable =\n",
              "          await google.colab.kernel.invokeFunction('convertToInteractive',\n",
              "                                                    [key], {});\n",
              "        if (!dataTable) return;\n",
              "\n",
              "        const docLinkHtml = 'Like what you see? Visit the ' +\n",
              "          '<a target=\"_blank\" href=https://colab.research.google.com/notebooks/data_table.ipynb>data table notebook</a>'\n",
              "          + ' to learn more about interactive tables.';\n",
              "        element.innerHTML = '';\n",
              "        dataTable['output_type'] = 'display_data';\n",
              "        await google.colab.output.renderOutput(dataTable, element);\n",
              "        const docLink = document.createElement('div');\n",
              "        docLink.innerHTML = docLinkHtml;\n",
              "        element.appendChild(docLink);\n",
              "      }\n",
              "    </script>\n",
              "  </div>\n",
              "\n",
              "\n",
              "<div id=\"df-d80a95ca-a927-4fee-ae29-8fdea94fc270\">\n",
              "  <button class=\"colab-df-quickchart\" onclick=\"quickchart('df-d80a95ca-a927-4fee-ae29-8fdea94fc270')\"\n",
              "            title=\"Suggest charts\"\n",
              "            style=\"display:none;\">\n",
              "\n",
              "<svg xmlns=\"http://www.w3.org/2000/svg\" height=\"24px\"viewBox=\"0 0 24 24\"\n",
              "     width=\"24px\">\n",
              "    <g>\n",
              "        <path d=\"M19 3H5c-1.1 0-2 .9-2 2v14c0 1.1.9 2 2 2h14c1.1 0 2-.9 2-2V5c0-1.1-.9-2-2-2zM9 17H7v-7h2v7zm4 0h-2V7h2v10zm4 0h-2v-4h2v4z\"/>\n",
              "    </g>\n",
              "</svg>\n",
              "  </button>\n",
              "\n",
              "<style>\n",
              "  .colab-df-quickchart {\n",
              "      --bg-color: #E8F0FE;\n",
              "      --fill-color: #1967D2;\n",
              "      --hover-bg-color: #E2EBFA;\n",
              "      --hover-fill-color: #174EA6;\n",
              "      --disabled-fill-color: #AAA;\n",
              "      --disabled-bg-color: #DDD;\n",
              "  }\n",
              "\n",
              "  [theme=dark] .colab-df-quickchart {\n",
              "      --bg-color: #3B4455;\n",
              "      --fill-color: #D2E3FC;\n",
              "      --hover-bg-color: #434B5C;\n",
              "      --hover-fill-color: #FFFFFF;\n",
              "      --disabled-bg-color: #3B4455;\n",
              "      --disabled-fill-color: #666;\n",
              "  }\n",
              "\n",
              "  .colab-df-quickchart {\n",
              "    background-color: var(--bg-color);\n",
              "    border: none;\n",
              "    border-radius: 50%;\n",
              "    cursor: pointer;\n",
              "    display: none;\n",
              "    fill: var(--fill-color);\n",
              "    height: 32px;\n",
              "    padding: 0;\n",
              "    width: 32px;\n",
              "  }\n",
              "\n",
              "  .colab-df-quickchart:hover {\n",
              "    background-color: var(--hover-bg-color);\n",
              "    box-shadow: 0 1px 2px rgba(60, 64, 67, 0.3), 0 1px 3px 1px rgba(60, 64, 67, 0.15);\n",
              "    fill: var(--button-hover-fill-color);\n",
              "  }\n",
              "\n",
              "  .colab-df-quickchart-complete:disabled,\n",
              "  .colab-df-quickchart-complete:disabled:hover {\n",
              "    background-color: var(--disabled-bg-color);\n",
              "    fill: var(--disabled-fill-color);\n",
              "    box-shadow: none;\n",
              "  }\n",
              "\n",
              "  .colab-df-spinner {\n",
              "    border: 2px solid var(--fill-color);\n",
              "    border-color: transparent;\n",
              "    border-bottom-color: var(--fill-color);\n",
              "    animation:\n",
              "      spin 1s steps(1) infinite;\n",
              "  }\n",
              "\n",
              "  @keyframes spin {\n",
              "    0% {\n",
              "      border-color: transparent;\n",
              "      border-bottom-color: var(--fill-color);\n",
              "      border-left-color: var(--fill-color);\n",
              "    }\n",
              "    20% {\n",
              "      border-color: transparent;\n",
              "      border-left-color: var(--fill-color);\n",
              "      border-top-color: var(--fill-color);\n",
              "    }\n",
              "    30% {\n",
              "      border-color: transparent;\n",
              "      border-left-color: var(--fill-color);\n",
              "      border-top-color: var(--fill-color);\n",
              "      border-right-color: var(--fill-color);\n",
              "    }\n",
              "    40% {\n",
              "      border-color: transparent;\n",
              "      border-right-color: var(--fill-color);\n",
              "      border-top-color: var(--fill-color);\n",
              "    }\n",
              "    60% {\n",
              "      border-color: transparent;\n",
              "      border-right-color: var(--fill-color);\n",
              "    }\n",
              "    80% {\n",
              "      border-color: transparent;\n",
              "      border-right-color: var(--fill-color);\n",
              "      border-bottom-color: var(--fill-color);\n",
              "    }\n",
              "    90% {\n",
              "      border-color: transparent;\n",
              "      border-bottom-color: var(--fill-color);\n",
              "    }\n",
              "  }\n",
              "</style>\n",
              "\n",
              "  <script>\n",
              "    async function quickchart(key) {\n",
              "      const quickchartButtonEl =\n",
              "        document.querySelector('#' + key + ' button');\n",
              "      quickchartButtonEl.disabled = true;  // To prevent multiple clicks.\n",
              "      quickchartButtonEl.classList.add('colab-df-spinner');\n",
              "      try {\n",
              "        const charts = await google.colab.kernel.invokeFunction(\n",
              "            'suggestCharts', [key], {});\n",
              "      } catch (error) {\n",
              "        console.error('Error during call to suggestCharts:', error);\n",
              "      }\n",
              "      quickchartButtonEl.classList.remove('colab-df-spinner');\n",
              "      quickchartButtonEl.classList.add('colab-df-quickchart-complete');\n",
              "    }\n",
              "    (() => {\n",
              "      let quickchartButtonEl =\n",
              "        document.querySelector('#df-d80a95ca-a927-4fee-ae29-8fdea94fc270 button');\n",
              "      quickchartButtonEl.style.display =\n",
              "        google.colab.kernel.accessAllowed ? 'block' : 'none';\n",
              "    })();\n",
              "  </script>\n",
              "</div>\n",
              "\n",
              "    </div>\n",
              "  </div>\n"
            ],
            "text/plain": [
              "drink_alcohol   1.0   2.0\n",
              "target_heart             \n",
              "0.0            2824  1176\n",
              "1.0            2741  1259"
            ]
          },
          "execution_count": 75,
          "metadata": {},
          "output_type": "execute_result"
        }
      ],
      "source": [
        "pd.crosstab(data[\"target_heart\"], data[\"drink_alcohol\"])"
      ]
    },
    {
      "cell_type": "code",
      "execution_count": 76,
      "id": "crude-nirvana",
      "metadata": {
        "colab": {
          "base_uri": "https://localhost:8080/",
          "height": 142
        },
        "id": "crude-nirvana",
        "outputId": "6a8da601-bf7a-468a-ff46-0fa6d6f0a2d7"
      },
      "outputs": [
        {
          "data": {
            "text/html": [
              "\n",
              "  <div id=\"df-f6c6b204-846c-42eb-ae35-80d6cca4b4e6\" class=\"colab-df-container\">\n",
              "    <div>\n",
              "<style scoped>\n",
              "    .dataframe tbody tr th:only-of-type {\n",
              "        vertical-align: middle;\n",
              "    }\n",
              "\n",
              "    .dataframe tbody tr th {\n",
              "        vertical-align: top;\n",
              "    }\n",
              "\n",
              "    .dataframe thead th {\n",
              "        text-align: right;\n",
              "    }\n",
              "</style>\n",
              "<table border=\"1\" class=\"dataframe\">\n",
              "  <thead>\n",
              "    <tr style=\"text-align: right;\">\n",
              "      <th>chest_pain_ever</th>\n",
              "      <th>1.0</th>\n",
              "      <th>2.0</th>\n",
              "    </tr>\n",
              "    <tr>\n",
              "      <th>target_heart</th>\n",
              "      <th></th>\n",
              "      <th></th>\n",
              "    </tr>\n",
              "  </thead>\n",
              "  <tbody>\n",
              "    <tr>\n",
              "      <th>0.0</th>\n",
              "      <td>791</td>\n",
              "      <td>3209</td>\n",
              "    </tr>\n",
              "    <tr>\n",
              "      <th>1.0</th>\n",
              "      <td>2016</td>\n",
              "      <td>1984</td>\n",
              "    </tr>\n",
              "  </tbody>\n",
              "</table>\n",
              "</div>\n",
              "    <div class=\"colab-df-buttons\">\n",
              "\n",
              "  <div class=\"colab-df-container\">\n",
              "    <button class=\"colab-df-convert\" onclick=\"convertToInteractive('df-f6c6b204-846c-42eb-ae35-80d6cca4b4e6')\"\n",
              "            title=\"Convert this dataframe to an interactive table.\"\n",
              "            style=\"display:none;\">\n",
              "\n",
              "  <svg xmlns=\"http://www.w3.org/2000/svg\" height=\"24px\" viewBox=\"0 -960 960 960\">\n",
              "    <path d=\"M120-120v-720h720v720H120Zm60-500h600v-160H180v160Zm220 220h160v-160H400v160Zm0 220h160v-160H400v160ZM180-400h160v-160H180v160Zm440 0h160v-160H620v160ZM180-180h160v-160H180v160Zm440 0h160v-160H620v160Z\"/>\n",
              "  </svg>\n",
              "    </button>\n",
              "\n",
              "  <style>\n",
              "    .colab-df-container {\n",
              "      display:flex;\n",
              "      gap: 12px;\n",
              "    }\n",
              "\n",
              "    .colab-df-convert {\n",
              "      background-color: #E8F0FE;\n",
              "      border: none;\n",
              "      border-radius: 50%;\n",
              "      cursor: pointer;\n",
              "      display: none;\n",
              "      fill: #1967D2;\n",
              "      height: 32px;\n",
              "      padding: 0 0 0 0;\n",
              "      width: 32px;\n",
              "    }\n",
              "\n",
              "    .colab-df-convert:hover {\n",
              "      background-color: #E2EBFA;\n",
              "      box-shadow: 0px 1px 2px rgba(60, 64, 67, 0.3), 0px 1px 3px 1px rgba(60, 64, 67, 0.15);\n",
              "      fill: #174EA6;\n",
              "    }\n",
              "\n",
              "    .colab-df-buttons div {\n",
              "      margin-bottom: 4px;\n",
              "    }\n",
              "\n",
              "    [theme=dark] .colab-df-convert {\n",
              "      background-color: #3B4455;\n",
              "      fill: #D2E3FC;\n",
              "    }\n",
              "\n",
              "    [theme=dark] .colab-df-convert:hover {\n",
              "      background-color: #434B5C;\n",
              "      box-shadow: 0px 1px 3px 1px rgba(0, 0, 0, 0.15);\n",
              "      filter: drop-shadow(0px 1px 2px rgba(0, 0, 0, 0.3));\n",
              "      fill: #FFFFFF;\n",
              "    }\n",
              "  </style>\n",
              "\n",
              "    <script>\n",
              "      const buttonEl =\n",
              "        document.querySelector('#df-f6c6b204-846c-42eb-ae35-80d6cca4b4e6 button.colab-df-convert');\n",
              "      buttonEl.style.display =\n",
              "        google.colab.kernel.accessAllowed ? 'block' : 'none';\n",
              "\n",
              "      async function convertToInteractive(key) {\n",
              "        const element = document.querySelector('#df-f6c6b204-846c-42eb-ae35-80d6cca4b4e6');\n",
              "        const dataTable =\n",
              "          await google.colab.kernel.invokeFunction('convertToInteractive',\n",
              "                                                    [key], {});\n",
              "        if (!dataTable) return;\n",
              "\n",
              "        const docLinkHtml = 'Like what you see? Visit the ' +\n",
              "          '<a target=\"_blank\" href=https://colab.research.google.com/notebooks/data_table.ipynb>data table notebook</a>'\n",
              "          + ' to learn more about interactive tables.';\n",
              "        element.innerHTML = '';\n",
              "        dataTable['output_type'] = 'display_data';\n",
              "        await google.colab.output.renderOutput(dataTable, element);\n",
              "        const docLink = document.createElement('div');\n",
              "        docLink.innerHTML = docLinkHtml;\n",
              "        element.appendChild(docLink);\n",
              "      }\n",
              "    </script>\n",
              "  </div>\n",
              "\n",
              "\n",
              "<div id=\"df-c2983d35-13fe-45e8-a456-2bf048f93749\">\n",
              "  <button class=\"colab-df-quickchart\" onclick=\"quickchart('df-c2983d35-13fe-45e8-a456-2bf048f93749')\"\n",
              "            title=\"Suggest charts\"\n",
              "            style=\"display:none;\">\n",
              "\n",
              "<svg xmlns=\"http://www.w3.org/2000/svg\" height=\"24px\"viewBox=\"0 0 24 24\"\n",
              "     width=\"24px\">\n",
              "    <g>\n",
              "        <path d=\"M19 3H5c-1.1 0-2 .9-2 2v14c0 1.1.9 2 2 2h14c1.1 0 2-.9 2-2V5c0-1.1-.9-2-2-2zM9 17H7v-7h2v7zm4 0h-2V7h2v10zm4 0h-2v-4h2v4z\"/>\n",
              "    </g>\n",
              "</svg>\n",
              "  </button>\n",
              "\n",
              "<style>\n",
              "  .colab-df-quickchart {\n",
              "      --bg-color: #E8F0FE;\n",
              "      --fill-color: #1967D2;\n",
              "      --hover-bg-color: #E2EBFA;\n",
              "      --hover-fill-color: #174EA6;\n",
              "      --disabled-fill-color: #AAA;\n",
              "      --disabled-bg-color: #DDD;\n",
              "  }\n",
              "\n",
              "  [theme=dark] .colab-df-quickchart {\n",
              "      --bg-color: #3B4455;\n",
              "      --fill-color: #D2E3FC;\n",
              "      --hover-bg-color: #434B5C;\n",
              "      --hover-fill-color: #FFFFFF;\n",
              "      --disabled-bg-color: #3B4455;\n",
              "      --disabled-fill-color: #666;\n",
              "  }\n",
              "\n",
              "  .colab-df-quickchart {\n",
              "    background-color: var(--bg-color);\n",
              "    border: none;\n",
              "    border-radius: 50%;\n",
              "    cursor: pointer;\n",
              "    display: none;\n",
              "    fill: var(--fill-color);\n",
              "    height: 32px;\n",
              "    padding: 0;\n",
              "    width: 32px;\n",
              "  }\n",
              "\n",
              "  .colab-df-quickchart:hover {\n",
              "    background-color: var(--hover-bg-color);\n",
              "    box-shadow: 0 1px 2px rgba(60, 64, 67, 0.3), 0 1px 3px 1px rgba(60, 64, 67, 0.15);\n",
              "    fill: var(--button-hover-fill-color);\n",
              "  }\n",
              "\n",
              "  .colab-df-quickchart-complete:disabled,\n",
              "  .colab-df-quickchart-complete:disabled:hover {\n",
              "    background-color: var(--disabled-bg-color);\n",
              "    fill: var(--disabled-fill-color);\n",
              "    box-shadow: none;\n",
              "  }\n",
              "\n",
              "  .colab-df-spinner {\n",
              "    border: 2px solid var(--fill-color);\n",
              "    border-color: transparent;\n",
              "    border-bottom-color: var(--fill-color);\n",
              "    animation:\n",
              "      spin 1s steps(1) infinite;\n",
              "  }\n",
              "\n",
              "  @keyframes spin {\n",
              "    0% {\n",
              "      border-color: transparent;\n",
              "      border-bottom-color: var(--fill-color);\n",
              "      border-left-color: var(--fill-color);\n",
              "    }\n",
              "    20% {\n",
              "      border-color: transparent;\n",
              "      border-left-color: var(--fill-color);\n",
              "      border-top-color: var(--fill-color);\n",
              "    }\n",
              "    30% {\n",
              "      border-color: transparent;\n",
              "      border-left-color: var(--fill-color);\n",
              "      border-top-color: var(--fill-color);\n",
              "      border-right-color: var(--fill-color);\n",
              "    }\n",
              "    40% {\n",
              "      border-color: transparent;\n",
              "      border-right-color: var(--fill-color);\n",
              "      border-top-color: var(--fill-color);\n",
              "    }\n",
              "    60% {\n",
              "      border-color: transparent;\n",
              "      border-right-color: var(--fill-color);\n",
              "    }\n",
              "    80% {\n",
              "      border-color: transparent;\n",
              "      border-right-color: var(--fill-color);\n",
              "      border-bottom-color: var(--fill-color);\n",
              "    }\n",
              "    90% {\n",
              "      border-color: transparent;\n",
              "      border-bottom-color: var(--fill-color);\n",
              "    }\n",
              "  }\n",
              "</style>\n",
              "\n",
              "  <script>\n",
              "    async function quickchart(key) {\n",
              "      const quickchartButtonEl =\n",
              "        document.querySelector('#' + key + ' button');\n",
              "      quickchartButtonEl.disabled = true;  // To prevent multiple clicks.\n",
              "      quickchartButtonEl.classList.add('colab-df-spinner');\n",
              "      try {\n",
              "        const charts = await google.colab.kernel.invokeFunction(\n",
              "            'suggestCharts', [key], {});\n",
              "      } catch (error) {\n",
              "        console.error('Error during call to suggestCharts:', error);\n",
              "      }\n",
              "      quickchartButtonEl.classList.remove('colab-df-spinner');\n",
              "      quickchartButtonEl.classList.add('colab-df-quickchart-complete');\n",
              "    }\n",
              "    (() => {\n",
              "      let quickchartButtonEl =\n",
              "        document.querySelector('#df-c2983d35-13fe-45e8-a456-2bf048f93749 button');\n",
              "      quickchartButtonEl.style.display =\n",
              "        google.colab.kernel.accessAllowed ? 'block' : 'none';\n",
              "    })();\n",
              "  </script>\n",
              "</div>\n",
              "\n",
              "    </div>\n",
              "  </div>\n"
            ],
            "text/plain": [
              "chest_pain_ever   1.0   2.0\n",
              "target_heart               \n",
              "0.0               791  3209\n",
              "1.0              2016  1984"
            ]
          },
          "execution_count": 76,
          "metadata": {},
          "output_type": "execute_result"
        }
      ],
      "source": [
        "pd.crosstab(data[\"target_heart\"], data[\"chest_pain_ever\"])"
      ]
    },
    {
      "cell_type": "markdown",
      "id": "disturbed-married",
      "metadata": {
        "id": "disturbed-married"
      },
      "source": [
        "**Graded Task**:\n",
        "Do you expect each of \"blood_cholesterol\", \"age\",  \"calories\", and \"BMI\" to be an informative predictor for \"target_heart\"?\n",
        "What about \"gender\", \"drink_alcohol\" and \"chest_pain_ever\"?\n",
        "Using your output from above, briefly explain why or why not."
      ]
    },
    {
      "cell_type": "code",
      "execution_count": 77,
      "id": "looking-samoa",
      "metadata": {
        "id": "looking-samoa"
      },
      "outputs": [],
      "source": [
        "# For numerical variables: From the graphs, we could observe that the\n",
        "# distributions of 'blood_cholesterol', 'calories', and 'BMI' given the\n",
        "# occurence of a heart disease do not have a significantly change in pattern.\n",
        "# However, we could observe that the distribution of age changes significantly\n",
        "# as the mean age increases from 56 to 70 for people who have a heart disease.\n",
        "# Similarly for the categorical variables, the probability of having a chest\n",
        "# pain increases significantly with the presence of a heart disease. Thus, we\n",
        "# could say that \"age\" and \"chest_pain_ever\" are two informative predictors for\n",
        "# \"target_heart\"."
      ]
    },
    {
      "cell_type": "markdown",
      "id": "liquid-clinic",
      "metadata": {
        "id": "liquid-clinic"
      },
      "source": [
        "**Task**: Complete the exploratory data analysis by visualizing the remaining features.\n",
        "You should get a sense of whether these features may be informative predictors,\n",
        "and the distribution of these features.\n",
        "\n",
        "As a side note, this is also a great time to look for unexpected issues with the data.\n",
        "Is there missing data? Is there data that is outside the normal range that you would expect\n",
        "(e.g. an age of 500)? Are there features that almost always take on the same value,\n",
        "and would therefore likely not to be useful?"
      ]
    },
    {
      "cell_type": "code",
      "execution_count": 78,
      "id": "speaking-vulnerability",
      "metadata": {
        "id": "speaking-vulnerability"
      },
      "outputs": [],
      "source": [
        "# TODO"
      ]
    },
    {
      "cell_type": "markdown",
      "id": "extraordinary-reynolds",
      "metadata": {
        "id": "extraordinary-reynolds"
      },
      "source": [
        "**Graded Task**: Before being able to use our data to train a decision tree model,\n",
        "we need to transform some of the ways that our features are encoded. In particular, we need to change our current encoding of `gender`\n",
        "and `race_ethnicity`.  Explain why the current encoding should not be used with a decision tree classifier."
      ]
    },
    {
      "cell_type": "code",
      "execution_count": 79,
      "id": "rotary-journalism",
      "metadata": {
        "id": "rotary-journalism"
      },
      "outputs": [],
      "source": [
        "# 1.The numerical encoding implies an ordinal relationship between the\n",
        "# categories that may not exist in reality.\n",
        "# 2. Decision trees may generate decision rules based on the numeric values,\n",
        "# leading to misleading interpretations. For instance, a split like\n",
        "# \"gender <= 1.5\" might be interpreted as a condition that doesn't make sense in\n",
        "# the context of gender."
      ]
    },
    {
      "cell_type": "markdown",
      "id": "ethical-remove",
      "metadata": {
        "id": "ethical-remove"
      },
      "source": [
        "To solve the problem with our current encoding, we will encode categorical features using\n",
        "**indicator variables**. We will construct an indicator variable for every possible\n",
        "*value* or *category*.  More specifically, we will make a separate indicator variable for `race_ethicity_white`,\n",
        "`race_ethicity_black`, etc, with each feature taking on a value of 1 or 0.\n",
        "\n",
        "We will also group together `race_ethnicity=1` and\n",
        "`race_ethnicity=2` since these groups represent \"Mexican American\" and\n",
        "\"Other Hispanic\" and these groups are smaller than the others.\n",
        "This is a modeling decision born out of our understanding of the data,\n",
        "**and it may not be the correct decision**!\n",
        "Typically, many factors would go into decisions like this, including discussions\n",
        "with colleagues to understand where the data comes from and how the model will be used.\n",
        "Model building is also an iterative process: we may want to build multiple models with different\n",
        "feature representations, and compare the performance and other characteristics of\n",
        "these models.\n",
        "\n",
        "**Task**: Convert `data` into a numpy array `data_fets` with $N=8000$\n",
        "rows and with the following columns:\n",
        "\n",
        "- An indicator feature with value 1 iff `gender=2` (female)\n",
        "- An indicator feature with value 1 iff `race_ethnicity=1` or `race_ethnicity=2` (hispanic)\n",
        "- An indicator feature with value 1 iff `race_ethnicity=3` (white)\n",
        "- An indicator feature with value 1 iff `race_ethnicity=4` (black)\n",
        "- An indicator feature with value 1 iff `race_ethnicity=6` (asian)\n",
        "- An indicator feature with value 1 iff `chest_pain_ever=1`\n",
        "- An indicator feature with value 1 iff `drink_alcohol=1`\n",
        "- The numerical `age` feature\n",
        "- The numerical `blood_cholesterol` feature\n",
        "- The numerical `BMI` feature\n",
        "- The numerical `blood_pressure_sys` feature\n",
        "- The numerical `diastolic_bp` feature\n",
        "- The numerical `calories` feature\n",
        "- The numerical `family_income` feature\n",
        "\n",
        "Some of the features are provided for you. Complete the remaining features.\n",
        "\n",
        "This code works by creating individual numpy (1D) arrays for each feature,\n",
        "and then stacking them together into a single (2D) numpy array."
      ]
    },
    {
      "cell_type": "code",
      "execution_count": 80,
      "id": "acoustic-newsletter",
      "metadata": {
        "id": "acoustic-newsletter",
        "colab": {
          "base_uri": "https://localhost:8080/"
        },
        "outputId": "16f5cecd-d0a2-409d-9e0c-6ca97c90ef22"
      },
      "outputs": [
        {
          "metadata": {
            "tags": null
          },
          "name": "stdout",
          "output_type": "stream",
          "text": [
            "(8000, 14)\n"
          ]
        }
      ],
      "source": [
        "data_fets = np.stack([\n",
        "    # gender_female: this code creates an array of booleans, which converted into 0 and 1\n",
        "    data[\"gender\"] == 2,\n",
        "    # re_hispanic: this code leverages addition to perform an \"or\" operation\n",
        "    (data[\"race_ethnicity\"] == 1) + (data[\"race_ethnicity\"] == 2),\n",
        "    # re_white\n",
        "    data[\"race_ethnicity\"] == 3,\n",
        "    # re_black\n",
        "    data[\"race_ethnicity\"] == 4,\n",
        "    # re_aisan\n",
        "    data[\"race_ethnicity\"] == 6,\n",
        "    # chest_pain_ever\n",
        "    data[\"chest_pain_ever\"] == 1,\n",
        "    # drink_alcohol\n",
        "    data[\"drink_alcohol\"] == 1,\n",
        "    # age: this is a numeric value and no transformations are required\n",
        "    data[\"age\"],\n",
        "    # blood_cholesterol: TODO\n",
        "    data[\"blood_cholesterol\"],\n",
        "    # BMI: TODO\n",
        "    data[\"blood_pressure_sys\"],\n",
        "    # blood_pressure_sys: TODO\n",
        "    data[\"diastolic_bp\"],\n",
        "    # diastolic_bp: TODO\n",
        "    data[\"calories\"],\n",
        "    # calories: TODO\n",
        "    data[\"family_income\"],\n",
        "    # family_income: TODO\n",
        "    data[\"BMI\"],\n",
        "], axis=1)\n",
        "\n",
        "print(data_fets.shape) # Should be (8000, 14)"
      ]
    },
    {
      "cell_type": "markdown",
      "id": "extra-amateur",
      "metadata": {
        "id": "extra-amateur"
      },
      "source": [
        "We will also declare a new array to store all the feature names. This will come in handy later when we visualize decision trees."
      ]
    },
    {
      "cell_type": "code",
      "execution_count": 81,
      "id": "silent-transmission",
      "metadata": {
        "id": "silent-transmission"
      },
      "outputs": [],
      "source": [
        "feature_names = [\n",
        "    \"gender_female\",\n",
        "    \"re_hispanic\",\n",
        "    \"re_white\",\n",
        "    \"re_black\",\n",
        "    \"re_asian\",\n",
        "    \"chest_pain\",\n",
        "    \"drink_alcohol\",\n",
        "    \"age\",\n",
        "    \"blood_cholesterol\",\n",
        "    \"BMI\",\n",
        "    \"blood_pressure_sys\",\n",
        "    \"diastolic_bp\",\n",
        "    \"calories\",\n",
        "    \"family_income\"]"
      ]
    },
    {
      "cell_type": "markdown",
      "id": "together-history",
      "metadata": {
        "id": "together-history"
      },
      "source": [
        "**Task** Finally, let's separate our data into training, validation, and test sets.\n",
        "We will use 5000 data points for training, 1500 for validation, and 1500 for test.\n",
        "\n",
        "Instead of manually splitting the data into two sets, we will use a function provided by `sklearn` which randomly splits the data for us. Use the `train_test_split` function to split the data into training and test sets. To ensure that the randomization is consistent across runs, please supply the following parameter to the `train_test_split` function: 'random_state=1'.  This will ensure that the each time you run your code, you are placing the same data points in your training, test and validation sets.\n",
        "\n",
        "You will likely need to read the [documentation](https://scikit-learn.org/stable/modules/generated/sklearn.model_selection.train_test_split.html) for the `sklearn.model_selection.train_test_splits` to get this job done."
      ]
    },
    {
      "cell_type": "code",
      "execution_count": 82,
      "id": "collect-tomorrow",
      "metadata": {
        "id": "collect-tomorrow"
      },
      "outputs": [],
      "source": [
        "\n",
        "from sklearn.model_selection import train_test_split\n",
        "\n",
        "# Split the data into X (dependent variables) and t (response variable)\n",
        "X = data_fets\n",
        "t = np.array(data[\"target_heart\"])\n",
        "\n",
        "# First, we will use `train_test_split` to split the data set into\n",
        "# 6500 training+validation, and 1500 test:\n",
        "X_tv, X_test, t_tv, t_test = train_test_split(X, t, test_size=1500/8000, random_state=1)\n",
        "\n",
        "# Then, use `train_test_split` to split the training+validation data\n",
        "# into 5000 train and 1500 validation\n",
        "X_train, X_valid, t_train, t_valid = train_test_split(X_tv, t_tv, test_size=1500/6500, random_state=1)\n"
      ]
    },
    {
      "cell_type": "markdown",
      "id": "upper-spotlight",
      "metadata": {
        "id": "upper-spotlight"
      },
      "source": [
        "**Graded Task**: Recall that in lab 1, normalizing our features yielded a\n",
        "marked improvement in the performance (accuracy) of our kNN model.\n",
        "Explain why normalizing our features will likely *not* improve a\n",
        "decision tree classifier.\n",
        "\n",
        "Your explanation serves as justification for *not* normalizing our features before continuing."
      ]
    },
    {
      "cell_type": "code",
      "execution_count": 83,
      "id": "square-genesis",
      "metadata": {
        "id": "square-genesis"
      },
      "outputs": [],
      "source": [
        "# 1.Decision trees make splits based on feature values, not on distances between\n",
        "# data points. The algorithm selects the feature that best separates the data at\n",
        "# each node. Normalizing features doesn't impact the decision-making process\n",
        "# because the relative order and scale of features are preserved during the\n",
        "# tree-building process.\n",
        "# 2.Unlike kNN, decision trees do not involve distance calculations between data\n",
        "# points. They partition the feature space based on threshold values, and the\n",
        "# decision to split a node is solely based on how well a feature separates the\n",
        "# data into homogenous groups with respect to the target variable."
      ]
    },
    {
      "cell_type": "markdown",
      "id": "peripheral-minnesota",
      "metadata": {
        "id": "peripheral-minnesota"
      },
      "source": [
        "## Part 2. Using `sklearn` to Implement and Visualize Decision Trees\n",
        "\n",
        "One advantage of decision trees over other models is that they are easy\n",
        "to interpret and visualize.  The function `visualize_tree` below can be used to plot an `sklearn` decision tree model in your Colab Notebook."
      ]
    },
    {
      "cell_type": "code",
      "execution_count": 84,
      "id": "martial-debate",
      "metadata": {
        "id": "martial-debate"
      },
      "outputs": [],
      "source": [
        "from sklearn.tree import DecisionTreeClassifier\n",
        "\n",
        "# imports to visualize tree\n",
        "from sklearn import tree as treeViz\n",
        "import graphviz\n",
        "import pydotplus\n",
        "from IPython.display import display"
      ]
    },
    {
      "cell_type": "code",
      "execution_count": 85,
      "id": "velvet-hungarian",
      "metadata": {
        "id": "velvet-hungarian"
      },
      "outputs": [],
      "source": [
        "def visualize_tree(model, max_depth=5):\n",
        "    \"\"\"\n",
        "    Generate and return an image representing an Sklearn decision tree.\n",
        "\n",
        "    Each node in the visualization represents a node in the decision tree.\n",
        "    In addition, visualization for each node contains:\n",
        "        - The feature that is split on\n",
        "        - The entropy (of the outputs `t`) at the node\n",
        "        - The number of training samples at the node\n",
        "        - The number of training samples with true/false values\n",
        "        - The majority class (heart disease or not)\n",
        "    The colour of the node also shows the majority class and purity\n",
        "\n",
        "    See here: https://scikit-learn.org/stable/modules/generated/sklearn.tree.export_graphviz.html\n",
        "\n",
        "    Parameters:\n",
        "        `model` - An Sklearn decision tree model\n",
        "        `max_depth` - Max depth of decision tree to be rendered in the notebook.\n",
        "         This is useful since the tree can get very large if the max_depth is\n",
        "         set too high and thus making the resulting figure difficult to interpret.\n",
        "    \"\"\"\n",
        "    dot_data = treeViz.export_graphviz(model,\n",
        "                                       feature_names=feature_names,\n",
        "                                       max_depth=max_depth,\n",
        "                                       class_names=[\"heart_no\", \"heart_yes\"],\n",
        "                                       filled=True,\n",
        "                                       rounded=True)\n",
        "    return display(graphviz.Source(dot_data))\n"
      ]
    },
    {
      "cell_type": "markdown",
      "id": "incredible-extra",
      "metadata": {
        "id": "incredible-extra"
      },
      "source": [
        "Next, we will use sklearn's `DecisionTreeClassifier` to create some decision trees to fit to our data.\n",
        "\n",
        "**Task:** Fit a `DecisionTreeClassifier` to our dataset. Use `entropy` to measure the quality of a decision tree split, and set the `max_depth` to 3. Then, print the training and validation scores (accuracy).\n",
        "\n",
        "See more here: https://scikit-learn.org/stable/modules/generated/sklearn.tree.DecisionTreeClassifier.html"
      ]
    },
    {
      "cell_type": "code",
      "execution_count": 86,
      "id": "suspected-missile",
      "metadata": {
        "id": "suspected-missile",
        "colab": {
          "base_uri": "https://localhost:8080/"
        },
        "outputId": "e3e52555-0647-44ef-e379-3e1ce0a795ce"
      },
      "outputs": [
        {
          "metadata": {
            "tags": null
          },
          "name": "stdout",
          "output_type": "stream",
          "text": [
            "Training Accuracy: 0.7152\n",
            "Validation Accuracy: 0.7193333333333334\n"
          ]
        }
      ],
      "source": [
        "# Creating a DecisionTreeClassifier\n",
        "tree = DecisionTreeClassifier(criterion=\"entropy\", max_depth=3)\n",
        "\n",
        "# TODO: fit it to our data\n",
        "tree.fit(X_train, t_train)\n",
        "\n",
        "# Print the training and validation scores (accuracy)\n",
        "print(\"Training Accuracy:\", tree.score(X_train, t_train))\n",
        "print(\"Validation Accuracy:\", tree.score(X_valid, t_valid))"
      ]
    },
    {
      "cell_type": "markdown",
      "id": "brutal-hearts",
      "metadata": {
        "id": "brutal-hearts"
      },
      "source": [
        "**Task:** Use `visualize_tree` to visualize the decision tree that was fit."
      ]
    },
    {
      "cell_type": "code",
      "execution_count": 87,
      "id": "inner-farming",
      "metadata": {
        "id": "inner-farming",
        "colab": {
          "base_uri": "https://localhost:8080/",
          "height": 618
        },
        "outputId": "083b9bd5-539d-4472-e445-6832f8909d75"
      },
      "outputs": [
        {
          "data": {
            "image/svg+xml": "<?xml version=\"1.0\" encoding=\"UTF-8\" standalone=\"no\"?>\n<!DOCTYPE svg PUBLIC \"-//W3C//DTD SVG 1.1//EN\"\n \"http://www.w3.org/Graphics/SVG/1.1/DTD/svg11.dtd\">\n<!-- Generated by graphviz version 2.43.0 (0)\n -->\n<!-- Title: Tree Pages: 1 -->\n<svg width=\"1121pt\" height=\"433pt\"\n viewBox=\"0.00 0.00 1120.50 433.00\" xmlns=\"http://www.w3.org/2000/svg\" xmlns:xlink=\"http://www.w3.org/1999/xlink\">\n<g id=\"graph0\" class=\"graph\" transform=\"scale(1 1) rotate(0) translate(4 429)\">\n<title>Tree</title>\n<polygon fill=\"white\" stroke=\"transparent\" points=\"-4,4 -4,-429 1116.5,-429 1116.5,4 -4,4\"/>\n<!-- 0 -->\n<g id=\"node1\" class=\"node\">\n<title>0</title>\n<path fill=\"#fefcfb\" stroke=\"black\" d=\"M609.5,-425C609.5,-425 493.5,-425 493.5,-425 487.5,-425 481.5,-419 481.5,-413 481.5,-413 481.5,-354 481.5,-354 481.5,-348 487.5,-342 493.5,-342 493.5,-342 609.5,-342 609.5,-342 615.5,-342 621.5,-348 621.5,-354 621.5,-354 621.5,-413 621.5,-413 621.5,-419 615.5,-425 609.5,-425\"/>\n<text text-anchor=\"middle\" x=\"551.5\" y=\"-409.8\" font-family=\"Helvetica,sans-Serif\" font-size=\"14.00\">age &lt;= 64.5</text>\n<text text-anchor=\"middle\" x=\"551.5\" y=\"-394.8\" font-family=\"Helvetica,sans-Serif\" font-size=\"14.00\">entropy = 1.0</text>\n<text text-anchor=\"middle\" x=\"551.5\" y=\"-379.8\" font-family=\"Helvetica,sans-Serif\" font-size=\"14.00\">samples = 5000</text>\n<text text-anchor=\"middle\" x=\"551.5\" y=\"-364.8\" font-family=\"Helvetica,sans-Serif\" font-size=\"14.00\">value = [2528, 2472]</text>\n<text text-anchor=\"middle\" x=\"551.5\" y=\"-349.8\" font-family=\"Helvetica,sans-Serif\" font-size=\"14.00\">class = heart_no</text>\n</g>\n<!-- 1 -->\n<g id=\"node2\" class=\"node\">\n<title>1</title>\n<path fill=\"#f1be98\" stroke=\"black\" d=\"M464.5,-306C464.5,-306 356.5,-306 356.5,-306 350.5,-306 344.5,-300 344.5,-294 344.5,-294 344.5,-235 344.5,-235 344.5,-229 350.5,-223 356.5,-223 356.5,-223 464.5,-223 464.5,-223 470.5,-223 476.5,-229 476.5,-235 476.5,-235 476.5,-294 476.5,-294 476.5,-300 470.5,-306 464.5,-306\"/>\n<text text-anchor=\"middle\" x=\"410.5\" y=\"-290.8\" font-family=\"Helvetica,sans-Serif\" font-size=\"14.00\">chest_pain &lt;= 0.5</text>\n<text text-anchor=\"middle\" x=\"410.5\" y=\"-275.8\" font-family=\"Helvetica,sans-Serif\" font-size=\"14.00\">entropy = 0.909</text>\n<text text-anchor=\"middle\" x=\"410.5\" y=\"-260.8\" font-family=\"Helvetica,sans-Serif\" font-size=\"14.00\">samples = 2652</text>\n<text text-anchor=\"middle\" x=\"410.5\" y=\"-245.8\" font-family=\"Helvetica,sans-Serif\" font-size=\"14.00\">value = [1791, 861]</text>\n<text text-anchor=\"middle\" x=\"410.5\" y=\"-230.8\" font-family=\"Helvetica,sans-Serif\" font-size=\"14.00\">class = heart_no</text>\n</g>\n<!-- 0&#45;&gt;1 -->\n<g id=\"edge1\" class=\"edge\">\n<title>0&#45;&gt;1</title>\n<path fill=\"none\" stroke=\"black\" d=\"M502.58,-341.91C491.21,-332.47 479,-322.34 467.32,-312.65\"/>\n<polygon fill=\"black\" stroke=\"black\" points=\"469.26,-309.71 459.33,-306.02 464.79,-315.1 469.26,-309.71\"/>\n<text text-anchor=\"middle\" x=\"461.65\" y=\"-327.21\" font-family=\"Helvetica,sans-Serif\" font-size=\"14.00\">True</text>\n</g>\n<!-- 8 -->\n<g id=\"node9\" class=\"node\">\n<title>8</title>\n<path fill=\"#94caf1\" stroke=\"black\" d=\"M737.5,-306C737.5,-306 629.5,-306 629.5,-306 623.5,-306 617.5,-300 617.5,-294 617.5,-294 617.5,-235 617.5,-235 617.5,-229 623.5,-223 629.5,-223 629.5,-223 737.5,-223 737.5,-223 743.5,-223 749.5,-229 749.5,-235 749.5,-235 749.5,-294 749.5,-294 749.5,-300 743.5,-306 737.5,-306\"/>\n<text text-anchor=\"middle\" x=\"683.5\" y=\"-290.8\" font-family=\"Helvetica,sans-Serif\" font-size=\"14.00\">chest_pain &lt;= 0.5</text>\n<text text-anchor=\"middle\" x=\"683.5\" y=\"-275.8\" font-family=\"Helvetica,sans-Serif\" font-size=\"14.00\">entropy = 0.898</text>\n<text text-anchor=\"middle\" x=\"683.5\" y=\"-260.8\" font-family=\"Helvetica,sans-Serif\" font-size=\"14.00\">samples = 2348</text>\n<text text-anchor=\"middle\" x=\"683.5\" y=\"-245.8\" font-family=\"Helvetica,sans-Serif\" font-size=\"14.00\">value = [737, 1611]</text>\n<text text-anchor=\"middle\" x=\"683.5\" y=\"-230.8\" font-family=\"Helvetica,sans-Serif\" font-size=\"14.00\">class = heart_yes</text>\n</g>\n<!-- 0&#45;&gt;8 -->\n<g id=\"edge8\" class=\"edge\">\n<title>0&#45;&gt;8</title>\n<path fill=\"none\" stroke=\"black\" d=\"M597.3,-341.91C607.84,-332.56 619.15,-322.54 629.99,-312.93\"/>\n<polygon fill=\"black\" stroke=\"black\" points=\"632.62,-315.27 637.78,-306.02 627.98,-310.03 632.62,-315.27\"/>\n<text text-anchor=\"middle\" x=\"636.28\" y=\"-327.28\" font-family=\"Helvetica,sans-Serif\" font-size=\"14.00\">False</text>\n</g>\n<!-- 2 -->\n<g id=\"node3\" class=\"node\">\n<title>2</title>\n<path fill=\"#eca36f\" stroke=\"black\" d=\"M251.5,-187C251.5,-187 143.5,-187 143.5,-187 137.5,-187 131.5,-181 131.5,-175 131.5,-175 131.5,-116 131.5,-116 131.5,-110 137.5,-104 143.5,-104 143.5,-104 251.5,-104 251.5,-104 257.5,-104 263.5,-110 263.5,-116 263.5,-116 263.5,-175 263.5,-175 263.5,-181 257.5,-187 251.5,-187\"/>\n<text text-anchor=\"middle\" x=\"197.5\" y=\"-171.8\" font-family=\"Helvetica,sans-Serif\" font-size=\"14.00\">age &lt;= 47.5</text>\n<text text-anchor=\"middle\" x=\"197.5\" y=\"-156.8\" font-family=\"Helvetica,sans-Serif\" font-size=\"14.00\">entropy = 0.747</text>\n<text text-anchor=\"middle\" x=\"197.5\" y=\"-141.8\" font-family=\"Helvetica,sans-Serif\" font-size=\"14.00\">samples = 1818</text>\n<text text-anchor=\"middle\" x=\"197.5\" y=\"-126.8\" font-family=\"Helvetica,sans-Serif\" font-size=\"14.00\">value = [1431, 387]</text>\n<text text-anchor=\"middle\" x=\"197.5\" y=\"-111.8\" font-family=\"Helvetica,sans-Serif\" font-size=\"14.00\">class = heart_no</text>\n</g>\n<!-- 1&#45;&gt;2 -->\n<g id=\"edge2\" class=\"edge\">\n<title>1&#45;&gt;2</title>\n<path fill=\"none\" stroke=\"black\" d=\"M344.27,-227.12C321.53,-214.63 295.92,-200.56 272.53,-187.71\"/>\n<polygon fill=\"black\" stroke=\"black\" points=\"274.14,-184.6 263.69,-182.86 270.77,-190.74 274.14,-184.6\"/>\n</g>\n<!-- 5 -->\n<g id=\"node6\" class=\"node\">\n<title>5</title>\n<path fill=\"#cfe7f9\" stroke=\"black\" d=\"M461,-187C461,-187 360,-187 360,-187 354,-187 348,-181 348,-175 348,-175 348,-116 348,-116 348,-110 354,-104 360,-104 360,-104 461,-104 461,-104 467,-104 473,-110 473,-116 473,-116 473,-175 473,-175 473,-181 467,-187 461,-187\"/>\n<text text-anchor=\"middle\" x=\"410.5\" y=\"-171.8\" font-family=\"Helvetica,sans-Serif\" font-size=\"14.00\">age &lt;= 56.5</text>\n<text text-anchor=\"middle\" x=\"410.5\" y=\"-156.8\" font-family=\"Helvetica,sans-Serif\" font-size=\"14.00\">entropy = 0.986</text>\n<text text-anchor=\"middle\" x=\"410.5\" y=\"-141.8\" font-family=\"Helvetica,sans-Serif\" font-size=\"14.00\">samples = 834</text>\n<text text-anchor=\"middle\" x=\"410.5\" y=\"-126.8\" font-family=\"Helvetica,sans-Serif\" font-size=\"14.00\">value = [360, 474]</text>\n<text text-anchor=\"middle\" x=\"410.5\" y=\"-111.8\" font-family=\"Helvetica,sans-Serif\" font-size=\"14.00\">class = heart_yes</text>\n</g>\n<!-- 1&#45;&gt;5 -->\n<g id=\"edge5\" class=\"edge\">\n<title>1&#45;&gt;5</title>\n<path fill=\"none\" stroke=\"black\" d=\"M410.5,-222.91C410.5,-214.65 410.5,-205.86 410.5,-197.3\"/>\n<polygon fill=\"black\" stroke=\"black\" points=\"414,-197.02 410.5,-187.02 407,-197.02 414,-197.02\"/>\n</g>\n<!-- 3 -->\n<g id=\"node4\" class=\"node\">\n<title>3</title>\n<path fill=\"#e68641\" stroke=\"black\" d=\"M105,-68C105,-68 12,-68 12,-68 6,-68 0,-62 0,-56 0,-56 0,-12 0,-12 0,-6 6,0 12,0 12,0 105,0 105,0 111,0 117,-6 117,-12 117,-12 117,-56 117,-56 117,-62 111,-68 105,-68\"/>\n<text text-anchor=\"middle\" x=\"58.5\" y=\"-52.8\" font-family=\"Helvetica,sans-Serif\" font-size=\"14.00\">entropy = 0.232</text>\n<text text-anchor=\"middle\" x=\"58.5\" y=\"-37.8\" font-family=\"Helvetica,sans-Serif\" font-size=\"14.00\">samples = 529</text>\n<text text-anchor=\"middle\" x=\"58.5\" y=\"-22.8\" font-family=\"Helvetica,sans-Serif\" font-size=\"14.00\">value = [509, 20]</text>\n<text text-anchor=\"middle\" x=\"58.5\" y=\"-7.8\" font-family=\"Helvetica,sans-Serif\" font-size=\"14.00\">class = heart_no</text>\n</g>\n<!-- 2&#45;&gt;3 -->\n<g id=\"edge3\" class=\"edge\">\n<title>2&#45;&gt;3</title>\n<path fill=\"none\" stroke=\"black\" d=\"M145.74,-103.73C133.7,-94.24 120.9,-84.16 108.92,-74.72\"/>\n<polygon fill=\"black\" stroke=\"black\" points=\"110.79,-71.74 100.77,-68.3 106.46,-77.24 110.79,-71.74\"/>\n</g>\n<!-- 4 -->\n<g id=\"node5\" class=\"node\">\n<title>4</title>\n<path fill=\"#efb388\" stroke=\"black\" d=\"M248,-68C248,-68 147,-68 147,-68 141,-68 135,-62 135,-56 135,-56 135,-12 135,-12 135,-6 141,0 147,0 147,0 248,0 248,0 254,0 260,-6 260,-12 260,-12 260,-56 260,-56 260,-62 254,-68 248,-68\"/>\n<text text-anchor=\"middle\" x=\"197.5\" y=\"-52.8\" font-family=\"Helvetica,sans-Serif\" font-size=\"14.00\">entropy = 0.862</text>\n<text text-anchor=\"middle\" x=\"197.5\" y=\"-37.8\" font-family=\"Helvetica,sans-Serif\" font-size=\"14.00\">samples = 1289</text>\n<text text-anchor=\"middle\" x=\"197.5\" y=\"-22.8\" font-family=\"Helvetica,sans-Serif\" font-size=\"14.00\">value = [922, 367]</text>\n<text text-anchor=\"middle\" x=\"197.5\" y=\"-7.8\" font-family=\"Helvetica,sans-Serif\" font-size=\"14.00\">class = heart_no</text>\n</g>\n<!-- 2&#45;&gt;4 -->\n<g id=\"edge4\" class=\"edge\">\n<title>2&#45;&gt;4</title>\n<path fill=\"none\" stroke=\"black\" d=\"M197.5,-103.73C197.5,-95.52 197.5,-86.86 197.5,-78.56\"/>\n<polygon fill=\"black\" stroke=\"black\" points=\"201,-78.3 197.5,-68.3 194,-78.3 201,-78.3\"/>\n</g>\n<!-- 6 -->\n<g id=\"node7\" class=\"node\">\n<title>6</title>\n<path fill=\"#fae6d7\" stroke=\"black\" d=\"M391,-68C391,-68 290,-68 290,-68 284,-68 278,-62 278,-56 278,-56 278,-12 278,-12 278,-6 284,0 290,0 290,0 391,0 391,0 397,0 403,-6 403,-12 403,-12 403,-56 403,-56 403,-62 397,-68 391,-68\"/>\n<text text-anchor=\"middle\" x=\"340.5\" y=\"-52.8\" font-family=\"Helvetica,sans-Serif\" font-size=\"14.00\">entropy = 0.991</text>\n<text text-anchor=\"middle\" x=\"340.5\" y=\"-37.8\" font-family=\"Helvetica,sans-Serif\" font-size=\"14.00\">samples = 448</text>\n<text text-anchor=\"middle\" x=\"340.5\" y=\"-22.8\" font-family=\"Helvetica,sans-Serif\" font-size=\"14.00\">value = [249, 199]</text>\n<text text-anchor=\"middle\" x=\"340.5\" y=\"-7.8\" font-family=\"Helvetica,sans-Serif\" font-size=\"14.00\">class = heart_no</text>\n</g>\n<!-- 5&#45;&gt;6 -->\n<g id=\"edge6\" class=\"edge\">\n<title>5&#45;&gt;6</title>\n<path fill=\"none\" stroke=\"black\" d=\"M384.43,-103.73C378.84,-94.97 372.91,-85.7 367.29,-76.91\"/>\n<polygon fill=\"black\" stroke=\"black\" points=\"370.12,-74.84 361.79,-68.3 364.22,-78.61 370.12,-74.84\"/>\n</g>\n<!-- 7 -->\n<g id=\"node8\" class=\"node\">\n<title>7</title>\n<path fill=\"#89c5ef\" stroke=\"black\" d=\"M534,-68C534,-68 433,-68 433,-68 427,-68 421,-62 421,-56 421,-56 421,-12 421,-12 421,-6 427,0 433,0 433,0 534,0 534,0 540,0 546,-6 546,-12 546,-12 546,-56 546,-56 546,-62 540,-68 534,-68\"/>\n<text text-anchor=\"middle\" x=\"483.5\" y=\"-52.8\" font-family=\"Helvetica,sans-Serif\" font-size=\"14.00\">entropy = 0.866</text>\n<text text-anchor=\"middle\" x=\"483.5\" y=\"-37.8\" font-family=\"Helvetica,sans-Serif\" font-size=\"14.00\">samples = 386</text>\n<text text-anchor=\"middle\" x=\"483.5\" y=\"-22.8\" font-family=\"Helvetica,sans-Serif\" font-size=\"14.00\">value = [111, 275]</text>\n<text text-anchor=\"middle\" x=\"483.5\" y=\"-7.8\" font-family=\"Helvetica,sans-Serif\" font-size=\"14.00\">class = heart_yes</text>\n</g>\n<!-- 5&#45;&gt;7 -->\n<g id=\"edge7\" class=\"edge\">\n<title>5&#45;&gt;7</title>\n<path fill=\"none\" stroke=\"black\" d=\"M437.68,-103.73C443.58,-94.88 449.83,-85.51 455.75,-76.63\"/>\n<polygon fill=\"black\" stroke=\"black\" points=\"458.67,-78.56 461.3,-68.3 452.84,-74.68 458.67,-78.56\"/>\n</g>\n<!-- 9 -->\n<g id=\"node10\" class=\"node\">\n<title>9</title>\n<path fill=\"#c8e4f8\" stroke=\"black\" d=\"M734,-187C734,-187 633,-187 633,-187 627,-187 621,-181 621,-175 621,-175 621,-116 621,-116 621,-110 627,-104 633,-104 633,-104 734,-104 734,-104 740,-104 746,-110 746,-116 746,-116 746,-175 746,-175 746,-181 740,-187 734,-187\"/>\n<text text-anchor=\"middle\" x=\"683.5\" y=\"-171.8\" font-family=\"Helvetica,sans-Serif\" font-size=\"14.00\">age &lt;= 77.5</text>\n<text text-anchor=\"middle\" x=\"683.5\" y=\"-156.8\" font-family=\"Helvetica,sans-Serif\" font-size=\"14.00\">entropy = 0.981</text>\n<text text-anchor=\"middle\" x=\"683.5\" y=\"-141.8\" font-family=\"Helvetica,sans-Serif\" font-size=\"14.00\">samples = 1465</text>\n<text text-anchor=\"middle\" x=\"683.5\" y=\"-126.8\" font-family=\"Helvetica,sans-Serif\" font-size=\"14.00\">value = [614, 851]</text>\n<text text-anchor=\"middle\" x=\"683.5\" y=\"-111.8\" font-family=\"Helvetica,sans-Serif\" font-size=\"14.00\">class = heart_yes</text>\n</g>\n<!-- 8&#45;&gt;9 -->\n<g id=\"edge9\" class=\"edge\">\n<title>8&#45;&gt;9</title>\n<path fill=\"none\" stroke=\"black\" d=\"M683.5,-222.91C683.5,-214.65 683.5,-205.86 683.5,-197.3\"/>\n<polygon fill=\"black\" stroke=\"black\" points=\"687,-197.02 683.5,-187.02 680,-197.02 687,-197.02\"/>\n</g>\n<!-- 12 -->\n<g id=\"node13\" class=\"node\">\n<title>12</title>\n<path fill=\"#59ade9\" stroke=\"black\" d=\"M989.5,-187C989.5,-187 833.5,-187 833.5,-187 827.5,-187 821.5,-181 821.5,-175 821.5,-175 821.5,-116 821.5,-116 821.5,-110 827.5,-104 833.5,-104 833.5,-104 989.5,-104 989.5,-104 995.5,-104 1001.5,-110 1001.5,-116 1001.5,-116 1001.5,-175 1001.5,-175 1001.5,-181 995.5,-187 989.5,-187\"/>\n<text text-anchor=\"middle\" x=\"911.5\" y=\"-171.8\" font-family=\"Helvetica,sans-Serif\" font-size=\"14.00\">blood_cholesterol &lt;= 3.605</text>\n<text text-anchor=\"middle\" x=\"911.5\" y=\"-156.8\" font-family=\"Helvetica,sans-Serif\" font-size=\"14.00\">entropy = 0.582</text>\n<text text-anchor=\"middle\" x=\"911.5\" y=\"-141.8\" font-family=\"Helvetica,sans-Serif\" font-size=\"14.00\">samples = 883</text>\n<text text-anchor=\"middle\" x=\"911.5\" y=\"-126.8\" font-family=\"Helvetica,sans-Serif\" font-size=\"14.00\">value = [123, 760]</text>\n<text text-anchor=\"middle\" x=\"911.5\" y=\"-111.8\" font-family=\"Helvetica,sans-Serif\" font-size=\"14.00\">class = heart_yes</text>\n</g>\n<!-- 8&#45;&gt;12 -->\n<g id=\"edge12\" class=\"edge\">\n<title>8&#45;&gt;12</title>\n<path fill=\"none\" stroke=\"black\" d=\"M749.75,-229.5C772.82,-217.66 799.07,-204.19 823.62,-191.6\"/>\n<polygon fill=\"black\" stroke=\"black\" points=\"825.28,-194.68 832.58,-187 822.08,-188.45 825.28,-194.68\"/>\n</g>\n<!-- 10 -->\n<g id=\"node11\" class=\"node\">\n<title>10</title>\n<path fill=\"#fefcfb\" stroke=\"black\" d=\"M677,-68C677,-68 576,-68 576,-68 570,-68 564,-62 564,-56 564,-56 564,-12 564,-12 564,-6 570,0 576,0 576,0 677,0 677,0 683,0 689,-6 689,-12 689,-12 689,-56 689,-56 689,-62 683,-68 677,-68\"/>\n<text text-anchor=\"middle\" x=\"626.5\" y=\"-52.8\" font-family=\"Helvetica,sans-Serif\" font-size=\"14.00\">entropy = 1.0</text>\n<text text-anchor=\"middle\" x=\"626.5\" y=\"-37.8\" font-family=\"Helvetica,sans-Serif\" font-size=\"14.00\">samples = 936</text>\n<text text-anchor=\"middle\" x=\"626.5\" y=\"-22.8\" font-family=\"Helvetica,sans-Serif\" font-size=\"14.00\">value = [473, 463]</text>\n<text text-anchor=\"middle\" x=\"626.5\" y=\"-7.8\" font-family=\"Helvetica,sans-Serif\" font-size=\"14.00\">class = heart_no</text>\n</g>\n<!-- 9&#45;&gt;10 -->\n<g id=\"edge10\" class=\"edge\">\n<title>9&#45;&gt;10</title>\n<path fill=\"none\" stroke=\"black\" d=\"M662.28,-103.73C657.76,-95.06 652.99,-85.9 648.46,-77.18\"/>\n<polygon fill=\"black\" stroke=\"black\" points=\"651.56,-75.55 643.83,-68.3 645.35,-78.79 651.56,-75.55\"/>\n</g>\n<!-- 11 -->\n<g id=\"node12\" class=\"node\">\n<title>11</title>\n<path fill=\"#81c1ee\" stroke=\"black\" d=\"M820,-68C820,-68 719,-68 719,-68 713,-68 707,-62 707,-56 707,-56 707,-12 707,-12 707,-6 713,0 719,0 719,0 820,0 820,0 826,0 832,-6 832,-12 832,-12 832,-56 832,-56 832,-62 826,-68 820,-68\"/>\n<text text-anchor=\"middle\" x=\"769.5\" y=\"-52.8\" font-family=\"Helvetica,sans-Serif\" font-size=\"14.00\">entropy = 0.836</text>\n<text text-anchor=\"middle\" x=\"769.5\" y=\"-37.8\" font-family=\"Helvetica,sans-Serif\" font-size=\"14.00\">samples = 529</text>\n<text text-anchor=\"middle\" x=\"769.5\" y=\"-22.8\" font-family=\"Helvetica,sans-Serif\" font-size=\"14.00\">value = [141, 388]</text>\n<text text-anchor=\"middle\" x=\"769.5\" y=\"-7.8\" font-family=\"Helvetica,sans-Serif\" font-size=\"14.00\">class = heart_yes</text>\n</g>\n<!-- 9&#45;&gt;11 -->\n<g id=\"edge11\" class=\"edge\">\n<title>9&#45;&gt;11</title>\n<path fill=\"none\" stroke=\"black\" d=\"M715.52,-103.73C722.54,-94.79 729.98,-85.32 737.02,-76.36\"/>\n<polygon fill=\"black\" stroke=\"black\" points=\"739.92,-78.33 743.35,-68.3 734.42,-74 739.92,-78.33\"/>\n</g>\n<!-- 13 -->\n<g id=\"node14\" class=\"node\">\n<title>13</title>\n<path fill=\"#bddef6\" stroke=\"black\" d=\"M960.5,-68C960.5,-68 862.5,-68 862.5,-68 856.5,-68 850.5,-62 850.5,-56 850.5,-56 850.5,-12 850.5,-12 850.5,-6 856.5,0 862.5,0 862.5,0 960.5,0 960.5,0 966.5,0 972.5,-6 972.5,-12 972.5,-12 972.5,-56 972.5,-56 972.5,-62 966.5,-68 960.5,-68\"/>\n<text text-anchor=\"middle\" x=\"911.5\" y=\"-52.8\" font-family=\"Helvetica,sans-Serif\" font-size=\"14.00\">entropy = 0.971</text>\n<text text-anchor=\"middle\" x=\"911.5\" y=\"-37.8\" font-family=\"Helvetica,sans-Serif\" font-size=\"14.00\">samples = 60</text>\n<text text-anchor=\"middle\" x=\"911.5\" y=\"-22.8\" font-family=\"Helvetica,sans-Serif\" font-size=\"14.00\">value = [24, 36]</text>\n<text text-anchor=\"middle\" x=\"911.5\" y=\"-7.8\" font-family=\"Helvetica,sans-Serif\" font-size=\"14.00\">class = heart_yes</text>\n</g>\n<!-- 12&#45;&gt;13 -->\n<g id=\"edge13\" class=\"edge\">\n<title>12&#45;&gt;13</title>\n<path fill=\"none\" stroke=\"black\" d=\"M911.5,-103.73C911.5,-95.52 911.5,-86.86 911.5,-78.56\"/>\n<polygon fill=\"black\" stroke=\"black\" points=\"915,-78.3 911.5,-68.3 908,-78.3 915,-78.3\"/>\n</g>\n<!-- 14 -->\n<g id=\"node15\" class=\"node\">\n<title>14</title>\n<path fill=\"#54aae9\" stroke=\"black\" d=\"M1100.5,-68C1100.5,-68 1002.5,-68 1002.5,-68 996.5,-68 990.5,-62 990.5,-56 990.5,-56 990.5,-12 990.5,-12 990.5,-6 996.5,0 1002.5,0 1002.5,0 1100.5,0 1100.5,0 1106.5,0 1112.5,-6 1112.5,-12 1112.5,-12 1112.5,-56 1112.5,-56 1112.5,-62 1106.5,-68 1100.5,-68\"/>\n<text text-anchor=\"middle\" x=\"1051.5\" y=\"-52.8\" font-family=\"Helvetica,sans-Serif\" font-size=\"14.00\">entropy = 0.53</text>\n<text text-anchor=\"middle\" x=\"1051.5\" y=\"-37.8\" font-family=\"Helvetica,sans-Serif\" font-size=\"14.00\">samples = 823</text>\n<text text-anchor=\"middle\" x=\"1051.5\" y=\"-22.8\" font-family=\"Helvetica,sans-Serif\" font-size=\"14.00\">value = [99, 724]</text>\n<text text-anchor=\"middle\" x=\"1051.5\" y=\"-7.8\" font-family=\"Helvetica,sans-Serif\" font-size=\"14.00\">class = heart_yes</text>\n</g>\n<!-- 12&#45;&gt;14 -->\n<g id=\"edge14\" class=\"edge\">\n<title>12&#45;&gt;14</title>\n<path fill=\"none\" stroke=\"black\" d=\"M963.63,-103.73C975.76,-94.24 988.65,-84.16 1000.72,-74.72\"/>\n<polygon fill=\"black\" stroke=\"black\" points=\"1003.2,-77.22 1008.93,-68.3 998.89,-71.7 1003.2,-77.22\"/>\n</g>\n</g>\n</svg>\n",
            "text/plain": [
              "<graphviz.sources.Source at 0x7b9894f78670>"
            ]
          },
          "metadata": {},
          "output_type": "display_data"
        }
      ],
      "source": [
        "visualize_tree(tree)"
      ]
    },
    {
      "cell_type": "markdown",
      "id": "industrial-skill",
      "metadata": {
        "id": "industrial-skill"
      },
      "source": [
        "If this is done correctly, you should see your decision tree rendered above in your notebook.\n",
        "\n",
        "Let's try to interpret the decision tree we just generated!\n",
        "\n",
        "**Graded Task:** Using the decision tree you generated above, classify the training example `X_train[5]` by hand.\n",
        "In your write up, determine the set of nodes in the decision tree that we must visit to classify this training example."
      ]
    },
    {
      "cell_type": "code",
      "execution_count": 88,
      "id": "pregnant-custom",
      "metadata": {
        "id": "pregnant-custom",
        "colab": {
          "base_uri": "https://localhost:8080/"
        },
        "outputId": "da0cdae4-91c4-4e3c-bb05-59070b9ef7e4"
      },
      "outputs": [
        {
          "metadata": {
            "tags": null
          },
          "name": "stdout",
          "output_type": "stream",
          "text": [
            "{'gender_female': 1.0, 're_hispanic': 1.0, 're_white': 0.0, 're_black': 0.0, 're_asian': 0.0, 'chest_pain': 1.0, 'drink_alcohol': 0.0, 'age': 44.0, 'blood_cholesterol': 2.9, 'BMI': 96.0, 'blood_pressure_sys': 58.0, 'diastolic_bp': 2588.0, 'calories': 0.81, 'family_income': 18.8}\n"
          ]
        }
      ],
      "source": [
        "# TODO: Perform the classification of this data point by hand\n",
        "print(dict(zip(feature_names, X_train[5])))\n",
        "\n",
        "# age = 44 <= 64.5, so we'll go left(True) at the first node.\n",
        "# chest pain = 1.0 !(<=) 0.5 so go right(False) at second node.\n",
        "# age <= 56.5 so go left at third node.\n",
        "# Then we reaches the final classification of class = heart_no."
      ]
    },
    {
      "cell_type": "markdown",
      "id": "flush-rover",
      "metadata": {
        "id": "flush-rover"
      },
      "source": [
        "We will now explore some hyperparameter choices that may cause our decision tree to underfit or overfit our data. Recall that overfitting means that, while our model may accurately capture relationships between inputs and our classification target in training data, it may not capture such relationships in the validation data. By contrast, underfitting occurs when our model lacks the complexity to model relationships in either training or validation data.  \n",
        "\n",
        "**Task:** Similar to what you did above, create another `DecisionTreeClassifier` that uses `entropy` to measure the quality of a split. Set the `max_depth` to a value that will cause the tree to *underfit*. Report the accuracy on the validation and training sets. Visualize the tree by calling `visualize_tree`."
      ]
    },
    {
      "cell_type": "code",
      "execution_count": 89,
      "id": "abstract-patent",
      "metadata": {
        "id": "abstract-patent",
        "colab": {
          "base_uri": "https://localhost:8080/",
          "height": 315
        },
        "outputId": "ee29a8dc-bc8f-49c9-9f32-e11fa5f350ff"
      },
      "outputs": [
        {
          "metadata": {
            "tags": null
          },
          "name": "stdout",
          "output_type": "stream",
          "text": [
            "Training Accuracy: 0.6804\n",
            "Validation Accuracy: 0.6793333333333333\n"
          ]
        },
        {
          "data": {
            "image/svg+xml": "<?xml version=\"1.0\" encoding=\"UTF-8\" standalone=\"no\"?>\n<!DOCTYPE svg PUBLIC \"-//W3C//DTD SVG 1.1//EN\"\n \"http://www.w3.org/Graphics/SVG/1.1/DTD/svg11.dtd\">\n<!-- Generated by graphviz version 2.43.0 (0)\n -->\n<!-- Title: Tree Pages: 1 -->\n<svg width=\"290pt\" height=\"195pt\"\n viewBox=\"0.00 0.00 290.00 195.00\" xmlns=\"http://www.w3.org/2000/svg\" xmlns:xlink=\"http://www.w3.org/1999/xlink\">\n<g id=\"graph0\" class=\"graph\" transform=\"scale(1 1) rotate(0) translate(4 191)\">\n<title>Tree</title>\n<polygon fill=\"white\" stroke=\"transparent\" points=\"-4,4 -4,-191 286,-191 286,4 -4,4\"/>\n<!-- 0 -->\n<g id=\"node1\" class=\"node\">\n<title>0</title>\n<path fill=\"#fefcfb\" stroke=\"black\" d=\"M199,-187C199,-187 83,-187 83,-187 77,-187 71,-181 71,-175 71,-175 71,-116 71,-116 71,-110 77,-104 83,-104 83,-104 199,-104 199,-104 205,-104 211,-110 211,-116 211,-116 211,-175 211,-175 211,-181 205,-187 199,-187\"/>\n<text text-anchor=\"middle\" x=\"141\" y=\"-171.8\" font-family=\"Helvetica,sans-Serif\" font-size=\"14.00\">age &lt;= 64.5</text>\n<text text-anchor=\"middle\" x=\"141\" y=\"-156.8\" font-family=\"Helvetica,sans-Serif\" font-size=\"14.00\">entropy = 1.0</text>\n<text text-anchor=\"middle\" x=\"141\" y=\"-141.8\" font-family=\"Helvetica,sans-Serif\" font-size=\"14.00\">samples = 5000</text>\n<text text-anchor=\"middle\" x=\"141\" y=\"-126.8\" font-family=\"Helvetica,sans-Serif\" font-size=\"14.00\">value = [2528, 2472]</text>\n<text text-anchor=\"middle\" x=\"141\" y=\"-111.8\" font-family=\"Helvetica,sans-Serif\" font-size=\"14.00\">class = heart_no</text>\n</g>\n<!-- 1 -->\n<g id=\"node2\" class=\"node\">\n<title>1</title>\n<path fill=\"#f1be98\" stroke=\"black\" d=\"M120,-68C120,-68 12,-68 12,-68 6,-68 0,-62 0,-56 0,-56 0,-12 0,-12 0,-6 6,0 12,0 12,0 120,0 120,0 126,0 132,-6 132,-12 132,-12 132,-56 132,-56 132,-62 126,-68 120,-68\"/>\n<text text-anchor=\"middle\" x=\"66\" y=\"-52.8\" font-family=\"Helvetica,sans-Serif\" font-size=\"14.00\">entropy = 0.909</text>\n<text text-anchor=\"middle\" x=\"66\" y=\"-37.8\" font-family=\"Helvetica,sans-Serif\" font-size=\"14.00\">samples = 2652</text>\n<text text-anchor=\"middle\" x=\"66\" y=\"-22.8\" font-family=\"Helvetica,sans-Serif\" font-size=\"14.00\">value = [1791, 861]</text>\n<text text-anchor=\"middle\" x=\"66\" y=\"-7.8\" font-family=\"Helvetica,sans-Serif\" font-size=\"14.00\">class = heart_no</text>\n</g>\n<!-- 0&#45;&gt;1 -->\n<g id=\"edge1\" class=\"edge\">\n<title>0&#45;&gt;1</title>\n<path fill=\"none\" stroke=\"black\" d=\"M113.07,-103.73C107.01,-94.88 100.6,-85.51 94.51,-76.63\"/>\n<polygon fill=\"black\" stroke=\"black\" points=\"97.35,-74.57 88.81,-68.3 91.57,-78.53 97.35,-74.57\"/>\n<text text-anchor=\"middle\" x=\"84.21\" y=\"-89.17\" font-family=\"Helvetica,sans-Serif\" font-size=\"14.00\">True</text>\n</g>\n<!-- 2 -->\n<g id=\"node3\" class=\"node\">\n<title>2</title>\n<path fill=\"#94caf1\" stroke=\"black\" d=\"M270,-68C270,-68 162,-68 162,-68 156,-68 150,-62 150,-56 150,-56 150,-12 150,-12 150,-6 156,0 162,0 162,0 270,0 270,0 276,0 282,-6 282,-12 282,-12 282,-56 282,-56 282,-62 276,-68 270,-68\"/>\n<text text-anchor=\"middle\" x=\"216\" y=\"-52.8\" font-family=\"Helvetica,sans-Serif\" font-size=\"14.00\">entropy = 0.898</text>\n<text text-anchor=\"middle\" x=\"216\" y=\"-37.8\" font-family=\"Helvetica,sans-Serif\" font-size=\"14.00\">samples = 2348</text>\n<text text-anchor=\"middle\" x=\"216\" y=\"-22.8\" font-family=\"Helvetica,sans-Serif\" font-size=\"14.00\">value = [737, 1611]</text>\n<text text-anchor=\"middle\" x=\"216\" y=\"-7.8\" font-family=\"Helvetica,sans-Serif\" font-size=\"14.00\">class = heart_yes</text>\n</g>\n<!-- 0&#45;&gt;2 -->\n<g id=\"edge2\" class=\"edge\">\n<title>0&#45;&gt;2</title>\n<path fill=\"none\" stroke=\"black\" d=\"M168.93,-103.73C174.99,-94.88 181.4,-85.51 187.49,-76.63\"/>\n<polygon fill=\"black\" stroke=\"black\" points=\"190.43,-78.53 193.19,-68.3 184.65,-74.57 190.43,-78.53\"/>\n<text text-anchor=\"middle\" x=\"197.79\" y=\"-89.17\" font-family=\"Helvetica,sans-Serif\" font-size=\"14.00\">False</text>\n</g>\n</g>\n</svg>\n",
            "text/plain": [
              "<graphviz.sources.Source at 0x7b98950dca90>"
            ]
          },
          "metadata": {},
          "output_type": "display_data"
        }
      ],
      "source": [
        "# TODO: create a DecisionTreeClassifier\n",
        "tree2 = DecisionTreeClassifier(criterion=\"entropy\", max_depth=1)\n",
        "\n",
        "# TODO: fit it to our data\n",
        "tree2.fit(X_train, t_train)\n",
        "\n",
        "\n",
        "# Print the training and validation accuracy\n",
        "print(\"Training Accuracy:\", tree2.score(X_train, t_train))\n",
        "print(\"Validation Accuracy:\", tree2.score(X_valid, t_valid))\n",
        "\n",
        "# TODO: visualize the tree\n",
        "visualize_tree(tree2)"
      ]
    },
    {
      "cell_type": "markdown",
      "id": "impressed-vaccine",
      "metadata": {
        "id": "impressed-vaccine"
      },
      "source": [
        "**Task:** Repeat the same computation as above, but set the `max_depth` to a value that will cause the tree to *overfit*. When using `visualize_tree` to visualize the tree, leave the default max depth parameter as 5."
      ]
    },
    {
      "cell_type": "code",
      "execution_count": 90,
      "id": "human-right",
      "metadata": {
        "id": "human-right",
        "colab": {
          "base_uri": "https://localhost:8080/",
          "height": 1000
        },
        "outputId": "61b57a45-300b-4ce3-d661-95b3d44a1b82"
      },
      "outputs": [
        {
          "metadata": {
            "tags": null
          },
          "name": "stdout",
          "output_type": "stream",
          "text": [
            "Training Accuracy: 1.0\n",
            "Validation Accuracy: 0.966\n"
          ]
        },
        {
          "data": {
            "image/svg+xml": "<?xml version=\"1.0\" encoding=\"UTF-8\" standalone=\"no\"?>\n<!DOCTYPE svg PUBLIC \"-//W3C//DTD SVG 1.1//EN\"\n \"http://www.w3.org/Graphics/SVG/1.1/DTD/svg11.dtd\">\n<!-- Generated by graphviz version 2.43.0 (0)\n -->\n<!-- Title: Tree Pages: 1 -->\n<svg width=\"4590pt\" height=\"758pt\"\n viewBox=\"0.00 0.00 4589.50 758.00\" xmlns=\"http://www.w3.org/2000/svg\" xmlns:xlink=\"http://www.w3.org/1999/xlink\">\n<g id=\"graph0\" class=\"graph\" transform=\"scale(1 1) rotate(0) translate(4 754)\">\n<title>Tree</title>\n<polygon fill=\"white\" stroke=\"transparent\" points=\"-4,4 -4,-754 4585.5,-754 4585.5,4 -4,4\"/>\n<!-- 0 -->\n<g id=\"node1\" class=\"node\">\n<title>0</title>\n<path fill=\"#fefcfb\" stroke=\"black\" d=\"M2417,-750C2417,-750 2301,-750 2301,-750 2295,-750 2289,-744 2289,-738 2289,-738 2289,-679 2289,-679 2289,-673 2295,-667 2301,-667 2301,-667 2417,-667 2417,-667 2423,-667 2429,-673 2429,-679 2429,-679 2429,-738 2429,-738 2429,-744 2423,-750 2417,-750\"/>\n<text text-anchor=\"middle\" x=\"2359\" y=\"-734.8\" font-family=\"Helvetica,sans-Serif\" font-size=\"14.00\">age &lt;= 64.5</text>\n<text text-anchor=\"middle\" x=\"2359\" y=\"-719.8\" font-family=\"Helvetica,sans-Serif\" font-size=\"14.00\">entropy = 1.0</text>\n<text text-anchor=\"middle\" x=\"2359\" y=\"-704.8\" font-family=\"Helvetica,sans-Serif\" font-size=\"14.00\">samples = 5000</text>\n<text text-anchor=\"middle\" x=\"2359\" y=\"-689.8\" font-family=\"Helvetica,sans-Serif\" font-size=\"14.00\">value = [2528, 2472]</text>\n<text text-anchor=\"middle\" x=\"2359\" y=\"-674.8\" font-family=\"Helvetica,sans-Serif\" font-size=\"14.00\">class = heart_no</text>\n</g>\n<!-- 1 -->\n<g id=\"node2\" class=\"node\">\n<title>1</title>\n<path fill=\"#f1be98\" stroke=\"black\" d=\"M1708,-631C1708,-631 1600,-631 1600,-631 1594,-631 1588,-625 1588,-619 1588,-619 1588,-560 1588,-560 1588,-554 1594,-548 1600,-548 1600,-548 1708,-548 1708,-548 1714,-548 1720,-554 1720,-560 1720,-560 1720,-619 1720,-619 1720,-625 1714,-631 1708,-631\"/>\n<text text-anchor=\"middle\" x=\"1654\" y=\"-615.8\" font-family=\"Helvetica,sans-Serif\" font-size=\"14.00\">chest_pain &lt;= 0.5</text>\n<text text-anchor=\"middle\" x=\"1654\" y=\"-600.8\" font-family=\"Helvetica,sans-Serif\" font-size=\"14.00\">entropy = 0.909</text>\n<text text-anchor=\"middle\" x=\"1654\" y=\"-585.8\" font-family=\"Helvetica,sans-Serif\" font-size=\"14.00\">samples = 2652</text>\n<text text-anchor=\"middle\" x=\"1654\" y=\"-570.8\" font-family=\"Helvetica,sans-Serif\" font-size=\"14.00\">value = [1791, 861]</text>\n<text text-anchor=\"middle\" x=\"1654\" y=\"-555.8\" font-family=\"Helvetica,sans-Serif\" font-size=\"14.00\">class = heart_no</text>\n</g>\n<!-- 0&#45;&gt;1 -->\n<g id=\"edge1\" class=\"edge\">\n<title>0&#45;&gt;1</title>\n<path fill=\"none\" stroke=\"black\" d=\"M2288.82,-695.85C2155.72,-673.76 1867.6,-625.95 1730.06,-603.12\"/>\n<polygon fill=\"black\" stroke=\"black\" points=\"1730.46,-599.64 1720.03,-601.46 1729.32,-606.55 1730.46,-599.64\"/>\n<text text-anchor=\"middle\" x=\"1734.57\" y=\"-618.09\" font-family=\"Helvetica,sans-Serif\" font-size=\"14.00\">True</text>\n</g>\n<!-- 332 -->\n<g id=\"node53\" class=\"node\">\n<title>332</title>\n<path fill=\"#94caf1\" stroke=\"black\" d=\"M3089,-631C3089,-631 2981,-631 2981,-631 2975,-631 2969,-625 2969,-619 2969,-619 2969,-560 2969,-560 2969,-554 2975,-548 2981,-548 2981,-548 3089,-548 3089,-548 3095,-548 3101,-554 3101,-560 3101,-560 3101,-619 3101,-619 3101,-625 3095,-631 3089,-631\"/>\n<text text-anchor=\"middle\" x=\"3035\" y=\"-615.8\" font-family=\"Helvetica,sans-Serif\" font-size=\"14.00\">chest_pain &lt;= 0.5</text>\n<text text-anchor=\"middle\" x=\"3035\" y=\"-600.8\" font-family=\"Helvetica,sans-Serif\" font-size=\"14.00\">entropy = 0.898</text>\n<text text-anchor=\"middle\" x=\"3035\" y=\"-585.8\" font-family=\"Helvetica,sans-Serif\" font-size=\"14.00\">samples = 2348</text>\n<text text-anchor=\"middle\" x=\"3035\" y=\"-570.8\" font-family=\"Helvetica,sans-Serif\" font-size=\"14.00\">value = [737, 1611]</text>\n<text text-anchor=\"middle\" x=\"3035\" y=\"-555.8\" font-family=\"Helvetica,sans-Serif\" font-size=\"14.00\">class = heart_yes</text>\n</g>\n<!-- 0&#45;&gt;332 -->\n<g id=\"edge52\" class=\"edge\">\n<title>0&#45;&gt;332</title>\n<path fill=\"none\" stroke=\"black\" d=\"M2429.11,-695.36C2556.83,-673.26 2826.4,-626.6 2958.61,-603.72\"/>\n<polygon fill=\"black\" stroke=\"black\" points=\"2959.4,-607.14 2968.66,-601.98 2958.21,-600.24 2959.4,-607.14\"/>\n<text text-anchor=\"middle\" x=\"2954.26\" y=\"-618.72\" font-family=\"Helvetica,sans-Serif\" font-size=\"14.00\">False</text>\n</g>\n<!-- 2 -->\n<g id=\"node3\" class=\"node\">\n<title>2</title>\n<path fill=\"#eca36f\" stroke=\"black\" d=\"M724,-512C724,-512 616,-512 616,-512 610,-512 604,-506 604,-500 604,-500 604,-441 604,-441 604,-435 610,-429 616,-429 616,-429 724,-429 724,-429 730,-429 736,-435 736,-441 736,-441 736,-500 736,-500 736,-506 730,-512 724,-512\"/>\n<text text-anchor=\"middle\" x=\"670\" y=\"-496.8\" font-family=\"Helvetica,sans-Serif\" font-size=\"14.00\">age &lt;= 47.5</text>\n<text text-anchor=\"middle\" x=\"670\" y=\"-481.8\" font-family=\"Helvetica,sans-Serif\" font-size=\"14.00\">entropy = 0.747</text>\n<text text-anchor=\"middle\" x=\"670\" y=\"-466.8\" font-family=\"Helvetica,sans-Serif\" font-size=\"14.00\">samples = 1818</text>\n<text text-anchor=\"middle\" x=\"670\" y=\"-451.8\" font-family=\"Helvetica,sans-Serif\" font-size=\"14.00\">value = [1431, 387]</text>\n<text text-anchor=\"middle\" x=\"670\" y=\"-436.8\" font-family=\"Helvetica,sans-Serif\" font-size=\"14.00\">class = heart_no</text>\n</g>\n<!-- 1&#45;&gt;2 -->\n<g id=\"edge2\" class=\"edge\">\n<title>1&#45;&gt;2</title>\n<path fill=\"none\" stroke=\"black\" d=\"M1587.91,-580.64C1412,-559.73 933.04,-502.78 746.14,-480.55\"/>\n<polygon fill=\"black\" stroke=\"black\" points=\"746.47,-477.07 736.13,-479.36 745.64,-484.02 746.47,-477.07\"/>\n</g>\n<!-- 185 -->\n<g id=\"node26\" class=\"node\">\n<title>185</title>\n<path fill=\"#cfe7f9\" stroke=\"black\" d=\"M1704.5,-512C1704.5,-512 1603.5,-512 1603.5,-512 1597.5,-512 1591.5,-506 1591.5,-500 1591.5,-500 1591.5,-441 1591.5,-441 1591.5,-435 1597.5,-429 1603.5,-429 1603.5,-429 1704.5,-429 1704.5,-429 1710.5,-429 1716.5,-435 1716.5,-441 1716.5,-441 1716.5,-500 1716.5,-500 1716.5,-506 1710.5,-512 1704.5,-512\"/>\n<text text-anchor=\"middle\" x=\"1654\" y=\"-496.8\" font-family=\"Helvetica,sans-Serif\" font-size=\"14.00\">age &lt;= 56.5</text>\n<text text-anchor=\"middle\" x=\"1654\" y=\"-481.8\" font-family=\"Helvetica,sans-Serif\" font-size=\"14.00\">entropy = 0.986</text>\n<text text-anchor=\"middle\" x=\"1654\" y=\"-466.8\" font-family=\"Helvetica,sans-Serif\" font-size=\"14.00\">samples = 834</text>\n<text text-anchor=\"middle\" x=\"1654\" y=\"-451.8\" font-family=\"Helvetica,sans-Serif\" font-size=\"14.00\">value = [360, 474]</text>\n<text text-anchor=\"middle\" x=\"1654\" y=\"-436.8\" font-family=\"Helvetica,sans-Serif\" font-size=\"14.00\">class = heart_yes</text>\n</g>\n<!-- 1&#45;&gt;185 -->\n<g id=\"edge25\" class=\"edge\">\n<title>1&#45;&gt;185</title>\n<path fill=\"none\" stroke=\"black\" d=\"M1654,-547.91C1654,-539.65 1654,-530.86 1654,-522.3\"/>\n<polygon fill=\"black\" stroke=\"black\" points=\"1657.5,-522.02 1654,-512.02 1650.5,-522.02 1657.5,-522.02\"/>\n</g>\n<!-- 3 -->\n<g id=\"node4\" class=\"node\">\n<title>3</title>\n<path fill=\"#e68641\" stroke=\"black\" d=\"M292,-393C292,-393 166,-393 166,-393 160,-393 154,-387 154,-381 154,-381 154,-322 154,-322 154,-316 160,-310 166,-310 166,-310 292,-310 292,-310 298,-310 304,-316 304,-322 304,-322 304,-381 304,-381 304,-387 298,-393 292,-393\"/>\n<text text-anchor=\"middle\" x=\"229\" y=\"-377.8\" font-family=\"Helvetica,sans-Serif\" font-size=\"14.00\">gender_female &lt;= 0.5</text>\n<text text-anchor=\"middle\" x=\"229\" y=\"-362.8\" font-family=\"Helvetica,sans-Serif\" font-size=\"14.00\">entropy = 0.232</text>\n<text text-anchor=\"middle\" x=\"229\" y=\"-347.8\" font-family=\"Helvetica,sans-Serif\" font-size=\"14.00\">samples = 529</text>\n<text text-anchor=\"middle\" x=\"229\" y=\"-332.8\" font-family=\"Helvetica,sans-Serif\" font-size=\"14.00\">value = [509, 20]</text>\n<text text-anchor=\"middle\" x=\"229\" y=\"-317.8\" font-family=\"Helvetica,sans-Serif\" font-size=\"14.00\">class = heart_no</text>\n</g>\n<!-- 2&#45;&gt;3 -->\n<g id=\"edge3\" class=\"edge\">\n<title>2&#45;&gt;3</title>\n<path fill=\"none\" stroke=\"black\" d=\"M603.98,-451.98C526.78,-431.5 398.82,-397.55 314.19,-375.1\"/>\n<polygon fill=\"black\" stroke=\"black\" points=\"314.92,-371.67 304.35,-372.49 313.12,-378.44 314.92,-371.67\"/>\n</g>\n<!-- 28 -->\n<g id=\"node13\" class=\"node\">\n<title>28</title>\n<path fill=\"#efb388\" stroke=\"black\" d=\"M720.5,-393C720.5,-393 619.5,-393 619.5,-393 613.5,-393 607.5,-387 607.5,-381 607.5,-381 607.5,-322 607.5,-322 607.5,-316 613.5,-310 619.5,-310 619.5,-310 720.5,-310 720.5,-310 726.5,-310 732.5,-316 732.5,-322 732.5,-322 732.5,-381 732.5,-381 732.5,-387 726.5,-393 720.5,-393\"/>\n<text text-anchor=\"middle\" x=\"670\" y=\"-377.8\" font-family=\"Helvetica,sans-Serif\" font-size=\"14.00\">calories &lt;= 4.88</text>\n<text text-anchor=\"middle\" x=\"670\" y=\"-362.8\" font-family=\"Helvetica,sans-Serif\" font-size=\"14.00\">entropy = 0.862</text>\n<text text-anchor=\"middle\" x=\"670\" y=\"-347.8\" font-family=\"Helvetica,sans-Serif\" font-size=\"14.00\">samples = 1289</text>\n<text text-anchor=\"middle\" x=\"670\" y=\"-332.8\" font-family=\"Helvetica,sans-Serif\" font-size=\"14.00\">value = [922, 367]</text>\n<text text-anchor=\"middle\" x=\"670\" y=\"-317.8\" font-family=\"Helvetica,sans-Serif\" font-size=\"14.00\">class = heart_no</text>\n</g>\n<!-- 2&#45;&gt;28 -->\n<g id=\"edge12\" class=\"edge\">\n<title>2&#45;&gt;28</title>\n<path fill=\"none\" stroke=\"black\" d=\"M670,-428.91C670,-420.65 670,-411.86 670,-403.3\"/>\n<polygon fill=\"black\" stroke=\"black\" points=\"673.5,-403.02 670,-393.02 666.5,-403.02 673.5,-403.02\"/>\n</g>\n<!-- 4 -->\n<g id=\"node5\" class=\"node\">\n<title>4</title>\n<path fill=\"#e58139\" stroke=\"black\" d=\"M109,-266.5C109,-266.5 17,-266.5 17,-266.5 11,-266.5 5,-260.5 5,-254.5 5,-254.5 5,-210.5 5,-210.5 5,-204.5 11,-198.5 17,-198.5 17,-198.5 109,-198.5 109,-198.5 115,-198.5 121,-204.5 121,-210.5 121,-210.5 121,-254.5 121,-254.5 121,-260.5 115,-266.5 109,-266.5\"/>\n<text text-anchor=\"middle\" x=\"63\" y=\"-251.3\" font-family=\"Helvetica,sans-Serif\" font-size=\"14.00\">entropy = 0.0</text>\n<text text-anchor=\"middle\" x=\"63\" y=\"-236.3\" font-family=\"Helvetica,sans-Serif\" font-size=\"14.00\">samples = 235</text>\n<text text-anchor=\"middle\" x=\"63\" y=\"-221.3\" font-family=\"Helvetica,sans-Serif\" font-size=\"14.00\">value = [235, 0]</text>\n<text text-anchor=\"middle\" x=\"63\" y=\"-206.3\" font-family=\"Helvetica,sans-Serif\" font-size=\"14.00\">class = heart_no</text>\n</g>\n<!-- 3&#45;&gt;4 -->\n<g id=\"edge4\" class=\"edge\">\n<title>3&#45;&gt;4</title>\n<path fill=\"none\" stroke=\"black\" d=\"M171.41,-309.91C154.19,-297.77 135.35,-284.49 118.28,-272.46\"/>\n<polygon fill=\"black\" stroke=\"black\" points=\"120.25,-269.57 110.06,-266.67 116.21,-275.29 120.25,-269.57\"/>\n</g>\n<!-- 5 -->\n<g id=\"node6\" class=\"node\">\n<title>5</title>\n<path fill=\"#e78a47\" stroke=\"black\" d=\"M307,-274C307,-274 151,-274 151,-274 145,-274 139,-268 139,-262 139,-262 139,-203 139,-203 139,-197 145,-191 151,-191 151,-191 307,-191 307,-191 313,-191 319,-197 319,-203 319,-203 319,-262 319,-262 319,-268 313,-274 307,-274\"/>\n<text text-anchor=\"middle\" x=\"229\" y=\"-258.8\" font-family=\"Helvetica,sans-Serif\" font-size=\"14.00\">blood_cholesterol &lt;= 5.315</text>\n<text text-anchor=\"middle\" x=\"229\" y=\"-243.8\" font-family=\"Helvetica,sans-Serif\" font-size=\"14.00\">entropy = 0.359</text>\n<text text-anchor=\"middle\" x=\"229\" y=\"-228.8\" font-family=\"Helvetica,sans-Serif\" font-size=\"14.00\">samples = 294</text>\n<text text-anchor=\"middle\" x=\"229\" y=\"-213.8\" font-family=\"Helvetica,sans-Serif\" font-size=\"14.00\">value = [274, 20]</text>\n<text text-anchor=\"middle\" x=\"229\" y=\"-198.8\" font-family=\"Helvetica,sans-Serif\" font-size=\"14.00\">class = heart_no</text>\n</g>\n<!-- 3&#45;&gt;5 -->\n<g id=\"edge5\" class=\"edge\">\n<title>3&#45;&gt;5</title>\n<path fill=\"none\" stroke=\"black\" d=\"M229,-309.91C229,-301.65 229,-292.86 229,-284.3\"/>\n<polygon fill=\"black\" stroke=\"black\" points=\"232.5,-284.02 229,-274.02 225.5,-284.02 232.5,-284.02\"/>\n</g>\n<!-- 6 -->\n<g id=\"node7\" class=\"node\">\n<title>6</title>\n<path fill=\"#e68540\" stroke=\"black\" d=\"M109,-155C109,-155 17,-155 17,-155 11,-155 5,-149 5,-143 5,-143 5,-84 5,-84 5,-78 11,-72 17,-72 17,-72 109,-72 109,-72 115,-72 121,-78 121,-84 121,-84 121,-143 121,-143 121,-149 115,-155 109,-155\"/>\n<text text-anchor=\"middle\" x=\"63\" y=\"-139.8\" font-family=\"Helvetica,sans-Serif\" font-size=\"14.00\">calories &lt;= 0.46</text>\n<text text-anchor=\"middle\" x=\"63\" y=\"-124.8\" font-family=\"Helvetica,sans-Serif\" font-size=\"14.00\">entropy = 0.215</text>\n<text text-anchor=\"middle\" x=\"63\" y=\"-109.8\" font-family=\"Helvetica,sans-Serif\" font-size=\"14.00\">samples = 234</text>\n<text text-anchor=\"middle\" x=\"63\" y=\"-94.8\" font-family=\"Helvetica,sans-Serif\" font-size=\"14.00\">value = [226, 8]</text>\n<text text-anchor=\"middle\" x=\"63\" y=\"-79.8\" font-family=\"Helvetica,sans-Serif\" font-size=\"14.00\">class = heart_no</text>\n</g>\n<!-- 5&#45;&gt;6 -->\n<g id=\"edge6\" class=\"edge\">\n<title>5&#45;&gt;6</title>\n<path fill=\"none\" stroke=\"black\" d=\"M171.41,-190.91C157.63,-181.2 142.82,-170.76 128.71,-160.81\"/>\n<polygon fill=\"black\" stroke=\"black\" points=\"130.68,-157.92 120.49,-155.02 126.65,-163.64 130.68,-157.92\"/>\n</g>\n<!-- 17 -->\n<g id=\"node10\" class=\"node\">\n<title>17</title>\n<path fill=\"#eca06a\" stroke=\"black\" d=\"M307,-155C307,-155 151,-155 151,-155 145,-155 139,-149 139,-143 139,-143 139,-84 139,-84 139,-78 145,-72 151,-72 151,-72 307,-72 307,-72 313,-72 319,-78 319,-84 319,-84 319,-143 319,-143 319,-149 313,-155 307,-155\"/>\n<text text-anchor=\"middle\" x=\"229\" y=\"-139.8\" font-family=\"Helvetica,sans-Serif\" font-size=\"14.00\">blood_cholesterol &lt;= 5.625</text>\n<text text-anchor=\"middle\" x=\"229\" y=\"-124.8\" font-family=\"Helvetica,sans-Serif\" font-size=\"14.00\">entropy = 0.722</text>\n<text text-anchor=\"middle\" x=\"229\" y=\"-109.8\" font-family=\"Helvetica,sans-Serif\" font-size=\"14.00\">samples = 60</text>\n<text text-anchor=\"middle\" x=\"229\" y=\"-94.8\" font-family=\"Helvetica,sans-Serif\" font-size=\"14.00\">value = [48, 12]</text>\n<text text-anchor=\"middle\" x=\"229\" y=\"-79.8\" font-family=\"Helvetica,sans-Serif\" font-size=\"14.00\">class = heart_no</text>\n</g>\n<!-- 5&#45;&gt;17 -->\n<g id=\"edge9\" class=\"edge\">\n<title>5&#45;&gt;17</title>\n<path fill=\"none\" stroke=\"black\" d=\"M229,-190.91C229,-182.65 229,-173.86 229,-165.3\"/>\n<polygon fill=\"black\" stroke=\"black\" points=\"232.5,-165.02 229,-155.02 225.5,-165.02 232.5,-165.02\"/>\n</g>\n<!-- 7 -->\n<g id=\"node8\" class=\"node\">\n<title>7</title>\n<path fill=\"#c0c0c0\" stroke=\"black\" d=\"M42,-36C42,-36 12,-36 12,-36 6,-36 0,-30 0,-24 0,-24 0,-12 0,-12 0,-6 6,0 12,0 12,0 42,0 42,0 48,0 54,-6 54,-12 54,-12 54,-24 54,-24 54,-30 48,-36 42,-36\"/>\n<text text-anchor=\"middle\" x=\"27\" y=\"-14.3\" font-family=\"Helvetica,sans-Serif\" font-size=\"14.00\">(...)</text>\n</g>\n<!-- 6&#45;&gt;7 -->\n<g id=\"edge7\" class=\"edge\">\n<title>6&#45;&gt;7</title>\n<path fill=\"none\" stroke=\"black\" d=\"M47.31,-71.76C43.96,-63.04 40.49,-54.04 37.39,-45.99\"/>\n<polygon fill=\"black\" stroke=\"black\" points=\"40.56,-44.48 33.7,-36.41 34.03,-46.99 40.56,-44.48\"/>\n</g>\n<!-- 10 -->\n<g id=\"node9\" class=\"node\">\n<title>10</title>\n<path fill=\"#c0c0c0\" stroke=\"black\" d=\"M114,-36C114,-36 84,-36 84,-36 78,-36 72,-30 72,-24 72,-24 72,-12 72,-12 72,-6 78,0 84,0 84,0 114,0 114,0 120,0 126,-6 126,-12 126,-12 126,-24 126,-24 126,-30 120,-36 114,-36\"/>\n<text text-anchor=\"middle\" x=\"99\" y=\"-14.3\" font-family=\"Helvetica,sans-Serif\" font-size=\"14.00\">(...)</text>\n</g>\n<!-- 6&#45;&gt;10 -->\n<g id=\"edge8\" class=\"edge\">\n<title>6&#45;&gt;10</title>\n<path fill=\"none\" stroke=\"black\" d=\"M78.69,-71.76C82.04,-63.04 85.51,-54.04 88.61,-45.99\"/>\n<polygon fill=\"black\" stroke=\"black\" points=\"91.97,-46.99 92.3,-36.41 85.44,-44.48 91.97,-46.99\"/>\n</g>\n<!-- 18 -->\n<g id=\"node11\" class=\"node\">\n<title>18</title>\n<path fill=\"#c0c0c0\" stroke=\"black\" d=\"M234,-36C234,-36 204,-36 204,-36 198,-36 192,-30 192,-24 192,-24 192,-12 192,-12 192,-6 198,0 204,0 204,0 234,0 234,0 240,0 246,-6 246,-12 246,-12 246,-24 246,-24 246,-30 240,-36 234,-36\"/>\n<text text-anchor=\"middle\" x=\"219\" y=\"-14.3\" font-family=\"Helvetica,sans-Serif\" font-size=\"14.00\">(...)</text>\n</g>\n<!-- 17&#45;&gt;18 -->\n<g id=\"edge10\" class=\"edge\">\n<title>17&#45;&gt;18</title>\n<path fill=\"none\" stroke=\"black\" d=\"M224.64,-71.76C223.73,-63.24 222.79,-54.44 221.94,-46.53\"/>\n<polygon fill=\"black\" stroke=\"black\" points=\"225.41,-45.98 220.86,-36.41 218.44,-46.72 225.41,-45.98\"/>\n</g>\n<!-- 27 -->\n<g id=\"node12\" class=\"node\">\n<title>27</title>\n<path fill=\"#c0c0c0\" stroke=\"black\" d=\"M306,-36C306,-36 276,-36 276,-36 270,-36 264,-30 264,-24 264,-24 264,-12 264,-12 264,-6 270,0 276,0 276,0 306,0 306,0 312,0 318,-6 318,-12 318,-12 318,-24 318,-24 318,-30 312,-36 306,-36\"/>\n<text text-anchor=\"middle\" x=\"291\" y=\"-14.3\" font-family=\"Helvetica,sans-Serif\" font-size=\"14.00\">(...)</text>\n</g>\n<!-- 17&#45;&gt;27 -->\n<g id=\"edge11\" class=\"edge\">\n<title>17&#45;&gt;27</title>\n<path fill=\"none\" stroke=\"black\" d=\"M256.01,-71.76C262.05,-62.65 268.3,-53.24 273.81,-44.92\"/>\n<polygon fill=\"black\" stroke=\"black\" points=\"276.85,-46.67 279.46,-36.41 271.02,-42.81 276.85,-46.67\"/>\n</g>\n<!-- 29 -->\n<g id=\"node14\" class=\"node\">\n<title>29</title>\n<path fill=\"#f3c4a3\" stroke=\"black\" d=\"M647.5,-274C647.5,-274 546.5,-274 546.5,-274 540.5,-274 534.5,-268 534.5,-262 534.5,-262 534.5,-203 534.5,-203 534.5,-197 540.5,-191 546.5,-191 546.5,-191 647.5,-191 647.5,-191 653.5,-191 659.5,-197 659.5,-203 659.5,-203 659.5,-262 659.5,-262 659.5,-268 653.5,-274 647.5,-274\"/>\n<text text-anchor=\"middle\" x=\"597\" y=\"-258.8\" font-family=\"Helvetica,sans-Serif\" font-size=\"14.00\">calories &lt;= 2.92</text>\n<text text-anchor=\"middle\" x=\"597\" y=\"-243.8\" font-family=\"Helvetica,sans-Serif\" font-size=\"14.00\">entropy = 0.932</text>\n<text text-anchor=\"middle\" x=\"597\" y=\"-228.8\" font-family=\"Helvetica,sans-Serif\" font-size=\"14.00\">samples = 1026</text>\n<text text-anchor=\"middle\" x=\"597\" y=\"-213.8\" font-family=\"Helvetica,sans-Serif\" font-size=\"14.00\">value = [669, 357]</text>\n<text text-anchor=\"middle\" x=\"597\" y=\"-198.8\" font-family=\"Helvetica,sans-Serif\" font-size=\"14.00\">class = heart_no</text>\n</g>\n<!-- 28&#45;&gt;29 -->\n<g id=\"edge13\" class=\"edge\">\n<title>28&#45;&gt;29</title>\n<path fill=\"none\" stroke=\"black\" d=\"M644.67,-309.91C639.18,-301.1 633.31,-291.7 627.64,-282.61\"/>\n<polygon fill=\"black\" stroke=\"black\" points=\"630.55,-280.65 622.28,-274.02 624.61,-284.36 630.55,-280.65\"/>\n</g>\n<!-- 176 -->\n<g id=\"node21\" class=\"node\">\n<title>176</title>\n<path fill=\"#e68641\" stroke=\"black\" d=\"M794,-274C794,-274 690,-274 690,-274 684,-274 678,-268 678,-262 678,-262 678,-203 678,-203 678,-197 684,-191 690,-191 690,-191 794,-191 794,-191 800,-191 806,-197 806,-203 806,-203 806,-262 806,-262 806,-268 800,-274 794,-274\"/>\n<text text-anchor=\"middle\" x=\"742\" y=\"-258.8\" font-family=\"Helvetica,sans-Serif\" font-size=\"14.00\">re_hispanic &lt;= 0.5</text>\n<text text-anchor=\"middle\" x=\"742\" y=\"-243.8\" font-family=\"Helvetica,sans-Serif\" font-size=\"14.00\">entropy = 0.233</text>\n<text text-anchor=\"middle\" x=\"742\" y=\"-228.8\" font-family=\"Helvetica,sans-Serif\" font-size=\"14.00\">samples = 263</text>\n<text text-anchor=\"middle\" x=\"742\" y=\"-213.8\" font-family=\"Helvetica,sans-Serif\" font-size=\"14.00\">value = [253, 10]</text>\n<text text-anchor=\"middle\" x=\"742\" y=\"-198.8\" font-family=\"Helvetica,sans-Serif\" font-size=\"14.00\">class = heart_no</text>\n</g>\n<!-- 28&#45;&gt;176 -->\n<g id=\"edge20\" class=\"edge\">\n<title>28&#45;&gt;176</title>\n<path fill=\"none\" stroke=\"black\" d=\"M694.98,-309.91C700.4,-301.1 706.18,-291.7 711.78,-282.61\"/>\n<polygon fill=\"black\" stroke=\"black\" points=\"714.8,-284.37 717.06,-274.02 708.84,-280.7 714.8,-284.37\"/>\n</g>\n<!-- 30 -->\n<g id=\"node15\" class=\"node\">\n<title>30</title>\n<path fill=\"#f5cfb4\" stroke=\"black\" d=\"M513,-155C513,-155 349,-155 349,-155 343,-155 337,-149 337,-143 337,-143 337,-84 337,-84 337,-78 343,-72 349,-72 349,-72 513,-72 513,-72 519,-72 525,-78 525,-84 525,-84 525,-143 525,-143 525,-149 519,-155 513,-155\"/>\n<text text-anchor=\"middle\" x=\"431\" y=\"-139.8\" font-family=\"Helvetica,sans-Serif\" font-size=\"14.00\">blood_pressure_sys &lt;= 71.0</text>\n<text text-anchor=\"middle\" x=\"431\" y=\"-124.8\" font-family=\"Helvetica,sans-Serif\" font-size=\"14.00\">entropy = 0.96</text>\n<text text-anchor=\"middle\" x=\"431\" y=\"-109.8\" font-family=\"Helvetica,sans-Serif\" font-size=\"14.00\">samples = 812</text>\n<text text-anchor=\"middle\" x=\"431\" y=\"-94.8\" font-family=\"Helvetica,sans-Serif\" font-size=\"14.00\">value = [501, 311]</text>\n<text text-anchor=\"middle\" x=\"431\" y=\"-79.8\" font-family=\"Helvetica,sans-Serif\" font-size=\"14.00\">class = heart_no</text>\n</g>\n<!-- 29&#45;&gt;30 -->\n<g id=\"edge14\" class=\"edge\">\n<title>29&#45;&gt;30</title>\n<path fill=\"none\" stroke=\"black\" d=\"M539.41,-190.91C525.63,-181.2 510.82,-170.76 496.71,-160.81\"/>\n<polygon fill=\"black\" stroke=\"black\" points=\"498.68,-157.92 488.49,-155.02 494.65,-163.64 498.68,-157.92\"/>\n</g>\n<!-- 147 -->\n<g id=\"node18\" class=\"node\">\n<title>147</title>\n<path fill=\"#eca46f\" stroke=\"black\" d=\"M648.5,-155C648.5,-155 555.5,-155 555.5,-155 549.5,-155 543.5,-149 543.5,-143 543.5,-143 543.5,-84 543.5,-84 543.5,-78 549.5,-72 555.5,-72 555.5,-72 648.5,-72 648.5,-72 654.5,-72 660.5,-78 660.5,-84 660.5,-84 660.5,-143 660.5,-143 660.5,-149 654.5,-155 648.5,-155\"/>\n<text text-anchor=\"middle\" x=\"602\" y=\"-139.8\" font-family=\"Helvetica,sans-Serif\" font-size=\"14.00\">calories &lt;= 4.27</text>\n<text text-anchor=\"middle\" x=\"602\" y=\"-124.8\" font-family=\"Helvetica,sans-Serif\" font-size=\"14.00\">entropy = 0.751</text>\n<text text-anchor=\"middle\" x=\"602\" y=\"-109.8\" font-family=\"Helvetica,sans-Serif\" font-size=\"14.00\">samples = 214</text>\n<text text-anchor=\"middle\" x=\"602\" y=\"-94.8\" font-family=\"Helvetica,sans-Serif\" font-size=\"14.00\">value = [168, 46]</text>\n<text text-anchor=\"middle\" x=\"602\" y=\"-79.8\" font-family=\"Helvetica,sans-Serif\" font-size=\"14.00\">class = heart_no</text>\n</g>\n<!-- 29&#45;&gt;147 -->\n<g id=\"edge17\" class=\"edge\">\n<title>29&#45;&gt;147</title>\n<path fill=\"none\" stroke=\"black\" d=\"M598.73,-190.91C599.09,-182.56 599.47,-173.67 599.84,-165.02\"/>\n<polygon fill=\"black\" stroke=\"black\" points=\"603.34,-165.16 600.27,-155.02 596.34,-164.86 603.34,-165.16\"/>\n</g>\n<!-- 31 -->\n<g id=\"node16\" class=\"node\">\n<title>31</title>\n<path fill=\"#c0c0c0\" stroke=\"black\" d=\"M384,-36C384,-36 354,-36 354,-36 348,-36 342,-30 342,-24 342,-24 342,-12 342,-12 342,-6 348,0 354,0 354,0 384,0 384,0 390,0 396,-6 396,-12 396,-12 396,-24 396,-24 396,-30 390,-36 384,-36\"/>\n<text text-anchor=\"middle\" x=\"369\" y=\"-14.3\" font-family=\"Helvetica,sans-Serif\" font-size=\"14.00\">(...)</text>\n</g>\n<!-- 30&#45;&gt;31 -->\n<g id=\"edge15\" class=\"edge\">\n<title>30&#45;&gt;31</title>\n<path fill=\"none\" stroke=\"black\" d=\"M403.99,-71.76C397.95,-62.65 391.7,-53.24 386.19,-44.92\"/>\n<polygon fill=\"black\" stroke=\"black\" points=\"388.98,-42.81 380.54,-36.41 383.15,-46.67 388.98,-42.81\"/>\n</g>\n<!-- 124 -->\n<g id=\"node17\" class=\"node\">\n<title>124</title>\n<path fill=\"#c0c0c0\" stroke=\"black\" d=\"M456,-36C456,-36 426,-36 426,-36 420,-36 414,-30 414,-24 414,-24 414,-12 414,-12 414,-6 420,0 426,0 426,0 456,0 456,0 462,0 468,-6 468,-12 468,-12 468,-24 468,-24 468,-30 462,-36 456,-36\"/>\n<text text-anchor=\"middle\" x=\"441\" y=\"-14.3\" font-family=\"Helvetica,sans-Serif\" font-size=\"14.00\">(...)</text>\n</g>\n<!-- 30&#45;&gt;124 -->\n<g id=\"edge16\" class=\"edge\">\n<title>30&#45;&gt;124</title>\n<path fill=\"none\" stroke=\"black\" d=\"M435.36,-71.76C436.27,-63.24 437.21,-54.44 438.06,-46.53\"/>\n<polygon fill=\"black\" stroke=\"black\" points=\"441.56,-46.72 439.14,-36.41 434.59,-45.98 441.56,-46.72\"/>\n</g>\n<!-- 148 -->\n<g id=\"node19\" class=\"node\">\n<title>148</title>\n<path fill=\"#c0c0c0\" stroke=\"black\" d=\"M581,-36C581,-36 551,-36 551,-36 545,-36 539,-30 539,-24 539,-24 539,-12 539,-12 539,-6 545,0 551,0 551,0 581,0 581,0 587,0 593,-6 593,-12 593,-12 593,-24 593,-24 593,-30 587,-36 581,-36\"/>\n<text text-anchor=\"middle\" x=\"566\" y=\"-14.3\" font-family=\"Helvetica,sans-Serif\" font-size=\"14.00\">(...)</text>\n</g>\n<!-- 147&#45;&gt;148 -->\n<g id=\"edge18\" class=\"edge\">\n<title>147&#45;&gt;148</title>\n<path fill=\"none\" stroke=\"black\" d=\"M586.31,-71.76C582.96,-63.04 579.49,-54.04 576.39,-45.99\"/>\n<polygon fill=\"black\" stroke=\"black\" points=\"579.56,-44.48 572.7,-36.41 573.03,-46.99 579.56,-44.48\"/>\n</g>\n<!-- 163 -->\n<g id=\"node20\" class=\"node\">\n<title>163</title>\n<path fill=\"#c0c0c0\" stroke=\"black\" d=\"M653,-36C653,-36 623,-36 623,-36 617,-36 611,-30 611,-24 611,-24 611,-12 611,-12 611,-6 617,0 623,0 623,0 653,0 653,0 659,0 665,-6 665,-12 665,-12 665,-24 665,-24 665,-30 659,-36 653,-36\"/>\n<text text-anchor=\"middle\" x=\"638\" y=\"-14.3\" font-family=\"Helvetica,sans-Serif\" font-size=\"14.00\">(...)</text>\n</g>\n<!-- 147&#45;&gt;163 -->\n<g id=\"edge19\" class=\"edge\">\n<title>147&#45;&gt;163</title>\n<path fill=\"none\" stroke=\"black\" d=\"M617.69,-71.76C621.04,-63.04 624.51,-54.04 627.61,-45.99\"/>\n<polygon fill=\"black\" stroke=\"black\" points=\"630.97,-46.99 631.3,-36.41 624.44,-44.48 630.97,-46.99\"/>\n</g>\n<!-- 177 -->\n<g id=\"node22\" class=\"node\">\n<title>177</title>\n<path fill=\"#e58139\" stroke=\"black\" d=\"M783,-147.5C783,-147.5 691,-147.5 691,-147.5 685,-147.5 679,-141.5 679,-135.5 679,-135.5 679,-91.5 679,-91.5 679,-85.5 685,-79.5 691,-79.5 691,-79.5 783,-79.5 783,-79.5 789,-79.5 795,-85.5 795,-91.5 795,-91.5 795,-135.5 795,-135.5 795,-141.5 789,-147.5 783,-147.5\"/>\n<text text-anchor=\"middle\" x=\"737\" y=\"-132.3\" font-family=\"Helvetica,sans-Serif\" font-size=\"14.00\">entropy = 0.0</text>\n<text text-anchor=\"middle\" x=\"737\" y=\"-117.3\" font-family=\"Helvetica,sans-Serif\" font-size=\"14.00\">samples = 218</text>\n<text text-anchor=\"middle\" x=\"737\" y=\"-102.3\" font-family=\"Helvetica,sans-Serif\" font-size=\"14.00\">value = [218, 0]</text>\n<text text-anchor=\"middle\" x=\"737\" y=\"-87.3\" font-family=\"Helvetica,sans-Serif\" font-size=\"14.00\">class = heart_no</text>\n</g>\n<!-- 176&#45;&gt;177 -->\n<g id=\"edge21\" class=\"edge\">\n<title>176&#45;&gt;177</title>\n<path fill=\"none\" stroke=\"black\" d=\"M740.27,-190.91C739.81,-180.2 739.31,-168.62 738.85,-157.78\"/>\n<polygon fill=\"black\" stroke=\"black\" points=\"742.34,-157.51 738.42,-147.67 735.35,-157.81 742.34,-157.51\"/>\n</g>\n<!-- 178 -->\n<g id=\"node23\" class=\"node\">\n<title>178</title>\n<path fill=\"#eca572\" stroke=\"black\" d=\"M917,-155C917,-155 825,-155 825,-155 819,-155 813,-149 813,-143 813,-143 813,-84 813,-84 813,-78 819,-72 825,-72 825,-72 917,-72 917,-72 923,-72 929,-78 929,-84 929,-84 929,-143 929,-143 929,-149 923,-155 917,-155\"/>\n<text text-anchor=\"middle\" x=\"871\" y=\"-139.8\" font-family=\"Helvetica,sans-Serif\" font-size=\"14.00\">age &lt;= 48.5</text>\n<text text-anchor=\"middle\" x=\"871\" y=\"-124.8\" font-family=\"Helvetica,sans-Serif\" font-size=\"14.00\">entropy = 0.764</text>\n<text text-anchor=\"middle\" x=\"871\" y=\"-109.8\" font-family=\"Helvetica,sans-Serif\" font-size=\"14.00\">samples = 45</text>\n<text text-anchor=\"middle\" x=\"871\" y=\"-94.8\" font-family=\"Helvetica,sans-Serif\" font-size=\"14.00\">value = [35, 10]</text>\n<text text-anchor=\"middle\" x=\"871\" y=\"-79.8\" font-family=\"Helvetica,sans-Serif\" font-size=\"14.00\">class = heart_no</text>\n</g>\n<!-- 176&#45;&gt;178 -->\n<g id=\"edge22\" class=\"edge\">\n<title>176&#45;&gt;178</title>\n<path fill=\"none\" stroke=\"black\" d=\"M786.76,-190.91C797.06,-181.56 808.11,-171.54 818.71,-161.93\"/>\n<polygon fill=\"black\" stroke=\"black\" points=\"821.27,-164.33 826.32,-155.02 816.56,-159.15 821.27,-164.33\"/>\n</g>\n<!-- 179 -->\n<g id=\"node24\" class=\"node\">\n<title>179</title>\n<path fill=\"#c0c0c0\" stroke=\"black\" d=\"M820,-36C820,-36 790,-36 790,-36 784,-36 778,-30 778,-24 778,-24 778,-12 778,-12 778,-6 784,0 790,0 790,0 820,0 820,0 826,0 832,-6 832,-12 832,-12 832,-24 832,-24 832,-30 826,-36 820,-36\"/>\n<text text-anchor=\"middle\" x=\"805\" y=\"-14.3\" font-family=\"Helvetica,sans-Serif\" font-size=\"14.00\">(...)</text>\n</g>\n<!-- 178&#45;&gt;179 -->\n<g id=\"edge23\" class=\"edge\">\n<title>178&#45;&gt;179</title>\n<path fill=\"none\" stroke=\"black\" d=\"M842.24,-71.76C835.75,-62.56 829.03,-53.04 823.11,-44.66\"/>\n<polygon fill=\"black\" stroke=\"black\" points=\"825.91,-42.56 817.29,-36.41 820.19,-46.59 825.91,-42.56\"/>\n</g>\n<!-- 180 -->\n<g id=\"node25\" class=\"node\">\n<title>180</title>\n<path fill=\"#c0c0c0\" stroke=\"black\" d=\"M892,-36C892,-36 862,-36 862,-36 856,-36 850,-30 850,-24 850,-24 850,-12 850,-12 850,-6 856,0 862,0 862,0 892,0 892,0 898,0 904,-6 904,-12 904,-12 904,-24 904,-24 904,-30 898,-36 892,-36\"/>\n<text text-anchor=\"middle\" x=\"877\" y=\"-14.3\" font-family=\"Helvetica,sans-Serif\" font-size=\"14.00\">(...)</text>\n</g>\n<!-- 178&#45;&gt;180 -->\n<g id=\"edge24\" class=\"edge\">\n<title>178&#45;&gt;180</title>\n<path fill=\"none\" stroke=\"black\" d=\"M873.61,-71.76C874.16,-63.24 874.73,-54.44 875.23,-46.53\"/>\n<polygon fill=\"black\" stroke=\"black\" points=\"878.74,-46.61 875.88,-36.41 871.75,-46.16 878.74,-46.61\"/>\n</g>\n<!-- 186 -->\n<g id=\"node27\" class=\"node\">\n<title>186</title>\n<path fill=\"#fae6d7\" stroke=\"black\" d=\"M1539.5,-393C1539.5,-393 1438.5,-393 1438.5,-393 1432.5,-393 1426.5,-387 1426.5,-381 1426.5,-381 1426.5,-322 1426.5,-322 1426.5,-316 1432.5,-310 1438.5,-310 1438.5,-310 1539.5,-310 1539.5,-310 1545.5,-310 1551.5,-316 1551.5,-322 1551.5,-322 1551.5,-381 1551.5,-381 1551.5,-387 1545.5,-393 1539.5,-393\"/>\n<text text-anchor=\"middle\" x=\"1489\" y=\"-377.8\" font-family=\"Helvetica,sans-Serif\" font-size=\"14.00\">calories &lt;= 4.17</text>\n<text text-anchor=\"middle\" x=\"1489\" y=\"-362.8\" font-family=\"Helvetica,sans-Serif\" font-size=\"14.00\">entropy = 0.991</text>\n<text text-anchor=\"middle\" x=\"1489\" y=\"-347.8\" font-family=\"Helvetica,sans-Serif\" font-size=\"14.00\">samples = 448</text>\n<text text-anchor=\"middle\" x=\"1489\" y=\"-332.8\" font-family=\"Helvetica,sans-Serif\" font-size=\"14.00\">value = [249, 199]</text>\n<text text-anchor=\"middle\" x=\"1489\" y=\"-317.8\" font-family=\"Helvetica,sans-Serif\" font-size=\"14.00\">class = heart_no</text>\n</g>\n<!-- 185&#45;&gt;186 -->\n<g id=\"edge26\" class=\"edge\">\n<title>185&#45;&gt;186</title>\n<path fill=\"none\" stroke=\"black\" d=\"M1596.75,-428.91C1583.06,-419.2 1568.34,-408.76 1554.31,-398.81\"/>\n<polygon fill=\"black\" stroke=\"black\" points=\"1556.33,-395.95 1546.14,-393.02 1552.28,-401.66 1556.33,-395.95\"/>\n</g>\n<!-- 265 -->\n<g id=\"node40\" class=\"node\">\n<title>265</title>\n<path fill=\"#89c5ef\" stroke=\"black\" d=\"M1883.5,-393C1883.5,-393 1782.5,-393 1782.5,-393 1776.5,-393 1770.5,-387 1770.5,-381 1770.5,-381 1770.5,-322 1770.5,-322 1770.5,-316 1776.5,-310 1782.5,-310 1782.5,-310 1883.5,-310 1883.5,-310 1889.5,-310 1895.5,-316 1895.5,-322 1895.5,-322 1895.5,-381 1895.5,-381 1895.5,-387 1889.5,-393 1883.5,-393\"/>\n<text text-anchor=\"middle\" x=\"1833\" y=\"-377.8\" font-family=\"Helvetica,sans-Serif\" font-size=\"14.00\">age &lt;= 58.5</text>\n<text text-anchor=\"middle\" x=\"1833\" y=\"-362.8\" font-family=\"Helvetica,sans-Serif\" font-size=\"14.00\">entropy = 0.866</text>\n<text text-anchor=\"middle\" x=\"1833\" y=\"-347.8\" font-family=\"Helvetica,sans-Serif\" font-size=\"14.00\">samples = 386</text>\n<text text-anchor=\"middle\" x=\"1833\" y=\"-332.8\" font-family=\"Helvetica,sans-Serif\" font-size=\"14.00\">value = [111, 275]</text>\n<text text-anchor=\"middle\" x=\"1833\" y=\"-317.8\" font-family=\"Helvetica,sans-Serif\" font-size=\"14.00\">class = heart_yes</text>\n</g>\n<!-- 185&#45;&gt;265 -->\n<g id=\"edge39\" class=\"edge\">\n<title>185&#45;&gt;265</title>\n<path fill=\"none\" stroke=\"black\" d=\"M1716.1,-428.91C1731.1,-419.11 1747.23,-408.56 1762.57,-398.53\"/>\n<polygon fill=\"black\" stroke=\"black\" points=\"1764.55,-401.42 1771.01,-393.02 1760.72,-395.56 1764.55,-401.42\"/>\n</g>\n<!-- 187 -->\n<g id=\"node28\" class=\"node\">\n<title>187</title>\n<path fill=\"#f9fcfe\" stroke=\"black\" d=\"M1264.5,-274C1264.5,-274 1163.5,-274 1163.5,-274 1157.5,-274 1151.5,-268 1151.5,-262 1151.5,-262 1151.5,-203 1151.5,-203 1151.5,-197 1157.5,-191 1163.5,-191 1163.5,-191 1264.5,-191 1264.5,-191 1270.5,-191 1276.5,-197 1276.5,-203 1276.5,-203 1276.5,-262 1276.5,-262 1276.5,-268 1270.5,-274 1264.5,-274\"/>\n<text text-anchor=\"middle\" x=\"1214\" y=\"-258.8\" font-family=\"Helvetica,sans-Serif\" font-size=\"14.00\">age &lt;= 42.5</text>\n<text text-anchor=\"middle\" x=\"1214\" y=\"-243.8\" font-family=\"Helvetica,sans-Serif\" font-size=\"14.00\">entropy = 1.0</text>\n<text text-anchor=\"middle\" x=\"1214\" y=\"-228.8\" font-family=\"Helvetica,sans-Serif\" font-size=\"14.00\">samples = 380</text>\n<text text-anchor=\"middle\" x=\"1214\" y=\"-213.8\" font-family=\"Helvetica,sans-Serif\" font-size=\"14.00\">value = [187, 193]</text>\n<text text-anchor=\"middle\" x=\"1214\" y=\"-198.8\" font-family=\"Helvetica,sans-Serif\" font-size=\"14.00\">class = heart_yes</text>\n</g>\n<!-- 186&#45;&gt;187 -->\n<g id=\"edge27\" class=\"edge\">\n<title>186&#45;&gt;187</title>\n<path fill=\"none\" stroke=\"black\" d=\"M1426.25,-323.8C1384.61,-306.09 1329.81,-282.77 1286.33,-264.27\"/>\n<polygon fill=\"black\" stroke=\"black\" points=\"1287.52,-260.98 1276.95,-260.28 1284.78,-267.42 1287.52,-260.98\"/>\n</g>\n<!-- 258 -->\n<g id=\"node35\" class=\"node\">\n<title>258</title>\n<path fill=\"#e88d4c\" stroke=\"black\" d=\"M1558,-274C1558,-274 1420,-274 1420,-274 1414,-274 1408,-268 1408,-262 1408,-262 1408,-203 1408,-203 1408,-197 1414,-191 1420,-191 1420,-191 1558,-191 1558,-191 1564,-191 1570,-197 1570,-203 1570,-203 1570,-262 1570,-262 1570,-268 1564,-274 1558,-274\"/>\n<text text-anchor=\"middle\" x=\"1489\" y=\"-258.8\" font-family=\"Helvetica,sans-Serif\" font-size=\"14.00\">family_income &lt;= 41.25</text>\n<text text-anchor=\"middle\" x=\"1489\" y=\"-243.8\" font-family=\"Helvetica,sans-Serif\" font-size=\"14.00\">entropy = 0.431</text>\n<text text-anchor=\"middle\" x=\"1489\" y=\"-228.8\" font-family=\"Helvetica,sans-Serif\" font-size=\"14.00\">samples = 68</text>\n<text text-anchor=\"middle\" x=\"1489\" y=\"-213.8\" font-family=\"Helvetica,sans-Serif\" font-size=\"14.00\">value = [62, 6]</text>\n<text text-anchor=\"middle\" x=\"1489\" y=\"-198.8\" font-family=\"Helvetica,sans-Serif\" font-size=\"14.00\">class = heart_no</text>\n</g>\n<!-- 186&#45;&gt;258 -->\n<g id=\"edge34\" class=\"edge\">\n<title>186&#45;&gt;258</title>\n<path fill=\"none\" stroke=\"black\" d=\"M1489,-309.91C1489,-301.65 1489,-292.86 1489,-284.3\"/>\n<polygon fill=\"black\" stroke=\"black\" points=\"1492.5,-284.02 1489,-274.02 1485.5,-284.02 1492.5,-284.02\"/>\n</g>\n<!-- 188 -->\n<g id=\"node29\" class=\"node\">\n<title>188</title>\n<path fill=\"#e78c49\" stroke=\"black\" d=\"M1097,-155C1097,-155 959,-155 959,-155 953,-155 947,-149 947,-143 947,-143 947,-84 947,-84 947,-78 953,-72 959,-72 959,-72 1097,-72 1097,-72 1103,-72 1109,-78 1109,-84 1109,-84 1109,-143 1109,-143 1109,-149 1103,-155 1097,-155\"/>\n<text text-anchor=\"middle\" x=\"1028\" y=\"-139.8\" font-family=\"Helvetica,sans-Serif\" font-size=\"14.00\">family_income &lt;= 17.05</text>\n<text text-anchor=\"middle\" x=\"1028\" y=\"-124.8\" font-family=\"Helvetica,sans-Serif\" font-size=\"14.00\">entropy = 0.391</text>\n<text text-anchor=\"middle\" x=\"1028\" y=\"-109.8\" font-family=\"Helvetica,sans-Serif\" font-size=\"14.00\">samples = 39</text>\n<text text-anchor=\"middle\" x=\"1028\" y=\"-94.8\" font-family=\"Helvetica,sans-Serif\" font-size=\"14.00\">value = [36, 3]</text>\n<text text-anchor=\"middle\" x=\"1028\" y=\"-79.8\" font-family=\"Helvetica,sans-Serif\" font-size=\"14.00\">class = heart_no</text>\n</g>\n<!-- 187&#45;&gt;188 -->\n<g id=\"edge28\" class=\"edge\">\n<title>187&#45;&gt;188</title>\n<path fill=\"none\" stroke=\"black\" d=\"M1151.29,-192.05C1135.21,-181.94 1117.78,-170.98 1101.23,-160.56\"/>\n<polygon fill=\"black\" stroke=\"black\" points=\"1102.99,-157.54 1092.66,-155.17 1099.26,-163.46 1102.99,-157.54\"/>\n</g>\n<!-- 193 -->\n<g id=\"node32\" class=\"node\">\n<title>193</title>\n<path fill=\"#d6ebfa\" stroke=\"black\" d=\"M1288.5,-155C1288.5,-155 1139.5,-155 1139.5,-155 1133.5,-155 1127.5,-149 1127.5,-143 1127.5,-143 1127.5,-84 1127.5,-84 1127.5,-78 1133.5,-72 1139.5,-72 1139.5,-72 1288.5,-72 1288.5,-72 1294.5,-72 1300.5,-78 1300.5,-84 1300.5,-84 1300.5,-143 1300.5,-143 1300.5,-149 1294.5,-155 1288.5,-155\"/>\n<text text-anchor=\"middle\" x=\"1214\" y=\"-139.8\" font-family=\"Helvetica,sans-Serif\" font-size=\"14.00\">blood_cholesterol &lt;= 3.79</text>\n<text text-anchor=\"middle\" x=\"1214\" y=\"-124.8\" font-family=\"Helvetica,sans-Serif\" font-size=\"14.00\">entropy = 0.991</text>\n<text text-anchor=\"middle\" x=\"1214\" y=\"-109.8\" font-family=\"Helvetica,sans-Serif\" font-size=\"14.00\">samples = 341</text>\n<text text-anchor=\"middle\" x=\"1214\" y=\"-94.8\" font-family=\"Helvetica,sans-Serif\" font-size=\"14.00\">value = [151, 190]</text>\n<text text-anchor=\"middle\" x=\"1214\" y=\"-79.8\" font-family=\"Helvetica,sans-Serif\" font-size=\"14.00\">class = heart_yes</text>\n</g>\n<!-- 187&#45;&gt;193 -->\n<g id=\"edge31\" class=\"edge\">\n<title>187&#45;&gt;193</title>\n<path fill=\"none\" stroke=\"black\" d=\"M1214,-190.91C1214,-182.65 1214,-173.86 1214,-165.3\"/>\n<polygon fill=\"black\" stroke=\"black\" points=\"1217.5,-165.02 1214,-155.02 1210.5,-165.02 1217.5,-165.02\"/>\n</g>\n<!-- 189 -->\n<g id=\"node30\" class=\"node\">\n<title>189</title>\n<path fill=\"#c0c0c0\" stroke=\"black\" d=\"M992,-36C992,-36 962,-36 962,-36 956,-36 950,-30 950,-24 950,-24 950,-12 950,-12 950,-6 956,0 962,0 962,0 992,0 992,0 998,0 1004,-6 1004,-12 1004,-12 1004,-24 1004,-24 1004,-30 998,-36 992,-36\"/>\n<text text-anchor=\"middle\" x=\"977\" y=\"-14.3\" font-family=\"Helvetica,sans-Serif\" font-size=\"14.00\">(...)</text>\n</g>\n<!-- 188&#45;&gt;189 -->\n<g id=\"edge29\" class=\"edge\">\n<title>188&#45;&gt;189</title>\n<path fill=\"none\" stroke=\"black\" d=\"M1005.78,-71.76C1000.86,-62.75 995.78,-53.44 991.29,-45.19\"/>\n<polygon fill=\"black\" stroke=\"black\" points=\"994.35,-43.51 986.49,-36.41 988.21,-46.86 994.35,-43.51\"/>\n</g>\n<!-- 192 -->\n<g id=\"node31\" class=\"node\">\n<title>192</title>\n<path fill=\"#c0c0c0\" stroke=\"black\" d=\"M1064,-36C1064,-36 1034,-36 1034,-36 1028,-36 1022,-30 1022,-24 1022,-24 1022,-12 1022,-12 1022,-6 1028,0 1034,0 1034,0 1064,0 1064,0 1070,0 1076,-6 1076,-12 1076,-12 1076,-24 1076,-24 1076,-30 1070,-36 1064,-36\"/>\n<text text-anchor=\"middle\" x=\"1049\" y=\"-14.3\" font-family=\"Helvetica,sans-Serif\" font-size=\"14.00\">(...)</text>\n</g>\n<!-- 188&#45;&gt;192 -->\n<g id=\"edge30\" class=\"edge\">\n<title>188&#45;&gt;192</title>\n<path fill=\"none\" stroke=\"black\" d=\"M1037.15,-71.76C1039.09,-63.14 1041.09,-54.24 1042.88,-46.26\"/>\n<polygon fill=\"black\" stroke=\"black\" points=\"1046.31,-46.93 1045.09,-36.41 1039.48,-45.4 1046.31,-46.93\"/>\n</g>\n<!-- 194 -->\n<g id=\"node33\" class=\"node\">\n<title>194</title>\n<path fill=\"#c0c0c0\" stroke=\"black\" d=\"M1184,-36C1184,-36 1154,-36 1154,-36 1148,-36 1142,-30 1142,-24 1142,-24 1142,-12 1142,-12 1142,-6 1148,0 1154,0 1154,0 1184,0 1184,0 1190,0 1196,-6 1196,-12 1196,-12 1196,-24 1196,-24 1196,-30 1190,-36 1184,-36\"/>\n<text text-anchor=\"middle\" x=\"1169\" y=\"-14.3\" font-family=\"Helvetica,sans-Serif\" font-size=\"14.00\">(...)</text>\n</g>\n<!-- 193&#45;&gt;194 -->\n<g id=\"edge32\" class=\"edge\">\n<title>193&#45;&gt;194</title>\n<path fill=\"none\" stroke=\"black\" d=\"M1194.39,-71.76C1190.1,-62.85 1185.67,-53.64 1181.73,-45.46\"/>\n<polygon fill=\"black\" stroke=\"black\" points=\"1184.87,-43.9 1177.38,-36.41 1178.56,-46.93 1184.87,-43.9\"/>\n</g>\n<!-- 209 -->\n<g id=\"node34\" class=\"node\">\n<title>209</title>\n<path fill=\"#c0c0c0\" stroke=\"black\" d=\"M1256,-36C1256,-36 1226,-36 1226,-36 1220,-36 1214,-30 1214,-24 1214,-24 1214,-12 1214,-12 1214,-6 1220,0 1226,0 1226,0 1256,0 1256,0 1262,0 1268,-6 1268,-12 1268,-12 1268,-24 1268,-24 1268,-30 1262,-36 1256,-36\"/>\n<text text-anchor=\"middle\" x=\"1241\" y=\"-14.3\" font-family=\"Helvetica,sans-Serif\" font-size=\"14.00\">(...)</text>\n</g>\n<!-- 193&#45;&gt;209 -->\n<g id=\"edge33\" class=\"edge\">\n<title>193&#45;&gt;209</title>\n<path fill=\"none\" stroke=\"black\" d=\"M1225.76,-71.76C1228.25,-63.14 1230.82,-54.24 1233.13,-46.26\"/>\n<polygon fill=\"black\" stroke=\"black\" points=\"1236.56,-46.98 1235.97,-36.41 1229.84,-45.04 1236.56,-46.98\"/>\n</g>\n<!-- 259 -->\n<g id=\"node36\" class=\"node\">\n<title>259</title>\n<path fill=\"#e6853f\" stroke=\"black\" d=\"M1495,-155C1495,-155 1331,-155 1331,-155 1325,-155 1319,-149 1319,-143 1319,-143 1319,-84 1319,-84 1319,-78 1325,-72 1331,-72 1331,-72 1495,-72 1495,-72 1501,-72 1507,-78 1507,-84 1507,-84 1507,-143 1507,-143 1507,-149 1501,-155 1495,-155\"/>\n<text text-anchor=\"middle\" x=\"1413\" y=\"-139.8\" font-family=\"Helvetica,sans-Serif\" font-size=\"14.00\">blood_pressure_sys &lt;= 57.0</text>\n<text text-anchor=\"middle\" x=\"1413\" y=\"-124.8\" font-family=\"Helvetica,sans-Serif\" font-size=\"14.00\">entropy = 0.201</text>\n<text text-anchor=\"middle\" x=\"1413\" y=\"-109.8\" font-family=\"Helvetica,sans-Serif\" font-size=\"14.00\">samples = 64</text>\n<text text-anchor=\"middle\" x=\"1413\" y=\"-94.8\" font-family=\"Helvetica,sans-Serif\" font-size=\"14.00\">value = [62, 2]</text>\n<text text-anchor=\"middle\" x=\"1413\" y=\"-79.8\" font-family=\"Helvetica,sans-Serif\" font-size=\"14.00\">class = heart_no</text>\n</g>\n<!-- 258&#45;&gt;259 -->\n<g id=\"edge35\" class=\"edge\">\n<title>258&#45;&gt;259</title>\n<path fill=\"none\" stroke=\"black\" d=\"M1462.63,-190.91C1456.91,-182.1 1450.81,-172.7 1444.9,-163.61\"/>\n<polygon fill=\"black\" stroke=\"black\" points=\"1447.7,-161.5 1439.32,-155.02 1441.83,-165.31 1447.7,-161.5\"/>\n</g>\n<!-- 264 -->\n<g id=\"node39\" class=\"node\">\n<title>264</title>\n<path fill=\"#399de5\" stroke=\"black\" d=\"M1635,-147.5C1635,-147.5 1537,-147.5 1537,-147.5 1531,-147.5 1525,-141.5 1525,-135.5 1525,-135.5 1525,-91.5 1525,-91.5 1525,-85.5 1531,-79.5 1537,-79.5 1537,-79.5 1635,-79.5 1635,-79.5 1641,-79.5 1647,-85.5 1647,-91.5 1647,-91.5 1647,-135.5 1647,-135.5 1647,-141.5 1641,-147.5 1635,-147.5\"/>\n<text text-anchor=\"middle\" x=\"1586\" y=\"-132.3\" font-family=\"Helvetica,sans-Serif\" font-size=\"14.00\">entropy = 0.0</text>\n<text text-anchor=\"middle\" x=\"1586\" y=\"-117.3\" font-family=\"Helvetica,sans-Serif\" font-size=\"14.00\">samples = 4</text>\n<text text-anchor=\"middle\" x=\"1586\" y=\"-102.3\" font-family=\"Helvetica,sans-Serif\" font-size=\"14.00\">value = [0, 4]</text>\n<text text-anchor=\"middle\" x=\"1586\" y=\"-87.3\" font-family=\"Helvetica,sans-Serif\" font-size=\"14.00\">class = heart_yes</text>\n</g>\n<!-- 258&#45;&gt;264 -->\n<g id=\"edge38\" class=\"edge\">\n<title>258&#45;&gt;264</title>\n<path fill=\"none\" stroke=\"black\" d=\"M1522.65,-190.91C1532.17,-179.43 1542.53,-166.94 1552.06,-155.44\"/>\n<polygon fill=\"black\" stroke=\"black\" points=\"1554.81,-157.6 1558.5,-147.67 1549.43,-153.13 1554.81,-157.6\"/>\n</g>\n<!-- 260 -->\n<g id=\"node37\" class=\"node\">\n<title>260</title>\n<path fill=\"#c0c0c0\" stroke=\"black\" d=\"M1392,-36C1392,-36 1362,-36 1362,-36 1356,-36 1350,-30 1350,-24 1350,-24 1350,-12 1350,-12 1350,-6 1356,0 1362,0 1362,0 1392,0 1392,0 1398,0 1404,-6 1404,-12 1404,-12 1404,-24 1404,-24 1404,-30 1398,-36 1392,-36\"/>\n<text text-anchor=\"middle\" x=\"1377\" y=\"-14.3\" font-family=\"Helvetica,sans-Serif\" font-size=\"14.00\">(...)</text>\n</g>\n<!-- 259&#45;&gt;260 -->\n<g id=\"edge36\" class=\"edge\">\n<title>259&#45;&gt;260</title>\n<path fill=\"none\" stroke=\"black\" d=\"M1397.31,-71.76C1393.96,-63.04 1390.49,-54.04 1387.39,-45.99\"/>\n<polygon fill=\"black\" stroke=\"black\" points=\"1390.56,-44.48 1383.7,-36.41 1384.03,-46.99 1390.56,-44.48\"/>\n</g>\n<!-- 263 -->\n<g id=\"node38\" class=\"node\">\n<title>263</title>\n<path fill=\"#c0c0c0\" stroke=\"black\" d=\"M1464,-36C1464,-36 1434,-36 1434,-36 1428,-36 1422,-30 1422,-24 1422,-24 1422,-12 1422,-12 1422,-6 1428,0 1434,0 1434,0 1464,0 1464,0 1470,0 1476,-6 1476,-12 1476,-12 1476,-24 1476,-24 1476,-30 1470,-36 1464,-36\"/>\n<text text-anchor=\"middle\" x=\"1449\" y=\"-14.3\" font-family=\"Helvetica,sans-Serif\" font-size=\"14.00\">(...)</text>\n</g>\n<!-- 259&#45;&gt;263 -->\n<g id=\"edge37\" class=\"edge\">\n<title>259&#45;&gt;263</title>\n<path fill=\"none\" stroke=\"black\" d=\"M1428.69,-71.76C1432.04,-63.04 1435.51,-54.04 1438.61,-45.99\"/>\n<polygon fill=\"black\" stroke=\"black\" points=\"1441.97,-46.99 1442.3,-36.41 1435.44,-44.48 1441.97,-46.99\"/>\n</g>\n<!-- 266 -->\n<g id=\"node41\" class=\"node\">\n<title>266</title>\n<path fill=\"#4ea7e8\" stroke=\"black\" d=\"M1898.5,-274C1898.5,-274 1767.5,-274 1767.5,-274 1761.5,-274 1755.5,-268 1755.5,-262 1755.5,-262 1755.5,-203 1755.5,-203 1755.5,-197 1761.5,-191 1767.5,-191 1767.5,-191 1898.5,-191 1898.5,-191 1904.5,-191 1910.5,-197 1910.5,-203 1910.5,-203 1910.5,-262 1910.5,-262 1910.5,-268 1904.5,-274 1898.5,-274\"/>\n<text text-anchor=\"middle\" x=\"1833\" y=\"-258.8\" font-family=\"Helvetica,sans-Serif\" font-size=\"14.00\">family_income &lt;= 16.1</text>\n<text text-anchor=\"middle\" x=\"1833\" y=\"-243.8\" font-family=\"Helvetica,sans-Serif\" font-size=\"14.00\">entropy = 0.455</text>\n<text text-anchor=\"middle\" x=\"1833\" y=\"-228.8\" font-family=\"Helvetica,sans-Serif\" font-size=\"14.00\">samples = 94</text>\n<text text-anchor=\"middle\" x=\"1833\" y=\"-213.8\" font-family=\"Helvetica,sans-Serif\" font-size=\"14.00\">value = [9, 85]</text>\n<text text-anchor=\"middle\" x=\"1833\" y=\"-198.8\" font-family=\"Helvetica,sans-Serif\" font-size=\"14.00\">class = heart_yes</text>\n</g>\n<!-- 265&#45;&gt;266 -->\n<g id=\"edge40\" class=\"edge\">\n<title>265&#45;&gt;266</title>\n<path fill=\"none\" stroke=\"black\" d=\"M1833,-309.91C1833,-301.65 1833,-292.86 1833,-284.3\"/>\n<polygon fill=\"black\" stroke=\"black\" points=\"1836.5,-284.02 1833,-274.02 1829.5,-284.02 1836.5,-284.02\"/>\n</g>\n<!-- 279 -->\n<g id=\"node48\" class=\"node\">\n<title>279</title>\n<path fill=\"#a3d2f3\" stroke=\"black\" d=\"M2196,-274C2196,-274 2032,-274 2032,-274 2026,-274 2020,-268 2020,-262 2020,-262 2020,-203 2020,-203 2020,-197 2026,-191 2032,-191 2032,-191 2196,-191 2196,-191 2202,-191 2208,-197 2208,-203 2208,-203 2208,-262 2208,-262 2208,-268 2202,-274 2196,-274\"/>\n<text text-anchor=\"middle\" x=\"2114\" y=\"-258.8\" font-family=\"Helvetica,sans-Serif\" font-size=\"14.00\">blood_pressure_sys &lt;= 81.0</text>\n<text text-anchor=\"middle\" x=\"2114\" y=\"-243.8\" font-family=\"Helvetica,sans-Serif\" font-size=\"14.00\">entropy = 0.933</text>\n<text text-anchor=\"middle\" x=\"2114\" y=\"-228.8\" font-family=\"Helvetica,sans-Serif\" font-size=\"14.00\">samples = 292</text>\n<text text-anchor=\"middle\" x=\"2114\" y=\"-213.8\" font-family=\"Helvetica,sans-Serif\" font-size=\"14.00\">value = [102, 190]</text>\n<text text-anchor=\"middle\" x=\"2114\" y=\"-198.8\" font-family=\"Helvetica,sans-Serif\" font-size=\"14.00\">class = heart_yes</text>\n</g>\n<!-- 265&#45;&gt;279 -->\n<g id=\"edge47\" class=\"edge\">\n<title>265&#45;&gt;279</title>\n<path fill=\"none\" stroke=\"black\" d=\"M1895.71,-324.39C1929.41,-310.36 1971.83,-292.69 2010.29,-276.68\"/>\n<polygon fill=\"black\" stroke=\"black\" points=\"2012.09,-279.72 2019.98,-272.65 2009.4,-273.26 2012.09,-279.72\"/>\n</g>\n<!-- 267 -->\n<g id=\"node42\" class=\"node\">\n<title>267</title>\n<path fill=\"#bddef6\" stroke=\"black\" d=\"M1808.5,-155C1808.5,-155 1677.5,-155 1677.5,-155 1671.5,-155 1665.5,-149 1665.5,-143 1665.5,-143 1665.5,-84 1665.5,-84 1665.5,-78 1671.5,-72 1677.5,-72 1677.5,-72 1808.5,-72 1808.5,-72 1814.5,-72 1820.5,-78 1820.5,-84 1820.5,-84 1820.5,-143 1820.5,-143 1820.5,-149 1814.5,-155 1808.5,-155\"/>\n<text text-anchor=\"middle\" x=\"1743\" y=\"-139.8\" font-family=\"Helvetica,sans-Serif\" font-size=\"14.00\">family_income &lt;= 14.3</text>\n<text text-anchor=\"middle\" x=\"1743\" y=\"-124.8\" font-family=\"Helvetica,sans-Serif\" font-size=\"14.00\">entropy = 0.971</text>\n<text text-anchor=\"middle\" x=\"1743\" y=\"-109.8\" font-family=\"Helvetica,sans-Serif\" font-size=\"14.00\">samples = 10</text>\n<text text-anchor=\"middle\" x=\"1743\" y=\"-94.8\" font-family=\"Helvetica,sans-Serif\" font-size=\"14.00\">value = [4, 6]</text>\n<text text-anchor=\"middle\" x=\"1743\" y=\"-79.8\" font-family=\"Helvetica,sans-Serif\" font-size=\"14.00\">class = heart_yes</text>\n</g>\n<!-- 266&#45;&gt;267 -->\n<g id=\"edge41\" class=\"edge\">\n<title>266&#45;&gt;267</title>\n<path fill=\"none\" stroke=\"black\" d=\"M1801.77,-190.91C1794.86,-181.92 1787.47,-172.32 1780.35,-163.05\"/>\n<polygon fill=\"black\" stroke=\"black\" points=\"1783.04,-160.81 1774.17,-155.02 1777.49,-165.08 1783.04,-160.81\"/>\n</g>\n<!-- 270 -->\n<g id=\"node45\" class=\"node\">\n<title>270</title>\n<path fill=\"#46a3e7\" stroke=\"black\" d=\"M2007,-155C2007,-155 1851,-155 1851,-155 1845,-155 1839,-149 1839,-143 1839,-143 1839,-84 1839,-84 1839,-78 1845,-72 1851,-72 1851,-72 2007,-72 2007,-72 2013,-72 2019,-78 2019,-84 2019,-84 2019,-143 2019,-143 2019,-149 2013,-155 2007,-155\"/>\n<text text-anchor=\"middle\" x=\"1929\" y=\"-139.8\" font-family=\"Helvetica,sans-Serif\" font-size=\"14.00\">blood_cholesterol &lt;= 5.545</text>\n<text text-anchor=\"middle\" x=\"1929\" y=\"-124.8\" font-family=\"Helvetica,sans-Serif\" font-size=\"14.00\">entropy = 0.326</text>\n<text text-anchor=\"middle\" x=\"1929\" y=\"-109.8\" font-family=\"Helvetica,sans-Serif\" font-size=\"14.00\">samples = 84</text>\n<text text-anchor=\"middle\" x=\"1929\" y=\"-94.8\" font-family=\"Helvetica,sans-Serif\" font-size=\"14.00\">value = [5, 79]</text>\n<text text-anchor=\"middle\" x=\"1929\" y=\"-79.8\" font-family=\"Helvetica,sans-Serif\" font-size=\"14.00\">class = heart_yes</text>\n</g>\n<!-- 266&#45;&gt;270 -->\n<g id=\"edge44\" class=\"edge\">\n<title>266&#45;&gt;270</title>\n<path fill=\"none\" stroke=\"black\" d=\"M1866.31,-190.91C1873.75,-181.83 1881.72,-172.12 1889.39,-162.77\"/>\n<polygon fill=\"black\" stroke=\"black\" points=\"1892.11,-164.97 1895.75,-155.02 1886.7,-160.53 1892.11,-164.97\"/>\n</g>\n<!-- 268 -->\n<g id=\"node43\" class=\"node\">\n<title>268</title>\n<path fill=\"#c0c0c0\" stroke=\"black\" d=\"M1707,-36C1707,-36 1677,-36 1677,-36 1671,-36 1665,-30 1665,-24 1665,-24 1665,-12 1665,-12 1665,-6 1671,0 1677,0 1677,0 1707,0 1707,0 1713,0 1719,-6 1719,-12 1719,-12 1719,-24 1719,-24 1719,-30 1713,-36 1707,-36\"/>\n<text text-anchor=\"middle\" x=\"1692\" y=\"-14.3\" font-family=\"Helvetica,sans-Serif\" font-size=\"14.00\">(...)</text>\n</g>\n<!-- 267&#45;&gt;268 -->\n<g id=\"edge42\" class=\"edge\">\n<title>267&#45;&gt;268</title>\n<path fill=\"none\" stroke=\"black\" d=\"M1720.78,-71.76C1715.86,-62.75 1710.78,-53.44 1706.29,-45.19\"/>\n<polygon fill=\"black\" stroke=\"black\" points=\"1709.35,-43.51 1701.49,-36.41 1703.21,-46.86 1709.35,-43.51\"/>\n</g>\n<!-- 269 -->\n<g id=\"node44\" class=\"node\">\n<title>269</title>\n<path fill=\"#c0c0c0\" stroke=\"black\" d=\"M1779,-36C1779,-36 1749,-36 1749,-36 1743,-36 1737,-30 1737,-24 1737,-24 1737,-12 1737,-12 1737,-6 1743,0 1749,0 1749,0 1779,0 1779,0 1785,0 1791,-6 1791,-12 1791,-12 1791,-24 1791,-24 1791,-30 1785,-36 1779,-36\"/>\n<text text-anchor=\"middle\" x=\"1764\" y=\"-14.3\" font-family=\"Helvetica,sans-Serif\" font-size=\"14.00\">(...)</text>\n</g>\n<!-- 267&#45;&gt;269 -->\n<g id=\"edge43\" class=\"edge\">\n<title>267&#45;&gt;269</title>\n<path fill=\"none\" stroke=\"black\" d=\"M1752.15,-71.76C1754.09,-63.14 1756.09,-54.24 1757.88,-46.26\"/>\n<polygon fill=\"black\" stroke=\"black\" points=\"1761.31,-46.93 1760.09,-36.41 1754.48,-45.4 1761.31,-46.93\"/>\n</g>\n<!-- 271 -->\n<g id=\"node46\" class=\"node\">\n<title>271</title>\n<path fill=\"#c0c0c0\" stroke=\"black\" d=\"M1892,-36C1892,-36 1862,-36 1862,-36 1856,-36 1850,-30 1850,-24 1850,-24 1850,-12 1850,-12 1850,-6 1856,0 1862,0 1862,0 1892,0 1892,0 1898,0 1904,-6 1904,-12 1904,-12 1904,-24 1904,-24 1904,-30 1898,-36 1892,-36\"/>\n<text text-anchor=\"middle\" x=\"1877\" y=\"-14.3\" font-family=\"Helvetica,sans-Serif\" font-size=\"14.00\">(...)</text>\n</g>\n<!-- 270&#45;&gt;271 -->\n<g id=\"edge45\" class=\"edge\">\n<title>270&#45;&gt;271</title>\n<path fill=\"none\" stroke=\"black\" d=\"M1906.34,-71.76C1901.33,-62.75 1896.15,-53.44 1891.57,-45.19\"/>\n<polygon fill=\"black\" stroke=\"black\" points=\"1894.6,-43.44 1886.68,-36.41 1888.48,-46.85 1894.6,-43.44\"/>\n</g>\n<!-- 276 -->\n<g id=\"node47\" class=\"node\">\n<title>276</title>\n<path fill=\"#c0c0c0\" stroke=\"black\" d=\"M1964,-36C1964,-36 1934,-36 1934,-36 1928,-36 1922,-30 1922,-24 1922,-24 1922,-12 1922,-12 1922,-6 1928,0 1934,0 1934,0 1964,0 1964,0 1970,0 1976,-6 1976,-12 1976,-12 1976,-24 1976,-24 1976,-30 1970,-36 1964,-36\"/>\n<text text-anchor=\"middle\" x=\"1949\" y=\"-14.3\" font-family=\"Helvetica,sans-Serif\" font-size=\"14.00\">(...)</text>\n</g>\n<!-- 270&#45;&gt;276 -->\n<g id=\"edge46\" class=\"edge\">\n<title>270&#45;&gt;276</title>\n<path fill=\"none\" stroke=\"black\" d=\"M1937.71,-71.76C1939.56,-63.14 1941.46,-54.24 1943.17,-46.26\"/>\n<polygon fill=\"black\" stroke=\"black\" points=\"1946.61,-46.92 1945.28,-36.41 1939.76,-45.45 1946.61,-46.92\"/>\n</g>\n<!-- 280 -->\n<g id=\"node49\" class=\"node\">\n<title>280</title>\n<path fill=\"#97cbf1\" stroke=\"black\" d=\"M2178.5,-155C2178.5,-155 2049.5,-155 2049.5,-155 2043.5,-155 2037.5,-149 2037.5,-143 2037.5,-143 2037.5,-84 2037.5,-84 2037.5,-78 2043.5,-72 2049.5,-72 2049.5,-72 2178.5,-72 2178.5,-72 2184.5,-72 2190.5,-78 2190.5,-84 2190.5,-84 2190.5,-143 2190.5,-143 2190.5,-149 2184.5,-155 2178.5,-155\"/>\n<text text-anchor=\"middle\" x=\"2114\" y=\"-139.8\" font-family=\"Helvetica,sans-Serif\" font-size=\"14.00\">diastolic_bp &lt;= 3316.5</text>\n<text text-anchor=\"middle\" x=\"2114\" y=\"-124.8\" font-family=\"Helvetica,sans-Serif\" font-size=\"14.00\">entropy = 0.906</text>\n<text text-anchor=\"middle\" x=\"2114\" y=\"-109.8\" font-family=\"Helvetica,sans-Serif\" font-size=\"14.00\">samples = 280</text>\n<text text-anchor=\"middle\" x=\"2114\" y=\"-94.8\" font-family=\"Helvetica,sans-Serif\" font-size=\"14.00\">value = [90, 190]</text>\n<text text-anchor=\"middle\" x=\"2114\" y=\"-79.8\" font-family=\"Helvetica,sans-Serif\" font-size=\"14.00\">class = heart_yes</text>\n</g>\n<!-- 279&#45;&gt;280 -->\n<g id=\"edge48\" class=\"edge\">\n<title>279&#45;&gt;280</title>\n<path fill=\"none\" stroke=\"black\" d=\"M2114,-190.91C2114,-182.65 2114,-173.86 2114,-165.3\"/>\n<polygon fill=\"black\" stroke=\"black\" points=\"2117.5,-165.02 2114,-155.02 2110.5,-165.02 2117.5,-165.02\"/>\n</g>\n<!-- 331 -->\n<g id=\"node52\" class=\"node\">\n<title>331</title>\n<path fill=\"#e58139\" stroke=\"black\" d=\"M2313,-147.5C2313,-147.5 2221,-147.5 2221,-147.5 2215,-147.5 2209,-141.5 2209,-135.5 2209,-135.5 2209,-91.5 2209,-91.5 2209,-85.5 2215,-79.5 2221,-79.5 2221,-79.5 2313,-79.5 2313,-79.5 2319,-79.5 2325,-85.5 2325,-91.5 2325,-91.5 2325,-135.5 2325,-135.5 2325,-141.5 2319,-147.5 2313,-147.5\"/>\n<text text-anchor=\"middle\" x=\"2267\" y=\"-132.3\" font-family=\"Helvetica,sans-Serif\" font-size=\"14.00\">entropy = 0.0</text>\n<text text-anchor=\"middle\" x=\"2267\" y=\"-117.3\" font-family=\"Helvetica,sans-Serif\" font-size=\"14.00\">samples = 12</text>\n<text text-anchor=\"middle\" x=\"2267\" y=\"-102.3\" font-family=\"Helvetica,sans-Serif\" font-size=\"14.00\">value = [12, 0]</text>\n<text text-anchor=\"middle\" x=\"2267\" y=\"-87.3\" font-family=\"Helvetica,sans-Serif\" font-size=\"14.00\">class = heart_no</text>\n</g>\n<!-- 279&#45;&gt;331 -->\n<g id=\"edge51\" class=\"edge\">\n<title>279&#45;&gt;331</title>\n<path fill=\"none\" stroke=\"black\" d=\"M2167.08,-190.91C2182.81,-178.88 2200,-165.73 2215.62,-153.79\"/>\n<polygon fill=\"black\" stroke=\"black\" points=\"2217.81,-156.52 2223.63,-147.67 2213.56,-150.96 2217.81,-156.52\"/>\n</g>\n<!-- 281 -->\n<g id=\"node50\" class=\"node\">\n<title>281</title>\n<path fill=\"#c0c0c0\" stroke=\"black\" d=\"M2093,-36C2093,-36 2063,-36 2063,-36 2057,-36 2051,-30 2051,-24 2051,-24 2051,-12 2051,-12 2051,-6 2057,0 2063,0 2063,0 2093,0 2093,0 2099,0 2105,-6 2105,-12 2105,-12 2105,-24 2105,-24 2105,-30 2099,-36 2093,-36\"/>\n<text text-anchor=\"middle\" x=\"2078\" y=\"-14.3\" font-family=\"Helvetica,sans-Serif\" font-size=\"14.00\">(...)</text>\n</g>\n<!-- 280&#45;&gt;281 -->\n<g id=\"edge49\" class=\"edge\">\n<title>280&#45;&gt;281</title>\n<path fill=\"none\" stroke=\"black\" d=\"M2098.31,-71.76C2094.96,-63.04 2091.49,-54.04 2088.39,-45.99\"/>\n<polygon fill=\"black\" stroke=\"black\" points=\"2091.56,-44.48 2084.7,-36.41 2085.03,-46.99 2091.56,-44.48\"/>\n</g>\n<!-- 330 -->\n<g id=\"node51\" class=\"node\">\n<title>330</title>\n<path fill=\"#c0c0c0\" stroke=\"black\" d=\"M2165,-36C2165,-36 2135,-36 2135,-36 2129,-36 2123,-30 2123,-24 2123,-24 2123,-12 2123,-12 2123,-6 2129,0 2135,0 2135,0 2165,0 2165,0 2171,0 2177,-6 2177,-12 2177,-12 2177,-24 2177,-24 2177,-30 2171,-36 2165,-36\"/>\n<text text-anchor=\"middle\" x=\"2150\" y=\"-14.3\" font-family=\"Helvetica,sans-Serif\" font-size=\"14.00\">(...)</text>\n</g>\n<!-- 280&#45;&gt;330 -->\n<g id=\"edge50\" class=\"edge\">\n<title>280&#45;&gt;330</title>\n<path fill=\"none\" stroke=\"black\" d=\"M2129.69,-71.76C2133.04,-63.04 2136.51,-54.04 2139.61,-45.99\"/>\n<polygon fill=\"black\" stroke=\"black\" points=\"2142.97,-46.99 2143.3,-36.41 2136.44,-44.48 2142.97,-46.99\"/>\n</g>\n<!-- 333 -->\n<g id=\"node54\" class=\"node\">\n<title>333</title>\n<path fill=\"#c8e4f8\" stroke=\"black\" d=\"M3085.5,-512C3085.5,-512 2984.5,-512 2984.5,-512 2978.5,-512 2972.5,-506 2972.5,-500 2972.5,-500 2972.5,-441 2972.5,-441 2972.5,-435 2978.5,-429 2984.5,-429 2984.5,-429 3085.5,-429 3085.5,-429 3091.5,-429 3097.5,-435 3097.5,-441 3097.5,-441 3097.5,-500 3097.5,-500 3097.5,-506 3091.5,-512 3085.5,-512\"/>\n<text text-anchor=\"middle\" x=\"3035\" y=\"-496.8\" font-family=\"Helvetica,sans-Serif\" font-size=\"14.00\">age &lt;= 77.5</text>\n<text text-anchor=\"middle\" x=\"3035\" y=\"-481.8\" font-family=\"Helvetica,sans-Serif\" font-size=\"14.00\">entropy = 0.981</text>\n<text text-anchor=\"middle\" x=\"3035\" y=\"-466.8\" font-family=\"Helvetica,sans-Serif\" font-size=\"14.00\">samples = 1465</text>\n<text text-anchor=\"middle\" x=\"3035\" y=\"-451.8\" font-family=\"Helvetica,sans-Serif\" font-size=\"14.00\">value = [614, 851]</text>\n<text text-anchor=\"middle\" x=\"3035\" y=\"-436.8\" font-family=\"Helvetica,sans-Serif\" font-size=\"14.00\">class = heart_yes</text>\n</g>\n<!-- 332&#45;&gt;333 -->\n<g id=\"edge53\" class=\"edge\">\n<title>332&#45;&gt;333</title>\n<path fill=\"none\" stroke=\"black\" d=\"M3035,-547.91C3035,-539.65 3035,-530.86 3035,-522.3\"/>\n<polygon fill=\"black\" stroke=\"black\" points=\"3038.5,-522.02 3035,-512.02 3031.5,-522.02 3038.5,-522.02\"/>\n</g>\n<!-- 572 -->\n<g id=\"node81\" class=\"node\">\n<title>572</title>\n<path fill=\"#59ade9\" stroke=\"black\" d=\"M3917,-512C3917,-512 3761,-512 3761,-512 3755,-512 3749,-506 3749,-500 3749,-500 3749,-441 3749,-441 3749,-435 3755,-429 3761,-429 3761,-429 3917,-429 3917,-429 3923,-429 3929,-435 3929,-441 3929,-441 3929,-500 3929,-500 3929,-506 3923,-512 3917,-512\"/>\n<text text-anchor=\"middle\" x=\"3839\" y=\"-496.8\" font-family=\"Helvetica,sans-Serif\" font-size=\"14.00\">blood_cholesterol &lt;= 3.605</text>\n<text text-anchor=\"middle\" x=\"3839\" y=\"-481.8\" font-family=\"Helvetica,sans-Serif\" font-size=\"14.00\">entropy = 0.582</text>\n<text text-anchor=\"middle\" x=\"3839\" y=\"-466.8\" font-family=\"Helvetica,sans-Serif\" font-size=\"14.00\">samples = 883</text>\n<text text-anchor=\"middle\" x=\"3839\" y=\"-451.8\" font-family=\"Helvetica,sans-Serif\" font-size=\"14.00\">value = [123, 760]</text>\n<text text-anchor=\"middle\" x=\"3839\" y=\"-436.8\" font-family=\"Helvetica,sans-Serif\" font-size=\"14.00\">class = heart_yes</text>\n</g>\n<!-- 332&#45;&gt;572 -->\n<g id=\"edge80\" class=\"edge\">\n<title>332&#45;&gt;572</title>\n<path fill=\"none\" stroke=\"black\" d=\"M3101.14,-578.88C3241.87,-558.4 3571.73,-510.39 3738.58,-486.11\"/>\n<polygon fill=\"black\" stroke=\"black\" points=\"3739.45,-489.52 3748.84,-484.62 3738.44,-482.6 3739.45,-489.52\"/>\n</g>\n<!-- 334 -->\n<g id=\"node55\" class=\"node\">\n<title>334</title>\n<path fill=\"#fefcfb\" stroke=\"black\" d=\"M2932.5,-393C2932.5,-393 2831.5,-393 2831.5,-393 2825.5,-393 2819.5,-387 2819.5,-381 2819.5,-381 2819.5,-322 2819.5,-322 2819.5,-316 2825.5,-310 2831.5,-310 2831.5,-310 2932.5,-310 2932.5,-310 2938.5,-310 2944.5,-316 2944.5,-322 2944.5,-322 2944.5,-381 2944.5,-381 2944.5,-387 2938.5,-393 2932.5,-393\"/>\n<text text-anchor=\"middle\" x=\"2882\" y=\"-377.8\" font-family=\"Helvetica,sans-Serif\" font-size=\"14.00\">calories &lt;= 3.84</text>\n<text text-anchor=\"middle\" x=\"2882\" y=\"-362.8\" font-family=\"Helvetica,sans-Serif\" font-size=\"14.00\">entropy = 1.0</text>\n<text text-anchor=\"middle\" x=\"2882\" y=\"-347.8\" font-family=\"Helvetica,sans-Serif\" font-size=\"14.00\">samples = 936</text>\n<text text-anchor=\"middle\" x=\"2882\" y=\"-332.8\" font-family=\"Helvetica,sans-Serif\" font-size=\"14.00\">value = [473, 463]</text>\n<text text-anchor=\"middle\" x=\"2882\" y=\"-317.8\" font-family=\"Helvetica,sans-Serif\" font-size=\"14.00\">class = heart_no</text>\n</g>\n<!-- 333&#45;&gt;334 -->\n<g id=\"edge54\" class=\"edge\">\n<title>333&#45;&gt;334</title>\n<path fill=\"none\" stroke=\"black\" d=\"M2981.92,-428.91C2969.46,-419.38 2956.08,-409.15 2943.29,-399.37\"/>\n<polygon fill=\"black\" stroke=\"black\" points=\"2945.06,-396.32 2934.99,-393.02 2940.81,-401.88 2945.06,-396.32\"/>\n</g>\n<!-- 481 -->\n<g id=\"node70\" class=\"node\">\n<title>481</title>\n<path fill=\"#81c1ee\" stroke=\"black\" d=\"M3256,-393C3256,-393 3130,-393 3130,-393 3124,-393 3118,-387 3118,-381 3118,-381 3118,-322 3118,-322 3118,-316 3124,-310 3130,-310 3130,-310 3256,-310 3256,-310 3262,-310 3268,-316 3268,-322 3268,-322 3268,-381 3268,-381 3268,-387 3262,-393 3256,-393\"/>\n<text text-anchor=\"middle\" x=\"3193\" y=\"-377.8\" font-family=\"Helvetica,sans-Serif\" font-size=\"14.00\">gender_female &lt;= 0.5</text>\n<text text-anchor=\"middle\" x=\"3193\" y=\"-362.8\" font-family=\"Helvetica,sans-Serif\" font-size=\"14.00\">entropy = 0.836</text>\n<text text-anchor=\"middle\" x=\"3193\" y=\"-347.8\" font-family=\"Helvetica,sans-Serif\" font-size=\"14.00\">samples = 529</text>\n<text text-anchor=\"middle\" x=\"3193\" y=\"-332.8\" font-family=\"Helvetica,sans-Serif\" font-size=\"14.00\">value = [141, 388]</text>\n<text text-anchor=\"middle\" x=\"3193\" y=\"-317.8\" font-family=\"Helvetica,sans-Serif\" font-size=\"14.00\">class = heart_yes</text>\n</g>\n<!-- 333&#45;&gt;481 -->\n<g id=\"edge69\" class=\"edge\">\n<title>333&#45;&gt;481</title>\n<path fill=\"none\" stroke=\"black\" d=\"M3089.82,-428.91C3102.81,-419.29 3116.76,-408.95 3130.08,-399.09\"/>\n<polygon fill=\"black\" stroke=\"black\" points=\"3132.33,-401.78 3138.28,-393.02 3128.16,-396.16 3132.33,-401.78\"/>\n</g>\n<!-- 335 -->\n<g id=\"node56\" class=\"node\">\n<title>335</title>\n<path fill=\"#dbedfa\" stroke=\"black\" d=\"M2686,-274C2686,-274 2548,-274 2548,-274 2542,-274 2536,-268 2536,-262 2536,-262 2536,-203 2536,-203 2536,-197 2542,-191 2548,-191 2548,-191 2686,-191 2686,-191 2692,-191 2698,-197 2698,-203 2698,-203 2698,-262 2698,-262 2698,-268 2692,-274 2686,-274\"/>\n<text text-anchor=\"middle\" x=\"2617\" y=\"-258.8\" font-family=\"Helvetica,sans-Serif\" font-size=\"14.00\">family_income &lt;= 16.05</text>\n<text text-anchor=\"middle\" x=\"2617\" y=\"-243.8\" font-family=\"Helvetica,sans-Serif\" font-size=\"14.00\">entropy = 0.993</text>\n<text text-anchor=\"middle\" x=\"2617\" y=\"-228.8\" font-family=\"Helvetica,sans-Serif\" font-size=\"14.00\">samples = 737</text>\n<text text-anchor=\"middle\" x=\"2617\" y=\"-213.8\" font-family=\"Helvetica,sans-Serif\" font-size=\"14.00\">value = [332, 405]</text>\n<text text-anchor=\"middle\" x=\"2617\" y=\"-198.8\" font-family=\"Helvetica,sans-Serif\" font-size=\"14.00\">class = heart_yes</text>\n</g>\n<!-- 334&#45;&gt;335 -->\n<g id=\"edge55\" class=\"edge\">\n<title>334&#45;&gt;335</title>\n<path fill=\"none\" stroke=\"black\" d=\"M2819.2,-322.77C2785.9,-308.07 2744.39,-289.74 2707.66,-273.53\"/>\n<polygon fill=\"black\" stroke=\"black\" points=\"2709,-270.29 2698.43,-269.45 2706.17,-276.69 2709,-270.29\"/>\n</g>\n<!-- 456 -->\n<g id=\"node63\" class=\"node\">\n<title>456</title>\n<path fill=\"#f0b58a\" stroke=\"black\" d=\"M2951,-274C2951,-274 2813,-274 2813,-274 2807,-274 2801,-268 2801,-262 2801,-262 2801,-203 2801,-203 2801,-197 2807,-191 2813,-191 2813,-191 2951,-191 2951,-191 2957,-191 2963,-197 2963,-203 2963,-203 2963,-262 2963,-262 2963,-268 2957,-274 2951,-274\"/>\n<text text-anchor=\"middle\" x=\"2882\" y=\"-258.8\" font-family=\"Helvetica,sans-Serif\" font-size=\"14.00\">family_income &lt;= 23.25</text>\n<text text-anchor=\"middle\" x=\"2882\" y=\"-243.8\" font-family=\"Helvetica,sans-Serif\" font-size=\"14.00\">entropy = 0.871</text>\n<text text-anchor=\"middle\" x=\"2882\" y=\"-228.8\" font-family=\"Helvetica,sans-Serif\" font-size=\"14.00\">samples = 199</text>\n<text text-anchor=\"middle\" x=\"2882\" y=\"-213.8\" font-family=\"Helvetica,sans-Serif\" font-size=\"14.00\">value = [141, 58]</text>\n<text text-anchor=\"middle\" x=\"2882\" y=\"-198.8\" font-family=\"Helvetica,sans-Serif\" font-size=\"14.00\">class = heart_no</text>\n</g>\n<!-- 334&#45;&gt;456 -->\n<g id=\"edge62\" class=\"edge\">\n<title>334&#45;&gt;456</title>\n<path fill=\"none\" stroke=\"black\" d=\"M2882,-309.91C2882,-301.65 2882,-292.86 2882,-284.3\"/>\n<polygon fill=\"black\" stroke=\"black\" points=\"2885.5,-284.02 2882,-274.02 2878.5,-284.02 2885.5,-284.02\"/>\n</g>\n<!-- 336 -->\n<g id=\"node57\" class=\"node\">\n<title>336</title>\n<path fill=\"#67b4eb\" stroke=\"black\" d=\"M2493,-155C2493,-155 2355,-155 2355,-155 2349,-155 2343,-149 2343,-143 2343,-143 2343,-84 2343,-84 2343,-78 2349,-72 2355,-72 2355,-72 2493,-72 2493,-72 2499,-72 2505,-78 2505,-84 2505,-84 2505,-143 2505,-143 2505,-149 2499,-155 2493,-155\"/>\n<text text-anchor=\"middle\" x=\"2424\" y=\"-139.8\" font-family=\"Helvetica,sans-Serif\" font-size=\"14.00\">family_income &lt;= 13.85</text>\n<text text-anchor=\"middle\" x=\"2424\" y=\"-124.8\" font-family=\"Helvetica,sans-Serif\" font-size=\"14.00\">entropy = 0.701</text>\n<text text-anchor=\"middle\" x=\"2424\" y=\"-109.8\" font-family=\"Helvetica,sans-Serif\" font-size=\"14.00\">samples = 100</text>\n<text text-anchor=\"middle\" x=\"2424\" y=\"-94.8\" font-family=\"Helvetica,sans-Serif\" font-size=\"14.00\">value = [19, 81]</text>\n<text text-anchor=\"middle\" x=\"2424\" y=\"-79.8\" font-family=\"Helvetica,sans-Serif\" font-size=\"14.00\">class = heart_yes</text>\n</g>\n<!-- 335&#45;&gt;336 -->\n<g id=\"edge56\" class=\"edge\">\n<title>335&#45;&gt;336</title>\n<path fill=\"none\" stroke=\"black\" d=\"M2550.04,-190.91C2533.72,-181.02 2516.16,-170.37 2499.47,-160.25\"/>\n<polygon fill=\"black\" stroke=\"black\" points=\"2501.21,-157.21 2490.84,-155.02 2497.58,-163.2 2501.21,-157.21\"/>\n</g>\n<!-- 355 -->\n<g id=\"node60\" class=\"node\">\n<title>355</title>\n<path fill=\"#f8fcfe\" stroke=\"black\" d=\"M2699,-155C2699,-155 2535,-155 2535,-155 2529,-155 2523,-149 2523,-143 2523,-143 2523,-84 2523,-84 2523,-78 2529,-72 2535,-72 2535,-72 2699,-72 2699,-72 2705,-72 2711,-78 2711,-84 2711,-84 2711,-143 2711,-143 2711,-149 2705,-155 2699,-155\"/>\n<text text-anchor=\"middle\" x=\"2617\" y=\"-139.8\" font-family=\"Helvetica,sans-Serif\" font-size=\"14.00\">blood_pressure_sys &lt;= 83.0</text>\n<text text-anchor=\"middle\" x=\"2617\" y=\"-124.8\" font-family=\"Helvetica,sans-Serif\" font-size=\"14.00\">entropy = 1.0</text>\n<text text-anchor=\"middle\" x=\"2617\" y=\"-109.8\" font-family=\"Helvetica,sans-Serif\" font-size=\"14.00\">samples = 637</text>\n<text text-anchor=\"middle\" x=\"2617\" y=\"-94.8\" font-family=\"Helvetica,sans-Serif\" font-size=\"14.00\">value = [313, 324]</text>\n<text text-anchor=\"middle\" x=\"2617\" y=\"-79.8\" font-family=\"Helvetica,sans-Serif\" font-size=\"14.00\">class = heart_yes</text>\n</g>\n<!-- 335&#45;&gt;355 -->\n<g id=\"edge59\" class=\"edge\">\n<title>335&#45;&gt;355</title>\n<path fill=\"none\" stroke=\"black\" d=\"M2617,-190.91C2617,-182.65 2617,-173.86 2617,-165.3\"/>\n<polygon fill=\"black\" stroke=\"black\" points=\"2620.5,-165.02 2617,-155.02 2613.5,-165.02 2620.5,-165.02\"/>\n</g>\n<!-- 337 -->\n<g id=\"node58\" class=\"node\">\n<title>337</title>\n<path fill=\"#c0c0c0\" stroke=\"black\" d=\"M2403,-36C2403,-36 2373,-36 2373,-36 2367,-36 2361,-30 2361,-24 2361,-24 2361,-12 2361,-12 2361,-6 2367,0 2373,0 2373,0 2403,0 2403,0 2409,0 2415,-6 2415,-12 2415,-12 2415,-24 2415,-24 2415,-30 2409,-36 2403,-36\"/>\n<text text-anchor=\"middle\" x=\"2388\" y=\"-14.3\" font-family=\"Helvetica,sans-Serif\" font-size=\"14.00\">(...)</text>\n</g>\n<!-- 336&#45;&gt;337 -->\n<g id=\"edge57\" class=\"edge\">\n<title>336&#45;&gt;337</title>\n<path fill=\"none\" stroke=\"black\" d=\"M2408.31,-71.76C2404.96,-63.04 2401.49,-54.04 2398.39,-45.99\"/>\n<polygon fill=\"black\" stroke=\"black\" points=\"2401.56,-44.48 2394.7,-36.41 2395.03,-46.99 2401.56,-44.48\"/>\n</g>\n<!-- 338 -->\n<g id=\"node59\" class=\"node\">\n<title>338</title>\n<path fill=\"#c0c0c0\" stroke=\"black\" d=\"M2475,-36C2475,-36 2445,-36 2445,-36 2439,-36 2433,-30 2433,-24 2433,-24 2433,-12 2433,-12 2433,-6 2439,0 2445,0 2445,0 2475,0 2475,0 2481,0 2487,-6 2487,-12 2487,-12 2487,-24 2487,-24 2487,-30 2481,-36 2475,-36\"/>\n<text text-anchor=\"middle\" x=\"2460\" y=\"-14.3\" font-family=\"Helvetica,sans-Serif\" font-size=\"14.00\">(...)</text>\n</g>\n<!-- 336&#45;&gt;338 -->\n<g id=\"edge58\" class=\"edge\">\n<title>336&#45;&gt;338</title>\n<path fill=\"none\" stroke=\"black\" d=\"M2439.69,-71.76C2443.04,-63.04 2446.51,-54.04 2449.61,-45.99\"/>\n<polygon fill=\"black\" stroke=\"black\" points=\"2452.97,-46.99 2453.3,-36.41 2446.44,-44.48 2452.97,-46.99\"/>\n</g>\n<!-- 356 -->\n<g id=\"node61\" class=\"node\">\n<title>356</title>\n<path fill=\"#c0c0c0\" stroke=\"black\" d=\"M2616,-36C2616,-36 2586,-36 2586,-36 2580,-36 2574,-30 2574,-24 2574,-24 2574,-12 2574,-12 2574,-6 2580,0 2586,0 2586,0 2616,0 2616,0 2622,0 2628,-6 2628,-12 2628,-12 2628,-24 2628,-24 2628,-30 2622,-36 2616,-36\"/>\n<text text-anchor=\"middle\" x=\"2601\" y=\"-14.3\" font-family=\"Helvetica,sans-Serif\" font-size=\"14.00\">(...)</text>\n</g>\n<!-- 355&#45;&gt;356 -->\n<g id=\"edge60\" class=\"edge\">\n<title>355&#45;&gt;356</title>\n<path fill=\"none\" stroke=\"black\" d=\"M2610.03,-71.76C2608.57,-63.24 2607.06,-54.44 2605.71,-46.53\"/>\n<polygon fill=\"black\" stroke=\"black\" points=\"2609.12,-45.67 2603.98,-36.41 2602.22,-46.85 2609.12,-45.67\"/>\n</g>\n<!-- 455 -->\n<g id=\"node62\" class=\"node\">\n<title>455</title>\n<path fill=\"#c0c0c0\" stroke=\"black\" d=\"M2688,-36C2688,-36 2658,-36 2658,-36 2652,-36 2646,-30 2646,-24 2646,-24 2646,-12 2646,-12 2646,-6 2652,0 2658,0 2658,0 2688,0 2688,0 2694,0 2700,-6 2700,-12 2700,-12 2700,-24 2700,-24 2700,-30 2694,-36 2688,-36\"/>\n<text text-anchor=\"middle\" x=\"2673\" y=\"-14.3\" font-family=\"Helvetica,sans-Serif\" font-size=\"14.00\">(...)</text>\n</g>\n<!-- 355&#45;&gt;455 -->\n<g id=\"edge61\" class=\"edge\">\n<title>355&#45;&gt;455</title>\n<path fill=\"none\" stroke=\"black\" d=\"M2641.4,-71.76C2646.8,-62.75 2652.37,-53.44 2657.31,-45.19\"/>\n<polygon fill=\"black\" stroke=\"black\" points=\"2660.44,-46.78 2662.58,-36.41 2654.43,-43.19 2660.44,-46.78\"/>\n</g>\n<!-- 457 -->\n<g id=\"node64\" class=\"node\">\n<title>457</title>\n<path fill=\"#fae7d9\" stroke=\"black\" d=\"M2905,-155C2905,-155 2741,-155 2741,-155 2735,-155 2729,-149 2729,-143 2729,-143 2729,-84 2729,-84 2729,-78 2735,-72 2741,-72 2741,-72 2905,-72 2905,-72 2911,-72 2917,-78 2917,-84 2917,-84 2917,-143 2917,-143 2917,-149 2911,-155 2905,-155\"/>\n<text text-anchor=\"middle\" x=\"2823\" y=\"-139.8\" font-family=\"Helvetica,sans-Serif\" font-size=\"14.00\">blood_pressure_sys &lt;= 57.0</text>\n<text text-anchor=\"middle\" x=\"2823\" y=\"-124.8\" font-family=\"Helvetica,sans-Serif\" font-size=\"14.00\">entropy = 0.992</text>\n<text text-anchor=\"middle\" x=\"2823\" y=\"-109.8\" font-family=\"Helvetica,sans-Serif\" font-size=\"14.00\">samples = 114</text>\n<text text-anchor=\"middle\" x=\"2823\" y=\"-94.8\" font-family=\"Helvetica,sans-Serif\" font-size=\"14.00\">value = [63, 51]</text>\n<text text-anchor=\"middle\" x=\"2823\" y=\"-79.8\" font-family=\"Helvetica,sans-Serif\" font-size=\"14.00\">class = heart_no</text>\n</g>\n<!-- 456&#45;&gt;457 -->\n<g id=\"edge63\" class=\"edge\">\n<title>456&#45;&gt;457</title>\n<path fill=\"none\" stroke=\"black\" d=\"M2861.53,-190.91C2857.18,-182.29 2852.55,-173.09 2848.05,-164.17\"/>\n<polygon fill=\"black\" stroke=\"black\" points=\"2851.06,-162.37 2843.43,-155.02 2844.81,-165.53 2851.06,-162.37\"/>\n</g>\n<!-- 472 -->\n<g id=\"node67\" class=\"node\">\n<title>472</title>\n<path fill=\"#e78c4b\" stroke=\"black\" d=\"M3039,-155C3039,-155 2947,-155 2947,-155 2941,-155 2935,-149 2935,-143 2935,-143 2935,-84 2935,-84 2935,-78 2941,-72 2947,-72 2947,-72 3039,-72 3039,-72 3045,-72 3051,-78 3051,-84 3051,-84 3051,-143 3051,-143 3051,-149 3045,-155 3039,-155\"/>\n<text text-anchor=\"middle\" x=\"2993\" y=\"-139.8\" font-family=\"Helvetica,sans-Serif\" font-size=\"14.00\">age &lt;= 73.5</text>\n<text text-anchor=\"middle\" x=\"2993\" y=\"-124.8\" font-family=\"Helvetica,sans-Serif\" font-size=\"14.00\">entropy = 0.41</text>\n<text text-anchor=\"middle\" x=\"2993\" y=\"-109.8\" font-family=\"Helvetica,sans-Serif\" font-size=\"14.00\">samples = 85</text>\n<text text-anchor=\"middle\" x=\"2993\" y=\"-94.8\" font-family=\"Helvetica,sans-Serif\" font-size=\"14.00\">value = [78, 7]</text>\n<text text-anchor=\"middle\" x=\"2993\" y=\"-79.8\" font-family=\"Helvetica,sans-Serif\" font-size=\"14.00\">class = heart_no</text>\n</g>\n<!-- 456&#45;&gt;472 -->\n<g id=\"edge66\" class=\"edge\">\n<title>456&#45;&gt;472</title>\n<path fill=\"none\" stroke=\"black\" d=\"M2920.51,-190.91C2929.21,-181.74 2938.52,-171.93 2947.47,-162.49\"/>\n<polygon fill=\"black\" stroke=\"black\" points=\"2950.21,-164.68 2954.56,-155.02 2945.14,-159.87 2950.21,-164.68\"/>\n</g>\n<!-- 458 -->\n<g id=\"node65\" class=\"node\">\n<title>458</title>\n<path fill=\"#c0c0c0\" stroke=\"black\" d=\"M2779,-36C2779,-36 2749,-36 2749,-36 2743,-36 2737,-30 2737,-24 2737,-24 2737,-12 2737,-12 2737,-6 2743,0 2749,0 2749,0 2779,0 2779,0 2785,0 2791,-6 2791,-12 2791,-12 2791,-24 2791,-24 2791,-30 2785,-36 2779,-36\"/>\n<text text-anchor=\"middle\" x=\"2764\" y=\"-14.3\" font-family=\"Helvetica,sans-Serif\" font-size=\"14.00\">(...)</text>\n</g>\n<!-- 457&#45;&gt;458 -->\n<g id=\"edge64\" class=\"edge\">\n<title>457&#45;&gt;458</title>\n<path fill=\"none\" stroke=\"black\" d=\"M2797.29,-71.76C2791.55,-62.65 2785.6,-53.24 2780.36,-44.92\"/>\n<polygon fill=\"black\" stroke=\"black\" points=\"2783.28,-42.99 2774.98,-36.41 2777.36,-46.73 2783.28,-42.99\"/>\n</g>\n<!-- 461 -->\n<g id=\"node66\" class=\"node\">\n<title>461</title>\n<path fill=\"#c0c0c0\" stroke=\"black\" d=\"M2851,-36C2851,-36 2821,-36 2821,-36 2815,-36 2809,-30 2809,-24 2809,-24 2809,-12 2809,-12 2809,-6 2815,0 2821,0 2821,0 2851,0 2851,0 2857,0 2863,-6 2863,-12 2863,-12 2863,-24 2863,-24 2863,-30 2857,-36 2851,-36\"/>\n<text text-anchor=\"middle\" x=\"2836\" y=\"-14.3\" font-family=\"Helvetica,sans-Serif\" font-size=\"14.00\">(...)</text>\n</g>\n<!-- 457&#45;&gt;461 -->\n<g id=\"edge65\" class=\"edge\">\n<title>457&#45;&gt;461</title>\n<path fill=\"none\" stroke=\"black\" d=\"M2828.66,-71.76C2829.85,-63.24 2831.07,-54.44 2832.17,-46.53\"/>\n<polygon fill=\"black\" stroke=\"black\" points=\"2835.67,-46.79 2833.58,-36.41 2828.74,-45.83 2835.67,-46.79\"/>\n</g>\n<!-- 473 -->\n<g id=\"node68\" class=\"node\">\n<title>473</title>\n<path fill=\"#c0c0c0\" stroke=\"black\" d=\"M2972,-36C2972,-36 2942,-36 2942,-36 2936,-36 2930,-30 2930,-24 2930,-24 2930,-12 2930,-12 2930,-6 2936,0 2942,0 2942,0 2972,0 2972,0 2978,0 2984,-6 2984,-12 2984,-12 2984,-24 2984,-24 2984,-30 2978,-36 2972,-36\"/>\n<text text-anchor=\"middle\" x=\"2957\" y=\"-14.3\" font-family=\"Helvetica,sans-Serif\" font-size=\"14.00\">(...)</text>\n</g>\n<!-- 472&#45;&gt;473 -->\n<g id=\"edge67\" class=\"edge\">\n<title>472&#45;&gt;473</title>\n<path fill=\"none\" stroke=\"black\" d=\"M2977.31,-71.76C2973.96,-63.04 2970.49,-54.04 2967.39,-45.99\"/>\n<polygon fill=\"black\" stroke=\"black\" points=\"2970.56,-44.48 2963.7,-36.41 2964.03,-46.99 2970.56,-44.48\"/>\n</g>\n<!-- 474 -->\n<g id=\"node69\" class=\"node\">\n<title>474</title>\n<path fill=\"#c0c0c0\" stroke=\"black\" d=\"M3044,-36C3044,-36 3014,-36 3014,-36 3008,-36 3002,-30 3002,-24 3002,-24 3002,-12 3002,-12 3002,-6 3008,0 3014,0 3014,0 3044,0 3044,0 3050,0 3056,-6 3056,-12 3056,-12 3056,-24 3056,-24 3056,-30 3050,-36 3044,-36\"/>\n<text text-anchor=\"middle\" x=\"3029\" y=\"-14.3\" font-family=\"Helvetica,sans-Serif\" font-size=\"14.00\">(...)</text>\n</g>\n<!-- 472&#45;&gt;474 -->\n<g id=\"edge68\" class=\"edge\">\n<title>472&#45;&gt;474</title>\n<path fill=\"none\" stroke=\"black\" d=\"M3008.69,-71.76C3012.04,-63.04 3015.51,-54.04 3018.61,-45.99\"/>\n<polygon fill=\"black\" stroke=\"black\" points=\"3021.97,-46.99 3022.3,-36.41 3015.44,-44.48 3021.97,-46.99\"/>\n</g>\n<!-- 482 -->\n<g id=\"node71\" class=\"node\">\n<title>482</title>\n<path fill=\"#69b5eb\" stroke=\"black\" d=\"M3271,-274C3271,-274 3115,-274 3115,-274 3109,-274 3103,-268 3103,-262 3103,-262 3103,-203 3103,-203 3103,-197 3109,-191 3115,-191 3115,-191 3271,-191 3271,-191 3277,-191 3283,-197 3283,-203 3283,-203 3283,-262 3283,-262 3283,-268 3277,-274 3271,-274\"/>\n<text text-anchor=\"middle\" x=\"3193\" y=\"-258.8\" font-family=\"Helvetica,sans-Serif\" font-size=\"14.00\">blood_cholesterol &lt;= 3.375</text>\n<text text-anchor=\"middle\" x=\"3193\" y=\"-243.8\" font-family=\"Helvetica,sans-Serif\" font-size=\"14.00\">entropy = 0.71</text>\n<text text-anchor=\"middle\" x=\"3193\" y=\"-228.8\" font-family=\"Helvetica,sans-Serif\" font-size=\"14.00\">samples = 299</text>\n<text text-anchor=\"middle\" x=\"3193\" y=\"-213.8\" font-family=\"Helvetica,sans-Serif\" font-size=\"14.00\">value = [58, 241]</text>\n<text text-anchor=\"middle\" x=\"3193\" y=\"-198.8\" font-family=\"Helvetica,sans-Serif\" font-size=\"14.00\">class = heart_yes</text>\n</g>\n<!-- 481&#45;&gt;482 -->\n<g id=\"edge70\" class=\"edge\">\n<title>481&#45;&gt;482</title>\n<path fill=\"none\" stroke=\"black\" d=\"M3193,-309.91C3193,-301.65 3193,-292.86 3193,-284.3\"/>\n<polygon fill=\"black\" stroke=\"black\" points=\"3196.5,-284.02 3193,-274.02 3189.5,-284.02 3196.5,-284.02\"/>\n</g>\n<!-- 529 -->\n<g id=\"node76\" class=\"node\">\n<title>529</title>\n<path fill=\"#a9d4f4\" stroke=\"black\" d=\"M3474,-274C3474,-274 3376,-274 3376,-274 3370,-274 3364,-268 3364,-262 3364,-262 3364,-203 3364,-203 3364,-197 3370,-191 3376,-191 3376,-191 3474,-191 3474,-191 3480,-191 3486,-197 3486,-203 3486,-203 3486,-262 3486,-262 3486,-268 3480,-274 3474,-274\"/>\n<text text-anchor=\"middle\" x=\"3425\" y=\"-258.8\" font-family=\"Helvetica,sans-Serif\" font-size=\"14.00\">BMI &lt;= 101.0</text>\n<text text-anchor=\"middle\" x=\"3425\" y=\"-243.8\" font-family=\"Helvetica,sans-Serif\" font-size=\"14.00\">entropy = 0.943</text>\n<text text-anchor=\"middle\" x=\"3425\" y=\"-228.8\" font-family=\"Helvetica,sans-Serif\" font-size=\"14.00\">samples = 230</text>\n<text text-anchor=\"middle\" x=\"3425\" y=\"-213.8\" font-family=\"Helvetica,sans-Serif\" font-size=\"14.00\">value = [83, 147]</text>\n<text text-anchor=\"middle\" x=\"3425\" y=\"-198.8\" font-family=\"Helvetica,sans-Serif\" font-size=\"14.00\">class = heart_yes</text>\n</g>\n<!-- 481&#45;&gt;529 -->\n<g id=\"edge75\" class=\"edge\">\n<title>481&#45;&gt;529</title>\n<path fill=\"none\" stroke=\"black\" d=\"M3268,-312.68C3295.84,-298.64 3327.28,-282.78 3354.68,-268.96\"/>\n<polygon fill=\"black\" stroke=\"black\" points=\"3356.45,-271.99 3363.81,-264.36 3353.3,-265.74 3356.45,-271.99\"/>\n</g>\n<!-- 483 -->\n<g id=\"node72\" class=\"node\">\n<title>483</title>\n<path fill=\"#399de5\" stroke=\"black\" d=\"M3179,-147.5C3179,-147.5 3081,-147.5 3081,-147.5 3075,-147.5 3069,-141.5 3069,-135.5 3069,-135.5 3069,-91.5 3069,-91.5 3069,-85.5 3075,-79.5 3081,-79.5 3081,-79.5 3179,-79.5 3179,-79.5 3185,-79.5 3191,-85.5 3191,-91.5 3191,-91.5 3191,-135.5 3191,-135.5 3191,-141.5 3185,-147.5 3179,-147.5\"/>\n<text text-anchor=\"middle\" x=\"3130\" y=\"-132.3\" font-family=\"Helvetica,sans-Serif\" font-size=\"14.00\">entropy = 0.0</text>\n<text text-anchor=\"middle\" x=\"3130\" y=\"-117.3\" font-family=\"Helvetica,sans-Serif\" font-size=\"14.00\">samples = 46</text>\n<text text-anchor=\"middle\" x=\"3130\" y=\"-102.3\" font-family=\"Helvetica,sans-Serif\" font-size=\"14.00\">value = [0, 46]</text>\n<text text-anchor=\"middle\" x=\"3130\" y=\"-87.3\" font-family=\"Helvetica,sans-Serif\" font-size=\"14.00\">class = heart_yes</text>\n</g>\n<!-- 482&#45;&gt;483 -->\n<g id=\"edge71\" class=\"edge\">\n<title>482&#45;&gt;483</title>\n<path fill=\"none\" stroke=\"black\" d=\"M3171.14,-190.91C3165.2,-179.87 3158.75,-167.9 3152.76,-156.77\"/>\n<polygon fill=\"black\" stroke=\"black\" points=\"3155.68,-154.81 3147.86,-147.67 3149.52,-158.13 3155.68,-154.81\"/>\n</g>\n<!-- 484 -->\n<g id=\"node73\" class=\"node\">\n<title>484</title>\n<path fill=\"#74baed\" stroke=\"black\" d=\"M3336.5,-155C3336.5,-155 3221.5,-155 3221.5,-155 3215.5,-155 3209.5,-149 3209.5,-143 3209.5,-143 3209.5,-84 3209.5,-84 3209.5,-78 3215.5,-72 3221.5,-72 3221.5,-72 3336.5,-72 3336.5,-72 3342.5,-72 3348.5,-78 3348.5,-84 3348.5,-84 3348.5,-143 3348.5,-143 3348.5,-149 3342.5,-155 3336.5,-155\"/>\n<text text-anchor=\"middle\" x=\"3279\" y=\"-139.8\" font-family=\"Helvetica,sans-Serif\" font-size=\"14.00\">drink_alcohol &lt;= 0.5</text>\n<text text-anchor=\"middle\" x=\"3279\" y=\"-124.8\" font-family=\"Helvetica,sans-Serif\" font-size=\"14.00\">entropy = 0.777</text>\n<text text-anchor=\"middle\" x=\"3279\" y=\"-109.8\" font-family=\"Helvetica,sans-Serif\" font-size=\"14.00\">samples = 253</text>\n<text text-anchor=\"middle\" x=\"3279\" y=\"-94.8\" font-family=\"Helvetica,sans-Serif\" font-size=\"14.00\">value = [58, 195]</text>\n<text text-anchor=\"middle\" x=\"3279\" y=\"-79.8\" font-family=\"Helvetica,sans-Serif\" font-size=\"14.00\">class = heart_yes</text>\n</g>\n<!-- 482&#45;&gt;484 -->\n<g id=\"edge72\" class=\"edge\">\n<title>482&#45;&gt;484</title>\n<path fill=\"none\" stroke=\"black\" d=\"M3222.84,-190.91C3229.37,-182.01 3236.36,-172.51 3243.11,-163.33\"/>\n<polygon fill=\"black\" stroke=\"black\" points=\"3246.11,-165.15 3249.22,-155.02 3240.47,-161.01 3246.11,-165.15\"/>\n</g>\n<!-- 485 -->\n<g id=\"node74\" class=\"node\">\n<title>485</title>\n<path fill=\"#c0c0c0\" stroke=\"black\" d=\"M3258,-36C3258,-36 3228,-36 3228,-36 3222,-36 3216,-30 3216,-24 3216,-24 3216,-12 3216,-12 3216,-6 3222,0 3228,0 3228,0 3258,0 3258,0 3264,0 3270,-6 3270,-12 3270,-12 3270,-24 3270,-24 3270,-30 3264,-36 3258,-36\"/>\n<text text-anchor=\"middle\" x=\"3243\" y=\"-14.3\" font-family=\"Helvetica,sans-Serif\" font-size=\"14.00\">(...)</text>\n</g>\n<!-- 484&#45;&gt;485 -->\n<g id=\"edge73\" class=\"edge\">\n<title>484&#45;&gt;485</title>\n<path fill=\"none\" stroke=\"black\" d=\"M3263.31,-71.76C3259.96,-63.04 3256.49,-54.04 3253.39,-45.99\"/>\n<polygon fill=\"black\" stroke=\"black\" points=\"3256.56,-44.48 3249.7,-36.41 3250.03,-46.99 3256.56,-44.48\"/>\n</g>\n<!-- 494 -->\n<g id=\"node75\" class=\"node\">\n<title>494</title>\n<path fill=\"#c0c0c0\" stroke=\"black\" d=\"M3330,-36C3330,-36 3300,-36 3300,-36 3294,-36 3288,-30 3288,-24 3288,-24 3288,-12 3288,-12 3288,-6 3294,0 3300,0 3300,0 3330,0 3330,0 3336,0 3342,-6 3342,-12 3342,-12 3342,-24 3342,-24 3342,-30 3336,-36 3330,-36\"/>\n<text text-anchor=\"middle\" x=\"3315\" y=\"-14.3\" font-family=\"Helvetica,sans-Serif\" font-size=\"14.00\">(...)</text>\n</g>\n<!-- 484&#45;&gt;494 -->\n<g id=\"edge74\" class=\"edge\">\n<title>484&#45;&gt;494</title>\n<path fill=\"none\" stroke=\"black\" d=\"M3294.69,-71.76C3298.04,-63.04 3301.51,-54.04 3304.61,-45.99\"/>\n<polygon fill=\"black\" stroke=\"black\" points=\"3307.97,-46.99 3308.3,-36.41 3301.44,-44.48 3307.97,-46.99\"/>\n</g>\n<!-- 530 -->\n<g id=\"node77\" class=\"node\">\n<title>530</title>\n<path fill=\"#e58139\" stroke=\"black\" d=\"M3471,-147.5C3471,-147.5 3379,-147.5 3379,-147.5 3373,-147.5 3367,-141.5 3367,-135.5 3367,-135.5 3367,-91.5 3367,-91.5 3367,-85.5 3373,-79.5 3379,-79.5 3379,-79.5 3471,-79.5 3471,-79.5 3477,-79.5 3483,-85.5 3483,-91.5 3483,-91.5 3483,-135.5 3483,-135.5 3483,-141.5 3477,-147.5 3471,-147.5\"/>\n<text text-anchor=\"middle\" x=\"3425\" y=\"-132.3\" font-family=\"Helvetica,sans-Serif\" font-size=\"14.00\">entropy = 0.0</text>\n<text text-anchor=\"middle\" x=\"3425\" y=\"-117.3\" font-family=\"Helvetica,sans-Serif\" font-size=\"14.00\">samples = 9</text>\n<text text-anchor=\"middle\" x=\"3425\" y=\"-102.3\" font-family=\"Helvetica,sans-Serif\" font-size=\"14.00\">value = [9, 0]</text>\n<text text-anchor=\"middle\" x=\"3425\" y=\"-87.3\" font-family=\"Helvetica,sans-Serif\" font-size=\"14.00\">class = heart_no</text>\n</g>\n<!-- 529&#45;&gt;530 -->\n<g id=\"edge76\" class=\"edge\">\n<title>529&#45;&gt;530</title>\n<path fill=\"none\" stroke=\"black\" d=\"M3425,-190.91C3425,-180.2 3425,-168.62 3425,-157.78\"/>\n<polygon fill=\"black\" stroke=\"black\" points=\"3428.5,-157.67 3425,-147.67 3421.5,-157.67 3428.5,-157.67\"/>\n</g>\n<!-- 531 -->\n<g id=\"node78\" class=\"node\">\n<title>531</title>\n<path fill=\"#9dcef2\" stroke=\"black\" d=\"M3642.5,-155C3642.5,-155 3513.5,-155 3513.5,-155 3507.5,-155 3501.5,-149 3501.5,-143 3501.5,-143 3501.5,-84 3501.5,-84 3501.5,-78 3507.5,-72 3513.5,-72 3513.5,-72 3642.5,-72 3642.5,-72 3648.5,-72 3654.5,-78 3654.5,-84 3654.5,-84 3654.5,-143 3654.5,-143 3654.5,-149 3648.5,-155 3642.5,-155\"/>\n<text text-anchor=\"middle\" x=\"3578\" y=\"-139.8\" font-family=\"Helvetica,sans-Serif\" font-size=\"14.00\">diastolic_bp &lt;= 2746.0</text>\n<text text-anchor=\"middle\" x=\"3578\" y=\"-124.8\" font-family=\"Helvetica,sans-Serif\" font-size=\"14.00\">entropy = 0.92</text>\n<text text-anchor=\"middle\" x=\"3578\" y=\"-109.8\" font-family=\"Helvetica,sans-Serif\" font-size=\"14.00\">samples = 221</text>\n<text text-anchor=\"middle\" x=\"3578\" y=\"-94.8\" font-family=\"Helvetica,sans-Serif\" font-size=\"14.00\">value = [74, 147]</text>\n<text text-anchor=\"middle\" x=\"3578\" y=\"-79.8\" font-family=\"Helvetica,sans-Serif\" font-size=\"14.00\">class = heart_yes</text>\n</g>\n<!-- 529&#45;&gt;531 -->\n<g id=\"edge77\" class=\"edge\">\n<title>529&#45;&gt;531</title>\n<path fill=\"none\" stroke=\"black\" d=\"M3478.08,-190.91C3490.54,-181.38 3503.92,-171.15 3516.71,-161.37\"/>\n<polygon fill=\"black\" stroke=\"black\" points=\"3519.19,-163.88 3525.01,-155.02 3514.94,-158.32 3519.19,-163.88\"/>\n</g>\n<!-- 532 -->\n<g id=\"node79\" class=\"node\">\n<title>532</title>\n<path fill=\"#c0c0c0\" stroke=\"black\" d=\"M3531,-36C3531,-36 3501,-36 3501,-36 3495,-36 3489,-30 3489,-24 3489,-24 3489,-12 3489,-12 3489,-6 3495,0 3501,0 3501,0 3531,0 3531,0 3537,0 3543,-6 3543,-12 3543,-12 3543,-24 3543,-24 3543,-30 3537,-36 3531,-36\"/>\n<text text-anchor=\"middle\" x=\"3516\" y=\"-14.3\" font-family=\"Helvetica,sans-Serif\" font-size=\"14.00\">(...)</text>\n</g>\n<!-- 531&#45;&gt;532 -->\n<g id=\"edge78\" class=\"edge\">\n<title>531&#45;&gt;532</title>\n<path fill=\"none\" stroke=\"black\" d=\"M3550.99,-71.76C3544.95,-62.65 3538.7,-53.24 3533.19,-44.92\"/>\n<polygon fill=\"black\" stroke=\"black\" points=\"3535.98,-42.81 3527.54,-36.41 3530.15,-46.67 3535.98,-42.81\"/>\n</g>\n<!-- 565 -->\n<g id=\"node80\" class=\"node\">\n<title>565</title>\n<path fill=\"#c0c0c0\" stroke=\"black\" d=\"M3603,-36C3603,-36 3573,-36 3573,-36 3567,-36 3561,-30 3561,-24 3561,-24 3561,-12 3561,-12 3561,-6 3567,0 3573,0 3573,0 3603,0 3603,0 3609,0 3615,-6 3615,-12 3615,-12 3615,-24 3615,-24 3615,-30 3609,-36 3603,-36\"/>\n<text text-anchor=\"middle\" x=\"3588\" y=\"-14.3\" font-family=\"Helvetica,sans-Serif\" font-size=\"14.00\">(...)</text>\n</g>\n<!-- 531&#45;&gt;565 -->\n<g id=\"edge79\" class=\"edge\">\n<title>531&#45;&gt;565</title>\n<path fill=\"none\" stroke=\"black\" d=\"M3582.36,-71.76C3583.27,-63.24 3584.21,-54.44 3585.06,-46.53\"/>\n<polygon fill=\"black\" stroke=\"black\" points=\"3588.56,-46.72 3586.14,-36.41 3581.59,-45.98 3588.56,-46.72\"/>\n</g>\n<!-- 573 -->\n<g id=\"node82\" class=\"node\">\n<title>573</title>\n<path fill=\"#bddef6\" stroke=\"black\" d=\"M3908,-393C3908,-393 3770,-393 3770,-393 3764,-393 3758,-387 3758,-381 3758,-381 3758,-322 3758,-322 3758,-316 3764,-310 3770,-310 3770,-310 3908,-310 3908,-310 3914,-310 3920,-316 3920,-322 3920,-322 3920,-381 3920,-381 3920,-387 3914,-393 3908,-393\"/>\n<text text-anchor=\"middle\" x=\"3839\" y=\"-377.8\" font-family=\"Helvetica,sans-Serif\" font-size=\"14.00\">family_income &lt;= 27.05</text>\n<text text-anchor=\"middle\" x=\"3839\" y=\"-362.8\" font-family=\"Helvetica,sans-Serif\" font-size=\"14.00\">entropy = 0.971</text>\n<text text-anchor=\"middle\" x=\"3839\" y=\"-347.8\" font-family=\"Helvetica,sans-Serif\" font-size=\"14.00\">samples = 60</text>\n<text text-anchor=\"middle\" x=\"3839\" y=\"-332.8\" font-family=\"Helvetica,sans-Serif\" font-size=\"14.00\">value = [24, 36]</text>\n<text text-anchor=\"middle\" x=\"3839\" y=\"-317.8\" font-family=\"Helvetica,sans-Serif\" font-size=\"14.00\">class = heart_yes</text>\n</g>\n<!-- 572&#45;&gt;573 -->\n<g id=\"edge81\" class=\"edge\">\n<title>572&#45;&gt;573</title>\n<path fill=\"none\" stroke=\"black\" d=\"M3839,-428.91C3839,-420.65 3839,-411.86 3839,-403.3\"/>\n<polygon fill=\"black\" stroke=\"black\" points=\"3842.5,-403.02 3839,-393.02 3835.5,-403.02 3842.5,-403.02\"/>\n</g>\n<!-- 582 -->\n<g id=\"node89\" class=\"node\">\n<title>582</title>\n<path fill=\"#54aae9\" stroke=\"black\" d=\"M4172,-393C4172,-393 4074,-393 4074,-393 4068,-393 4062,-387 4062,-381 4062,-381 4062,-322 4062,-322 4062,-316 4068,-310 4074,-310 4074,-310 4172,-310 4172,-310 4178,-310 4184,-316 4184,-322 4184,-322 4184,-381 4184,-381 4184,-387 4178,-393 4172,-393\"/>\n<text text-anchor=\"middle\" x=\"4123\" y=\"-377.8\" font-family=\"Helvetica,sans-Serif\" font-size=\"14.00\">BMI &lt;= 135.0</text>\n<text text-anchor=\"middle\" x=\"4123\" y=\"-362.8\" font-family=\"Helvetica,sans-Serif\" font-size=\"14.00\">entropy = 0.53</text>\n<text text-anchor=\"middle\" x=\"4123\" y=\"-347.8\" font-family=\"Helvetica,sans-Serif\" font-size=\"14.00\">samples = 823</text>\n<text text-anchor=\"middle\" x=\"4123\" y=\"-332.8\" font-family=\"Helvetica,sans-Serif\" font-size=\"14.00\">value = [99, 724]</text>\n<text text-anchor=\"middle\" x=\"4123\" y=\"-317.8\" font-family=\"Helvetica,sans-Serif\" font-size=\"14.00\">class = heart_yes</text>\n</g>\n<!-- 572&#45;&gt;582 -->\n<g id=\"edge88\" class=\"edge\">\n<title>572&#45;&gt;582</title>\n<path fill=\"none\" stroke=\"black\" d=\"M3929.25,-432.32C3969.08,-415.91 4015.2,-396.91 4052.45,-381.56\"/>\n<polygon fill=\"black\" stroke=\"black\" points=\"4053.81,-384.79 4061.72,-377.75 4051.14,-378.32 4053.81,-384.79\"/>\n</g>\n<!-- 574 -->\n<g id=\"node83\" class=\"node\">\n<title>574</title>\n<path fill=\"#6ab6ec\" stroke=\"black\" d=\"M3832.5,-274C3832.5,-274 3683.5,-274 3683.5,-274 3677.5,-274 3671.5,-268 3671.5,-262 3671.5,-262 3671.5,-203 3671.5,-203 3671.5,-197 3677.5,-191 3683.5,-191 3683.5,-191 3832.5,-191 3832.5,-191 3838.5,-191 3844.5,-197 3844.5,-203 3844.5,-203 3844.5,-262 3844.5,-262 3844.5,-268 3838.5,-274 3832.5,-274\"/>\n<text text-anchor=\"middle\" x=\"3758\" y=\"-258.8\" font-family=\"Helvetica,sans-Serif\" font-size=\"14.00\">blood_cholesterol &lt;= 3.48</text>\n<text text-anchor=\"middle\" x=\"3758\" y=\"-243.8\" font-family=\"Helvetica,sans-Serif\" font-size=\"14.00\">entropy = 0.722</text>\n<text text-anchor=\"middle\" x=\"3758\" y=\"-228.8\" font-family=\"Helvetica,sans-Serif\" font-size=\"14.00\">samples = 45</text>\n<text text-anchor=\"middle\" x=\"3758\" y=\"-213.8\" font-family=\"Helvetica,sans-Serif\" font-size=\"14.00\">value = [9, 36]</text>\n<text text-anchor=\"middle\" x=\"3758\" y=\"-198.8\" font-family=\"Helvetica,sans-Serif\" font-size=\"14.00\">class = heart_yes</text>\n</g>\n<!-- 573&#45;&gt;574 -->\n<g id=\"edge82\" class=\"edge\">\n<title>573&#45;&gt;574</title>\n<path fill=\"none\" stroke=\"black\" d=\"M3810.9,-309.91C3804.74,-301.01 3798.16,-291.51 3791.81,-282.33\"/>\n<polygon fill=\"black\" stroke=\"black\" points=\"3794.62,-280.25 3786.05,-274.02 3788.87,-284.24 3794.62,-280.25\"/>\n</g>\n<!-- 581 -->\n<g id=\"node88\" class=\"node\">\n<title>581</title>\n<path fill=\"#e58139\" stroke=\"black\" d=\"M3967,-266.5C3967,-266.5 3875,-266.5 3875,-266.5 3869,-266.5 3863,-260.5 3863,-254.5 3863,-254.5 3863,-210.5 3863,-210.5 3863,-204.5 3869,-198.5 3875,-198.5 3875,-198.5 3967,-198.5 3967,-198.5 3973,-198.5 3979,-204.5 3979,-210.5 3979,-210.5 3979,-254.5 3979,-254.5 3979,-260.5 3973,-266.5 3967,-266.5\"/>\n<text text-anchor=\"middle\" x=\"3921\" y=\"-251.3\" font-family=\"Helvetica,sans-Serif\" font-size=\"14.00\">entropy = 0.0</text>\n<text text-anchor=\"middle\" x=\"3921\" y=\"-236.3\" font-family=\"Helvetica,sans-Serif\" font-size=\"14.00\">samples = 15</text>\n<text text-anchor=\"middle\" x=\"3921\" y=\"-221.3\" font-family=\"Helvetica,sans-Serif\" font-size=\"14.00\">value = [15, 0]</text>\n<text text-anchor=\"middle\" x=\"3921\" y=\"-206.3\" font-family=\"Helvetica,sans-Serif\" font-size=\"14.00\">class = heart_no</text>\n</g>\n<!-- 573&#45;&gt;581 -->\n<g id=\"edge87\" class=\"edge\">\n<title>573&#45;&gt;581</title>\n<path fill=\"none\" stroke=\"black\" d=\"M3867.45,-309.91C3875.34,-298.65 3883.91,-286.42 3891.84,-275.11\"/>\n<polygon fill=\"black\" stroke=\"black\" points=\"3894.88,-276.86 3897.75,-266.67 3889.15,-272.85 3894.88,-276.86\"/>\n</g>\n<!-- 575 -->\n<g id=\"node84\" class=\"node\">\n<title>575</title>\n<path fill=\"#4fa8e8\" stroke=\"black\" d=\"M3799.5,-155C3799.5,-155 3684.5,-155 3684.5,-155 3678.5,-155 3672.5,-149 3672.5,-143 3672.5,-143 3672.5,-84 3672.5,-84 3672.5,-78 3678.5,-72 3684.5,-72 3684.5,-72 3799.5,-72 3799.5,-72 3805.5,-72 3811.5,-78 3811.5,-84 3811.5,-84 3811.5,-143 3811.5,-143 3811.5,-149 3805.5,-155 3799.5,-155\"/>\n<text text-anchor=\"middle\" x=\"3742\" y=\"-139.8\" font-family=\"Helvetica,sans-Serif\" font-size=\"14.00\">drink_alcohol &lt;= 0.5</text>\n<text text-anchor=\"middle\" x=\"3742\" y=\"-124.8\" font-family=\"Helvetica,sans-Serif\" font-size=\"14.00\">entropy = 0.469</text>\n<text text-anchor=\"middle\" x=\"3742\" y=\"-109.8\" font-family=\"Helvetica,sans-Serif\" font-size=\"14.00\">samples = 40</text>\n<text text-anchor=\"middle\" x=\"3742\" y=\"-94.8\" font-family=\"Helvetica,sans-Serif\" font-size=\"14.00\">value = [4, 36]</text>\n<text text-anchor=\"middle\" x=\"3742\" y=\"-79.8\" font-family=\"Helvetica,sans-Serif\" font-size=\"14.00\">class = heart_yes</text>\n</g>\n<!-- 574&#45;&gt;575 -->\n<g id=\"edge83\" class=\"edge\">\n<title>574&#45;&gt;575</title>\n<path fill=\"none\" stroke=\"black\" d=\"M3752.45,-190.91C3751.31,-182.56 3750.09,-173.67 3748.91,-165.02\"/>\n<polygon fill=\"black\" stroke=\"black\" points=\"3752.36,-164.45 3747.54,-155.02 3745.43,-165.4 3752.36,-164.45\"/>\n</g>\n<!-- 580 -->\n<g id=\"node87\" class=\"node\">\n<title>580</title>\n<path fill=\"#e58139\" stroke=\"black\" d=\"M3934,-147.5C3934,-147.5 3842,-147.5 3842,-147.5 3836,-147.5 3830,-141.5 3830,-135.5 3830,-135.5 3830,-91.5 3830,-91.5 3830,-85.5 3836,-79.5 3842,-79.5 3842,-79.5 3934,-79.5 3934,-79.5 3940,-79.5 3946,-85.5 3946,-91.5 3946,-91.5 3946,-135.5 3946,-135.5 3946,-141.5 3940,-147.5 3934,-147.5\"/>\n<text text-anchor=\"middle\" x=\"3888\" y=\"-132.3\" font-family=\"Helvetica,sans-Serif\" font-size=\"14.00\">entropy = 0.0</text>\n<text text-anchor=\"middle\" x=\"3888\" y=\"-117.3\" font-family=\"Helvetica,sans-Serif\" font-size=\"14.00\">samples = 5</text>\n<text text-anchor=\"middle\" x=\"3888\" y=\"-102.3\" font-family=\"Helvetica,sans-Serif\" font-size=\"14.00\">value = [5, 0]</text>\n<text text-anchor=\"middle\" x=\"3888\" y=\"-87.3\" font-family=\"Helvetica,sans-Serif\" font-size=\"14.00\">class = heart_no</text>\n</g>\n<!-- 574&#45;&gt;580 -->\n<g id=\"edge86\" class=\"edge\">\n<title>574&#45;&gt;580</title>\n<path fill=\"none\" stroke=\"black\" d=\"M3803.1,-190.91C3816.22,-179.1 3830.54,-166.22 3843.61,-154.45\"/>\n<polygon fill=\"black\" stroke=\"black\" points=\"3846.06,-156.96 3851.15,-147.67 3841.37,-151.76 3846.06,-156.96\"/>\n</g>\n<!-- 576 -->\n<g id=\"node85\" class=\"node\">\n<title>576</title>\n<path fill=\"#c0c0c0\" stroke=\"black\" d=\"M3721,-36C3721,-36 3691,-36 3691,-36 3685,-36 3679,-30 3679,-24 3679,-24 3679,-12 3679,-12 3679,-6 3685,0 3691,0 3691,0 3721,0 3721,0 3727,0 3733,-6 3733,-12 3733,-12 3733,-24 3733,-24 3733,-30 3727,-36 3721,-36\"/>\n<text text-anchor=\"middle\" x=\"3706\" y=\"-14.3\" font-family=\"Helvetica,sans-Serif\" font-size=\"14.00\">(...)</text>\n</g>\n<!-- 575&#45;&gt;576 -->\n<g id=\"edge84\" class=\"edge\">\n<title>575&#45;&gt;576</title>\n<path fill=\"none\" stroke=\"black\" d=\"M3726.31,-71.76C3722.96,-63.04 3719.49,-54.04 3716.39,-45.99\"/>\n<polygon fill=\"black\" stroke=\"black\" points=\"3719.56,-44.48 3712.7,-36.41 3713.03,-46.99 3719.56,-44.48\"/>\n</g>\n<!-- 579 -->\n<g id=\"node86\" class=\"node\">\n<title>579</title>\n<path fill=\"#c0c0c0\" stroke=\"black\" d=\"M3793,-36C3793,-36 3763,-36 3763,-36 3757,-36 3751,-30 3751,-24 3751,-24 3751,-12 3751,-12 3751,-6 3757,0 3763,0 3763,0 3793,0 3793,0 3799,0 3805,-6 3805,-12 3805,-12 3805,-24 3805,-24 3805,-30 3799,-36 3793,-36\"/>\n<text text-anchor=\"middle\" x=\"3778\" y=\"-14.3\" font-family=\"Helvetica,sans-Serif\" font-size=\"14.00\">(...)</text>\n</g>\n<!-- 575&#45;&gt;579 -->\n<g id=\"edge85\" class=\"edge\">\n<title>575&#45;&gt;579</title>\n<path fill=\"none\" stroke=\"black\" d=\"M3757.69,-71.76C3761.04,-63.04 3764.51,-54.04 3767.61,-45.99\"/>\n<polygon fill=\"black\" stroke=\"black\" points=\"3770.97,-46.99 3771.3,-36.41 3764.44,-44.48 3770.97,-46.99\"/>\n</g>\n<!-- 583 -->\n<g id=\"node90\" class=\"node\">\n<title>583</title>\n<path fill=\"#59ade9\" stroke=\"black\" d=\"M4205,-274C4205,-274 4041,-274 4041,-274 4035,-274 4029,-268 4029,-262 4029,-262 4029,-203 4029,-203 4029,-197 4035,-191 4041,-191 4041,-191 4205,-191 4205,-191 4211,-191 4217,-197 4217,-203 4217,-203 4217,-262 4217,-262 4217,-268 4211,-274 4205,-274\"/>\n<text text-anchor=\"middle\" x=\"4123\" y=\"-258.8\" font-family=\"Helvetica,sans-Serif\" font-size=\"14.00\">blood_pressure_sys &lt;= 57.0</text>\n<text text-anchor=\"middle\" x=\"4123\" y=\"-243.8\" font-family=\"Helvetica,sans-Serif\" font-size=\"14.00\">entropy = 0.586</text>\n<text text-anchor=\"middle\" x=\"4123\" y=\"-228.8\" font-family=\"Helvetica,sans-Serif\" font-size=\"14.00\">samples = 668</text>\n<text text-anchor=\"middle\" x=\"4123\" y=\"-213.8\" font-family=\"Helvetica,sans-Serif\" font-size=\"14.00\">value = [94, 574]</text>\n<text text-anchor=\"middle\" x=\"4123\" y=\"-198.8\" font-family=\"Helvetica,sans-Serif\" font-size=\"14.00\">class = heart_yes</text>\n</g>\n<!-- 582&#45;&gt;583 -->\n<g id=\"edge89\" class=\"edge\">\n<title>582&#45;&gt;583</title>\n<path fill=\"none\" stroke=\"black\" d=\"M4123,-309.91C4123,-301.65 4123,-292.86 4123,-284.3\"/>\n<polygon fill=\"black\" stroke=\"black\" points=\"4126.5,-284.02 4123,-274.02 4119.5,-284.02 4126.5,-284.02\"/>\n</g>\n<!-- 668 -->\n<g id=\"node97\" class=\"node\">\n<title>668</title>\n<path fill=\"#40a0e6\" stroke=\"black\" d=\"M4393.5,-274C4393.5,-274 4264.5,-274 4264.5,-274 4258.5,-274 4252.5,-268 4252.5,-262 4252.5,-262 4252.5,-203 4252.5,-203 4252.5,-197 4258.5,-191 4264.5,-191 4264.5,-191 4393.5,-191 4393.5,-191 4399.5,-191 4405.5,-197 4405.5,-203 4405.5,-203 4405.5,-262 4405.5,-262 4405.5,-268 4399.5,-274 4393.5,-274\"/>\n<text text-anchor=\"middle\" x=\"4329\" y=\"-258.8\" font-family=\"Helvetica,sans-Serif\" font-size=\"14.00\">diastolic_bp &lt;= 1992.5</text>\n<text text-anchor=\"middle\" x=\"4329\" y=\"-243.8\" font-family=\"Helvetica,sans-Serif\" font-size=\"14.00\">entropy = 0.206</text>\n<text text-anchor=\"middle\" x=\"4329\" y=\"-228.8\" font-family=\"Helvetica,sans-Serif\" font-size=\"14.00\">samples = 155</text>\n<text text-anchor=\"middle\" x=\"4329\" y=\"-213.8\" font-family=\"Helvetica,sans-Serif\" font-size=\"14.00\">value = [5, 150]</text>\n<text text-anchor=\"middle\" x=\"4329\" y=\"-198.8\" font-family=\"Helvetica,sans-Serif\" font-size=\"14.00\">class = heart_yes</text>\n</g>\n<!-- 582&#45;&gt;668 -->\n<g id=\"edge96\" class=\"edge\">\n<title>582&#45;&gt;668</title>\n<path fill=\"none\" stroke=\"black\" d=\"M4184.25,-315.71C4204.47,-304.23 4227.28,-291.27 4248.71,-279.1\"/>\n<polygon fill=\"black\" stroke=\"black\" points=\"4250.51,-282.11 4257.47,-274.12 4247.05,-276.02 4250.51,-282.11\"/>\n</g>\n<!-- 584 -->\n<g id=\"node91\" class=\"node\">\n<title>584</title>\n<path fill=\"#9acdf2\" stroke=\"black\" d=\"M4074,-155C4074,-155 3976,-155 3976,-155 3970,-155 3964,-149 3964,-143 3964,-143 3964,-84 3964,-84 3964,-78 3970,-72 3976,-72 3976,-72 4074,-72 4074,-72 4080,-72 4086,-78 4086,-84 4086,-84 4086,-143 4086,-143 4086,-149 4080,-155 4074,-155\"/>\n<text text-anchor=\"middle\" x=\"4025\" y=\"-139.8\" font-family=\"Helvetica,sans-Serif\" font-size=\"14.00\">calories &lt;= 1.19</text>\n<text text-anchor=\"middle\" x=\"4025\" y=\"-124.8\" font-family=\"Helvetica,sans-Serif\" font-size=\"14.00\">entropy = 0.914</text>\n<text text-anchor=\"middle\" x=\"4025\" y=\"-109.8\" font-family=\"Helvetica,sans-Serif\" font-size=\"14.00\">samples = 76</text>\n<text text-anchor=\"middle\" x=\"4025\" y=\"-94.8\" font-family=\"Helvetica,sans-Serif\" font-size=\"14.00\">value = [25, 51]</text>\n<text text-anchor=\"middle\" x=\"4025\" y=\"-79.8\" font-family=\"Helvetica,sans-Serif\" font-size=\"14.00\">class = heart_yes</text>\n</g>\n<!-- 583&#45;&gt;584 -->\n<g id=\"edge90\" class=\"edge\">\n<title>583&#45;&gt;584</title>\n<path fill=\"none\" stroke=\"black\" d=\"M4089,-190.91C4081.4,-181.83 4073.26,-172.12 4065.43,-162.77\"/>\n<polygon fill=\"black\" stroke=\"black\" points=\"4068.04,-160.44 4058.94,-155.02 4062.68,-164.93 4068.04,-160.44\"/>\n</g>\n<!-- 597 -->\n<g id=\"node94\" class=\"node\">\n<title>597</title>\n<path fill=\"#53aae8\" stroke=\"black\" d=\"M4238,-155C4238,-155 4116,-155 4116,-155 4110,-155 4104,-149 4104,-143 4104,-143 4104,-84 4104,-84 4104,-78 4110,-72 4116,-72 4116,-72 4238,-72 4238,-72 4244,-72 4250,-78 4250,-84 4250,-84 4250,-143 4250,-143 4250,-149 4244,-155 4238,-155\"/>\n<text text-anchor=\"middle\" x=\"4177\" y=\"-139.8\" font-family=\"Helvetica,sans-Serif\" font-size=\"14.00\">diastolic_bp &lt;= 522.0</text>\n<text text-anchor=\"middle\" x=\"4177\" y=\"-124.8\" font-family=\"Helvetica,sans-Serif\" font-size=\"14.00\">entropy = 0.519</text>\n<text text-anchor=\"middle\" x=\"4177\" y=\"-109.8\" font-family=\"Helvetica,sans-Serif\" font-size=\"14.00\">samples = 592</text>\n<text text-anchor=\"middle\" x=\"4177\" y=\"-94.8\" font-family=\"Helvetica,sans-Serif\" font-size=\"14.00\">value = [69, 523]</text>\n<text text-anchor=\"middle\" x=\"4177\" y=\"-79.8\" font-family=\"Helvetica,sans-Serif\" font-size=\"14.00\">class = heart_yes</text>\n</g>\n<!-- 583&#45;&gt;597 -->\n<g id=\"edge93\" class=\"edge\">\n<title>583&#45;&gt;597</title>\n<path fill=\"none\" stroke=\"black\" d=\"M4141.74,-190.91C4145.71,-182.29 4149.96,-173.09 4154.07,-164.17\"/>\n<polygon fill=\"black\" stroke=\"black\" points=\"4157.29,-165.57 4158.3,-155.02 4150.93,-162.63 4157.29,-165.57\"/>\n</g>\n<!-- 585 -->\n<g id=\"node92\" class=\"node\">\n<title>585</title>\n<path fill=\"#c0c0c0\" stroke=\"black\" d=\"M3972,-36C3972,-36 3942,-36 3942,-36 3936,-36 3930,-30 3930,-24 3930,-24 3930,-12 3930,-12 3930,-6 3936,0 3942,0 3942,0 3972,0 3972,0 3978,0 3984,-6 3984,-12 3984,-12 3984,-24 3984,-24 3984,-30 3978,-36 3972,-36\"/>\n<text text-anchor=\"middle\" x=\"3957\" y=\"-14.3\" font-family=\"Helvetica,sans-Serif\" font-size=\"14.00\">(...)</text>\n</g>\n<!-- 584&#45;&gt;585 -->\n<g id=\"edge91\" class=\"edge\">\n<title>584&#45;&gt;585</title>\n<path fill=\"none\" stroke=\"black\" d=\"M3995.37,-71.76C3988.68,-62.56 3981.75,-53.04 3975.66,-44.66\"/>\n<polygon fill=\"black\" stroke=\"black\" points=\"3978.37,-42.43 3969.66,-36.41 3972.71,-46.55 3978.37,-42.43\"/>\n</g>\n<!-- 586 -->\n<g id=\"node93\" class=\"node\">\n<title>586</title>\n<path fill=\"#c0c0c0\" stroke=\"black\" d=\"M4044,-36C4044,-36 4014,-36 4014,-36 4008,-36 4002,-30 4002,-24 4002,-24 4002,-12 4002,-12 4002,-6 4008,0 4014,0 4014,0 4044,0 4044,0 4050,0 4056,-6 4056,-12 4056,-12 4056,-24 4056,-24 4056,-30 4050,-36 4044,-36\"/>\n<text text-anchor=\"middle\" x=\"4029\" y=\"-14.3\" font-family=\"Helvetica,sans-Serif\" font-size=\"14.00\">(...)</text>\n</g>\n<!-- 584&#45;&gt;586 -->\n<g id=\"edge92\" class=\"edge\">\n<title>584&#45;&gt;586</title>\n<path fill=\"none\" stroke=\"black\" d=\"M4026.74,-71.76C4027.11,-63.24 4027.48,-54.44 4027.82,-46.53\"/>\n<polygon fill=\"black\" stroke=\"black\" points=\"4031.32,-46.55 4028.26,-36.41 4024.33,-46.25 4031.32,-46.55\"/>\n</g>\n<!-- 598 -->\n<g id=\"node95\" class=\"node\">\n<title>598</title>\n<path fill=\"#c0c0c0\" stroke=\"black\" d=\"M4156,-36C4156,-36 4126,-36 4126,-36 4120,-36 4114,-30 4114,-24 4114,-24 4114,-12 4114,-12 4114,-6 4120,0 4126,0 4126,0 4156,0 4156,0 4162,0 4168,-6 4168,-12 4168,-12 4168,-24 4168,-24 4168,-30 4162,-36 4156,-36\"/>\n<text text-anchor=\"middle\" x=\"4141\" y=\"-14.3\" font-family=\"Helvetica,sans-Serif\" font-size=\"14.00\">(...)</text>\n</g>\n<!-- 597&#45;&gt;598 -->\n<g id=\"edge94\" class=\"edge\">\n<title>597&#45;&gt;598</title>\n<path fill=\"none\" stroke=\"black\" d=\"M4161.31,-71.76C4157.96,-63.04 4154.49,-54.04 4151.39,-45.99\"/>\n<polygon fill=\"black\" stroke=\"black\" points=\"4154.56,-44.48 4147.7,-36.41 4148.03,-46.99 4154.56,-44.48\"/>\n</g>\n<!-- 599 -->\n<g id=\"node96\" class=\"node\">\n<title>599</title>\n<path fill=\"#c0c0c0\" stroke=\"black\" d=\"M4228,-36C4228,-36 4198,-36 4198,-36 4192,-36 4186,-30 4186,-24 4186,-24 4186,-12 4186,-12 4186,-6 4192,0 4198,0 4198,0 4228,0 4228,0 4234,0 4240,-6 4240,-12 4240,-12 4240,-24 4240,-24 4240,-30 4234,-36 4228,-36\"/>\n<text text-anchor=\"middle\" x=\"4213\" y=\"-14.3\" font-family=\"Helvetica,sans-Serif\" font-size=\"14.00\">(...)</text>\n</g>\n<!-- 597&#45;&gt;599 -->\n<g id=\"edge95\" class=\"edge\">\n<title>597&#45;&gt;599</title>\n<path fill=\"none\" stroke=\"black\" d=\"M4192.69,-71.76C4196.04,-63.04 4199.51,-54.04 4202.61,-45.99\"/>\n<polygon fill=\"black\" stroke=\"black\" points=\"4205.97,-46.99 4206.3,-36.41 4199.44,-44.48 4205.97,-46.99\"/>\n</g>\n<!-- 669 -->\n<g id=\"node98\" class=\"node\">\n<title>669</title>\n<path fill=\"#399de5\" stroke=\"black\" d=\"M4378,-147.5C4378,-147.5 4280,-147.5 4280,-147.5 4274,-147.5 4268,-141.5 4268,-135.5 4268,-135.5 4268,-91.5 4268,-91.5 4268,-85.5 4274,-79.5 4280,-79.5 4280,-79.5 4378,-79.5 4378,-79.5 4384,-79.5 4390,-85.5 4390,-91.5 4390,-91.5 4390,-135.5 4390,-135.5 4390,-141.5 4384,-147.5 4378,-147.5\"/>\n<text text-anchor=\"middle\" x=\"4329\" y=\"-132.3\" font-family=\"Helvetica,sans-Serif\" font-size=\"14.00\">entropy = 0.0</text>\n<text text-anchor=\"middle\" x=\"4329\" y=\"-117.3\" font-family=\"Helvetica,sans-Serif\" font-size=\"14.00\">samples = 110</text>\n<text text-anchor=\"middle\" x=\"4329\" y=\"-102.3\" font-family=\"Helvetica,sans-Serif\" font-size=\"14.00\">value = [0, 110]</text>\n<text text-anchor=\"middle\" x=\"4329\" y=\"-87.3\" font-family=\"Helvetica,sans-Serif\" font-size=\"14.00\">class = heart_yes</text>\n</g>\n<!-- 668&#45;&gt;669 -->\n<g id=\"edge97\" class=\"edge\">\n<title>668&#45;&gt;669</title>\n<path fill=\"none\" stroke=\"black\" d=\"M4329,-190.91C4329,-180.2 4329,-168.62 4329,-157.78\"/>\n<polygon fill=\"black\" stroke=\"black\" points=\"4332.5,-157.67 4329,-147.67 4325.5,-157.67 4332.5,-157.67\"/>\n</g>\n<!-- 670 -->\n<g id=\"node99\" class=\"node\">\n<title>670</title>\n<path fill=\"#52a9e8\" stroke=\"black\" d=\"M4569.5,-155C4569.5,-155 4420.5,-155 4420.5,-155 4414.5,-155 4408.5,-149 4408.5,-143 4408.5,-143 4408.5,-84 4408.5,-84 4408.5,-78 4414.5,-72 4420.5,-72 4420.5,-72 4569.5,-72 4569.5,-72 4575.5,-72 4581.5,-78 4581.5,-84 4581.5,-84 4581.5,-143 4581.5,-143 4581.5,-149 4575.5,-155 4569.5,-155\"/>\n<text text-anchor=\"middle\" x=\"4495\" y=\"-139.8\" font-family=\"Helvetica,sans-Serif\" font-size=\"14.00\">blood_cholesterol &lt;= 4.72</text>\n<text text-anchor=\"middle\" x=\"4495\" y=\"-124.8\" font-family=\"Helvetica,sans-Serif\" font-size=\"14.00\">entropy = 0.503</text>\n<text text-anchor=\"middle\" x=\"4495\" y=\"-109.8\" font-family=\"Helvetica,sans-Serif\" font-size=\"14.00\">samples = 45</text>\n<text text-anchor=\"middle\" x=\"4495\" y=\"-94.8\" font-family=\"Helvetica,sans-Serif\" font-size=\"14.00\">value = [5, 40]</text>\n<text text-anchor=\"middle\" x=\"4495\" y=\"-79.8\" font-family=\"Helvetica,sans-Serif\" font-size=\"14.00\">class = heart_yes</text>\n</g>\n<!-- 668&#45;&gt;670 -->\n<g id=\"edge98\" class=\"edge\">\n<title>668&#45;&gt;670</title>\n<path fill=\"none\" stroke=\"black\" d=\"M4386.59,-190.91C4400.37,-181.2 4415.18,-170.76 4429.29,-160.81\"/>\n<polygon fill=\"black\" stroke=\"black\" points=\"4431.35,-163.64 4437.51,-155.02 4427.32,-157.92 4431.35,-163.64\"/>\n</g>\n<!-- 671 -->\n<g id=\"node100\" class=\"node\">\n<title>671</title>\n<path fill=\"#c0c0c0\" stroke=\"black\" d=\"M4474,-36C4474,-36 4444,-36 4444,-36 4438,-36 4432,-30 4432,-24 4432,-24 4432,-12 4432,-12 4432,-6 4438,0 4444,0 4444,0 4474,0 4474,0 4480,0 4486,-6 4486,-12 4486,-12 4486,-24 4486,-24 4486,-30 4480,-36 4474,-36\"/>\n<text text-anchor=\"middle\" x=\"4459\" y=\"-14.3\" font-family=\"Helvetica,sans-Serif\" font-size=\"14.00\">(...)</text>\n</g>\n<!-- 670&#45;&gt;671 -->\n<g id=\"edge99\" class=\"edge\">\n<title>670&#45;&gt;671</title>\n<path fill=\"none\" stroke=\"black\" d=\"M4479.31,-71.76C4475.96,-63.04 4472.49,-54.04 4469.39,-45.99\"/>\n<polygon fill=\"black\" stroke=\"black\" points=\"4472.56,-44.48 4465.7,-36.41 4466.03,-46.99 4472.56,-44.48\"/>\n</g>\n<!-- 674 -->\n<g id=\"node101\" class=\"node\">\n<title>674</title>\n<path fill=\"#c0c0c0\" stroke=\"black\" d=\"M4546,-36C4546,-36 4516,-36 4516,-36 4510,-36 4504,-30 4504,-24 4504,-24 4504,-12 4504,-12 4504,-6 4510,0 4516,0 4516,0 4546,0 4546,0 4552,0 4558,-6 4558,-12 4558,-12 4558,-24 4558,-24 4558,-30 4552,-36 4546,-36\"/>\n<text text-anchor=\"middle\" x=\"4531\" y=\"-14.3\" font-family=\"Helvetica,sans-Serif\" font-size=\"14.00\">(...)</text>\n</g>\n<!-- 670&#45;&gt;674 -->\n<g id=\"edge100\" class=\"edge\">\n<title>670&#45;&gt;674</title>\n<path fill=\"none\" stroke=\"black\" d=\"M4510.69,-71.76C4514.04,-63.04 4517.51,-54.04 4520.61,-45.99\"/>\n<polygon fill=\"black\" stroke=\"black\" points=\"4523.97,-46.99 4524.3,-36.41 4517.44,-44.48 4523.97,-46.99\"/>\n</g>\n</g>\n</svg>\n",
            "text/plain": [
              "<graphviz.sources.Source at 0x7b9894f55030>"
            ]
          },
          "metadata": {},
          "output_type": "display_data"
        }
      ],
      "source": [
        "# TODO\n",
        "tree3 = DecisionTreeClassifier(criterion=\"entropy\", max_depth=5000)\n",
        "\n",
        "# TODO: fit it to our data\n",
        "tree3.fit(X_train, t_train)\n",
        "\n",
        "\n",
        "# Print the training and validation accuracy\n",
        "print(\"Training Accuracy:\", tree3.score(X_train, t_train))\n",
        "print(\"Validation Accuracy:\", tree3.score(X_valid, t_valid))\n",
        "\n",
        "# TODO: visualize the tree\n",
        "visualize_tree(tree3)"
      ]
    },
    {
      "cell_type": "markdown",
      "id": "excited-massage",
      "metadata": {
        "id": "excited-massage"
      },
      "source": [
        "**Graded Task:** What value of `max_depth` did you choose to make the tree underfit, or overfit? Why do these values cause the graph to underfit, or overfit?"
      ]
    },
    {
      "cell_type": "code",
      "execution_count": 91,
      "id": "swiss-cuisine",
      "metadata": {
        "id": "swiss-cuisine"
      },
      "outputs": [],
      "source": [
        "# I chose 1 for underfitting and 5000 for overfitting.\n",
        "# Each data in the given dataset would have their own category\n",
        "# when depth = 5000, hence it should be overfitting.\n",
        "# The 5000 data would be categorized to 2 categories only when depth = 1,\n",
        "# so underfitting."
      ]
    },
    {
      "cell_type": "markdown",
      "id": "mighty-yukon",
      "metadata": {
        "id": "mighty-yukon"
      },
      "source": [
        "We will now repeat the same computation as above, but vary the `min_samples_split` parameter instead of `max_depth`.\n",
        "\n",
        "**Task:** Similar to what we've been doing above, create another `DecisionTreeClassifier` that uses `entropy` to measure the quality of a split. This time set `min_samples_split` to a value that would cause the tree to *underfit*.  Omit the `max_depth` parameter. Report the accuracy (obtained via the `score()` method) on the validation and training sets. Visualize the tree."
      ]
    },
    {
      "cell_type": "code",
      "execution_count": 92,
      "id": "hearing-blink",
      "metadata": {
        "id": "hearing-blink",
        "colab": {
          "base_uri": "https://localhost:8080/",
          "height": 315
        },
        "outputId": "ee68023f-52db-4bb4-b448-fae82b71fba7"
      },
      "outputs": [
        {
          "output_type": "stream",
          "name": "stdout",
          "text": [
            "Training Accuracy: 0.6804\n",
            "Validation Accuracy: 0.6793333333333333\n"
          ]
        },
        {
          "output_type": "display_data",
          "data": {
            "image/svg+xml": "<?xml version=\"1.0\" encoding=\"UTF-8\" standalone=\"no\"?>\n<!DOCTYPE svg PUBLIC \"-//W3C//DTD SVG 1.1//EN\"\n \"http://www.w3.org/Graphics/SVG/1.1/DTD/svg11.dtd\">\n<!-- Generated by graphviz version 2.43.0 (0)\n -->\n<!-- Title: Tree Pages: 1 -->\n<svg width=\"290pt\" height=\"195pt\"\n viewBox=\"0.00 0.00 290.00 195.00\" xmlns=\"http://www.w3.org/2000/svg\" xmlns:xlink=\"http://www.w3.org/1999/xlink\">\n<g id=\"graph0\" class=\"graph\" transform=\"scale(1 1) rotate(0) translate(4 191)\">\n<title>Tree</title>\n<polygon fill=\"white\" stroke=\"transparent\" points=\"-4,4 -4,-191 286,-191 286,4 -4,4\"/>\n<!-- 0 -->\n<g id=\"node1\" class=\"node\">\n<title>0</title>\n<path fill=\"#fefcfb\" stroke=\"black\" d=\"M199,-187C199,-187 83,-187 83,-187 77,-187 71,-181 71,-175 71,-175 71,-116 71,-116 71,-110 77,-104 83,-104 83,-104 199,-104 199,-104 205,-104 211,-110 211,-116 211,-116 211,-175 211,-175 211,-181 205,-187 199,-187\"/>\n<text text-anchor=\"middle\" x=\"141\" y=\"-171.8\" font-family=\"Helvetica,sans-Serif\" font-size=\"14.00\">age &lt;= 64.5</text>\n<text text-anchor=\"middle\" x=\"141\" y=\"-156.8\" font-family=\"Helvetica,sans-Serif\" font-size=\"14.00\">entropy = 1.0</text>\n<text text-anchor=\"middle\" x=\"141\" y=\"-141.8\" font-family=\"Helvetica,sans-Serif\" font-size=\"14.00\">samples = 5000</text>\n<text text-anchor=\"middle\" x=\"141\" y=\"-126.8\" font-family=\"Helvetica,sans-Serif\" font-size=\"14.00\">value = [2528, 2472]</text>\n<text text-anchor=\"middle\" x=\"141\" y=\"-111.8\" font-family=\"Helvetica,sans-Serif\" font-size=\"14.00\">class = heart_no</text>\n</g>\n<!-- 1 -->\n<g id=\"node2\" class=\"node\">\n<title>1</title>\n<path fill=\"#f1be98\" stroke=\"black\" d=\"M120,-68C120,-68 12,-68 12,-68 6,-68 0,-62 0,-56 0,-56 0,-12 0,-12 0,-6 6,0 12,0 12,0 120,0 120,0 126,0 132,-6 132,-12 132,-12 132,-56 132,-56 132,-62 126,-68 120,-68\"/>\n<text text-anchor=\"middle\" x=\"66\" y=\"-52.8\" font-family=\"Helvetica,sans-Serif\" font-size=\"14.00\">entropy = 0.909</text>\n<text text-anchor=\"middle\" x=\"66\" y=\"-37.8\" font-family=\"Helvetica,sans-Serif\" font-size=\"14.00\">samples = 2652</text>\n<text text-anchor=\"middle\" x=\"66\" y=\"-22.8\" font-family=\"Helvetica,sans-Serif\" font-size=\"14.00\">value = [1791, 861]</text>\n<text text-anchor=\"middle\" x=\"66\" y=\"-7.8\" font-family=\"Helvetica,sans-Serif\" font-size=\"14.00\">class = heart_no</text>\n</g>\n<!-- 0&#45;&gt;1 -->\n<g id=\"edge1\" class=\"edge\">\n<title>0&#45;&gt;1</title>\n<path fill=\"none\" stroke=\"black\" d=\"M113.07,-103.73C107.01,-94.88 100.6,-85.51 94.51,-76.63\"/>\n<polygon fill=\"black\" stroke=\"black\" points=\"97.35,-74.57 88.81,-68.3 91.57,-78.53 97.35,-74.57\"/>\n<text text-anchor=\"middle\" x=\"84.21\" y=\"-89.17\" font-family=\"Helvetica,sans-Serif\" font-size=\"14.00\">True</text>\n</g>\n<!-- 2 -->\n<g id=\"node3\" class=\"node\">\n<title>2</title>\n<path fill=\"#94caf1\" stroke=\"black\" d=\"M270,-68C270,-68 162,-68 162,-68 156,-68 150,-62 150,-56 150,-56 150,-12 150,-12 150,-6 156,0 162,0 162,0 270,0 270,0 276,0 282,-6 282,-12 282,-12 282,-56 282,-56 282,-62 276,-68 270,-68\"/>\n<text text-anchor=\"middle\" x=\"216\" y=\"-52.8\" font-family=\"Helvetica,sans-Serif\" font-size=\"14.00\">entropy = 0.898</text>\n<text text-anchor=\"middle\" x=\"216\" y=\"-37.8\" font-family=\"Helvetica,sans-Serif\" font-size=\"14.00\">samples = 2348</text>\n<text text-anchor=\"middle\" x=\"216\" y=\"-22.8\" font-family=\"Helvetica,sans-Serif\" font-size=\"14.00\">value = [737, 1611]</text>\n<text text-anchor=\"middle\" x=\"216\" y=\"-7.8\" font-family=\"Helvetica,sans-Serif\" font-size=\"14.00\">class = heart_yes</text>\n</g>\n<!-- 0&#45;&gt;2 -->\n<g id=\"edge2\" class=\"edge\">\n<title>0&#45;&gt;2</title>\n<path fill=\"none\" stroke=\"black\" d=\"M168.93,-103.73C174.99,-94.88 181.4,-85.51 187.49,-76.63\"/>\n<polygon fill=\"black\" stroke=\"black\" points=\"190.43,-78.53 193.19,-68.3 184.65,-74.57 190.43,-78.53\"/>\n<text text-anchor=\"middle\" x=\"197.79\" y=\"-89.17\" font-family=\"Helvetica,sans-Serif\" font-size=\"14.00\">False</text>\n</g>\n</g>\n</svg>\n",
            "text/plain": [
              "<graphviz.sources.Source at 0x7b9894be7d00>"
            ]
          },
          "metadata": {}
        }
      ],
      "source": [
        "# TODO\n",
        "tree4 = DecisionTreeClassifier(criterion=\"entropy\", min_samples_split=5000)\n",
        "\n",
        "# TODO: fit it to our data\n",
        "tree4.fit(X_train, t_train)\n",
        "\n",
        "# Print the training and validation accuracy\n",
        "print(\"Training Accuracy:\", tree4.score(X_train, t_train))\n",
        "print(\"Validation Accuracy:\", tree4.score(X_valid, t_valid))\n",
        "\n",
        "# TODO: visualize the tree\n",
        "visualize_tree(tree4)"
      ]
    },
    {
      "cell_type": "markdown",
      "id": "extreme-linux",
      "metadata": {
        "id": "extreme-linux"
      },
      "source": [
        "**Task:** Repeat the same thing you did above. Set `min_samples_split` to a value that would cause the tree to *overfit*. Omit the `max_depth` parameter. Report the accuracy on the validation and training sets. When using `visualize_tree` to visualize the tree, you can leave the default max depth parameter as 5."
      ]
    },
    {
      "cell_type": "code",
      "execution_count": 93,
      "id": "reliable-auction",
      "metadata": {
        "id": "reliable-auction",
        "colab": {
          "base_uri": "https://localhost:8080/",
          "height": 1000
        },
        "outputId": "6be5a3fd-acc5-4947-a6fb-a5f5cddd5e01"
      },
      "outputs": [
        {
          "output_type": "stream",
          "name": "stdout",
          "text": [
            "Training Accuracy: 1.0\n",
            "Validation Accuracy: 0.9633333333333334\n"
          ]
        },
        {
          "output_type": "display_data",
          "data": {
            "image/svg+xml": "<?xml version=\"1.0\" encoding=\"UTF-8\" standalone=\"no\"?>\n<!DOCTYPE svg PUBLIC \"-//W3C//DTD SVG 1.1//EN\"\n \"http://www.w3.org/Graphics/SVG/1.1/DTD/svg11.dtd\">\n<!-- Generated by graphviz version 2.43.0 (0)\n -->\n<!-- Title: Tree Pages: 1 -->\n<svg width=\"4607pt\" height=\"758pt\"\n viewBox=\"0.00 0.00 4606.50 758.00\" xmlns=\"http://www.w3.org/2000/svg\" xmlns:xlink=\"http://www.w3.org/1999/xlink\">\n<g id=\"graph0\" class=\"graph\" transform=\"scale(1 1) rotate(0) translate(4 754)\">\n<title>Tree</title>\n<polygon fill=\"white\" stroke=\"transparent\" points=\"-4,4 -4,-754 4602.5,-754 4602.5,4 -4,4\"/>\n<!-- 0 -->\n<g id=\"node1\" class=\"node\">\n<title>0</title>\n<path fill=\"#fefcfb\" stroke=\"black\" d=\"M2408,-750C2408,-750 2292,-750 2292,-750 2286,-750 2280,-744 2280,-738 2280,-738 2280,-679 2280,-679 2280,-673 2286,-667 2292,-667 2292,-667 2408,-667 2408,-667 2414,-667 2420,-673 2420,-679 2420,-679 2420,-738 2420,-738 2420,-744 2414,-750 2408,-750\"/>\n<text text-anchor=\"middle\" x=\"2350\" y=\"-734.8\" font-family=\"Helvetica,sans-Serif\" font-size=\"14.00\">age &lt;= 64.5</text>\n<text text-anchor=\"middle\" x=\"2350\" y=\"-719.8\" font-family=\"Helvetica,sans-Serif\" font-size=\"14.00\">entropy = 1.0</text>\n<text text-anchor=\"middle\" x=\"2350\" y=\"-704.8\" font-family=\"Helvetica,sans-Serif\" font-size=\"14.00\">samples = 5000</text>\n<text text-anchor=\"middle\" x=\"2350\" y=\"-689.8\" font-family=\"Helvetica,sans-Serif\" font-size=\"14.00\">value = [2528, 2472]</text>\n<text text-anchor=\"middle\" x=\"2350\" y=\"-674.8\" font-family=\"Helvetica,sans-Serif\" font-size=\"14.00\">class = heart_no</text>\n</g>\n<!-- 1 -->\n<g id=\"node2\" class=\"node\">\n<title>1</title>\n<path fill=\"#f1be98\" stroke=\"black\" d=\"M1682,-631C1682,-631 1574,-631 1574,-631 1568,-631 1562,-625 1562,-619 1562,-619 1562,-560 1562,-560 1562,-554 1568,-548 1574,-548 1574,-548 1682,-548 1682,-548 1688,-548 1694,-554 1694,-560 1694,-560 1694,-619 1694,-619 1694,-625 1688,-631 1682,-631\"/>\n<text text-anchor=\"middle\" x=\"1628\" y=\"-615.8\" font-family=\"Helvetica,sans-Serif\" font-size=\"14.00\">chest_pain &lt;= 0.5</text>\n<text text-anchor=\"middle\" x=\"1628\" y=\"-600.8\" font-family=\"Helvetica,sans-Serif\" font-size=\"14.00\">entropy = 0.909</text>\n<text text-anchor=\"middle\" x=\"1628\" y=\"-585.8\" font-family=\"Helvetica,sans-Serif\" font-size=\"14.00\">samples = 2652</text>\n<text text-anchor=\"middle\" x=\"1628\" y=\"-570.8\" font-family=\"Helvetica,sans-Serif\" font-size=\"14.00\">value = [1791, 861]</text>\n<text text-anchor=\"middle\" x=\"1628\" y=\"-555.8\" font-family=\"Helvetica,sans-Serif\" font-size=\"14.00\">class = heart_no</text>\n</g>\n<!-- 0&#45;&gt;1 -->\n<g id=\"edge1\" class=\"edge\">\n<title>0&#45;&gt;1</title>\n<path fill=\"none\" stroke=\"black\" d=\"M2279.79,-696.12C2143.75,-674.08 1845.28,-625.71 1704.45,-602.89\"/>\n<polygon fill=\"black\" stroke=\"black\" points=\"1704.6,-599.37 1694.17,-601.22 1703.48,-606.28 1704.6,-599.37\"/>\n<text text-anchor=\"middle\" x=\"1708.79\" y=\"-617.8\" font-family=\"Helvetica,sans-Serif\" font-size=\"14.00\">True</text>\n</g>\n<!-- 328 -->\n<g id=\"node53\" class=\"node\">\n<title>328</title>\n<path fill=\"#94caf1\" stroke=\"black\" d=\"M3106,-631C3106,-631 2998,-631 2998,-631 2992,-631 2986,-625 2986,-619 2986,-619 2986,-560 2986,-560 2986,-554 2992,-548 2998,-548 2998,-548 3106,-548 3106,-548 3112,-548 3118,-554 3118,-560 3118,-560 3118,-619 3118,-619 3118,-625 3112,-631 3106,-631\"/>\n<text text-anchor=\"middle\" x=\"3052\" y=\"-615.8\" font-family=\"Helvetica,sans-Serif\" font-size=\"14.00\">chest_pain &lt;= 0.5</text>\n<text text-anchor=\"middle\" x=\"3052\" y=\"-600.8\" font-family=\"Helvetica,sans-Serif\" font-size=\"14.00\">entropy = 0.898</text>\n<text text-anchor=\"middle\" x=\"3052\" y=\"-585.8\" font-family=\"Helvetica,sans-Serif\" font-size=\"14.00\">samples = 2348</text>\n<text text-anchor=\"middle\" x=\"3052\" y=\"-570.8\" font-family=\"Helvetica,sans-Serif\" font-size=\"14.00\">value = [737, 1611]</text>\n<text text-anchor=\"middle\" x=\"3052\" y=\"-555.8\" font-family=\"Helvetica,sans-Serif\" font-size=\"14.00\">class = heart_yes</text>\n</g>\n<!-- 0&#45;&gt;328 -->\n<g id=\"edge52\" class=\"edge\">\n<title>0&#45;&gt;328</title>\n<path fill=\"none\" stroke=\"black\" d=\"M2420.2,-695.8C2552.74,-673.71 2838.8,-626.03 2975.82,-603.2\"/>\n<polygon fill=\"black\" stroke=\"black\" points=\"2976.53,-606.63 2985.82,-601.53 2975.38,-599.72 2976.53,-606.63\"/>\n<text text-anchor=\"middle\" x=\"2971.29\" y=\"-618.17\" font-family=\"Helvetica,sans-Serif\" font-size=\"14.00\">False</text>\n</g>\n<!-- 2 -->\n<g id=\"node3\" class=\"node\">\n<title>2</title>\n<path fill=\"#eca36f\" stroke=\"black\" d=\"M724,-512C724,-512 616,-512 616,-512 610,-512 604,-506 604,-500 604,-500 604,-441 604,-441 604,-435 610,-429 616,-429 616,-429 724,-429 724,-429 730,-429 736,-435 736,-441 736,-441 736,-500 736,-500 736,-506 730,-512 724,-512\"/>\n<text text-anchor=\"middle\" x=\"670\" y=\"-496.8\" font-family=\"Helvetica,sans-Serif\" font-size=\"14.00\">age &lt;= 47.5</text>\n<text text-anchor=\"middle\" x=\"670\" y=\"-481.8\" font-family=\"Helvetica,sans-Serif\" font-size=\"14.00\">entropy = 0.747</text>\n<text text-anchor=\"middle\" x=\"670\" y=\"-466.8\" font-family=\"Helvetica,sans-Serif\" font-size=\"14.00\">samples = 1818</text>\n<text text-anchor=\"middle\" x=\"670\" y=\"-451.8\" font-family=\"Helvetica,sans-Serif\" font-size=\"14.00\">value = [1431, 387]</text>\n<text text-anchor=\"middle\" x=\"670\" y=\"-436.8\" font-family=\"Helvetica,sans-Serif\" font-size=\"14.00\">class = heart_no</text>\n</g>\n<!-- 1&#45;&gt;2 -->\n<g id=\"edge2\" class=\"edge\">\n<title>1&#45;&gt;2</title>\n<path fill=\"none\" stroke=\"black\" d=\"M1561.77,-580.41C1389.69,-559.39 929.11,-503.14 746.3,-480.82\"/>\n<polygon fill=\"black\" stroke=\"black\" points=\"746.59,-477.33 736.24,-479.59 745.74,-484.28 746.59,-477.33\"/>\n</g>\n<!-- 185 -->\n<g id=\"node26\" class=\"node\">\n<title>185</title>\n<path fill=\"#cfe7f9\" stroke=\"black\" d=\"M1678.5,-512C1678.5,-512 1577.5,-512 1577.5,-512 1571.5,-512 1565.5,-506 1565.5,-500 1565.5,-500 1565.5,-441 1565.5,-441 1565.5,-435 1571.5,-429 1577.5,-429 1577.5,-429 1678.5,-429 1678.5,-429 1684.5,-429 1690.5,-435 1690.5,-441 1690.5,-441 1690.5,-500 1690.5,-500 1690.5,-506 1684.5,-512 1678.5,-512\"/>\n<text text-anchor=\"middle\" x=\"1628\" y=\"-496.8\" font-family=\"Helvetica,sans-Serif\" font-size=\"14.00\">age &lt;= 56.5</text>\n<text text-anchor=\"middle\" x=\"1628\" y=\"-481.8\" font-family=\"Helvetica,sans-Serif\" font-size=\"14.00\">entropy = 0.986</text>\n<text text-anchor=\"middle\" x=\"1628\" y=\"-466.8\" font-family=\"Helvetica,sans-Serif\" font-size=\"14.00\">samples = 834</text>\n<text text-anchor=\"middle\" x=\"1628\" y=\"-451.8\" font-family=\"Helvetica,sans-Serif\" font-size=\"14.00\">value = [360, 474]</text>\n<text text-anchor=\"middle\" x=\"1628\" y=\"-436.8\" font-family=\"Helvetica,sans-Serif\" font-size=\"14.00\">class = heart_yes</text>\n</g>\n<!-- 1&#45;&gt;185 -->\n<g id=\"edge25\" class=\"edge\">\n<title>1&#45;&gt;185</title>\n<path fill=\"none\" stroke=\"black\" d=\"M1628,-547.91C1628,-539.65 1628,-530.86 1628,-522.3\"/>\n<polygon fill=\"black\" stroke=\"black\" points=\"1631.5,-522.02 1628,-512.02 1624.5,-522.02 1631.5,-522.02\"/>\n</g>\n<!-- 3 -->\n<g id=\"node4\" class=\"node\">\n<title>3</title>\n<path fill=\"#e68641\" stroke=\"black\" d=\"M292,-393C292,-393 166,-393 166,-393 160,-393 154,-387 154,-381 154,-381 154,-322 154,-322 154,-316 160,-310 166,-310 166,-310 292,-310 292,-310 298,-310 304,-316 304,-322 304,-322 304,-381 304,-381 304,-387 298,-393 292,-393\"/>\n<text text-anchor=\"middle\" x=\"229\" y=\"-377.8\" font-family=\"Helvetica,sans-Serif\" font-size=\"14.00\">gender_female &lt;= 0.5</text>\n<text text-anchor=\"middle\" x=\"229\" y=\"-362.8\" font-family=\"Helvetica,sans-Serif\" font-size=\"14.00\">entropy = 0.232</text>\n<text text-anchor=\"middle\" x=\"229\" y=\"-347.8\" font-family=\"Helvetica,sans-Serif\" font-size=\"14.00\">samples = 529</text>\n<text text-anchor=\"middle\" x=\"229\" y=\"-332.8\" font-family=\"Helvetica,sans-Serif\" font-size=\"14.00\">value = [509, 20]</text>\n<text text-anchor=\"middle\" x=\"229\" y=\"-317.8\" font-family=\"Helvetica,sans-Serif\" font-size=\"14.00\">class = heart_no</text>\n</g>\n<!-- 2&#45;&gt;3 -->\n<g id=\"edge3\" class=\"edge\">\n<title>2&#45;&gt;3</title>\n<path fill=\"none\" stroke=\"black\" d=\"M603.98,-451.98C526.78,-431.5 398.82,-397.55 314.19,-375.1\"/>\n<polygon fill=\"black\" stroke=\"black\" points=\"314.92,-371.67 304.35,-372.49 313.12,-378.44 314.92,-371.67\"/>\n</g>\n<!-- 28 -->\n<g id=\"node13\" class=\"node\">\n<title>28</title>\n<path fill=\"#efb388\" stroke=\"black\" d=\"M720.5,-393C720.5,-393 619.5,-393 619.5,-393 613.5,-393 607.5,-387 607.5,-381 607.5,-381 607.5,-322 607.5,-322 607.5,-316 613.5,-310 619.5,-310 619.5,-310 720.5,-310 720.5,-310 726.5,-310 732.5,-316 732.5,-322 732.5,-322 732.5,-381 732.5,-381 732.5,-387 726.5,-393 720.5,-393\"/>\n<text text-anchor=\"middle\" x=\"670\" y=\"-377.8\" font-family=\"Helvetica,sans-Serif\" font-size=\"14.00\">calories &lt;= 4.88</text>\n<text text-anchor=\"middle\" x=\"670\" y=\"-362.8\" font-family=\"Helvetica,sans-Serif\" font-size=\"14.00\">entropy = 0.862</text>\n<text text-anchor=\"middle\" x=\"670\" y=\"-347.8\" font-family=\"Helvetica,sans-Serif\" font-size=\"14.00\">samples = 1289</text>\n<text text-anchor=\"middle\" x=\"670\" y=\"-332.8\" font-family=\"Helvetica,sans-Serif\" font-size=\"14.00\">value = [922, 367]</text>\n<text text-anchor=\"middle\" x=\"670\" y=\"-317.8\" font-family=\"Helvetica,sans-Serif\" font-size=\"14.00\">class = heart_no</text>\n</g>\n<!-- 2&#45;&gt;28 -->\n<g id=\"edge12\" class=\"edge\">\n<title>2&#45;&gt;28</title>\n<path fill=\"none\" stroke=\"black\" d=\"M670,-428.91C670,-420.65 670,-411.86 670,-403.3\"/>\n<polygon fill=\"black\" stroke=\"black\" points=\"673.5,-403.02 670,-393.02 666.5,-403.02 673.5,-403.02\"/>\n</g>\n<!-- 4 -->\n<g id=\"node5\" class=\"node\">\n<title>4</title>\n<path fill=\"#e58139\" stroke=\"black\" d=\"M109,-266.5C109,-266.5 17,-266.5 17,-266.5 11,-266.5 5,-260.5 5,-254.5 5,-254.5 5,-210.5 5,-210.5 5,-204.5 11,-198.5 17,-198.5 17,-198.5 109,-198.5 109,-198.5 115,-198.5 121,-204.5 121,-210.5 121,-210.5 121,-254.5 121,-254.5 121,-260.5 115,-266.5 109,-266.5\"/>\n<text text-anchor=\"middle\" x=\"63\" y=\"-251.3\" font-family=\"Helvetica,sans-Serif\" font-size=\"14.00\">entropy = 0.0</text>\n<text text-anchor=\"middle\" x=\"63\" y=\"-236.3\" font-family=\"Helvetica,sans-Serif\" font-size=\"14.00\">samples = 235</text>\n<text text-anchor=\"middle\" x=\"63\" y=\"-221.3\" font-family=\"Helvetica,sans-Serif\" font-size=\"14.00\">value = [235, 0]</text>\n<text text-anchor=\"middle\" x=\"63\" y=\"-206.3\" font-family=\"Helvetica,sans-Serif\" font-size=\"14.00\">class = heart_no</text>\n</g>\n<!-- 3&#45;&gt;4 -->\n<g id=\"edge4\" class=\"edge\">\n<title>3&#45;&gt;4</title>\n<path fill=\"none\" stroke=\"black\" d=\"M171.41,-309.91C154.19,-297.77 135.35,-284.49 118.28,-272.46\"/>\n<polygon fill=\"black\" stroke=\"black\" points=\"120.25,-269.57 110.06,-266.67 116.21,-275.29 120.25,-269.57\"/>\n</g>\n<!-- 5 -->\n<g id=\"node6\" class=\"node\">\n<title>5</title>\n<path fill=\"#e78a47\" stroke=\"black\" d=\"M307,-274C307,-274 151,-274 151,-274 145,-274 139,-268 139,-262 139,-262 139,-203 139,-203 139,-197 145,-191 151,-191 151,-191 307,-191 307,-191 313,-191 319,-197 319,-203 319,-203 319,-262 319,-262 319,-268 313,-274 307,-274\"/>\n<text text-anchor=\"middle\" x=\"229\" y=\"-258.8\" font-family=\"Helvetica,sans-Serif\" font-size=\"14.00\">blood_cholesterol &lt;= 5.315</text>\n<text text-anchor=\"middle\" x=\"229\" y=\"-243.8\" font-family=\"Helvetica,sans-Serif\" font-size=\"14.00\">entropy = 0.359</text>\n<text text-anchor=\"middle\" x=\"229\" y=\"-228.8\" font-family=\"Helvetica,sans-Serif\" font-size=\"14.00\">samples = 294</text>\n<text text-anchor=\"middle\" x=\"229\" y=\"-213.8\" font-family=\"Helvetica,sans-Serif\" font-size=\"14.00\">value = [274, 20]</text>\n<text text-anchor=\"middle\" x=\"229\" y=\"-198.8\" font-family=\"Helvetica,sans-Serif\" font-size=\"14.00\">class = heart_no</text>\n</g>\n<!-- 3&#45;&gt;5 -->\n<g id=\"edge5\" class=\"edge\">\n<title>3&#45;&gt;5</title>\n<path fill=\"none\" stroke=\"black\" d=\"M229,-309.91C229,-301.65 229,-292.86 229,-284.3\"/>\n<polygon fill=\"black\" stroke=\"black\" points=\"232.5,-284.02 229,-274.02 225.5,-284.02 232.5,-284.02\"/>\n</g>\n<!-- 6 -->\n<g id=\"node7\" class=\"node\">\n<title>6</title>\n<path fill=\"#e68540\" stroke=\"black\" d=\"M109,-155C109,-155 17,-155 17,-155 11,-155 5,-149 5,-143 5,-143 5,-84 5,-84 5,-78 11,-72 17,-72 17,-72 109,-72 109,-72 115,-72 121,-78 121,-84 121,-84 121,-143 121,-143 121,-149 115,-155 109,-155\"/>\n<text text-anchor=\"middle\" x=\"63\" y=\"-139.8\" font-family=\"Helvetica,sans-Serif\" font-size=\"14.00\">calories &lt;= 0.46</text>\n<text text-anchor=\"middle\" x=\"63\" y=\"-124.8\" font-family=\"Helvetica,sans-Serif\" font-size=\"14.00\">entropy = 0.215</text>\n<text text-anchor=\"middle\" x=\"63\" y=\"-109.8\" font-family=\"Helvetica,sans-Serif\" font-size=\"14.00\">samples = 234</text>\n<text text-anchor=\"middle\" x=\"63\" y=\"-94.8\" font-family=\"Helvetica,sans-Serif\" font-size=\"14.00\">value = [226, 8]</text>\n<text text-anchor=\"middle\" x=\"63\" y=\"-79.8\" font-family=\"Helvetica,sans-Serif\" font-size=\"14.00\">class = heart_no</text>\n</g>\n<!-- 5&#45;&gt;6 -->\n<g id=\"edge6\" class=\"edge\">\n<title>5&#45;&gt;6</title>\n<path fill=\"none\" stroke=\"black\" d=\"M171.41,-190.91C157.63,-181.2 142.82,-170.76 128.71,-160.81\"/>\n<polygon fill=\"black\" stroke=\"black\" points=\"130.68,-157.92 120.49,-155.02 126.65,-163.64 130.68,-157.92\"/>\n</g>\n<!-- 17 -->\n<g id=\"node10\" class=\"node\">\n<title>17</title>\n<path fill=\"#eca06a\" stroke=\"black\" d=\"M307,-155C307,-155 151,-155 151,-155 145,-155 139,-149 139,-143 139,-143 139,-84 139,-84 139,-78 145,-72 151,-72 151,-72 307,-72 307,-72 313,-72 319,-78 319,-84 319,-84 319,-143 319,-143 319,-149 313,-155 307,-155\"/>\n<text text-anchor=\"middle\" x=\"229\" y=\"-139.8\" font-family=\"Helvetica,sans-Serif\" font-size=\"14.00\">blood_cholesterol &lt;= 5.625</text>\n<text text-anchor=\"middle\" x=\"229\" y=\"-124.8\" font-family=\"Helvetica,sans-Serif\" font-size=\"14.00\">entropy = 0.722</text>\n<text text-anchor=\"middle\" x=\"229\" y=\"-109.8\" font-family=\"Helvetica,sans-Serif\" font-size=\"14.00\">samples = 60</text>\n<text text-anchor=\"middle\" x=\"229\" y=\"-94.8\" font-family=\"Helvetica,sans-Serif\" font-size=\"14.00\">value = [48, 12]</text>\n<text text-anchor=\"middle\" x=\"229\" y=\"-79.8\" font-family=\"Helvetica,sans-Serif\" font-size=\"14.00\">class = heart_no</text>\n</g>\n<!-- 5&#45;&gt;17 -->\n<g id=\"edge9\" class=\"edge\">\n<title>5&#45;&gt;17</title>\n<path fill=\"none\" stroke=\"black\" d=\"M229,-190.91C229,-182.65 229,-173.86 229,-165.3\"/>\n<polygon fill=\"black\" stroke=\"black\" points=\"232.5,-165.02 229,-155.02 225.5,-165.02 232.5,-165.02\"/>\n</g>\n<!-- 7 -->\n<g id=\"node8\" class=\"node\">\n<title>7</title>\n<path fill=\"#c0c0c0\" stroke=\"black\" d=\"M42,-36C42,-36 12,-36 12,-36 6,-36 0,-30 0,-24 0,-24 0,-12 0,-12 0,-6 6,0 12,0 12,0 42,0 42,0 48,0 54,-6 54,-12 54,-12 54,-24 54,-24 54,-30 48,-36 42,-36\"/>\n<text text-anchor=\"middle\" x=\"27\" y=\"-14.3\" font-family=\"Helvetica,sans-Serif\" font-size=\"14.00\">(...)</text>\n</g>\n<!-- 6&#45;&gt;7 -->\n<g id=\"edge7\" class=\"edge\">\n<title>6&#45;&gt;7</title>\n<path fill=\"none\" stroke=\"black\" d=\"M47.31,-71.76C43.96,-63.04 40.49,-54.04 37.39,-45.99\"/>\n<polygon fill=\"black\" stroke=\"black\" points=\"40.56,-44.48 33.7,-36.41 34.03,-46.99 40.56,-44.48\"/>\n</g>\n<!-- 10 -->\n<g id=\"node9\" class=\"node\">\n<title>10</title>\n<path fill=\"#c0c0c0\" stroke=\"black\" d=\"M114,-36C114,-36 84,-36 84,-36 78,-36 72,-30 72,-24 72,-24 72,-12 72,-12 72,-6 78,0 84,0 84,0 114,0 114,0 120,0 126,-6 126,-12 126,-12 126,-24 126,-24 126,-30 120,-36 114,-36\"/>\n<text text-anchor=\"middle\" x=\"99\" y=\"-14.3\" font-family=\"Helvetica,sans-Serif\" font-size=\"14.00\">(...)</text>\n</g>\n<!-- 6&#45;&gt;10 -->\n<g id=\"edge8\" class=\"edge\">\n<title>6&#45;&gt;10</title>\n<path fill=\"none\" stroke=\"black\" d=\"M78.69,-71.76C82.04,-63.04 85.51,-54.04 88.61,-45.99\"/>\n<polygon fill=\"black\" stroke=\"black\" points=\"91.97,-46.99 92.3,-36.41 85.44,-44.48 91.97,-46.99\"/>\n</g>\n<!-- 18 -->\n<g id=\"node11\" class=\"node\">\n<title>18</title>\n<path fill=\"#c0c0c0\" stroke=\"black\" d=\"M234,-36C234,-36 204,-36 204,-36 198,-36 192,-30 192,-24 192,-24 192,-12 192,-12 192,-6 198,0 204,0 204,0 234,0 234,0 240,0 246,-6 246,-12 246,-12 246,-24 246,-24 246,-30 240,-36 234,-36\"/>\n<text text-anchor=\"middle\" x=\"219\" y=\"-14.3\" font-family=\"Helvetica,sans-Serif\" font-size=\"14.00\">(...)</text>\n</g>\n<!-- 17&#45;&gt;18 -->\n<g id=\"edge10\" class=\"edge\">\n<title>17&#45;&gt;18</title>\n<path fill=\"none\" stroke=\"black\" d=\"M224.64,-71.76C223.73,-63.24 222.79,-54.44 221.94,-46.53\"/>\n<polygon fill=\"black\" stroke=\"black\" points=\"225.41,-45.98 220.86,-36.41 218.44,-46.72 225.41,-45.98\"/>\n</g>\n<!-- 27 -->\n<g id=\"node12\" class=\"node\">\n<title>27</title>\n<path fill=\"#c0c0c0\" stroke=\"black\" d=\"M306,-36C306,-36 276,-36 276,-36 270,-36 264,-30 264,-24 264,-24 264,-12 264,-12 264,-6 270,0 276,0 276,0 306,0 306,0 312,0 318,-6 318,-12 318,-12 318,-24 318,-24 318,-30 312,-36 306,-36\"/>\n<text text-anchor=\"middle\" x=\"291\" y=\"-14.3\" font-family=\"Helvetica,sans-Serif\" font-size=\"14.00\">(...)</text>\n</g>\n<!-- 17&#45;&gt;27 -->\n<g id=\"edge11\" class=\"edge\">\n<title>17&#45;&gt;27</title>\n<path fill=\"none\" stroke=\"black\" d=\"M256.01,-71.76C262.05,-62.65 268.3,-53.24 273.81,-44.92\"/>\n<polygon fill=\"black\" stroke=\"black\" points=\"276.85,-46.67 279.46,-36.41 271.02,-42.81 276.85,-46.67\"/>\n</g>\n<!-- 29 -->\n<g id=\"node14\" class=\"node\">\n<title>29</title>\n<path fill=\"#f3c4a3\" stroke=\"black\" d=\"M647.5,-274C647.5,-274 546.5,-274 546.5,-274 540.5,-274 534.5,-268 534.5,-262 534.5,-262 534.5,-203 534.5,-203 534.5,-197 540.5,-191 546.5,-191 546.5,-191 647.5,-191 647.5,-191 653.5,-191 659.5,-197 659.5,-203 659.5,-203 659.5,-262 659.5,-262 659.5,-268 653.5,-274 647.5,-274\"/>\n<text text-anchor=\"middle\" x=\"597\" y=\"-258.8\" font-family=\"Helvetica,sans-Serif\" font-size=\"14.00\">calories &lt;= 2.92</text>\n<text text-anchor=\"middle\" x=\"597\" y=\"-243.8\" font-family=\"Helvetica,sans-Serif\" font-size=\"14.00\">entropy = 0.932</text>\n<text text-anchor=\"middle\" x=\"597\" y=\"-228.8\" font-family=\"Helvetica,sans-Serif\" font-size=\"14.00\">samples = 1026</text>\n<text text-anchor=\"middle\" x=\"597\" y=\"-213.8\" font-family=\"Helvetica,sans-Serif\" font-size=\"14.00\">value = [669, 357]</text>\n<text text-anchor=\"middle\" x=\"597\" y=\"-198.8\" font-family=\"Helvetica,sans-Serif\" font-size=\"14.00\">class = heart_no</text>\n</g>\n<!-- 28&#45;&gt;29 -->\n<g id=\"edge13\" class=\"edge\">\n<title>28&#45;&gt;29</title>\n<path fill=\"none\" stroke=\"black\" d=\"M644.67,-309.91C639.18,-301.1 633.31,-291.7 627.64,-282.61\"/>\n<polygon fill=\"black\" stroke=\"black\" points=\"630.55,-280.65 622.28,-274.02 624.61,-284.36 630.55,-280.65\"/>\n</g>\n<!-- 176 -->\n<g id=\"node21\" class=\"node\">\n<title>176</title>\n<path fill=\"#e68641\" stroke=\"black\" d=\"M794,-274C794,-274 690,-274 690,-274 684,-274 678,-268 678,-262 678,-262 678,-203 678,-203 678,-197 684,-191 690,-191 690,-191 794,-191 794,-191 800,-191 806,-197 806,-203 806,-203 806,-262 806,-262 806,-268 800,-274 794,-274\"/>\n<text text-anchor=\"middle\" x=\"742\" y=\"-258.8\" font-family=\"Helvetica,sans-Serif\" font-size=\"14.00\">re_hispanic &lt;= 0.5</text>\n<text text-anchor=\"middle\" x=\"742\" y=\"-243.8\" font-family=\"Helvetica,sans-Serif\" font-size=\"14.00\">entropy = 0.233</text>\n<text text-anchor=\"middle\" x=\"742\" y=\"-228.8\" font-family=\"Helvetica,sans-Serif\" font-size=\"14.00\">samples = 263</text>\n<text text-anchor=\"middle\" x=\"742\" y=\"-213.8\" font-family=\"Helvetica,sans-Serif\" font-size=\"14.00\">value = [253, 10]</text>\n<text text-anchor=\"middle\" x=\"742\" y=\"-198.8\" font-family=\"Helvetica,sans-Serif\" font-size=\"14.00\">class = heart_no</text>\n</g>\n<!-- 28&#45;&gt;176 -->\n<g id=\"edge20\" class=\"edge\">\n<title>28&#45;&gt;176</title>\n<path fill=\"none\" stroke=\"black\" d=\"M694.98,-309.91C700.4,-301.1 706.18,-291.7 711.78,-282.61\"/>\n<polygon fill=\"black\" stroke=\"black\" points=\"714.8,-284.37 717.06,-274.02 708.84,-280.7 714.8,-284.37\"/>\n</g>\n<!-- 30 -->\n<g id=\"node15\" class=\"node\">\n<title>30</title>\n<path fill=\"#f5cfb4\" stroke=\"black\" d=\"M513,-155C513,-155 349,-155 349,-155 343,-155 337,-149 337,-143 337,-143 337,-84 337,-84 337,-78 343,-72 349,-72 349,-72 513,-72 513,-72 519,-72 525,-78 525,-84 525,-84 525,-143 525,-143 525,-149 519,-155 513,-155\"/>\n<text text-anchor=\"middle\" x=\"431\" y=\"-139.8\" font-family=\"Helvetica,sans-Serif\" font-size=\"14.00\">blood_pressure_sys &lt;= 71.0</text>\n<text text-anchor=\"middle\" x=\"431\" y=\"-124.8\" font-family=\"Helvetica,sans-Serif\" font-size=\"14.00\">entropy = 0.96</text>\n<text text-anchor=\"middle\" x=\"431\" y=\"-109.8\" font-family=\"Helvetica,sans-Serif\" font-size=\"14.00\">samples = 812</text>\n<text text-anchor=\"middle\" x=\"431\" y=\"-94.8\" font-family=\"Helvetica,sans-Serif\" font-size=\"14.00\">value = [501, 311]</text>\n<text text-anchor=\"middle\" x=\"431\" y=\"-79.8\" font-family=\"Helvetica,sans-Serif\" font-size=\"14.00\">class = heart_no</text>\n</g>\n<!-- 29&#45;&gt;30 -->\n<g id=\"edge14\" class=\"edge\">\n<title>29&#45;&gt;30</title>\n<path fill=\"none\" stroke=\"black\" d=\"M539.41,-190.91C525.63,-181.2 510.82,-170.76 496.71,-160.81\"/>\n<polygon fill=\"black\" stroke=\"black\" points=\"498.68,-157.92 488.49,-155.02 494.65,-163.64 498.68,-157.92\"/>\n</g>\n<!-- 147 -->\n<g id=\"node18\" class=\"node\">\n<title>147</title>\n<path fill=\"#eca46f\" stroke=\"black\" d=\"M648.5,-155C648.5,-155 555.5,-155 555.5,-155 549.5,-155 543.5,-149 543.5,-143 543.5,-143 543.5,-84 543.5,-84 543.5,-78 549.5,-72 555.5,-72 555.5,-72 648.5,-72 648.5,-72 654.5,-72 660.5,-78 660.5,-84 660.5,-84 660.5,-143 660.5,-143 660.5,-149 654.5,-155 648.5,-155\"/>\n<text text-anchor=\"middle\" x=\"602\" y=\"-139.8\" font-family=\"Helvetica,sans-Serif\" font-size=\"14.00\">calories &lt;= 4.27</text>\n<text text-anchor=\"middle\" x=\"602\" y=\"-124.8\" font-family=\"Helvetica,sans-Serif\" font-size=\"14.00\">entropy = 0.751</text>\n<text text-anchor=\"middle\" x=\"602\" y=\"-109.8\" font-family=\"Helvetica,sans-Serif\" font-size=\"14.00\">samples = 214</text>\n<text text-anchor=\"middle\" x=\"602\" y=\"-94.8\" font-family=\"Helvetica,sans-Serif\" font-size=\"14.00\">value = [168, 46]</text>\n<text text-anchor=\"middle\" x=\"602\" y=\"-79.8\" font-family=\"Helvetica,sans-Serif\" font-size=\"14.00\">class = heart_no</text>\n</g>\n<!-- 29&#45;&gt;147 -->\n<g id=\"edge17\" class=\"edge\">\n<title>29&#45;&gt;147</title>\n<path fill=\"none\" stroke=\"black\" d=\"M598.73,-190.91C599.09,-182.56 599.47,-173.67 599.84,-165.02\"/>\n<polygon fill=\"black\" stroke=\"black\" points=\"603.34,-165.16 600.27,-155.02 596.34,-164.86 603.34,-165.16\"/>\n</g>\n<!-- 31 -->\n<g id=\"node16\" class=\"node\">\n<title>31</title>\n<path fill=\"#c0c0c0\" stroke=\"black\" d=\"M384,-36C384,-36 354,-36 354,-36 348,-36 342,-30 342,-24 342,-24 342,-12 342,-12 342,-6 348,0 354,0 354,0 384,0 384,0 390,0 396,-6 396,-12 396,-12 396,-24 396,-24 396,-30 390,-36 384,-36\"/>\n<text text-anchor=\"middle\" x=\"369\" y=\"-14.3\" font-family=\"Helvetica,sans-Serif\" font-size=\"14.00\">(...)</text>\n</g>\n<!-- 30&#45;&gt;31 -->\n<g id=\"edge15\" class=\"edge\">\n<title>30&#45;&gt;31</title>\n<path fill=\"none\" stroke=\"black\" d=\"M403.99,-71.76C397.95,-62.65 391.7,-53.24 386.19,-44.92\"/>\n<polygon fill=\"black\" stroke=\"black\" points=\"388.98,-42.81 380.54,-36.41 383.15,-46.67 388.98,-42.81\"/>\n</g>\n<!-- 124 -->\n<g id=\"node17\" class=\"node\">\n<title>124</title>\n<path fill=\"#c0c0c0\" stroke=\"black\" d=\"M456,-36C456,-36 426,-36 426,-36 420,-36 414,-30 414,-24 414,-24 414,-12 414,-12 414,-6 420,0 426,0 426,0 456,0 456,0 462,0 468,-6 468,-12 468,-12 468,-24 468,-24 468,-30 462,-36 456,-36\"/>\n<text text-anchor=\"middle\" x=\"441\" y=\"-14.3\" font-family=\"Helvetica,sans-Serif\" font-size=\"14.00\">(...)</text>\n</g>\n<!-- 30&#45;&gt;124 -->\n<g id=\"edge16\" class=\"edge\">\n<title>30&#45;&gt;124</title>\n<path fill=\"none\" stroke=\"black\" d=\"M435.36,-71.76C436.27,-63.24 437.21,-54.44 438.06,-46.53\"/>\n<polygon fill=\"black\" stroke=\"black\" points=\"441.56,-46.72 439.14,-36.41 434.59,-45.98 441.56,-46.72\"/>\n</g>\n<!-- 148 -->\n<g id=\"node19\" class=\"node\">\n<title>148</title>\n<path fill=\"#c0c0c0\" stroke=\"black\" d=\"M581,-36C581,-36 551,-36 551,-36 545,-36 539,-30 539,-24 539,-24 539,-12 539,-12 539,-6 545,0 551,0 551,0 581,0 581,0 587,0 593,-6 593,-12 593,-12 593,-24 593,-24 593,-30 587,-36 581,-36\"/>\n<text text-anchor=\"middle\" x=\"566\" y=\"-14.3\" font-family=\"Helvetica,sans-Serif\" font-size=\"14.00\">(...)</text>\n</g>\n<!-- 147&#45;&gt;148 -->\n<g id=\"edge18\" class=\"edge\">\n<title>147&#45;&gt;148</title>\n<path fill=\"none\" stroke=\"black\" d=\"M586.31,-71.76C582.96,-63.04 579.49,-54.04 576.39,-45.99\"/>\n<polygon fill=\"black\" stroke=\"black\" points=\"579.56,-44.48 572.7,-36.41 573.03,-46.99 579.56,-44.48\"/>\n</g>\n<!-- 163 -->\n<g id=\"node20\" class=\"node\">\n<title>163</title>\n<path fill=\"#c0c0c0\" stroke=\"black\" d=\"M653,-36C653,-36 623,-36 623,-36 617,-36 611,-30 611,-24 611,-24 611,-12 611,-12 611,-6 617,0 623,0 623,0 653,0 653,0 659,0 665,-6 665,-12 665,-12 665,-24 665,-24 665,-30 659,-36 653,-36\"/>\n<text text-anchor=\"middle\" x=\"638\" y=\"-14.3\" font-family=\"Helvetica,sans-Serif\" font-size=\"14.00\">(...)</text>\n</g>\n<!-- 147&#45;&gt;163 -->\n<g id=\"edge19\" class=\"edge\">\n<title>147&#45;&gt;163</title>\n<path fill=\"none\" stroke=\"black\" d=\"M617.69,-71.76C621.04,-63.04 624.51,-54.04 627.61,-45.99\"/>\n<polygon fill=\"black\" stroke=\"black\" points=\"630.97,-46.99 631.3,-36.41 624.44,-44.48 630.97,-46.99\"/>\n</g>\n<!-- 177 -->\n<g id=\"node22\" class=\"node\">\n<title>177</title>\n<path fill=\"#e58139\" stroke=\"black\" d=\"M783,-147.5C783,-147.5 691,-147.5 691,-147.5 685,-147.5 679,-141.5 679,-135.5 679,-135.5 679,-91.5 679,-91.5 679,-85.5 685,-79.5 691,-79.5 691,-79.5 783,-79.5 783,-79.5 789,-79.5 795,-85.5 795,-91.5 795,-91.5 795,-135.5 795,-135.5 795,-141.5 789,-147.5 783,-147.5\"/>\n<text text-anchor=\"middle\" x=\"737\" y=\"-132.3\" font-family=\"Helvetica,sans-Serif\" font-size=\"14.00\">entropy = 0.0</text>\n<text text-anchor=\"middle\" x=\"737\" y=\"-117.3\" font-family=\"Helvetica,sans-Serif\" font-size=\"14.00\">samples = 218</text>\n<text text-anchor=\"middle\" x=\"737\" y=\"-102.3\" font-family=\"Helvetica,sans-Serif\" font-size=\"14.00\">value = [218, 0]</text>\n<text text-anchor=\"middle\" x=\"737\" y=\"-87.3\" font-family=\"Helvetica,sans-Serif\" font-size=\"14.00\">class = heart_no</text>\n</g>\n<!-- 176&#45;&gt;177 -->\n<g id=\"edge21\" class=\"edge\">\n<title>176&#45;&gt;177</title>\n<path fill=\"none\" stroke=\"black\" d=\"M740.27,-190.91C739.81,-180.2 739.31,-168.62 738.85,-157.78\"/>\n<polygon fill=\"black\" stroke=\"black\" points=\"742.34,-157.51 738.42,-147.67 735.35,-157.81 742.34,-157.51\"/>\n</g>\n<!-- 178 -->\n<g id=\"node23\" class=\"node\">\n<title>178</title>\n<path fill=\"#eca572\" stroke=\"black\" d=\"M917,-155C917,-155 825,-155 825,-155 819,-155 813,-149 813,-143 813,-143 813,-84 813,-84 813,-78 819,-72 825,-72 825,-72 917,-72 917,-72 923,-72 929,-78 929,-84 929,-84 929,-143 929,-143 929,-149 923,-155 917,-155\"/>\n<text text-anchor=\"middle\" x=\"871\" y=\"-139.8\" font-family=\"Helvetica,sans-Serif\" font-size=\"14.00\">age &lt;= 48.5</text>\n<text text-anchor=\"middle\" x=\"871\" y=\"-124.8\" font-family=\"Helvetica,sans-Serif\" font-size=\"14.00\">entropy = 0.764</text>\n<text text-anchor=\"middle\" x=\"871\" y=\"-109.8\" font-family=\"Helvetica,sans-Serif\" font-size=\"14.00\">samples = 45</text>\n<text text-anchor=\"middle\" x=\"871\" y=\"-94.8\" font-family=\"Helvetica,sans-Serif\" font-size=\"14.00\">value = [35, 10]</text>\n<text text-anchor=\"middle\" x=\"871\" y=\"-79.8\" font-family=\"Helvetica,sans-Serif\" font-size=\"14.00\">class = heart_no</text>\n</g>\n<!-- 176&#45;&gt;178 -->\n<g id=\"edge22\" class=\"edge\">\n<title>176&#45;&gt;178</title>\n<path fill=\"none\" stroke=\"black\" d=\"M786.76,-190.91C797.06,-181.56 808.11,-171.54 818.71,-161.93\"/>\n<polygon fill=\"black\" stroke=\"black\" points=\"821.27,-164.33 826.32,-155.02 816.56,-159.15 821.27,-164.33\"/>\n</g>\n<!-- 179 -->\n<g id=\"node24\" class=\"node\">\n<title>179</title>\n<path fill=\"#c0c0c0\" stroke=\"black\" d=\"M820,-36C820,-36 790,-36 790,-36 784,-36 778,-30 778,-24 778,-24 778,-12 778,-12 778,-6 784,0 790,0 790,0 820,0 820,0 826,0 832,-6 832,-12 832,-12 832,-24 832,-24 832,-30 826,-36 820,-36\"/>\n<text text-anchor=\"middle\" x=\"805\" y=\"-14.3\" font-family=\"Helvetica,sans-Serif\" font-size=\"14.00\">(...)</text>\n</g>\n<!-- 178&#45;&gt;179 -->\n<g id=\"edge23\" class=\"edge\">\n<title>178&#45;&gt;179</title>\n<path fill=\"none\" stroke=\"black\" d=\"M842.24,-71.76C835.75,-62.56 829.03,-53.04 823.11,-44.66\"/>\n<polygon fill=\"black\" stroke=\"black\" points=\"825.91,-42.56 817.29,-36.41 820.19,-46.59 825.91,-42.56\"/>\n</g>\n<!-- 180 -->\n<g id=\"node25\" class=\"node\">\n<title>180</title>\n<path fill=\"#c0c0c0\" stroke=\"black\" d=\"M892,-36C892,-36 862,-36 862,-36 856,-36 850,-30 850,-24 850,-24 850,-12 850,-12 850,-6 856,0 862,0 862,0 892,0 892,0 898,0 904,-6 904,-12 904,-12 904,-24 904,-24 904,-30 898,-36 892,-36\"/>\n<text text-anchor=\"middle\" x=\"877\" y=\"-14.3\" font-family=\"Helvetica,sans-Serif\" font-size=\"14.00\">(...)</text>\n</g>\n<!-- 178&#45;&gt;180 -->\n<g id=\"edge24\" class=\"edge\">\n<title>178&#45;&gt;180</title>\n<path fill=\"none\" stroke=\"black\" d=\"M873.61,-71.76C874.16,-63.24 874.73,-54.44 875.23,-46.53\"/>\n<polygon fill=\"black\" stroke=\"black\" points=\"878.74,-46.61 875.88,-36.41 871.75,-46.16 878.74,-46.61\"/>\n</g>\n<!-- 186 -->\n<g id=\"node27\" class=\"node\">\n<title>186</title>\n<path fill=\"#fae6d7\" stroke=\"black\" d=\"M1517.5,-393C1517.5,-393 1416.5,-393 1416.5,-393 1410.5,-393 1404.5,-387 1404.5,-381 1404.5,-381 1404.5,-322 1404.5,-322 1404.5,-316 1410.5,-310 1416.5,-310 1416.5,-310 1517.5,-310 1517.5,-310 1523.5,-310 1529.5,-316 1529.5,-322 1529.5,-322 1529.5,-381 1529.5,-381 1529.5,-387 1523.5,-393 1517.5,-393\"/>\n<text text-anchor=\"middle\" x=\"1467\" y=\"-377.8\" font-family=\"Helvetica,sans-Serif\" font-size=\"14.00\">calories &lt;= 4.17</text>\n<text text-anchor=\"middle\" x=\"1467\" y=\"-362.8\" font-family=\"Helvetica,sans-Serif\" font-size=\"14.00\">entropy = 0.991</text>\n<text text-anchor=\"middle\" x=\"1467\" y=\"-347.8\" font-family=\"Helvetica,sans-Serif\" font-size=\"14.00\">samples = 448</text>\n<text text-anchor=\"middle\" x=\"1467\" y=\"-332.8\" font-family=\"Helvetica,sans-Serif\" font-size=\"14.00\">value = [249, 199]</text>\n<text text-anchor=\"middle\" x=\"1467\" y=\"-317.8\" font-family=\"Helvetica,sans-Serif\" font-size=\"14.00\">class = heart_no</text>\n</g>\n<!-- 185&#45;&gt;186 -->\n<g id=\"edge26\" class=\"edge\">\n<title>185&#45;&gt;186</title>\n<path fill=\"none\" stroke=\"black\" d=\"M1572.14,-428.91C1558.9,-419.29 1544.68,-408.95 1531.11,-399.09\"/>\n<polygon fill=\"black\" stroke=\"black\" points=\"1532.91,-396.07 1522.76,-393.02 1528.79,-401.73 1532.91,-396.07\"/>\n</g>\n<!-- 265 -->\n<g id=\"node40\" class=\"node\">\n<title>265</title>\n<path fill=\"#89c5ef\" stroke=\"black\" d=\"M1864.5,-393C1864.5,-393 1763.5,-393 1763.5,-393 1757.5,-393 1751.5,-387 1751.5,-381 1751.5,-381 1751.5,-322 1751.5,-322 1751.5,-316 1757.5,-310 1763.5,-310 1763.5,-310 1864.5,-310 1864.5,-310 1870.5,-310 1876.5,-316 1876.5,-322 1876.5,-322 1876.5,-381 1876.5,-381 1876.5,-387 1870.5,-393 1864.5,-393\"/>\n<text text-anchor=\"middle\" x=\"1814\" y=\"-377.8\" font-family=\"Helvetica,sans-Serif\" font-size=\"14.00\">age &lt;= 58.5</text>\n<text text-anchor=\"middle\" x=\"1814\" y=\"-362.8\" font-family=\"Helvetica,sans-Serif\" font-size=\"14.00\">entropy = 0.866</text>\n<text text-anchor=\"middle\" x=\"1814\" y=\"-347.8\" font-family=\"Helvetica,sans-Serif\" font-size=\"14.00\">samples = 386</text>\n<text text-anchor=\"middle\" x=\"1814\" y=\"-332.8\" font-family=\"Helvetica,sans-Serif\" font-size=\"14.00\">value = [111, 275]</text>\n<text text-anchor=\"middle\" x=\"1814\" y=\"-317.8\" font-family=\"Helvetica,sans-Serif\" font-size=\"14.00\">class = heart_yes</text>\n</g>\n<!-- 185&#45;&gt;265 -->\n<g id=\"edge39\" class=\"edge\">\n<title>185&#45;&gt;265</title>\n<path fill=\"none\" stroke=\"black\" d=\"M1690.71,-430.05C1707.33,-419.6 1725.39,-408.24 1742.44,-397.52\"/>\n<polygon fill=\"black\" stroke=\"black\" points=\"1744.64,-400.26 1751.24,-391.98 1740.92,-394.34 1744.64,-400.26\"/>\n</g>\n<!-- 187 -->\n<g id=\"node28\" class=\"node\">\n<title>187</title>\n<path fill=\"#f9fcfe\" stroke=\"black\" d=\"M1264.5,-274C1264.5,-274 1163.5,-274 1163.5,-274 1157.5,-274 1151.5,-268 1151.5,-262 1151.5,-262 1151.5,-203 1151.5,-203 1151.5,-197 1157.5,-191 1163.5,-191 1163.5,-191 1264.5,-191 1264.5,-191 1270.5,-191 1276.5,-197 1276.5,-203 1276.5,-203 1276.5,-262 1276.5,-262 1276.5,-268 1270.5,-274 1264.5,-274\"/>\n<text text-anchor=\"middle\" x=\"1214\" y=\"-258.8\" font-family=\"Helvetica,sans-Serif\" font-size=\"14.00\">age &lt;= 42.5</text>\n<text text-anchor=\"middle\" x=\"1214\" y=\"-243.8\" font-family=\"Helvetica,sans-Serif\" font-size=\"14.00\">entropy = 1.0</text>\n<text text-anchor=\"middle\" x=\"1214\" y=\"-228.8\" font-family=\"Helvetica,sans-Serif\" font-size=\"14.00\">samples = 380</text>\n<text text-anchor=\"middle\" x=\"1214\" y=\"-213.8\" font-family=\"Helvetica,sans-Serif\" font-size=\"14.00\">value = [187, 193]</text>\n<text text-anchor=\"middle\" x=\"1214\" y=\"-198.8\" font-family=\"Helvetica,sans-Serif\" font-size=\"14.00\">class = heart_yes</text>\n</g>\n<!-- 186&#45;&gt;187 -->\n<g id=\"edge27\" class=\"edge\">\n<title>186&#45;&gt;187</title>\n<path fill=\"none\" stroke=\"black\" d=\"M1404.46,-321.58C1368.58,-304.98 1323.38,-284.08 1286.02,-266.8\"/>\n<polygon fill=\"black\" stroke=\"black\" points=\"1287.24,-263.51 1276.7,-262.49 1284.3,-269.87 1287.24,-263.51\"/>\n</g>\n<!-- 258 -->\n<g id=\"node35\" class=\"node\">\n<title>258</title>\n<path fill=\"#e88d4c\" stroke=\"black\" d=\"M1536,-274C1536,-274 1398,-274 1398,-274 1392,-274 1386,-268 1386,-262 1386,-262 1386,-203 1386,-203 1386,-197 1392,-191 1398,-191 1398,-191 1536,-191 1536,-191 1542,-191 1548,-197 1548,-203 1548,-203 1548,-262 1548,-262 1548,-268 1542,-274 1536,-274\"/>\n<text text-anchor=\"middle\" x=\"1467\" y=\"-258.8\" font-family=\"Helvetica,sans-Serif\" font-size=\"14.00\">family_income &lt;= 41.25</text>\n<text text-anchor=\"middle\" x=\"1467\" y=\"-243.8\" font-family=\"Helvetica,sans-Serif\" font-size=\"14.00\">entropy = 0.431</text>\n<text text-anchor=\"middle\" x=\"1467\" y=\"-228.8\" font-family=\"Helvetica,sans-Serif\" font-size=\"14.00\">samples = 68</text>\n<text text-anchor=\"middle\" x=\"1467\" y=\"-213.8\" font-family=\"Helvetica,sans-Serif\" font-size=\"14.00\">value = [62, 6]</text>\n<text text-anchor=\"middle\" x=\"1467\" y=\"-198.8\" font-family=\"Helvetica,sans-Serif\" font-size=\"14.00\">class = heart_no</text>\n</g>\n<!-- 186&#45;&gt;258 -->\n<g id=\"edge34\" class=\"edge\">\n<title>186&#45;&gt;258</title>\n<path fill=\"none\" stroke=\"black\" d=\"M1467,-309.91C1467,-301.65 1467,-292.86 1467,-284.3\"/>\n<polygon fill=\"black\" stroke=\"black\" points=\"1470.5,-284.02 1467,-274.02 1463.5,-284.02 1470.5,-284.02\"/>\n</g>\n<!-- 188 -->\n<g id=\"node29\" class=\"node\">\n<title>188</title>\n<path fill=\"#e78c49\" stroke=\"black\" d=\"M1097,-155C1097,-155 959,-155 959,-155 953,-155 947,-149 947,-143 947,-143 947,-84 947,-84 947,-78 953,-72 959,-72 959,-72 1097,-72 1097,-72 1103,-72 1109,-78 1109,-84 1109,-84 1109,-143 1109,-143 1109,-149 1103,-155 1097,-155\"/>\n<text text-anchor=\"middle\" x=\"1028\" y=\"-139.8\" font-family=\"Helvetica,sans-Serif\" font-size=\"14.00\">family_income &lt;= 17.05</text>\n<text text-anchor=\"middle\" x=\"1028\" y=\"-124.8\" font-family=\"Helvetica,sans-Serif\" font-size=\"14.00\">entropy = 0.391</text>\n<text text-anchor=\"middle\" x=\"1028\" y=\"-109.8\" font-family=\"Helvetica,sans-Serif\" font-size=\"14.00\">samples = 39</text>\n<text text-anchor=\"middle\" x=\"1028\" y=\"-94.8\" font-family=\"Helvetica,sans-Serif\" font-size=\"14.00\">value = [36, 3]</text>\n<text text-anchor=\"middle\" x=\"1028\" y=\"-79.8\" font-family=\"Helvetica,sans-Serif\" font-size=\"14.00\">class = heart_no</text>\n</g>\n<!-- 187&#45;&gt;188 -->\n<g id=\"edge28\" class=\"edge\">\n<title>187&#45;&gt;188</title>\n<path fill=\"none\" stroke=\"black\" d=\"M1151.29,-192.05C1135.21,-181.94 1117.78,-170.98 1101.23,-160.56\"/>\n<polygon fill=\"black\" stroke=\"black\" points=\"1102.99,-157.54 1092.66,-155.17 1099.26,-163.46 1102.99,-157.54\"/>\n</g>\n<!-- 193 -->\n<g id=\"node32\" class=\"node\">\n<title>193</title>\n<path fill=\"#d6ebfa\" stroke=\"black\" d=\"M1288.5,-155C1288.5,-155 1139.5,-155 1139.5,-155 1133.5,-155 1127.5,-149 1127.5,-143 1127.5,-143 1127.5,-84 1127.5,-84 1127.5,-78 1133.5,-72 1139.5,-72 1139.5,-72 1288.5,-72 1288.5,-72 1294.5,-72 1300.5,-78 1300.5,-84 1300.5,-84 1300.5,-143 1300.5,-143 1300.5,-149 1294.5,-155 1288.5,-155\"/>\n<text text-anchor=\"middle\" x=\"1214\" y=\"-139.8\" font-family=\"Helvetica,sans-Serif\" font-size=\"14.00\">blood_cholesterol &lt;= 3.79</text>\n<text text-anchor=\"middle\" x=\"1214\" y=\"-124.8\" font-family=\"Helvetica,sans-Serif\" font-size=\"14.00\">entropy = 0.991</text>\n<text text-anchor=\"middle\" x=\"1214\" y=\"-109.8\" font-family=\"Helvetica,sans-Serif\" font-size=\"14.00\">samples = 341</text>\n<text text-anchor=\"middle\" x=\"1214\" y=\"-94.8\" font-family=\"Helvetica,sans-Serif\" font-size=\"14.00\">value = [151, 190]</text>\n<text text-anchor=\"middle\" x=\"1214\" y=\"-79.8\" font-family=\"Helvetica,sans-Serif\" font-size=\"14.00\">class = heart_yes</text>\n</g>\n<!-- 187&#45;&gt;193 -->\n<g id=\"edge31\" class=\"edge\">\n<title>187&#45;&gt;193</title>\n<path fill=\"none\" stroke=\"black\" d=\"M1214,-190.91C1214,-182.65 1214,-173.86 1214,-165.3\"/>\n<polygon fill=\"black\" stroke=\"black\" points=\"1217.5,-165.02 1214,-155.02 1210.5,-165.02 1217.5,-165.02\"/>\n</g>\n<!-- 189 -->\n<g id=\"node30\" class=\"node\">\n<title>189</title>\n<path fill=\"#c0c0c0\" stroke=\"black\" d=\"M992,-36C992,-36 962,-36 962,-36 956,-36 950,-30 950,-24 950,-24 950,-12 950,-12 950,-6 956,0 962,0 962,0 992,0 992,0 998,0 1004,-6 1004,-12 1004,-12 1004,-24 1004,-24 1004,-30 998,-36 992,-36\"/>\n<text text-anchor=\"middle\" x=\"977\" y=\"-14.3\" font-family=\"Helvetica,sans-Serif\" font-size=\"14.00\">(...)</text>\n</g>\n<!-- 188&#45;&gt;189 -->\n<g id=\"edge29\" class=\"edge\">\n<title>188&#45;&gt;189</title>\n<path fill=\"none\" stroke=\"black\" d=\"M1005.78,-71.76C1000.86,-62.75 995.78,-53.44 991.29,-45.19\"/>\n<polygon fill=\"black\" stroke=\"black\" points=\"994.35,-43.51 986.49,-36.41 988.21,-46.86 994.35,-43.51\"/>\n</g>\n<!-- 192 -->\n<g id=\"node31\" class=\"node\">\n<title>192</title>\n<path fill=\"#c0c0c0\" stroke=\"black\" d=\"M1064,-36C1064,-36 1034,-36 1034,-36 1028,-36 1022,-30 1022,-24 1022,-24 1022,-12 1022,-12 1022,-6 1028,0 1034,0 1034,0 1064,0 1064,0 1070,0 1076,-6 1076,-12 1076,-12 1076,-24 1076,-24 1076,-30 1070,-36 1064,-36\"/>\n<text text-anchor=\"middle\" x=\"1049\" y=\"-14.3\" font-family=\"Helvetica,sans-Serif\" font-size=\"14.00\">(...)</text>\n</g>\n<!-- 188&#45;&gt;192 -->\n<g id=\"edge30\" class=\"edge\">\n<title>188&#45;&gt;192</title>\n<path fill=\"none\" stroke=\"black\" d=\"M1037.15,-71.76C1039.09,-63.14 1041.09,-54.24 1042.88,-46.26\"/>\n<polygon fill=\"black\" stroke=\"black\" points=\"1046.31,-46.93 1045.09,-36.41 1039.48,-45.4 1046.31,-46.93\"/>\n</g>\n<!-- 194 -->\n<g id=\"node33\" class=\"node\">\n<title>194</title>\n<path fill=\"#c0c0c0\" stroke=\"black\" d=\"M1175,-36C1175,-36 1145,-36 1145,-36 1139,-36 1133,-30 1133,-24 1133,-24 1133,-12 1133,-12 1133,-6 1139,0 1145,0 1145,0 1175,0 1175,0 1181,0 1187,-6 1187,-12 1187,-12 1187,-24 1187,-24 1187,-30 1181,-36 1175,-36\"/>\n<text text-anchor=\"middle\" x=\"1160\" y=\"-14.3\" font-family=\"Helvetica,sans-Serif\" font-size=\"14.00\">(...)</text>\n</g>\n<!-- 193&#45;&gt;194 -->\n<g id=\"edge32\" class=\"edge\">\n<title>193&#45;&gt;194</title>\n<path fill=\"none\" stroke=\"black\" d=\"M1190.47,-71.76C1185.27,-62.75 1179.89,-53.44 1175.13,-45.19\"/>\n<polygon fill=\"black\" stroke=\"black\" points=\"1178.08,-43.31 1170.05,-36.41 1172.02,-46.82 1178.08,-43.31\"/>\n</g>\n<!-- 209 -->\n<g id=\"node34\" class=\"node\">\n<title>209</title>\n<path fill=\"#c0c0c0\" stroke=\"black\" d=\"M1247,-36C1247,-36 1217,-36 1217,-36 1211,-36 1205,-30 1205,-24 1205,-24 1205,-12 1205,-12 1205,-6 1211,0 1217,0 1217,0 1247,0 1247,0 1253,0 1259,-6 1259,-12 1259,-12 1259,-24 1259,-24 1259,-30 1253,-36 1247,-36\"/>\n<text text-anchor=\"middle\" x=\"1232\" y=\"-14.3\" font-family=\"Helvetica,sans-Serif\" font-size=\"14.00\">(...)</text>\n</g>\n<!-- 193&#45;&gt;209 -->\n<g id=\"edge33\" class=\"edge\">\n<title>193&#45;&gt;209</title>\n<path fill=\"none\" stroke=\"black\" d=\"M1221.84,-71.76C1223.5,-63.14 1225.22,-54.24 1226.75,-46.26\"/>\n<polygon fill=\"black\" stroke=\"black\" points=\"1230.2,-46.89 1228.65,-36.41 1223.32,-45.56 1230.2,-46.89\"/>\n</g>\n<!-- 259 -->\n<g id=\"node36\" class=\"node\">\n<title>259</title>\n<path fill=\"#e6853f\" stroke=\"black\" d=\"M1459.5,-155C1459.5,-155 1330.5,-155 1330.5,-155 1324.5,-155 1318.5,-149 1318.5,-143 1318.5,-143 1318.5,-84 1318.5,-84 1318.5,-78 1324.5,-72 1330.5,-72 1330.5,-72 1459.5,-72 1459.5,-72 1465.5,-72 1471.5,-78 1471.5,-84 1471.5,-84 1471.5,-143 1471.5,-143 1471.5,-149 1465.5,-155 1459.5,-155\"/>\n<text text-anchor=\"middle\" x=\"1395\" y=\"-139.8\" font-family=\"Helvetica,sans-Serif\" font-size=\"14.00\">diastolic_bp &lt;= 2412.5</text>\n<text text-anchor=\"middle\" x=\"1395\" y=\"-124.8\" font-family=\"Helvetica,sans-Serif\" font-size=\"14.00\">entropy = 0.201</text>\n<text text-anchor=\"middle\" x=\"1395\" y=\"-109.8\" font-family=\"Helvetica,sans-Serif\" font-size=\"14.00\">samples = 64</text>\n<text text-anchor=\"middle\" x=\"1395\" y=\"-94.8\" font-family=\"Helvetica,sans-Serif\" font-size=\"14.00\">value = [62, 2]</text>\n<text text-anchor=\"middle\" x=\"1395\" y=\"-79.8\" font-family=\"Helvetica,sans-Serif\" font-size=\"14.00\">class = heart_no</text>\n</g>\n<!-- 258&#45;&gt;259 -->\n<g id=\"edge35\" class=\"edge\">\n<title>258&#45;&gt;259</title>\n<path fill=\"none\" stroke=\"black\" d=\"M1442.02,-190.91C1436.6,-182.1 1430.82,-172.7 1425.22,-163.61\"/>\n<polygon fill=\"black\" stroke=\"black\" points=\"1428.16,-161.7 1419.94,-155.02 1422.2,-165.37 1428.16,-161.7\"/>\n</g>\n<!-- 264 -->\n<g id=\"node39\" class=\"node\">\n<title>264</title>\n<path fill=\"#399de5\" stroke=\"black\" d=\"M1600,-147.5C1600,-147.5 1502,-147.5 1502,-147.5 1496,-147.5 1490,-141.5 1490,-135.5 1490,-135.5 1490,-91.5 1490,-91.5 1490,-85.5 1496,-79.5 1502,-79.5 1502,-79.5 1600,-79.5 1600,-79.5 1606,-79.5 1612,-85.5 1612,-91.5 1612,-91.5 1612,-135.5 1612,-135.5 1612,-141.5 1606,-147.5 1600,-147.5\"/>\n<text text-anchor=\"middle\" x=\"1551\" y=\"-132.3\" font-family=\"Helvetica,sans-Serif\" font-size=\"14.00\">entropy = 0.0</text>\n<text text-anchor=\"middle\" x=\"1551\" y=\"-117.3\" font-family=\"Helvetica,sans-Serif\" font-size=\"14.00\">samples = 4</text>\n<text text-anchor=\"middle\" x=\"1551\" y=\"-102.3\" font-family=\"Helvetica,sans-Serif\" font-size=\"14.00\">value = [0, 4]</text>\n<text text-anchor=\"middle\" x=\"1551\" y=\"-87.3\" font-family=\"Helvetica,sans-Serif\" font-size=\"14.00\">class = heart_yes</text>\n</g>\n<!-- 258&#45;&gt;264 -->\n<g id=\"edge38\" class=\"edge\">\n<title>258&#45;&gt;264</title>\n<path fill=\"none\" stroke=\"black\" d=\"M1496.14,-190.91C1504.22,-179.65 1513.01,-167.42 1521.13,-156.11\"/>\n<polygon fill=\"black\" stroke=\"black\" points=\"1524.2,-157.83 1527.19,-147.67 1518.51,-153.75 1524.2,-157.83\"/>\n</g>\n<!-- 260 -->\n<g id=\"node37\" class=\"node\">\n<title>260</title>\n<path fill=\"#c0c0c0\" stroke=\"black\" d=\"M1374,-36C1374,-36 1344,-36 1344,-36 1338,-36 1332,-30 1332,-24 1332,-24 1332,-12 1332,-12 1332,-6 1338,0 1344,0 1344,0 1374,0 1374,0 1380,0 1386,-6 1386,-12 1386,-12 1386,-24 1386,-24 1386,-30 1380,-36 1374,-36\"/>\n<text text-anchor=\"middle\" x=\"1359\" y=\"-14.3\" font-family=\"Helvetica,sans-Serif\" font-size=\"14.00\">(...)</text>\n</g>\n<!-- 259&#45;&gt;260 -->\n<g id=\"edge36\" class=\"edge\">\n<title>259&#45;&gt;260</title>\n<path fill=\"none\" stroke=\"black\" d=\"M1379.31,-71.76C1375.96,-63.04 1372.49,-54.04 1369.39,-45.99\"/>\n<polygon fill=\"black\" stroke=\"black\" points=\"1372.56,-44.48 1365.7,-36.41 1366.03,-46.99 1372.56,-44.48\"/>\n</g>\n<!-- 261 -->\n<g id=\"node38\" class=\"node\">\n<title>261</title>\n<path fill=\"#c0c0c0\" stroke=\"black\" d=\"M1446,-36C1446,-36 1416,-36 1416,-36 1410,-36 1404,-30 1404,-24 1404,-24 1404,-12 1404,-12 1404,-6 1410,0 1416,0 1416,0 1446,0 1446,0 1452,0 1458,-6 1458,-12 1458,-12 1458,-24 1458,-24 1458,-30 1452,-36 1446,-36\"/>\n<text text-anchor=\"middle\" x=\"1431\" y=\"-14.3\" font-family=\"Helvetica,sans-Serif\" font-size=\"14.00\">(...)</text>\n</g>\n<!-- 259&#45;&gt;261 -->\n<g id=\"edge37\" class=\"edge\">\n<title>259&#45;&gt;261</title>\n<path fill=\"none\" stroke=\"black\" d=\"M1410.69,-71.76C1414.04,-63.04 1417.51,-54.04 1420.61,-45.99\"/>\n<polygon fill=\"black\" stroke=\"black\" points=\"1423.97,-46.99 1424.3,-36.41 1417.44,-44.48 1423.97,-46.99\"/>\n</g>\n<!-- 266 -->\n<g id=\"node41\" class=\"node\">\n<title>266</title>\n<path fill=\"#4ea7e8\" stroke=\"black\" d=\"M1879.5,-274C1879.5,-274 1748.5,-274 1748.5,-274 1742.5,-274 1736.5,-268 1736.5,-262 1736.5,-262 1736.5,-203 1736.5,-203 1736.5,-197 1742.5,-191 1748.5,-191 1748.5,-191 1879.5,-191 1879.5,-191 1885.5,-191 1891.5,-197 1891.5,-203 1891.5,-203 1891.5,-262 1891.5,-262 1891.5,-268 1885.5,-274 1879.5,-274\"/>\n<text text-anchor=\"middle\" x=\"1814\" y=\"-258.8\" font-family=\"Helvetica,sans-Serif\" font-size=\"14.00\">family_income &lt;= 16.1</text>\n<text text-anchor=\"middle\" x=\"1814\" y=\"-243.8\" font-family=\"Helvetica,sans-Serif\" font-size=\"14.00\">entropy = 0.455</text>\n<text text-anchor=\"middle\" x=\"1814\" y=\"-228.8\" font-family=\"Helvetica,sans-Serif\" font-size=\"14.00\">samples = 94</text>\n<text text-anchor=\"middle\" x=\"1814\" y=\"-213.8\" font-family=\"Helvetica,sans-Serif\" font-size=\"14.00\">value = [9, 85]</text>\n<text text-anchor=\"middle\" x=\"1814\" y=\"-198.8\" font-family=\"Helvetica,sans-Serif\" font-size=\"14.00\">class = heart_yes</text>\n</g>\n<!-- 265&#45;&gt;266 -->\n<g id=\"edge40\" class=\"edge\">\n<title>265&#45;&gt;266</title>\n<path fill=\"none\" stroke=\"black\" d=\"M1814,-309.91C1814,-301.65 1814,-292.86 1814,-284.3\"/>\n<polygon fill=\"black\" stroke=\"black\" points=\"1817.5,-284.02 1814,-274.02 1810.5,-284.02 1817.5,-284.02\"/>\n</g>\n<!-- 279 -->\n<g id=\"node48\" class=\"node\">\n<title>279</title>\n<path fill=\"#a3d2f3\" stroke=\"black\" d=\"M2178.5,-274C2178.5,-274 2049.5,-274 2049.5,-274 2043.5,-274 2037.5,-268 2037.5,-262 2037.5,-262 2037.5,-203 2037.5,-203 2037.5,-197 2043.5,-191 2049.5,-191 2049.5,-191 2178.5,-191 2178.5,-191 2184.5,-191 2190.5,-197 2190.5,-203 2190.5,-203 2190.5,-262 2190.5,-262 2190.5,-268 2184.5,-274 2178.5,-274\"/>\n<text text-anchor=\"middle\" x=\"2114\" y=\"-258.8\" font-family=\"Helvetica,sans-Serif\" font-size=\"14.00\">diastolic_bp &lt;= 3316.5</text>\n<text text-anchor=\"middle\" x=\"2114\" y=\"-243.8\" font-family=\"Helvetica,sans-Serif\" font-size=\"14.00\">entropy = 0.933</text>\n<text text-anchor=\"middle\" x=\"2114\" y=\"-228.8\" font-family=\"Helvetica,sans-Serif\" font-size=\"14.00\">samples = 292</text>\n<text text-anchor=\"middle\" x=\"2114\" y=\"-213.8\" font-family=\"Helvetica,sans-Serif\" font-size=\"14.00\">value = [102, 190]</text>\n<text text-anchor=\"middle\" x=\"2114\" y=\"-198.8\" font-family=\"Helvetica,sans-Serif\" font-size=\"14.00\">class = heart_yes</text>\n</g>\n<!-- 265&#45;&gt;279 -->\n<g id=\"edge47\" class=\"edge\">\n<title>265&#45;&gt;279</title>\n<path fill=\"none\" stroke=\"black\" d=\"M1876.52,-326.12C1920.39,-309.01 1979.61,-285.91 2027.93,-267.07\"/>\n<polygon fill=\"black\" stroke=\"black\" points=\"2029.4,-270.25 2037.44,-263.36 2026.85,-263.73 2029.4,-270.25\"/>\n</g>\n<!-- 267 -->\n<g id=\"node42\" class=\"node\">\n<title>267</title>\n<path fill=\"#bddef6\" stroke=\"black\" d=\"M1791.5,-155C1791.5,-155 1642.5,-155 1642.5,-155 1636.5,-155 1630.5,-149 1630.5,-143 1630.5,-143 1630.5,-84 1630.5,-84 1630.5,-78 1636.5,-72 1642.5,-72 1642.5,-72 1791.5,-72 1791.5,-72 1797.5,-72 1803.5,-78 1803.5,-84 1803.5,-84 1803.5,-143 1803.5,-143 1803.5,-149 1797.5,-155 1791.5,-155\"/>\n<text text-anchor=\"middle\" x=\"1717\" y=\"-139.8\" font-family=\"Helvetica,sans-Serif\" font-size=\"14.00\">blood_cholesterol &lt;= 3.57</text>\n<text text-anchor=\"middle\" x=\"1717\" y=\"-124.8\" font-family=\"Helvetica,sans-Serif\" font-size=\"14.00\">entropy = 0.971</text>\n<text text-anchor=\"middle\" x=\"1717\" y=\"-109.8\" font-family=\"Helvetica,sans-Serif\" font-size=\"14.00\">samples = 10</text>\n<text text-anchor=\"middle\" x=\"1717\" y=\"-94.8\" font-family=\"Helvetica,sans-Serif\" font-size=\"14.00\">value = [4, 6]</text>\n<text text-anchor=\"middle\" x=\"1717\" y=\"-79.8\" font-family=\"Helvetica,sans-Serif\" font-size=\"14.00\">class = heart_yes</text>\n</g>\n<!-- 266&#45;&gt;267 -->\n<g id=\"edge41\" class=\"edge\">\n<title>266&#45;&gt;267</title>\n<path fill=\"none\" stroke=\"black\" d=\"M1780.35,-190.91C1772.82,-181.83 1764.77,-172.12 1757.02,-162.77\"/>\n<polygon fill=\"black\" stroke=\"black\" points=\"1759.67,-160.49 1750.59,-155.02 1754.28,-164.95 1759.67,-160.49\"/>\n</g>\n<!-- 270 -->\n<g id=\"node45\" class=\"node\">\n<title>270</title>\n<path fill=\"#46a3e7\" stroke=\"black\" d=\"M1990,-155C1990,-155 1834,-155 1834,-155 1828,-155 1822,-149 1822,-143 1822,-143 1822,-84 1822,-84 1822,-78 1828,-72 1834,-72 1834,-72 1990,-72 1990,-72 1996,-72 2002,-78 2002,-84 2002,-84 2002,-143 2002,-143 2002,-149 1996,-155 1990,-155\"/>\n<text text-anchor=\"middle\" x=\"1912\" y=\"-139.8\" font-family=\"Helvetica,sans-Serif\" font-size=\"14.00\">blood_cholesterol &lt;= 5.545</text>\n<text text-anchor=\"middle\" x=\"1912\" y=\"-124.8\" font-family=\"Helvetica,sans-Serif\" font-size=\"14.00\">entropy = 0.326</text>\n<text text-anchor=\"middle\" x=\"1912\" y=\"-109.8\" font-family=\"Helvetica,sans-Serif\" font-size=\"14.00\">samples = 84</text>\n<text text-anchor=\"middle\" x=\"1912\" y=\"-94.8\" font-family=\"Helvetica,sans-Serif\" font-size=\"14.00\">value = [5, 79]</text>\n<text text-anchor=\"middle\" x=\"1912\" y=\"-79.8\" font-family=\"Helvetica,sans-Serif\" font-size=\"14.00\">class = heart_yes</text>\n</g>\n<!-- 266&#45;&gt;270 -->\n<g id=\"edge44\" class=\"edge\">\n<title>266&#45;&gt;270</title>\n<path fill=\"none\" stroke=\"black\" d=\"M1848,-190.91C1855.6,-181.83 1863.74,-172.12 1871.57,-162.77\"/>\n<polygon fill=\"black\" stroke=\"black\" points=\"1874.32,-164.93 1878.06,-155.02 1868.96,-160.44 1874.32,-164.93\"/>\n</g>\n<!-- 268 -->\n<g id=\"node43\" class=\"node\">\n<title>268</title>\n<path fill=\"#c0c0c0\" stroke=\"black\" d=\"M1685,-36C1685,-36 1655,-36 1655,-36 1649,-36 1643,-30 1643,-24 1643,-24 1643,-12 1643,-12 1643,-6 1649,0 1655,0 1655,0 1685,0 1685,0 1691,0 1697,-6 1697,-12 1697,-12 1697,-24 1697,-24 1697,-30 1691,-36 1685,-36\"/>\n<text text-anchor=\"middle\" x=\"1670\" y=\"-14.3\" font-family=\"Helvetica,sans-Serif\" font-size=\"14.00\">(...)</text>\n</g>\n<!-- 267&#45;&gt;268 -->\n<g id=\"edge42\" class=\"edge\">\n<title>267&#45;&gt;268</title>\n<path fill=\"none\" stroke=\"black\" d=\"M1696.52,-71.76C1692.04,-62.85 1687.41,-53.64 1683.3,-45.46\"/>\n<polygon fill=\"black\" stroke=\"black\" points=\"1686.37,-43.77 1678.75,-36.41 1680.11,-46.91 1686.37,-43.77\"/>\n</g>\n<!-- 269 -->\n<g id=\"node44\" class=\"node\">\n<title>269</title>\n<path fill=\"#c0c0c0\" stroke=\"black\" d=\"M1757,-36C1757,-36 1727,-36 1727,-36 1721,-36 1715,-30 1715,-24 1715,-24 1715,-12 1715,-12 1715,-6 1721,0 1727,0 1727,0 1757,0 1757,0 1763,0 1769,-6 1769,-12 1769,-12 1769,-24 1769,-24 1769,-30 1763,-36 1757,-36\"/>\n<text text-anchor=\"middle\" x=\"1742\" y=\"-14.3\" font-family=\"Helvetica,sans-Serif\" font-size=\"14.00\">(...)</text>\n</g>\n<!-- 267&#45;&gt;269 -->\n<g id=\"edge43\" class=\"edge\">\n<title>267&#45;&gt;269</title>\n<path fill=\"none\" stroke=\"black\" d=\"M1727.89,-71.76C1730.2,-63.14 1732.58,-54.24 1734.71,-46.26\"/>\n<polygon fill=\"black\" stroke=\"black\" points=\"1738.14,-46.97 1737.35,-36.41 1731.38,-45.16 1738.14,-46.97\"/>\n</g>\n<!-- 271 -->\n<g id=\"node46\" class=\"node\">\n<title>271</title>\n<path fill=\"#c0c0c0\" stroke=\"black\" d=\"M1884,-36C1884,-36 1854,-36 1854,-36 1848,-36 1842,-30 1842,-24 1842,-24 1842,-12 1842,-12 1842,-6 1848,0 1854,0 1854,0 1884,0 1884,0 1890,0 1896,-6 1896,-12 1896,-12 1896,-24 1896,-24 1896,-30 1890,-36 1884,-36\"/>\n<text text-anchor=\"middle\" x=\"1869\" y=\"-14.3\" font-family=\"Helvetica,sans-Serif\" font-size=\"14.00\">(...)</text>\n</g>\n<!-- 270&#45;&gt;271 -->\n<g id=\"edge45\" class=\"edge\">\n<title>270&#45;&gt;271</title>\n<path fill=\"none\" stroke=\"black\" d=\"M1893.26,-71.76C1889.21,-62.94 1885.02,-53.84 1881.29,-45.72\"/>\n<polygon fill=\"black\" stroke=\"black\" points=\"1884.36,-44.03 1877,-36.41 1878,-46.95 1884.36,-44.03\"/>\n</g>\n<!-- 276 -->\n<g id=\"node47\" class=\"node\">\n<title>276</title>\n<path fill=\"#c0c0c0\" stroke=\"black\" d=\"M1956,-36C1956,-36 1926,-36 1926,-36 1920,-36 1914,-30 1914,-24 1914,-24 1914,-12 1914,-12 1914,-6 1920,0 1926,0 1926,0 1956,0 1956,0 1962,0 1968,-6 1968,-12 1968,-12 1968,-24 1968,-24 1968,-30 1962,-36 1956,-36\"/>\n<text text-anchor=\"middle\" x=\"1941\" y=\"-14.3\" font-family=\"Helvetica,sans-Serif\" font-size=\"14.00\">(...)</text>\n</g>\n<!-- 270&#45;&gt;276 -->\n<g id=\"edge46\" class=\"edge\">\n<title>270&#45;&gt;276</title>\n<path fill=\"none\" stroke=\"black\" d=\"M1924.64,-71.76C1927.34,-63.04 1930.13,-54.04 1932.63,-45.99\"/>\n<polygon fill=\"black\" stroke=\"black\" points=\"1935.98,-46.99 1935.6,-36.41 1929.3,-44.92 1935.98,-46.99\"/>\n</g>\n<!-- 280 -->\n<g id=\"node49\" class=\"node\">\n<title>280</title>\n<path fill=\"#97cbf1\" stroke=\"black\" d=\"M2196,-155C2196,-155 2032,-155 2032,-155 2026,-155 2020,-149 2020,-143 2020,-143 2020,-84 2020,-84 2020,-78 2026,-72 2032,-72 2032,-72 2196,-72 2196,-72 2202,-72 2208,-78 2208,-84 2208,-84 2208,-143 2208,-143 2208,-149 2202,-155 2196,-155\"/>\n<text text-anchor=\"middle\" x=\"2114\" y=\"-139.8\" font-family=\"Helvetica,sans-Serif\" font-size=\"14.00\">blood_pressure_sys &lt;= 61.0</text>\n<text text-anchor=\"middle\" x=\"2114\" y=\"-124.8\" font-family=\"Helvetica,sans-Serif\" font-size=\"14.00\">entropy = 0.906</text>\n<text text-anchor=\"middle\" x=\"2114\" y=\"-109.8\" font-family=\"Helvetica,sans-Serif\" font-size=\"14.00\">samples = 280</text>\n<text text-anchor=\"middle\" x=\"2114\" y=\"-94.8\" font-family=\"Helvetica,sans-Serif\" font-size=\"14.00\">value = [90, 190]</text>\n<text text-anchor=\"middle\" x=\"2114\" y=\"-79.8\" font-family=\"Helvetica,sans-Serif\" font-size=\"14.00\">class = heart_yes</text>\n</g>\n<!-- 279&#45;&gt;280 -->\n<g id=\"edge48\" class=\"edge\">\n<title>279&#45;&gt;280</title>\n<path fill=\"none\" stroke=\"black\" d=\"M2114,-190.91C2114,-182.65 2114,-173.86 2114,-165.3\"/>\n<polygon fill=\"black\" stroke=\"black\" points=\"2117.5,-165.02 2114,-155.02 2110.5,-165.02 2117.5,-165.02\"/>\n</g>\n<!-- 327 -->\n<g id=\"node52\" class=\"node\">\n<title>327</title>\n<path fill=\"#e58139\" stroke=\"black\" d=\"M2330,-147.5C2330,-147.5 2238,-147.5 2238,-147.5 2232,-147.5 2226,-141.5 2226,-135.5 2226,-135.5 2226,-91.5 2226,-91.5 2226,-85.5 2232,-79.5 2238,-79.5 2238,-79.5 2330,-79.5 2330,-79.5 2336,-79.5 2342,-85.5 2342,-91.5 2342,-91.5 2342,-135.5 2342,-135.5 2342,-141.5 2336,-147.5 2330,-147.5\"/>\n<text text-anchor=\"middle\" x=\"2284\" y=\"-132.3\" font-family=\"Helvetica,sans-Serif\" font-size=\"14.00\">entropy = 0.0</text>\n<text text-anchor=\"middle\" x=\"2284\" y=\"-117.3\" font-family=\"Helvetica,sans-Serif\" font-size=\"14.00\">samples = 12</text>\n<text text-anchor=\"middle\" x=\"2284\" y=\"-102.3\" font-family=\"Helvetica,sans-Serif\" font-size=\"14.00\">value = [12, 0]</text>\n<text text-anchor=\"middle\" x=\"2284\" y=\"-87.3\" font-family=\"Helvetica,sans-Serif\" font-size=\"14.00\">class = heart_no</text>\n</g>\n<!-- 279&#45;&gt;327 -->\n<g id=\"edge51\" class=\"edge\">\n<title>279&#45;&gt;327</title>\n<path fill=\"none\" stroke=\"black\" d=\"M2172.98,-190.91C2190.62,-178.77 2209.91,-165.49 2227.39,-153.46\"/>\n<polygon fill=\"black\" stroke=\"black\" points=\"2229.56,-156.22 2235.81,-147.67 2225.59,-150.45 2229.56,-156.22\"/>\n</g>\n<!-- 281 -->\n<g id=\"node50\" class=\"node\">\n<title>281</title>\n<path fill=\"#c0c0c0\" stroke=\"black\" d=\"M2093,-36C2093,-36 2063,-36 2063,-36 2057,-36 2051,-30 2051,-24 2051,-24 2051,-12 2051,-12 2051,-6 2057,0 2063,0 2063,0 2093,0 2093,0 2099,0 2105,-6 2105,-12 2105,-12 2105,-24 2105,-24 2105,-30 2099,-36 2093,-36\"/>\n<text text-anchor=\"middle\" x=\"2078\" y=\"-14.3\" font-family=\"Helvetica,sans-Serif\" font-size=\"14.00\">(...)</text>\n</g>\n<!-- 280&#45;&gt;281 -->\n<g id=\"edge49\" class=\"edge\">\n<title>280&#45;&gt;281</title>\n<path fill=\"none\" stroke=\"black\" d=\"M2098.31,-71.76C2094.96,-63.04 2091.49,-54.04 2088.39,-45.99\"/>\n<polygon fill=\"black\" stroke=\"black\" points=\"2091.56,-44.48 2084.7,-36.41 2085.03,-46.99 2091.56,-44.48\"/>\n</g>\n<!-- 292 -->\n<g id=\"node51\" class=\"node\">\n<title>292</title>\n<path fill=\"#c0c0c0\" stroke=\"black\" d=\"M2165,-36C2165,-36 2135,-36 2135,-36 2129,-36 2123,-30 2123,-24 2123,-24 2123,-12 2123,-12 2123,-6 2129,0 2135,0 2135,0 2165,0 2165,0 2171,0 2177,-6 2177,-12 2177,-12 2177,-24 2177,-24 2177,-30 2171,-36 2165,-36\"/>\n<text text-anchor=\"middle\" x=\"2150\" y=\"-14.3\" font-family=\"Helvetica,sans-Serif\" font-size=\"14.00\">(...)</text>\n</g>\n<!-- 280&#45;&gt;292 -->\n<g id=\"edge50\" class=\"edge\">\n<title>280&#45;&gt;292</title>\n<path fill=\"none\" stroke=\"black\" d=\"M2129.69,-71.76C2133.04,-63.04 2136.51,-54.04 2139.61,-45.99\"/>\n<polygon fill=\"black\" stroke=\"black\" points=\"2142.97,-46.99 2143.3,-36.41 2136.44,-44.48 2142.97,-46.99\"/>\n</g>\n<!-- 329 -->\n<g id=\"node54\" class=\"node\">\n<title>329</title>\n<path fill=\"#c8e4f8\" stroke=\"black\" d=\"M3102.5,-512C3102.5,-512 3001.5,-512 3001.5,-512 2995.5,-512 2989.5,-506 2989.5,-500 2989.5,-500 2989.5,-441 2989.5,-441 2989.5,-435 2995.5,-429 3001.5,-429 3001.5,-429 3102.5,-429 3102.5,-429 3108.5,-429 3114.5,-435 3114.5,-441 3114.5,-441 3114.5,-500 3114.5,-500 3114.5,-506 3108.5,-512 3102.5,-512\"/>\n<text text-anchor=\"middle\" x=\"3052\" y=\"-496.8\" font-family=\"Helvetica,sans-Serif\" font-size=\"14.00\">age &lt;= 77.5</text>\n<text text-anchor=\"middle\" x=\"3052\" y=\"-481.8\" font-family=\"Helvetica,sans-Serif\" font-size=\"14.00\">entropy = 0.981</text>\n<text text-anchor=\"middle\" x=\"3052\" y=\"-466.8\" font-family=\"Helvetica,sans-Serif\" font-size=\"14.00\">samples = 1465</text>\n<text text-anchor=\"middle\" x=\"3052\" y=\"-451.8\" font-family=\"Helvetica,sans-Serif\" font-size=\"14.00\">value = [614, 851]</text>\n<text text-anchor=\"middle\" x=\"3052\" y=\"-436.8\" font-family=\"Helvetica,sans-Serif\" font-size=\"14.00\">class = heart_yes</text>\n</g>\n<!-- 328&#45;&gt;329 -->\n<g id=\"edge53\" class=\"edge\">\n<title>328&#45;&gt;329</title>\n<path fill=\"none\" stroke=\"black\" d=\"M3052,-547.91C3052,-539.65 3052,-530.86 3052,-522.3\"/>\n<polygon fill=\"black\" stroke=\"black\" points=\"3055.5,-522.02 3052,-512.02 3048.5,-522.02 3055.5,-522.02\"/>\n</g>\n<!-- 566 -->\n<g id=\"node81\" class=\"node\">\n<title>566</title>\n<path fill=\"#59ade9\" stroke=\"black\" d=\"M3934,-512C3934,-512 3778,-512 3778,-512 3772,-512 3766,-506 3766,-500 3766,-500 3766,-441 3766,-441 3766,-435 3772,-429 3778,-429 3778,-429 3934,-429 3934,-429 3940,-429 3946,-435 3946,-441 3946,-441 3946,-500 3946,-500 3946,-506 3940,-512 3934,-512\"/>\n<text text-anchor=\"middle\" x=\"3856\" y=\"-496.8\" font-family=\"Helvetica,sans-Serif\" font-size=\"14.00\">blood_cholesterol &lt;= 3.605</text>\n<text text-anchor=\"middle\" x=\"3856\" y=\"-481.8\" font-family=\"Helvetica,sans-Serif\" font-size=\"14.00\">entropy = 0.582</text>\n<text text-anchor=\"middle\" x=\"3856\" y=\"-466.8\" font-family=\"Helvetica,sans-Serif\" font-size=\"14.00\">samples = 883</text>\n<text text-anchor=\"middle\" x=\"3856\" y=\"-451.8\" font-family=\"Helvetica,sans-Serif\" font-size=\"14.00\">value = [123, 760]</text>\n<text text-anchor=\"middle\" x=\"3856\" y=\"-436.8\" font-family=\"Helvetica,sans-Serif\" font-size=\"14.00\">class = heart_yes</text>\n</g>\n<!-- 328&#45;&gt;566 -->\n<g id=\"edge80\" class=\"edge\">\n<title>328&#45;&gt;566</title>\n<path fill=\"none\" stroke=\"black\" d=\"M3118.14,-578.88C3258.87,-558.4 3588.73,-510.39 3755.58,-486.11\"/>\n<polygon fill=\"black\" stroke=\"black\" points=\"3756.45,-489.52 3765.84,-484.62 3755.44,-482.6 3756.45,-489.52\"/>\n</g>\n<!-- 330 -->\n<g id=\"node55\" class=\"node\">\n<title>330</title>\n<path fill=\"#fefcfb\" stroke=\"black\" d=\"M2949.5,-393C2949.5,-393 2848.5,-393 2848.5,-393 2842.5,-393 2836.5,-387 2836.5,-381 2836.5,-381 2836.5,-322 2836.5,-322 2836.5,-316 2842.5,-310 2848.5,-310 2848.5,-310 2949.5,-310 2949.5,-310 2955.5,-310 2961.5,-316 2961.5,-322 2961.5,-322 2961.5,-381 2961.5,-381 2961.5,-387 2955.5,-393 2949.5,-393\"/>\n<text text-anchor=\"middle\" x=\"2899\" y=\"-377.8\" font-family=\"Helvetica,sans-Serif\" font-size=\"14.00\">calories &lt;= 3.84</text>\n<text text-anchor=\"middle\" x=\"2899\" y=\"-362.8\" font-family=\"Helvetica,sans-Serif\" font-size=\"14.00\">entropy = 1.0</text>\n<text text-anchor=\"middle\" x=\"2899\" y=\"-347.8\" font-family=\"Helvetica,sans-Serif\" font-size=\"14.00\">samples = 936</text>\n<text text-anchor=\"middle\" x=\"2899\" y=\"-332.8\" font-family=\"Helvetica,sans-Serif\" font-size=\"14.00\">value = [473, 463]</text>\n<text text-anchor=\"middle\" x=\"2899\" y=\"-317.8\" font-family=\"Helvetica,sans-Serif\" font-size=\"14.00\">class = heart_no</text>\n</g>\n<!-- 329&#45;&gt;330 -->\n<g id=\"edge54\" class=\"edge\">\n<title>329&#45;&gt;330</title>\n<path fill=\"none\" stroke=\"black\" d=\"M2998.92,-428.91C2986.46,-419.38 2973.08,-409.15 2960.29,-399.37\"/>\n<polygon fill=\"black\" stroke=\"black\" points=\"2962.06,-396.32 2951.99,-393.02 2957.81,-401.88 2962.06,-396.32\"/>\n</g>\n<!-- 477 -->\n<g id=\"node70\" class=\"node\">\n<title>477</title>\n<path fill=\"#81c1ee\" stroke=\"black\" d=\"M3273,-393C3273,-393 3147,-393 3147,-393 3141,-393 3135,-387 3135,-381 3135,-381 3135,-322 3135,-322 3135,-316 3141,-310 3147,-310 3147,-310 3273,-310 3273,-310 3279,-310 3285,-316 3285,-322 3285,-322 3285,-381 3285,-381 3285,-387 3279,-393 3273,-393\"/>\n<text text-anchor=\"middle\" x=\"3210\" y=\"-377.8\" font-family=\"Helvetica,sans-Serif\" font-size=\"14.00\">gender_female &lt;= 0.5</text>\n<text text-anchor=\"middle\" x=\"3210\" y=\"-362.8\" font-family=\"Helvetica,sans-Serif\" font-size=\"14.00\">entropy = 0.836</text>\n<text text-anchor=\"middle\" x=\"3210\" y=\"-347.8\" font-family=\"Helvetica,sans-Serif\" font-size=\"14.00\">samples = 529</text>\n<text text-anchor=\"middle\" x=\"3210\" y=\"-332.8\" font-family=\"Helvetica,sans-Serif\" font-size=\"14.00\">value = [141, 388]</text>\n<text text-anchor=\"middle\" x=\"3210\" y=\"-317.8\" font-family=\"Helvetica,sans-Serif\" font-size=\"14.00\">class = heart_yes</text>\n</g>\n<!-- 329&#45;&gt;477 -->\n<g id=\"edge69\" class=\"edge\">\n<title>329&#45;&gt;477</title>\n<path fill=\"none\" stroke=\"black\" d=\"M3106.82,-428.91C3119.81,-419.29 3133.76,-408.95 3147.08,-399.09\"/>\n<polygon fill=\"black\" stroke=\"black\" points=\"3149.33,-401.78 3155.28,-393.02 3145.16,-396.16 3149.33,-401.78\"/>\n</g>\n<!-- 331 -->\n<g id=\"node56\" class=\"node\">\n<title>331</title>\n<path fill=\"#dbedfa\" stroke=\"black\" d=\"M2703,-274C2703,-274 2565,-274 2565,-274 2559,-274 2553,-268 2553,-262 2553,-262 2553,-203 2553,-203 2553,-197 2559,-191 2565,-191 2565,-191 2703,-191 2703,-191 2709,-191 2715,-197 2715,-203 2715,-203 2715,-262 2715,-262 2715,-268 2709,-274 2703,-274\"/>\n<text text-anchor=\"middle\" x=\"2634\" y=\"-258.8\" font-family=\"Helvetica,sans-Serif\" font-size=\"14.00\">family_income &lt;= 16.05</text>\n<text text-anchor=\"middle\" x=\"2634\" y=\"-243.8\" font-family=\"Helvetica,sans-Serif\" font-size=\"14.00\">entropy = 0.993</text>\n<text text-anchor=\"middle\" x=\"2634\" y=\"-228.8\" font-family=\"Helvetica,sans-Serif\" font-size=\"14.00\">samples = 737</text>\n<text text-anchor=\"middle\" x=\"2634\" y=\"-213.8\" font-family=\"Helvetica,sans-Serif\" font-size=\"14.00\">value = [332, 405]</text>\n<text text-anchor=\"middle\" x=\"2634\" y=\"-198.8\" font-family=\"Helvetica,sans-Serif\" font-size=\"14.00\">class = heart_yes</text>\n</g>\n<!-- 330&#45;&gt;331 -->\n<g id=\"edge55\" class=\"edge\">\n<title>330&#45;&gt;331</title>\n<path fill=\"none\" stroke=\"black\" d=\"M2836.2,-322.77C2802.9,-308.07 2761.39,-289.74 2724.66,-273.53\"/>\n<polygon fill=\"black\" stroke=\"black\" points=\"2726,-270.29 2715.43,-269.45 2723.17,-276.69 2726,-270.29\"/>\n</g>\n<!-- 452 -->\n<g id=\"node63\" class=\"node\">\n<title>452</title>\n<path fill=\"#f0b58a\" stroke=\"black\" d=\"M2968,-274C2968,-274 2830,-274 2830,-274 2824,-274 2818,-268 2818,-262 2818,-262 2818,-203 2818,-203 2818,-197 2824,-191 2830,-191 2830,-191 2968,-191 2968,-191 2974,-191 2980,-197 2980,-203 2980,-203 2980,-262 2980,-262 2980,-268 2974,-274 2968,-274\"/>\n<text text-anchor=\"middle\" x=\"2899\" y=\"-258.8\" font-family=\"Helvetica,sans-Serif\" font-size=\"14.00\">family_income &lt;= 23.25</text>\n<text text-anchor=\"middle\" x=\"2899\" y=\"-243.8\" font-family=\"Helvetica,sans-Serif\" font-size=\"14.00\">entropy = 0.871</text>\n<text text-anchor=\"middle\" x=\"2899\" y=\"-228.8\" font-family=\"Helvetica,sans-Serif\" font-size=\"14.00\">samples = 199</text>\n<text text-anchor=\"middle\" x=\"2899\" y=\"-213.8\" font-family=\"Helvetica,sans-Serif\" font-size=\"14.00\">value = [141, 58]</text>\n<text text-anchor=\"middle\" x=\"2899\" y=\"-198.8\" font-family=\"Helvetica,sans-Serif\" font-size=\"14.00\">class = heart_no</text>\n</g>\n<!-- 330&#45;&gt;452 -->\n<g id=\"edge62\" class=\"edge\">\n<title>330&#45;&gt;452</title>\n<path fill=\"none\" stroke=\"black\" d=\"M2899,-309.91C2899,-301.65 2899,-292.86 2899,-284.3\"/>\n<polygon fill=\"black\" stroke=\"black\" points=\"2902.5,-284.02 2899,-274.02 2895.5,-284.02 2902.5,-284.02\"/>\n</g>\n<!-- 332 -->\n<g id=\"node57\" class=\"node\">\n<title>332</title>\n<path fill=\"#67b4eb\" stroke=\"black\" d=\"M2510,-155C2510,-155 2372,-155 2372,-155 2366,-155 2360,-149 2360,-143 2360,-143 2360,-84 2360,-84 2360,-78 2366,-72 2372,-72 2372,-72 2510,-72 2510,-72 2516,-72 2522,-78 2522,-84 2522,-84 2522,-143 2522,-143 2522,-149 2516,-155 2510,-155\"/>\n<text text-anchor=\"middle\" x=\"2441\" y=\"-139.8\" font-family=\"Helvetica,sans-Serif\" font-size=\"14.00\">family_income &lt;= 13.85</text>\n<text text-anchor=\"middle\" x=\"2441\" y=\"-124.8\" font-family=\"Helvetica,sans-Serif\" font-size=\"14.00\">entropy = 0.701</text>\n<text text-anchor=\"middle\" x=\"2441\" y=\"-109.8\" font-family=\"Helvetica,sans-Serif\" font-size=\"14.00\">samples = 100</text>\n<text text-anchor=\"middle\" x=\"2441\" y=\"-94.8\" font-family=\"Helvetica,sans-Serif\" font-size=\"14.00\">value = [19, 81]</text>\n<text text-anchor=\"middle\" x=\"2441\" y=\"-79.8\" font-family=\"Helvetica,sans-Serif\" font-size=\"14.00\">class = heart_yes</text>\n</g>\n<!-- 331&#45;&gt;332 -->\n<g id=\"edge56\" class=\"edge\">\n<title>331&#45;&gt;332</title>\n<path fill=\"none\" stroke=\"black\" d=\"M2567.04,-190.91C2550.72,-181.02 2533.16,-170.37 2516.47,-160.25\"/>\n<polygon fill=\"black\" stroke=\"black\" points=\"2518.21,-157.21 2507.84,-155.02 2514.58,-163.2 2518.21,-157.21\"/>\n</g>\n<!-- 351 -->\n<g id=\"node60\" class=\"node\">\n<title>351</title>\n<path fill=\"#f8fcfe\" stroke=\"black\" d=\"M2716,-155C2716,-155 2552,-155 2552,-155 2546,-155 2540,-149 2540,-143 2540,-143 2540,-84 2540,-84 2540,-78 2546,-72 2552,-72 2552,-72 2716,-72 2716,-72 2722,-72 2728,-78 2728,-84 2728,-84 2728,-143 2728,-143 2728,-149 2722,-155 2716,-155\"/>\n<text text-anchor=\"middle\" x=\"2634\" y=\"-139.8\" font-family=\"Helvetica,sans-Serif\" font-size=\"14.00\">blood_pressure_sys &lt;= 83.0</text>\n<text text-anchor=\"middle\" x=\"2634\" y=\"-124.8\" font-family=\"Helvetica,sans-Serif\" font-size=\"14.00\">entropy = 1.0</text>\n<text text-anchor=\"middle\" x=\"2634\" y=\"-109.8\" font-family=\"Helvetica,sans-Serif\" font-size=\"14.00\">samples = 637</text>\n<text text-anchor=\"middle\" x=\"2634\" y=\"-94.8\" font-family=\"Helvetica,sans-Serif\" font-size=\"14.00\">value = [313, 324]</text>\n<text text-anchor=\"middle\" x=\"2634\" y=\"-79.8\" font-family=\"Helvetica,sans-Serif\" font-size=\"14.00\">class = heart_yes</text>\n</g>\n<!-- 331&#45;&gt;351 -->\n<g id=\"edge59\" class=\"edge\">\n<title>331&#45;&gt;351</title>\n<path fill=\"none\" stroke=\"black\" d=\"M2634,-190.91C2634,-182.65 2634,-173.86 2634,-165.3\"/>\n<polygon fill=\"black\" stroke=\"black\" points=\"2637.5,-165.02 2634,-155.02 2630.5,-165.02 2637.5,-165.02\"/>\n</g>\n<!-- 333 -->\n<g id=\"node58\" class=\"node\">\n<title>333</title>\n<path fill=\"#c0c0c0\" stroke=\"black\" d=\"M2420,-36C2420,-36 2390,-36 2390,-36 2384,-36 2378,-30 2378,-24 2378,-24 2378,-12 2378,-12 2378,-6 2384,0 2390,0 2390,0 2420,0 2420,0 2426,0 2432,-6 2432,-12 2432,-12 2432,-24 2432,-24 2432,-30 2426,-36 2420,-36\"/>\n<text text-anchor=\"middle\" x=\"2405\" y=\"-14.3\" font-family=\"Helvetica,sans-Serif\" font-size=\"14.00\">(...)</text>\n</g>\n<!-- 332&#45;&gt;333 -->\n<g id=\"edge57\" class=\"edge\">\n<title>332&#45;&gt;333</title>\n<path fill=\"none\" stroke=\"black\" d=\"M2425.31,-71.76C2421.96,-63.04 2418.49,-54.04 2415.39,-45.99\"/>\n<polygon fill=\"black\" stroke=\"black\" points=\"2418.56,-44.48 2411.7,-36.41 2412.03,-46.99 2418.56,-44.48\"/>\n</g>\n<!-- 334 -->\n<g id=\"node59\" class=\"node\">\n<title>334</title>\n<path fill=\"#c0c0c0\" stroke=\"black\" d=\"M2492,-36C2492,-36 2462,-36 2462,-36 2456,-36 2450,-30 2450,-24 2450,-24 2450,-12 2450,-12 2450,-6 2456,0 2462,0 2462,0 2492,0 2492,0 2498,0 2504,-6 2504,-12 2504,-12 2504,-24 2504,-24 2504,-30 2498,-36 2492,-36\"/>\n<text text-anchor=\"middle\" x=\"2477\" y=\"-14.3\" font-family=\"Helvetica,sans-Serif\" font-size=\"14.00\">(...)</text>\n</g>\n<!-- 332&#45;&gt;334 -->\n<g id=\"edge58\" class=\"edge\">\n<title>332&#45;&gt;334</title>\n<path fill=\"none\" stroke=\"black\" d=\"M2456.69,-71.76C2460.04,-63.04 2463.51,-54.04 2466.61,-45.99\"/>\n<polygon fill=\"black\" stroke=\"black\" points=\"2469.97,-46.99 2470.3,-36.41 2463.44,-44.48 2469.97,-46.99\"/>\n</g>\n<!-- 352 -->\n<g id=\"node61\" class=\"node\">\n<title>352</title>\n<path fill=\"#c0c0c0\" stroke=\"black\" d=\"M2633,-36C2633,-36 2603,-36 2603,-36 2597,-36 2591,-30 2591,-24 2591,-24 2591,-12 2591,-12 2591,-6 2597,0 2603,0 2603,0 2633,0 2633,0 2639,0 2645,-6 2645,-12 2645,-12 2645,-24 2645,-24 2645,-30 2639,-36 2633,-36\"/>\n<text text-anchor=\"middle\" x=\"2618\" y=\"-14.3\" font-family=\"Helvetica,sans-Serif\" font-size=\"14.00\">(...)</text>\n</g>\n<!-- 351&#45;&gt;352 -->\n<g id=\"edge60\" class=\"edge\">\n<title>351&#45;&gt;352</title>\n<path fill=\"none\" stroke=\"black\" d=\"M2627.03,-71.76C2625.57,-63.24 2624.06,-54.44 2622.71,-46.53\"/>\n<polygon fill=\"black\" stroke=\"black\" points=\"2626.12,-45.67 2620.98,-36.41 2619.22,-46.85 2626.12,-45.67\"/>\n</g>\n<!-- 451 -->\n<g id=\"node62\" class=\"node\">\n<title>451</title>\n<path fill=\"#c0c0c0\" stroke=\"black\" d=\"M2705,-36C2705,-36 2675,-36 2675,-36 2669,-36 2663,-30 2663,-24 2663,-24 2663,-12 2663,-12 2663,-6 2669,0 2675,0 2675,0 2705,0 2705,0 2711,0 2717,-6 2717,-12 2717,-12 2717,-24 2717,-24 2717,-30 2711,-36 2705,-36\"/>\n<text text-anchor=\"middle\" x=\"2690\" y=\"-14.3\" font-family=\"Helvetica,sans-Serif\" font-size=\"14.00\">(...)</text>\n</g>\n<!-- 351&#45;&gt;451 -->\n<g id=\"edge61\" class=\"edge\">\n<title>351&#45;&gt;451</title>\n<path fill=\"none\" stroke=\"black\" d=\"M2658.4,-71.76C2663.8,-62.75 2669.37,-53.44 2674.31,-45.19\"/>\n<polygon fill=\"black\" stroke=\"black\" points=\"2677.44,-46.78 2679.58,-36.41 2671.43,-43.19 2677.44,-46.78\"/>\n</g>\n<!-- 453 -->\n<g id=\"node64\" class=\"node\">\n<title>453</title>\n<path fill=\"#fae7d9\" stroke=\"black\" d=\"M2922,-155C2922,-155 2758,-155 2758,-155 2752,-155 2746,-149 2746,-143 2746,-143 2746,-84 2746,-84 2746,-78 2752,-72 2758,-72 2758,-72 2922,-72 2922,-72 2928,-72 2934,-78 2934,-84 2934,-84 2934,-143 2934,-143 2934,-149 2928,-155 2922,-155\"/>\n<text text-anchor=\"middle\" x=\"2840\" y=\"-139.8\" font-family=\"Helvetica,sans-Serif\" font-size=\"14.00\">blood_pressure_sys &lt;= 57.0</text>\n<text text-anchor=\"middle\" x=\"2840\" y=\"-124.8\" font-family=\"Helvetica,sans-Serif\" font-size=\"14.00\">entropy = 0.992</text>\n<text text-anchor=\"middle\" x=\"2840\" y=\"-109.8\" font-family=\"Helvetica,sans-Serif\" font-size=\"14.00\">samples = 114</text>\n<text text-anchor=\"middle\" x=\"2840\" y=\"-94.8\" font-family=\"Helvetica,sans-Serif\" font-size=\"14.00\">value = [63, 51]</text>\n<text text-anchor=\"middle\" x=\"2840\" y=\"-79.8\" font-family=\"Helvetica,sans-Serif\" font-size=\"14.00\">class = heart_no</text>\n</g>\n<!-- 452&#45;&gt;453 -->\n<g id=\"edge63\" class=\"edge\">\n<title>452&#45;&gt;453</title>\n<path fill=\"none\" stroke=\"black\" d=\"M2878.53,-190.91C2874.18,-182.29 2869.55,-173.09 2865.05,-164.17\"/>\n<polygon fill=\"black\" stroke=\"black\" points=\"2868.06,-162.37 2860.43,-155.02 2861.81,-165.53 2868.06,-162.37\"/>\n</g>\n<!-- 468 -->\n<g id=\"node67\" class=\"node\">\n<title>468</title>\n<path fill=\"#e78c4b\" stroke=\"black\" d=\"M3056,-155C3056,-155 2964,-155 2964,-155 2958,-155 2952,-149 2952,-143 2952,-143 2952,-84 2952,-84 2952,-78 2958,-72 2964,-72 2964,-72 3056,-72 3056,-72 3062,-72 3068,-78 3068,-84 3068,-84 3068,-143 3068,-143 3068,-149 3062,-155 3056,-155\"/>\n<text text-anchor=\"middle\" x=\"3010\" y=\"-139.8\" font-family=\"Helvetica,sans-Serif\" font-size=\"14.00\">age &lt;= 73.5</text>\n<text text-anchor=\"middle\" x=\"3010\" y=\"-124.8\" font-family=\"Helvetica,sans-Serif\" font-size=\"14.00\">entropy = 0.41</text>\n<text text-anchor=\"middle\" x=\"3010\" y=\"-109.8\" font-family=\"Helvetica,sans-Serif\" font-size=\"14.00\">samples = 85</text>\n<text text-anchor=\"middle\" x=\"3010\" y=\"-94.8\" font-family=\"Helvetica,sans-Serif\" font-size=\"14.00\">value = [78, 7]</text>\n<text text-anchor=\"middle\" x=\"3010\" y=\"-79.8\" font-family=\"Helvetica,sans-Serif\" font-size=\"14.00\">class = heart_no</text>\n</g>\n<!-- 452&#45;&gt;468 -->\n<g id=\"edge66\" class=\"edge\">\n<title>452&#45;&gt;468</title>\n<path fill=\"none\" stroke=\"black\" d=\"M2937.51,-190.91C2946.21,-181.74 2955.52,-171.93 2964.47,-162.49\"/>\n<polygon fill=\"black\" stroke=\"black\" points=\"2967.21,-164.68 2971.56,-155.02 2962.14,-159.87 2967.21,-164.68\"/>\n</g>\n<!-- 454 -->\n<g id=\"node65\" class=\"node\">\n<title>454</title>\n<path fill=\"#c0c0c0\" stroke=\"black\" d=\"M2796,-36C2796,-36 2766,-36 2766,-36 2760,-36 2754,-30 2754,-24 2754,-24 2754,-12 2754,-12 2754,-6 2760,0 2766,0 2766,0 2796,0 2796,0 2802,0 2808,-6 2808,-12 2808,-12 2808,-24 2808,-24 2808,-30 2802,-36 2796,-36\"/>\n<text text-anchor=\"middle\" x=\"2781\" y=\"-14.3\" font-family=\"Helvetica,sans-Serif\" font-size=\"14.00\">(...)</text>\n</g>\n<!-- 453&#45;&gt;454 -->\n<g id=\"edge64\" class=\"edge\">\n<title>453&#45;&gt;454</title>\n<path fill=\"none\" stroke=\"black\" d=\"M2814.29,-71.76C2808.55,-62.65 2802.6,-53.24 2797.36,-44.92\"/>\n<polygon fill=\"black\" stroke=\"black\" points=\"2800.28,-42.99 2791.98,-36.41 2794.36,-46.73 2800.28,-42.99\"/>\n</g>\n<!-- 457 -->\n<g id=\"node66\" class=\"node\">\n<title>457</title>\n<path fill=\"#c0c0c0\" stroke=\"black\" d=\"M2868,-36C2868,-36 2838,-36 2838,-36 2832,-36 2826,-30 2826,-24 2826,-24 2826,-12 2826,-12 2826,-6 2832,0 2838,0 2838,0 2868,0 2868,0 2874,0 2880,-6 2880,-12 2880,-12 2880,-24 2880,-24 2880,-30 2874,-36 2868,-36\"/>\n<text text-anchor=\"middle\" x=\"2853\" y=\"-14.3\" font-family=\"Helvetica,sans-Serif\" font-size=\"14.00\">(...)</text>\n</g>\n<!-- 453&#45;&gt;457 -->\n<g id=\"edge65\" class=\"edge\">\n<title>453&#45;&gt;457</title>\n<path fill=\"none\" stroke=\"black\" d=\"M2845.66,-71.76C2846.85,-63.24 2848.07,-54.44 2849.17,-46.53\"/>\n<polygon fill=\"black\" stroke=\"black\" points=\"2852.67,-46.79 2850.58,-36.41 2845.74,-45.83 2852.67,-46.79\"/>\n</g>\n<!-- 469 -->\n<g id=\"node68\" class=\"node\">\n<title>469</title>\n<path fill=\"#c0c0c0\" stroke=\"black\" d=\"M2989,-36C2989,-36 2959,-36 2959,-36 2953,-36 2947,-30 2947,-24 2947,-24 2947,-12 2947,-12 2947,-6 2953,0 2959,0 2959,0 2989,0 2989,0 2995,0 3001,-6 3001,-12 3001,-12 3001,-24 3001,-24 3001,-30 2995,-36 2989,-36\"/>\n<text text-anchor=\"middle\" x=\"2974\" y=\"-14.3\" font-family=\"Helvetica,sans-Serif\" font-size=\"14.00\">(...)</text>\n</g>\n<!-- 468&#45;&gt;469 -->\n<g id=\"edge67\" class=\"edge\">\n<title>468&#45;&gt;469</title>\n<path fill=\"none\" stroke=\"black\" d=\"M2994.31,-71.76C2990.96,-63.04 2987.49,-54.04 2984.39,-45.99\"/>\n<polygon fill=\"black\" stroke=\"black\" points=\"2987.56,-44.48 2980.7,-36.41 2981.03,-46.99 2987.56,-44.48\"/>\n</g>\n<!-- 470 -->\n<g id=\"node69\" class=\"node\">\n<title>470</title>\n<path fill=\"#c0c0c0\" stroke=\"black\" d=\"M3061,-36C3061,-36 3031,-36 3031,-36 3025,-36 3019,-30 3019,-24 3019,-24 3019,-12 3019,-12 3019,-6 3025,0 3031,0 3031,0 3061,0 3061,0 3067,0 3073,-6 3073,-12 3073,-12 3073,-24 3073,-24 3073,-30 3067,-36 3061,-36\"/>\n<text text-anchor=\"middle\" x=\"3046\" y=\"-14.3\" font-family=\"Helvetica,sans-Serif\" font-size=\"14.00\">(...)</text>\n</g>\n<!-- 468&#45;&gt;470 -->\n<g id=\"edge68\" class=\"edge\">\n<title>468&#45;&gt;470</title>\n<path fill=\"none\" stroke=\"black\" d=\"M3025.69,-71.76C3029.04,-63.04 3032.51,-54.04 3035.61,-45.99\"/>\n<polygon fill=\"black\" stroke=\"black\" points=\"3038.97,-46.99 3039.3,-36.41 3032.44,-44.48 3038.97,-46.99\"/>\n</g>\n<!-- 478 -->\n<g id=\"node71\" class=\"node\">\n<title>478</title>\n<path fill=\"#69b5eb\" stroke=\"black\" d=\"M3288,-274C3288,-274 3132,-274 3132,-274 3126,-274 3120,-268 3120,-262 3120,-262 3120,-203 3120,-203 3120,-197 3126,-191 3132,-191 3132,-191 3288,-191 3288,-191 3294,-191 3300,-197 3300,-203 3300,-203 3300,-262 3300,-262 3300,-268 3294,-274 3288,-274\"/>\n<text text-anchor=\"middle\" x=\"3210\" y=\"-258.8\" font-family=\"Helvetica,sans-Serif\" font-size=\"14.00\">blood_cholesterol &lt;= 3.375</text>\n<text text-anchor=\"middle\" x=\"3210\" y=\"-243.8\" font-family=\"Helvetica,sans-Serif\" font-size=\"14.00\">entropy = 0.71</text>\n<text text-anchor=\"middle\" x=\"3210\" y=\"-228.8\" font-family=\"Helvetica,sans-Serif\" font-size=\"14.00\">samples = 299</text>\n<text text-anchor=\"middle\" x=\"3210\" y=\"-213.8\" font-family=\"Helvetica,sans-Serif\" font-size=\"14.00\">value = [58, 241]</text>\n<text text-anchor=\"middle\" x=\"3210\" y=\"-198.8\" font-family=\"Helvetica,sans-Serif\" font-size=\"14.00\">class = heart_yes</text>\n</g>\n<!-- 477&#45;&gt;478 -->\n<g id=\"edge70\" class=\"edge\">\n<title>477&#45;&gt;478</title>\n<path fill=\"none\" stroke=\"black\" d=\"M3210,-309.91C3210,-301.65 3210,-292.86 3210,-284.3\"/>\n<polygon fill=\"black\" stroke=\"black\" points=\"3213.5,-284.02 3210,-274.02 3206.5,-284.02 3213.5,-284.02\"/>\n</g>\n<!-- 525 -->\n<g id=\"node76\" class=\"node\">\n<title>525</title>\n<path fill=\"#a9d4f4\" stroke=\"black\" d=\"M3491,-274C3491,-274 3393,-274 3393,-274 3387,-274 3381,-268 3381,-262 3381,-262 3381,-203 3381,-203 3381,-197 3387,-191 3393,-191 3393,-191 3491,-191 3491,-191 3497,-191 3503,-197 3503,-203 3503,-203 3503,-262 3503,-262 3503,-268 3497,-274 3491,-274\"/>\n<text text-anchor=\"middle\" x=\"3442\" y=\"-258.8\" font-family=\"Helvetica,sans-Serif\" font-size=\"14.00\">BMI &lt;= 101.0</text>\n<text text-anchor=\"middle\" x=\"3442\" y=\"-243.8\" font-family=\"Helvetica,sans-Serif\" font-size=\"14.00\">entropy = 0.943</text>\n<text text-anchor=\"middle\" x=\"3442\" y=\"-228.8\" font-family=\"Helvetica,sans-Serif\" font-size=\"14.00\">samples = 230</text>\n<text text-anchor=\"middle\" x=\"3442\" y=\"-213.8\" font-family=\"Helvetica,sans-Serif\" font-size=\"14.00\">value = [83, 147]</text>\n<text text-anchor=\"middle\" x=\"3442\" y=\"-198.8\" font-family=\"Helvetica,sans-Serif\" font-size=\"14.00\">class = heart_yes</text>\n</g>\n<!-- 477&#45;&gt;525 -->\n<g id=\"edge75\" class=\"edge\">\n<title>477&#45;&gt;525</title>\n<path fill=\"none\" stroke=\"black\" d=\"M3285,-312.68C3312.84,-298.64 3344.28,-282.78 3371.68,-268.96\"/>\n<polygon fill=\"black\" stroke=\"black\" points=\"3373.45,-271.99 3380.81,-264.36 3370.3,-265.74 3373.45,-271.99\"/>\n</g>\n<!-- 479 -->\n<g id=\"node72\" class=\"node\">\n<title>479</title>\n<path fill=\"#399de5\" stroke=\"black\" d=\"M3196,-147.5C3196,-147.5 3098,-147.5 3098,-147.5 3092,-147.5 3086,-141.5 3086,-135.5 3086,-135.5 3086,-91.5 3086,-91.5 3086,-85.5 3092,-79.5 3098,-79.5 3098,-79.5 3196,-79.5 3196,-79.5 3202,-79.5 3208,-85.5 3208,-91.5 3208,-91.5 3208,-135.5 3208,-135.5 3208,-141.5 3202,-147.5 3196,-147.5\"/>\n<text text-anchor=\"middle\" x=\"3147\" y=\"-132.3\" font-family=\"Helvetica,sans-Serif\" font-size=\"14.00\">entropy = 0.0</text>\n<text text-anchor=\"middle\" x=\"3147\" y=\"-117.3\" font-family=\"Helvetica,sans-Serif\" font-size=\"14.00\">samples = 46</text>\n<text text-anchor=\"middle\" x=\"3147\" y=\"-102.3\" font-family=\"Helvetica,sans-Serif\" font-size=\"14.00\">value = [0, 46]</text>\n<text text-anchor=\"middle\" x=\"3147\" y=\"-87.3\" font-family=\"Helvetica,sans-Serif\" font-size=\"14.00\">class = heart_yes</text>\n</g>\n<!-- 478&#45;&gt;479 -->\n<g id=\"edge71\" class=\"edge\">\n<title>478&#45;&gt;479</title>\n<path fill=\"none\" stroke=\"black\" d=\"M3188.14,-190.91C3182.2,-179.87 3175.75,-167.9 3169.76,-156.77\"/>\n<polygon fill=\"black\" stroke=\"black\" points=\"3172.68,-154.81 3164.86,-147.67 3166.52,-158.13 3172.68,-154.81\"/>\n</g>\n<!-- 480 -->\n<g id=\"node73\" class=\"node\">\n<title>480</title>\n<path fill=\"#74baed\" stroke=\"black\" d=\"M3353.5,-155C3353.5,-155 3238.5,-155 3238.5,-155 3232.5,-155 3226.5,-149 3226.5,-143 3226.5,-143 3226.5,-84 3226.5,-84 3226.5,-78 3232.5,-72 3238.5,-72 3238.5,-72 3353.5,-72 3353.5,-72 3359.5,-72 3365.5,-78 3365.5,-84 3365.5,-84 3365.5,-143 3365.5,-143 3365.5,-149 3359.5,-155 3353.5,-155\"/>\n<text text-anchor=\"middle\" x=\"3296\" y=\"-139.8\" font-family=\"Helvetica,sans-Serif\" font-size=\"14.00\">drink_alcohol &lt;= 0.5</text>\n<text text-anchor=\"middle\" x=\"3296\" y=\"-124.8\" font-family=\"Helvetica,sans-Serif\" font-size=\"14.00\">entropy = 0.777</text>\n<text text-anchor=\"middle\" x=\"3296\" y=\"-109.8\" font-family=\"Helvetica,sans-Serif\" font-size=\"14.00\">samples = 253</text>\n<text text-anchor=\"middle\" x=\"3296\" y=\"-94.8\" font-family=\"Helvetica,sans-Serif\" font-size=\"14.00\">value = [58, 195]</text>\n<text text-anchor=\"middle\" x=\"3296\" y=\"-79.8\" font-family=\"Helvetica,sans-Serif\" font-size=\"14.00\">class = heart_yes</text>\n</g>\n<!-- 478&#45;&gt;480 -->\n<g id=\"edge72\" class=\"edge\">\n<title>478&#45;&gt;480</title>\n<path fill=\"none\" stroke=\"black\" d=\"M3239.84,-190.91C3246.37,-182.01 3253.36,-172.51 3260.11,-163.33\"/>\n<polygon fill=\"black\" stroke=\"black\" points=\"3263.11,-165.15 3266.22,-155.02 3257.47,-161.01 3263.11,-165.15\"/>\n</g>\n<!-- 481 -->\n<g id=\"node74\" class=\"node\">\n<title>481</title>\n<path fill=\"#c0c0c0\" stroke=\"black\" d=\"M3275,-36C3275,-36 3245,-36 3245,-36 3239,-36 3233,-30 3233,-24 3233,-24 3233,-12 3233,-12 3233,-6 3239,0 3245,0 3245,0 3275,0 3275,0 3281,0 3287,-6 3287,-12 3287,-12 3287,-24 3287,-24 3287,-30 3281,-36 3275,-36\"/>\n<text text-anchor=\"middle\" x=\"3260\" y=\"-14.3\" font-family=\"Helvetica,sans-Serif\" font-size=\"14.00\">(...)</text>\n</g>\n<!-- 480&#45;&gt;481 -->\n<g id=\"edge73\" class=\"edge\">\n<title>480&#45;&gt;481</title>\n<path fill=\"none\" stroke=\"black\" d=\"M3280.31,-71.76C3276.96,-63.04 3273.49,-54.04 3270.39,-45.99\"/>\n<polygon fill=\"black\" stroke=\"black\" points=\"3273.56,-44.48 3266.7,-36.41 3267.03,-46.99 3273.56,-44.48\"/>\n</g>\n<!-- 490 -->\n<g id=\"node75\" class=\"node\">\n<title>490</title>\n<path fill=\"#c0c0c0\" stroke=\"black\" d=\"M3347,-36C3347,-36 3317,-36 3317,-36 3311,-36 3305,-30 3305,-24 3305,-24 3305,-12 3305,-12 3305,-6 3311,0 3317,0 3317,0 3347,0 3347,0 3353,0 3359,-6 3359,-12 3359,-12 3359,-24 3359,-24 3359,-30 3353,-36 3347,-36\"/>\n<text text-anchor=\"middle\" x=\"3332\" y=\"-14.3\" font-family=\"Helvetica,sans-Serif\" font-size=\"14.00\">(...)</text>\n</g>\n<!-- 480&#45;&gt;490 -->\n<g id=\"edge74\" class=\"edge\">\n<title>480&#45;&gt;490</title>\n<path fill=\"none\" stroke=\"black\" d=\"M3311.69,-71.76C3315.04,-63.04 3318.51,-54.04 3321.61,-45.99\"/>\n<polygon fill=\"black\" stroke=\"black\" points=\"3324.97,-46.99 3325.3,-36.41 3318.44,-44.48 3324.97,-46.99\"/>\n</g>\n<!-- 526 -->\n<g id=\"node77\" class=\"node\">\n<title>526</title>\n<path fill=\"#e58139\" stroke=\"black\" d=\"M3488,-147.5C3488,-147.5 3396,-147.5 3396,-147.5 3390,-147.5 3384,-141.5 3384,-135.5 3384,-135.5 3384,-91.5 3384,-91.5 3384,-85.5 3390,-79.5 3396,-79.5 3396,-79.5 3488,-79.5 3488,-79.5 3494,-79.5 3500,-85.5 3500,-91.5 3500,-91.5 3500,-135.5 3500,-135.5 3500,-141.5 3494,-147.5 3488,-147.5\"/>\n<text text-anchor=\"middle\" x=\"3442\" y=\"-132.3\" font-family=\"Helvetica,sans-Serif\" font-size=\"14.00\">entropy = 0.0</text>\n<text text-anchor=\"middle\" x=\"3442\" y=\"-117.3\" font-family=\"Helvetica,sans-Serif\" font-size=\"14.00\">samples = 9</text>\n<text text-anchor=\"middle\" x=\"3442\" y=\"-102.3\" font-family=\"Helvetica,sans-Serif\" font-size=\"14.00\">value = [9, 0]</text>\n<text text-anchor=\"middle\" x=\"3442\" y=\"-87.3\" font-family=\"Helvetica,sans-Serif\" font-size=\"14.00\">class = heart_no</text>\n</g>\n<!-- 525&#45;&gt;526 -->\n<g id=\"edge76\" class=\"edge\">\n<title>525&#45;&gt;526</title>\n<path fill=\"none\" stroke=\"black\" d=\"M3442,-190.91C3442,-180.2 3442,-168.62 3442,-157.78\"/>\n<polygon fill=\"black\" stroke=\"black\" points=\"3445.5,-157.67 3442,-147.67 3438.5,-157.67 3445.5,-157.67\"/>\n</g>\n<!-- 527 -->\n<g id=\"node78\" class=\"node\">\n<title>527</title>\n<path fill=\"#9dcef2\" stroke=\"black\" d=\"M3659.5,-155C3659.5,-155 3530.5,-155 3530.5,-155 3524.5,-155 3518.5,-149 3518.5,-143 3518.5,-143 3518.5,-84 3518.5,-84 3518.5,-78 3524.5,-72 3530.5,-72 3530.5,-72 3659.5,-72 3659.5,-72 3665.5,-72 3671.5,-78 3671.5,-84 3671.5,-84 3671.5,-143 3671.5,-143 3671.5,-149 3665.5,-155 3659.5,-155\"/>\n<text text-anchor=\"middle\" x=\"3595\" y=\"-139.8\" font-family=\"Helvetica,sans-Serif\" font-size=\"14.00\">diastolic_bp &lt;= 2746.0</text>\n<text text-anchor=\"middle\" x=\"3595\" y=\"-124.8\" font-family=\"Helvetica,sans-Serif\" font-size=\"14.00\">entropy = 0.92</text>\n<text text-anchor=\"middle\" x=\"3595\" y=\"-109.8\" font-family=\"Helvetica,sans-Serif\" font-size=\"14.00\">samples = 221</text>\n<text text-anchor=\"middle\" x=\"3595\" y=\"-94.8\" font-family=\"Helvetica,sans-Serif\" font-size=\"14.00\">value = [74, 147]</text>\n<text text-anchor=\"middle\" x=\"3595\" y=\"-79.8\" font-family=\"Helvetica,sans-Serif\" font-size=\"14.00\">class = heart_yes</text>\n</g>\n<!-- 525&#45;&gt;527 -->\n<g id=\"edge77\" class=\"edge\">\n<title>525&#45;&gt;527</title>\n<path fill=\"none\" stroke=\"black\" d=\"M3495.08,-190.91C3507.54,-181.38 3520.92,-171.15 3533.71,-161.37\"/>\n<polygon fill=\"black\" stroke=\"black\" points=\"3536.19,-163.88 3542.01,-155.02 3531.94,-158.32 3536.19,-163.88\"/>\n</g>\n<!-- 528 -->\n<g id=\"node79\" class=\"node\">\n<title>528</title>\n<path fill=\"#c0c0c0\" stroke=\"black\" d=\"M3548,-36C3548,-36 3518,-36 3518,-36 3512,-36 3506,-30 3506,-24 3506,-24 3506,-12 3506,-12 3506,-6 3512,0 3518,0 3518,0 3548,0 3548,0 3554,0 3560,-6 3560,-12 3560,-12 3560,-24 3560,-24 3560,-30 3554,-36 3548,-36\"/>\n<text text-anchor=\"middle\" x=\"3533\" y=\"-14.3\" font-family=\"Helvetica,sans-Serif\" font-size=\"14.00\">(...)</text>\n</g>\n<!-- 527&#45;&gt;528 -->\n<g id=\"edge78\" class=\"edge\">\n<title>527&#45;&gt;528</title>\n<path fill=\"none\" stroke=\"black\" d=\"M3567.99,-71.76C3561.95,-62.65 3555.7,-53.24 3550.19,-44.92\"/>\n<polygon fill=\"black\" stroke=\"black\" points=\"3552.98,-42.81 3544.54,-36.41 3547.15,-46.67 3552.98,-42.81\"/>\n</g>\n<!-- 559 -->\n<g id=\"node80\" class=\"node\">\n<title>559</title>\n<path fill=\"#c0c0c0\" stroke=\"black\" d=\"M3620,-36C3620,-36 3590,-36 3590,-36 3584,-36 3578,-30 3578,-24 3578,-24 3578,-12 3578,-12 3578,-6 3584,0 3590,0 3590,0 3620,0 3620,0 3626,0 3632,-6 3632,-12 3632,-12 3632,-24 3632,-24 3632,-30 3626,-36 3620,-36\"/>\n<text text-anchor=\"middle\" x=\"3605\" y=\"-14.3\" font-family=\"Helvetica,sans-Serif\" font-size=\"14.00\">(...)</text>\n</g>\n<!-- 527&#45;&gt;559 -->\n<g id=\"edge79\" class=\"edge\">\n<title>527&#45;&gt;559</title>\n<path fill=\"none\" stroke=\"black\" d=\"M3599.36,-71.76C3600.27,-63.24 3601.21,-54.44 3602.06,-46.53\"/>\n<polygon fill=\"black\" stroke=\"black\" points=\"3605.56,-46.72 3603.14,-36.41 3598.59,-45.98 3605.56,-46.72\"/>\n</g>\n<!-- 567 -->\n<g id=\"node82\" class=\"node\">\n<title>567</title>\n<path fill=\"#bddef6\" stroke=\"black\" d=\"M3925,-393C3925,-393 3787,-393 3787,-393 3781,-393 3775,-387 3775,-381 3775,-381 3775,-322 3775,-322 3775,-316 3781,-310 3787,-310 3787,-310 3925,-310 3925,-310 3931,-310 3937,-316 3937,-322 3937,-322 3937,-381 3937,-381 3937,-387 3931,-393 3925,-393\"/>\n<text text-anchor=\"middle\" x=\"3856\" y=\"-377.8\" font-family=\"Helvetica,sans-Serif\" font-size=\"14.00\">family_income &lt;= 27.05</text>\n<text text-anchor=\"middle\" x=\"3856\" y=\"-362.8\" font-family=\"Helvetica,sans-Serif\" font-size=\"14.00\">entropy = 0.971</text>\n<text text-anchor=\"middle\" x=\"3856\" y=\"-347.8\" font-family=\"Helvetica,sans-Serif\" font-size=\"14.00\">samples = 60</text>\n<text text-anchor=\"middle\" x=\"3856\" y=\"-332.8\" font-family=\"Helvetica,sans-Serif\" font-size=\"14.00\">value = [24, 36]</text>\n<text text-anchor=\"middle\" x=\"3856\" y=\"-317.8\" font-family=\"Helvetica,sans-Serif\" font-size=\"14.00\">class = heart_yes</text>\n</g>\n<!-- 566&#45;&gt;567 -->\n<g id=\"edge81\" class=\"edge\">\n<title>566&#45;&gt;567</title>\n<path fill=\"none\" stroke=\"black\" d=\"M3856,-428.91C3856,-420.65 3856,-411.86 3856,-403.3\"/>\n<polygon fill=\"black\" stroke=\"black\" points=\"3859.5,-403.02 3856,-393.02 3852.5,-403.02 3859.5,-403.02\"/>\n</g>\n<!-- 576 -->\n<g id=\"node89\" class=\"node\">\n<title>576</title>\n<path fill=\"#54aae9\" stroke=\"black\" d=\"M4189,-393C4189,-393 4091,-393 4091,-393 4085,-393 4079,-387 4079,-381 4079,-381 4079,-322 4079,-322 4079,-316 4085,-310 4091,-310 4091,-310 4189,-310 4189,-310 4195,-310 4201,-316 4201,-322 4201,-322 4201,-381 4201,-381 4201,-387 4195,-393 4189,-393\"/>\n<text text-anchor=\"middle\" x=\"4140\" y=\"-377.8\" font-family=\"Helvetica,sans-Serif\" font-size=\"14.00\">BMI &lt;= 135.0</text>\n<text text-anchor=\"middle\" x=\"4140\" y=\"-362.8\" font-family=\"Helvetica,sans-Serif\" font-size=\"14.00\">entropy = 0.53</text>\n<text text-anchor=\"middle\" x=\"4140\" y=\"-347.8\" font-family=\"Helvetica,sans-Serif\" font-size=\"14.00\">samples = 823</text>\n<text text-anchor=\"middle\" x=\"4140\" y=\"-332.8\" font-family=\"Helvetica,sans-Serif\" font-size=\"14.00\">value = [99, 724]</text>\n<text text-anchor=\"middle\" x=\"4140\" y=\"-317.8\" font-family=\"Helvetica,sans-Serif\" font-size=\"14.00\">class = heart_yes</text>\n</g>\n<!-- 566&#45;&gt;576 -->\n<g id=\"edge88\" class=\"edge\">\n<title>566&#45;&gt;576</title>\n<path fill=\"none\" stroke=\"black\" d=\"M3946.25,-432.32C3986.08,-415.91 4032.2,-396.91 4069.45,-381.56\"/>\n<polygon fill=\"black\" stroke=\"black\" points=\"4070.81,-384.79 4078.72,-377.75 4068.14,-378.32 4070.81,-384.79\"/>\n</g>\n<!-- 568 -->\n<g id=\"node83\" class=\"node\">\n<title>568</title>\n<path fill=\"#6ab6ec\" stroke=\"black\" d=\"M3849.5,-274C3849.5,-274 3700.5,-274 3700.5,-274 3694.5,-274 3688.5,-268 3688.5,-262 3688.5,-262 3688.5,-203 3688.5,-203 3688.5,-197 3694.5,-191 3700.5,-191 3700.5,-191 3849.5,-191 3849.5,-191 3855.5,-191 3861.5,-197 3861.5,-203 3861.5,-203 3861.5,-262 3861.5,-262 3861.5,-268 3855.5,-274 3849.5,-274\"/>\n<text text-anchor=\"middle\" x=\"3775\" y=\"-258.8\" font-family=\"Helvetica,sans-Serif\" font-size=\"14.00\">blood_cholesterol &lt;= 3.48</text>\n<text text-anchor=\"middle\" x=\"3775\" y=\"-243.8\" font-family=\"Helvetica,sans-Serif\" font-size=\"14.00\">entropy = 0.722</text>\n<text text-anchor=\"middle\" x=\"3775\" y=\"-228.8\" font-family=\"Helvetica,sans-Serif\" font-size=\"14.00\">samples = 45</text>\n<text text-anchor=\"middle\" x=\"3775\" y=\"-213.8\" font-family=\"Helvetica,sans-Serif\" font-size=\"14.00\">value = [9, 36]</text>\n<text text-anchor=\"middle\" x=\"3775\" y=\"-198.8\" font-family=\"Helvetica,sans-Serif\" font-size=\"14.00\">class = heart_yes</text>\n</g>\n<!-- 567&#45;&gt;568 -->\n<g id=\"edge82\" class=\"edge\">\n<title>567&#45;&gt;568</title>\n<path fill=\"none\" stroke=\"black\" d=\"M3827.9,-309.91C3821.74,-301.01 3815.16,-291.51 3808.81,-282.33\"/>\n<polygon fill=\"black\" stroke=\"black\" points=\"3811.62,-280.25 3803.05,-274.02 3805.87,-284.24 3811.62,-280.25\"/>\n</g>\n<!-- 575 -->\n<g id=\"node88\" class=\"node\">\n<title>575</title>\n<path fill=\"#e58139\" stroke=\"black\" d=\"M3984,-266.5C3984,-266.5 3892,-266.5 3892,-266.5 3886,-266.5 3880,-260.5 3880,-254.5 3880,-254.5 3880,-210.5 3880,-210.5 3880,-204.5 3886,-198.5 3892,-198.5 3892,-198.5 3984,-198.5 3984,-198.5 3990,-198.5 3996,-204.5 3996,-210.5 3996,-210.5 3996,-254.5 3996,-254.5 3996,-260.5 3990,-266.5 3984,-266.5\"/>\n<text text-anchor=\"middle\" x=\"3938\" y=\"-251.3\" font-family=\"Helvetica,sans-Serif\" font-size=\"14.00\">entropy = 0.0</text>\n<text text-anchor=\"middle\" x=\"3938\" y=\"-236.3\" font-family=\"Helvetica,sans-Serif\" font-size=\"14.00\">samples = 15</text>\n<text text-anchor=\"middle\" x=\"3938\" y=\"-221.3\" font-family=\"Helvetica,sans-Serif\" font-size=\"14.00\">value = [15, 0]</text>\n<text text-anchor=\"middle\" x=\"3938\" y=\"-206.3\" font-family=\"Helvetica,sans-Serif\" font-size=\"14.00\">class = heart_no</text>\n</g>\n<!-- 567&#45;&gt;575 -->\n<g id=\"edge87\" class=\"edge\">\n<title>567&#45;&gt;575</title>\n<path fill=\"none\" stroke=\"black\" d=\"M3884.45,-309.91C3892.34,-298.65 3900.91,-286.42 3908.84,-275.11\"/>\n<polygon fill=\"black\" stroke=\"black\" points=\"3911.88,-276.86 3914.75,-266.67 3906.15,-272.85 3911.88,-276.86\"/>\n</g>\n<!-- 569 -->\n<g id=\"node84\" class=\"node\">\n<title>569</title>\n<path fill=\"#4fa8e8\" stroke=\"black\" d=\"M3816.5,-155C3816.5,-155 3701.5,-155 3701.5,-155 3695.5,-155 3689.5,-149 3689.5,-143 3689.5,-143 3689.5,-84 3689.5,-84 3689.5,-78 3695.5,-72 3701.5,-72 3701.5,-72 3816.5,-72 3816.5,-72 3822.5,-72 3828.5,-78 3828.5,-84 3828.5,-84 3828.5,-143 3828.5,-143 3828.5,-149 3822.5,-155 3816.5,-155\"/>\n<text text-anchor=\"middle\" x=\"3759\" y=\"-139.8\" font-family=\"Helvetica,sans-Serif\" font-size=\"14.00\">drink_alcohol &lt;= 0.5</text>\n<text text-anchor=\"middle\" x=\"3759\" y=\"-124.8\" font-family=\"Helvetica,sans-Serif\" font-size=\"14.00\">entropy = 0.469</text>\n<text text-anchor=\"middle\" x=\"3759\" y=\"-109.8\" font-family=\"Helvetica,sans-Serif\" font-size=\"14.00\">samples = 40</text>\n<text text-anchor=\"middle\" x=\"3759\" y=\"-94.8\" font-family=\"Helvetica,sans-Serif\" font-size=\"14.00\">value = [4, 36]</text>\n<text text-anchor=\"middle\" x=\"3759\" y=\"-79.8\" font-family=\"Helvetica,sans-Serif\" font-size=\"14.00\">class = heart_yes</text>\n</g>\n<!-- 568&#45;&gt;569 -->\n<g id=\"edge83\" class=\"edge\">\n<title>568&#45;&gt;569</title>\n<path fill=\"none\" stroke=\"black\" d=\"M3769.45,-190.91C3768.31,-182.56 3767.09,-173.67 3765.91,-165.02\"/>\n<polygon fill=\"black\" stroke=\"black\" points=\"3769.36,-164.45 3764.54,-155.02 3762.43,-165.4 3769.36,-164.45\"/>\n</g>\n<!-- 574 -->\n<g id=\"node87\" class=\"node\">\n<title>574</title>\n<path fill=\"#e58139\" stroke=\"black\" d=\"M3951,-147.5C3951,-147.5 3859,-147.5 3859,-147.5 3853,-147.5 3847,-141.5 3847,-135.5 3847,-135.5 3847,-91.5 3847,-91.5 3847,-85.5 3853,-79.5 3859,-79.5 3859,-79.5 3951,-79.5 3951,-79.5 3957,-79.5 3963,-85.5 3963,-91.5 3963,-91.5 3963,-135.5 3963,-135.5 3963,-141.5 3957,-147.5 3951,-147.5\"/>\n<text text-anchor=\"middle\" x=\"3905\" y=\"-132.3\" font-family=\"Helvetica,sans-Serif\" font-size=\"14.00\">entropy = 0.0</text>\n<text text-anchor=\"middle\" x=\"3905\" y=\"-117.3\" font-family=\"Helvetica,sans-Serif\" font-size=\"14.00\">samples = 5</text>\n<text text-anchor=\"middle\" x=\"3905\" y=\"-102.3\" font-family=\"Helvetica,sans-Serif\" font-size=\"14.00\">value = [5, 0]</text>\n<text text-anchor=\"middle\" x=\"3905\" y=\"-87.3\" font-family=\"Helvetica,sans-Serif\" font-size=\"14.00\">class = heart_no</text>\n</g>\n<!-- 568&#45;&gt;574 -->\n<g id=\"edge86\" class=\"edge\">\n<title>568&#45;&gt;574</title>\n<path fill=\"none\" stroke=\"black\" d=\"M3820.1,-190.91C3833.22,-179.1 3847.54,-166.22 3860.61,-154.45\"/>\n<polygon fill=\"black\" stroke=\"black\" points=\"3863.06,-156.96 3868.15,-147.67 3858.37,-151.76 3863.06,-156.96\"/>\n</g>\n<!-- 570 -->\n<g id=\"node85\" class=\"node\">\n<title>570</title>\n<path fill=\"#c0c0c0\" stroke=\"black\" d=\"M3738,-36C3738,-36 3708,-36 3708,-36 3702,-36 3696,-30 3696,-24 3696,-24 3696,-12 3696,-12 3696,-6 3702,0 3708,0 3708,0 3738,0 3738,0 3744,0 3750,-6 3750,-12 3750,-12 3750,-24 3750,-24 3750,-30 3744,-36 3738,-36\"/>\n<text text-anchor=\"middle\" x=\"3723\" y=\"-14.3\" font-family=\"Helvetica,sans-Serif\" font-size=\"14.00\">(...)</text>\n</g>\n<!-- 569&#45;&gt;570 -->\n<g id=\"edge84\" class=\"edge\">\n<title>569&#45;&gt;570</title>\n<path fill=\"none\" stroke=\"black\" d=\"M3743.31,-71.76C3739.96,-63.04 3736.49,-54.04 3733.39,-45.99\"/>\n<polygon fill=\"black\" stroke=\"black\" points=\"3736.56,-44.48 3729.7,-36.41 3730.03,-46.99 3736.56,-44.48\"/>\n</g>\n<!-- 573 -->\n<g id=\"node86\" class=\"node\">\n<title>573</title>\n<path fill=\"#c0c0c0\" stroke=\"black\" d=\"M3810,-36C3810,-36 3780,-36 3780,-36 3774,-36 3768,-30 3768,-24 3768,-24 3768,-12 3768,-12 3768,-6 3774,0 3780,0 3780,0 3810,0 3810,0 3816,0 3822,-6 3822,-12 3822,-12 3822,-24 3822,-24 3822,-30 3816,-36 3810,-36\"/>\n<text text-anchor=\"middle\" x=\"3795\" y=\"-14.3\" font-family=\"Helvetica,sans-Serif\" font-size=\"14.00\">(...)</text>\n</g>\n<!-- 569&#45;&gt;573 -->\n<g id=\"edge85\" class=\"edge\">\n<title>569&#45;&gt;573</title>\n<path fill=\"none\" stroke=\"black\" d=\"M3774.69,-71.76C3778.04,-63.04 3781.51,-54.04 3784.61,-45.99\"/>\n<polygon fill=\"black\" stroke=\"black\" points=\"3787.97,-46.99 3788.3,-36.41 3781.44,-44.48 3787.97,-46.99\"/>\n</g>\n<!-- 577 -->\n<g id=\"node90\" class=\"node\">\n<title>577</title>\n<path fill=\"#59ade9\" stroke=\"black\" d=\"M4222,-274C4222,-274 4058,-274 4058,-274 4052,-274 4046,-268 4046,-262 4046,-262 4046,-203 4046,-203 4046,-197 4052,-191 4058,-191 4058,-191 4222,-191 4222,-191 4228,-191 4234,-197 4234,-203 4234,-203 4234,-262 4234,-262 4234,-268 4228,-274 4222,-274\"/>\n<text text-anchor=\"middle\" x=\"4140\" y=\"-258.8\" font-family=\"Helvetica,sans-Serif\" font-size=\"14.00\">blood_pressure_sys &lt;= 57.0</text>\n<text text-anchor=\"middle\" x=\"4140\" y=\"-243.8\" font-family=\"Helvetica,sans-Serif\" font-size=\"14.00\">entropy = 0.586</text>\n<text text-anchor=\"middle\" x=\"4140\" y=\"-228.8\" font-family=\"Helvetica,sans-Serif\" font-size=\"14.00\">samples = 668</text>\n<text text-anchor=\"middle\" x=\"4140\" y=\"-213.8\" font-family=\"Helvetica,sans-Serif\" font-size=\"14.00\">value = [94, 574]</text>\n<text text-anchor=\"middle\" x=\"4140\" y=\"-198.8\" font-family=\"Helvetica,sans-Serif\" font-size=\"14.00\">class = heart_yes</text>\n</g>\n<!-- 576&#45;&gt;577 -->\n<g id=\"edge89\" class=\"edge\">\n<title>576&#45;&gt;577</title>\n<path fill=\"none\" stroke=\"black\" d=\"M4140,-309.91C4140,-301.65 4140,-292.86 4140,-284.3\"/>\n<polygon fill=\"black\" stroke=\"black\" points=\"4143.5,-284.02 4140,-274.02 4136.5,-284.02 4143.5,-284.02\"/>\n</g>\n<!-- 662 -->\n<g id=\"node97\" class=\"node\">\n<title>662</title>\n<path fill=\"#40a0e6\" stroke=\"black\" d=\"M4410.5,-274C4410.5,-274 4281.5,-274 4281.5,-274 4275.5,-274 4269.5,-268 4269.5,-262 4269.5,-262 4269.5,-203 4269.5,-203 4269.5,-197 4275.5,-191 4281.5,-191 4281.5,-191 4410.5,-191 4410.5,-191 4416.5,-191 4422.5,-197 4422.5,-203 4422.5,-203 4422.5,-262 4422.5,-262 4422.5,-268 4416.5,-274 4410.5,-274\"/>\n<text text-anchor=\"middle\" x=\"4346\" y=\"-258.8\" font-family=\"Helvetica,sans-Serif\" font-size=\"14.00\">diastolic_bp &lt;= 1992.5</text>\n<text text-anchor=\"middle\" x=\"4346\" y=\"-243.8\" font-family=\"Helvetica,sans-Serif\" font-size=\"14.00\">entropy = 0.206</text>\n<text text-anchor=\"middle\" x=\"4346\" y=\"-228.8\" font-family=\"Helvetica,sans-Serif\" font-size=\"14.00\">samples = 155</text>\n<text text-anchor=\"middle\" x=\"4346\" y=\"-213.8\" font-family=\"Helvetica,sans-Serif\" font-size=\"14.00\">value = [5, 150]</text>\n<text text-anchor=\"middle\" x=\"4346\" y=\"-198.8\" font-family=\"Helvetica,sans-Serif\" font-size=\"14.00\">class = heart_yes</text>\n</g>\n<!-- 576&#45;&gt;662 -->\n<g id=\"edge96\" class=\"edge\">\n<title>576&#45;&gt;662</title>\n<path fill=\"none\" stroke=\"black\" d=\"M4201.25,-315.71C4221.47,-304.23 4244.28,-291.27 4265.71,-279.1\"/>\n<polygon fill=\"black\" stroke=\"black\" points=\"4267.51,-282.11 4274.47,-274.12 4264.05,-276.02 4267.51,-282.11\"/>\n</g>\n<!-- 578 -->\n<g id=\"node91\" class=\"node\">\n<title>578</title>\n<path fill=\"#9acdf2\" stroke=\"black\" d=\"M4091,-155C4091,-155 3993,-155 3993,-155 3987,-155 3981,-149 3981,-143 3981,-143 3981,-84 3981,-84 3981,-78 3987,-72 3993,-72 3993,-72 4091,-72 4091,-72 4097,-72 4103,-78 4103,-84 4103,-84 4103,-143 4103,-143 4103,-149 4097,-155 4091,-155\"/>\n<text text-anchor=\"middle\" x=\"4042\" y=\"-139.8\" font-family=\"Helvetica,sans-Serif\" font-size=\"14.00\">calories &lt;= 1.19</text>\n<text text-anchor=\"middle\" x=\"4042\" y=\"-124.8\" font-family=\"Helvetica,sans-Serif\" font-size=\"14.00\">entropy = 0.914</text>\n<text text-anchor=\"middle\" x=\"4042\" y=\"-109.8\" font-family=\"Helvetica,sans-Serif\" font-size=\"14.00\">samples = 76</text>\n<text text-anchor=\"middle\" x=\"4042\" y=\"-94.8\" font-family=\"Helvetica,sans-Serif\" font-size=\"14.00\">value = [25, 51]</text>\n<text text-anchor=\"middle\" x=\"4042\" y=\"-79.8\" font-family=\"Helvetica,sans-Serif\" font-size=\"14.00\">class = heart_yes</text>\n</g>\n<!-- 577&#45;&gt;578 -->\n<g id=\"edge90\" class=\"edge\">\n<title>577&#45;&gt;578</title>\n<path fill=\"none\" stroke=\"black\" d=\"M4106,-190.91C4098.4,-181.83 4090.26,-172.12 4082.43,-162.77\"/>\n<polygon fill=\"black\" stroke=\"black\" points=\"4085.04,-160.44 4075.94,-155.02 4079.68,-164.93 4085.04,-160.44\"/>\n</g>\n<!-- 591 -->\n<g id=\"node94\" class=\"node\">\n<title>591</title>\n<path fill=\"#53aae8\" stroke=\"black\" d=\"M4255,-155C4255,-155 4133,-155 4133,-155 4127,-155 4121,-149 4121,-143 4121,-143 4121,-84 4121,-84 4121,-78 4127,-72 4133,-72 4133,-72 4255,-72 4255,-72 4261,-72 4267,-78 4267,-84 4267,-84 4267,-143 4267,-143 4267,-149 4261,-155 4255,-155\"/>\n<text text-anchor=\"middle\" x=\"4194\" y=\"-139.8\" font-family=\"Helvetica,sans-Serif\" font-size=\"14.00\">diastolic_bp &lt;= 522.0</text>\n<text text-anchor=\"middle\" x=\"4194\" y=\"-124.8\" font-family=\"Helvetica,sans-Serif\" font-size=\"14.00\">entropy = 0.519</text>\n<text text-anchor=\"middle\" x=\"4194\" y=\"-109.8\" font-family=\"Helvetica,sans-Serif\" font-size=\"14.00\">samples = 592</text>\n<text text-anchor=\"middle\" x=\"4194\" y=\"-94.8\" font-family=\"Helvetica,sans-Serif\" font-size=\"14.00\">value = [69, 523]</text>\n<text text-anchor=\"middle\" x=\"4194\" y=\"-79.8\" font-family=\"Helvetica,sans-Serif\" font-size=\"14.00\">class = heart_yes</text>\n</g>\n<!-- 577&#45;&gt;591 -->\n<g id=\"edge93\" class=\"edge\">\n<title>577&#45;&gt;591</title>\n<path fill=\"none\" stroke=\"black\" d=\"M4158.74,-190.91C4162.71,-182.29 4166.96,-173.09 4171.07,-164.17\"/>\n<polygon fill=\"black\" stroke=\"black\" points=\"4174.29,-165.57 4175.3,-155.02 4167.93,-162.63 4174.29,-165.57\"/>\n</g>\n<!-- 579 -->\n<g id=\"node92\" class=\"node\">\n<title>579</title>\n<path fill=\"#c0c0c0\" stroke=\"black\" d=\"M3989,-36C3989,-36 3959,-36 3959,-36 3953,-36 3947,-30 3947,-24 3947,-24 3947,-12 3947,-12 3947,-6 3953,0 3959,0 3959,0 3989,0 3989,0 3995,0 4001,-6 4001,-12 4001,-12 4001,-24 4001,-24 4001,-30 3995,-36 3989,-36\"/>\n<text text-anchor=\"middle\" x=\"3974\" y=\"-14.3\" font-family=\"Helvetica,sans-Serif\" font-size=\"14.00\">(...)</text>\n</g>\n<!-- 578&#45;&gt;579 -->\n<g id=\"edge91\" class=\"edge\">\n<title>578&#45;&gt;579</title>\n<path fill=\"none\" stroke=\"black\" d=\"M4012.37,-71.76C4005.68,-62.56 3998.75,-53.04 3992.66,-44.66\"/>\n<polygon fill=\"black\" stroke=\"black\" points=\"3995.37,-42.43 3986.66,-36.41 3989.71,-46.55 3995.37,-42.43\"/>\n</g>\n<!-- 580 -->\n<g id=\"node93\" class=\"node\">\n<title>580</title>\n<path fill=\"#c0c0c0\" stroke=\"black\" d=\"M4061,-36C4061,-36 4031,-36 4031,-36 4025,-36 4019,-30 4019,-24 4019,-24 4019,-12 4019,-12 4019,-6 4025,0 4031,0 4031,0 4061,0 4061,0 4067,0 4073,-6 4073,-12 4073,-12 4073,-24 4073,-24 4073,-30 4067,-36 4061,-36\"/>\n<text text-anchor=\"middle\" x=\"4046\" y=\"-14.3\" font-family=\"Helvetica,sans-Serif\" font-size=\"14.00\">(...)</text>\n</g>\n<!-- 578&#45;&gt;580 -->\n<g id=\"edge92\" class=\"edge\">\n<title>578&#45;&gt;580</title>\n<path fill=\"none\" stroke=\"black\" d=\"M4043.74,-71.76C4044.11,-63.24 4044.48,-54.44 4044.82,-46.53\"/>\n<polygon fill=\"black\" stroke=\"black\" points=\"4048.32,-46.55 4045.26,-36.41 4041.33,-46.25 4048.32,-46.55\"/>\n</g>\n<!-- 592 -->\n<g id=\"node95\" class=\"node\">\n<title>592</title>\n<path fill=\"#c0c0c0\" stroke=\"black\" d=\"M4173,-36C4173,-36 4143,-36 4143,-36 4137,-36 4131,-30 4131,-24 4131,-24 4131,-12 4131,-12 4131,-6 4137,0 4143,0 4143,0 4173,0 4173,0 4179,0 4185,-6 4185,-12 4185,-12 4185,-24 4185,-24 4185,-30 4179,-36 4173,-36\"/>\n<text text-anchor=\"middle\" x=\"4158\" y=\"-14.3\" font-family=\"Helvetica,sans-Serif\" font-size=\"14.00\">(...)</text>\n</g>\n<!-- 591&#45;&gt;592 -->\n<g id=\"edge94\" class=\"edge\">\n<title>591&#45;&gt;592</title>\n<path fill=\"none\" stroke=\"black\" d=\"M4178.31,-71.76C4174.96,-63.04 4171.49,-54.04 4168.39,-45.99\"/>\n<polygon fill=\"black\" stroke=\"black\" points=\"4171.56,-44.48 4164.7,-36.41 4165.03,-46.99 4171.56,-44.48\"/>\n</g>\n<!-- 593 -->\n<g id=\"node96\" class=\"node\">\n<title>593</title>\n<path fill=\"#c0c0c0\" stroke=\"black\" d=\"M4245,-36C4245,-36 4215,-36 4215,-36 4209,-36 4203,-30 4203,-24 4203,-24 4203,-12 4203,-12 4203,-6 4209,0 4215,0 4215,0 4245,0 4245,0 4251,0 4257,-6 4257,-12 4257,-12 4257,-24 4257,-24 4257,-30 4251,-36 4245,-36\"/>\n<text text-anchor=\"middle\" x=\"4230\" y=\"-14.3\" font-family=\"Helvetica,sans-Serif\" font-size=\"14.00\">(...)</text>\n</g>\n<!-- 591&#45;&gt;593 -->\n<g id=\"edge95\" class=\"edge\">\n<title>591&#45;&gt;593</title>\n<path fill=\"none\" stroke=\"black\" d=\"M4209.69,-71.76C4213.04,-63.04 4216.51,-54.04 4219.61,-45.99\"/>\n<polygon fill=\"black\" stroke=\"black\" points=\"4222.97,-46.99 4223.3,-36.41 4216.44,-44.48 4222.97,-46.99\"/>\n</g>\n<!-- 663 -->\n<g id=\"node98\" class=\"node\">\n<title>663</title>\n<path fill=\"#399de5\" stroke=\"black\" d=\"M4395,-147.5C4395,-147.5 4297,-147.5 4297,-147.5 4291,-147.5 4285,-141.5 4285,-135.5 4285,-135.5 4285,-91.5 4285,-91.5 4285,-85.5 4291,-79.5 4297,-79.5 4297,-79.5 4395,-79.5 4395,-79.5 4401,-79.5 4407,-85.5 4407,-91.5 4407,-91.5 4407,-135.5 4407,-135.5 4407,-141.5 4401,-147.5 4395,-147.5\"/>\n<text text-anchor=\"middle\" x=\"4346\" y=\"-132.3\" font-family=\"Helvetica,sans-Serif\" font-size=\"14.00\">entropy = 0.0</text>\n<text text-anchor=\"middle\" x=\"4346\" y=\"-117.3\" font-family=\"Helvetica,sans-Serif\" font-size=\"14.00\">samples = 110</text>\n<text text-anchor=\"middle\" x=\"4346\" y=\"-102.3\" font-family=\"Helvetica,sans-Serif\" font-size=\"14.00\">value = [0, 110]</text>\n<text text-anchor=\"middle\" x=\"4346\" y=\"-87.3\" font-family=\"Helvetica,sans-Serif\" font-size=\"14.00\">class = heart_yes</text>\n</g>\n<!-- 662&#45;&gt;663 -->\n<g id=\"edge97\" class=\"edge\">\n<title>662&#45;&gt;663</title>\n<path fill=\"none\" stroke=\"black\" d=\"M4346,-190.91C4346,-180.2 4346,-168.62 4346,-157.78\"/>\n<polygon fill=\"black\" stroke=\"black\" points=\"4349.5,-157.67 4346,-147.67 4342.5,-157.67 4349.5,-157.67\"/>\n</g>\n<!-- 664 -->\n<g id=\"node99\" class=\"node\">\n<title>664</title>\n<path fill=\"#52a9e8\" stroke=\"black\" d=\"M4586.5,-155C4586.5,-155 4437.5,-155 4437.5,-155 4431.5,-155 4425.5,-149 4425.5,-143 4425.5,-143 4425.5,-84 4425.5,-84 4425.5,-78 4431.5,-72 4437.5,-72 4437.5,-72 4586.5,-72 4586.5,-72 4592.5,-72 4598.5,-78 4598.5,-84 4598.5,-84 4598.5,-143 4598.5,-143 4598.5,-149 4592.5,-155 4586.5,-155\"/>\n<text text-anchor=\"middle\" x=\"4512\" y=\"-139.8\" font-family=\"Helvetica,sans-Serif\" font-size=\"14.00\">blood_cholesterol &lt;= 4.72</text>\n<text text-anchor=\"middle\" x=\"4512\" y=\"-124.8\" font-family=\"Helvetica,sans-Serif\" font-size=\"14.00\">entropy = 0.503</text>\n<text text-anchor=\"middle\" x=\"4512\" y=\"-109.8\" font-family=\"Helvetica,sans-Serif\" font-size=\"14.00\">samples = 45</text>\n<text text-anchor=\"middle\" x=\"4512\" y=\"-94.8\" font-family=\"Helvetica,sans-Serif\" font-size=\"14.00\">value = [5, 40]</text>\n<text text-anchor=\"middle\" x=\"4512\" y=\"-79.8\" font-family=\"Helvetica,sans-Serif\" font-size=\"14.00\">class = heart_yes</text>\n</g>\n<!-- 662&#45;&gt;664 -->\n<g id=\"edge98\" class=\"edge\">\n<title>662&#45;&gt;664</title>\n<path fill=\"none\" stroke=\"black\" d=\"M4403.59,-190.91C4417.37,-181.2 4432.18,-170.76 4446.29,-160.81\"/>\n<polygon fill=\"black\" stroke=\"black\" points=\"4448.35,-163.64 4454.51,-155.02 4444.32,-157.92 4448.35,-163.64\"/>\n</g>\n<!-- 665 -->\n<g id=\"node100\" class=\"node\">\n<title>665</title>\n<path fill=\"#c0c0c0\" stroke=\"black\" d=\"M4491,-36C4491,-36 4461,-36 4461,-36 4455,-36 4449,-30 4449,-24 4449,-24 4449,-12 4449,-12 4449,-6 4455,0 4461,0 4461,0 4491,0 4491,0 4497,0 4503,-6 4503,-12 4503,-12 4503,-24 4503,-24 4503,-30 4497,-36 4491,-36\"/>\n<text text-anchor=\"middle\" x=\"4476\" y=\"-14.3\" font-family=\"Helvetica,sans-Serif\" font-size=\"14.00\">(...)</text>\n</g>\n<!-- 664&#45;&gt;665 -->\n<g id=\"edge99\" class=\"edge\">\n<title>664&#45;&gt;665</title>\n<path fill=\"none\" stroke=\"black\" d=\"M4496.31,-71.76C4492.96,-63.04 4489.49,-54.04 4486.39,-45.99\"/>\n<polygon fill=\"black\" stroke=\"black\" points=\"4489.56,-44.48 4482.7,-36.41 4483.03,-46.99 4489.56,-44.48\"/>\n</g>\n<!-- 668 -->\n<g id=\"node101\" class=\"node\">\n<title>668</title>\n<path fill=\"#c0c0c0\" stroke=\"black\" d=\"M4563,-36C4563,-36 4533,-36 4533,-36 4527,-36 4521,-30 4521,-24 4521,-24 4521,-12 4521,-12 4521,-6 4527,0 4533,0 4533,0 4563,0 4563,0 4569,0 4575,-6 4575,-12 4575,-12 4575,-24 4575,-24 4575,-30 4569,-36 4563,-36\"/>\n<text text-anchor=\"middle\" x=\"4548\" y=\"-14.3\" font-family=\"Helvetica,sans-Serif\" font-size=\"14.00\">(...)</text>\n</g>\n<!-- 664&#45;&gt;668 -->\n<g id=\"edge100\" class=\"edge\">\n<title>664&#45;&gt;668</title>\n<path fill=\"none\" stroke=\"black\" d=\"M4527.69,-71.76C4531.04,-63.04 4534.51,-54.04 4537.61,-45.99\"/>\n<polygon fill=\"black\" stroke=\"black\" points=\"4540.97,-46.99 4541.3,-36.41 4534.44,-44.48 4540.97,-46.99\"/>\n</g>\n</g>\n</svg>\n",
            "text/plain": [
              "<graphviz.sources.Source at 0x7b9894be7be0>"
            ]
          },
          "metadata": {}
        }
      ],
      "source": [
        "# TODO\n",
        "tree5 = DecisionTreeClassifier(criterion=\"entropy\", min_samples_split=2)\n",
        "\n",
        "# TODO: fit it to our data\n",
        "tree5.fit(X_train, t_train)\n",
        "\n",
        "# Print the training and validation accuracy\n",
        "print(\"Training Accuracy:\", tree5.score(X_train, t_train))\n",
        "print(\"Validation Accuracy:\", tree5.score(X_valid, t_valid))\n",
        "\n",
        "# TODO: visualize the tree\n",
        "visualize_tree(tree5)"
      ]
    },
    {
      "cell_type": "markdown",
      "id": "everyday-subdivision",
      "metadata": {
        "id": "everyday-subdivision"
      },
      "source": [
        "**Graded Task:** What value of `min_samples_split` did you choose to make the tree underfit, or overfit? Why do these values cause the graph to underfit, or overfit?"
      ]
    },
    {
      "cell_type": "code",
      "execution_count": 94,
      "id": "straight-battery",
      "metadata": {
        "id": "straight-battery"
      },
      "outputs": [],
      "source": [
        "# Similarly, I chose 2 for overfitting and 5000 for underfitting.\n",
        "# Each data in the given dataset would have their own category\n",
        "# when min_samples_split=2, hence it should be overfitting.\n",
        "# The 5000 data would be categorized to 2 categories only when\n",
        "# min_samples_split=5000, so underfitting."
      ]
    },
    {
      "cell_type": "markdown",
      "id": "basic-sullivan",
      "metadata": {
        "id": "basic-sullivan"
      },
      "source": [
        "**Task:** What differences in training accuracy do you see between your underfitted and overfitted decision trees? Why might this be the case?"
      ]
    },
    {
      "cell_type": "code",
      "execution_count": 95,
      "id": "about-candidate",
      "metadata": {
        "id": "about-candidate"
      },
      "outputs": [],
      "source": [
        "# Underfitted models have lower training accuracy as they may not capture the\n",
        "# complexity of the underlying patterns in the training data, resulting in a\n",
        "# model that is too simple.\n",
        "# Overfitted models have very high accuracy as they essentially memorizes the\n",
        "# training set, including its noise, which can result in overly specific\n",
        "# decision rules that don't generalize well."
      ]
    },
    {
      "cell_type": "markdown",
      "id": "applicable-drawing",
      "metadata": {
        "id": "applicable-drawing"
      },
      "source": [
        "## Part 3. Hyperparameter Tuning\n",
        "\n",
        "So far, we have experimented with two Decision Tree hyperparameters: `max_depth` and `min_samples_split`. Another hyperparameter we can vary is the `criterion` for measuring split quality. In lecture, and earlier in this lab, we used `entropy` as the criterion. Another criterion that Sklearn supports is `gini` (Gini impurity index). You don't need to know the implementation details behind this as we'll rely on Sklearn to compute it. However, if you are interested in learning more about this alternative impurity index, we encourage you to [read more about it](https://en.wikipedia.org/wiki/Gini_coefficient).\n",
        "\n",
        "Thus, our goal is now to figure out what combination of `max_depth`, `min_samples_split` and `criterion` results in the \"best\" decision tree. It is up to you to determine what \"best\" means in this context.\n",
        "\n",
        "**Graded Task:** Start by completing `build_all_models` based on the function specification.\n",
        "This function builds many trees, one for each combination of hyperparameters, and\n",
        "then compares them."
      ]
    },
    {
      "cell_type": "code",
      "execution_count": 96,
      "id": "experimental-crime",
      "metadata": {
        "id": "experimental-crime"
      },
      "outputs": [],
      "source": [
        "def build_all_models(max_depths,\n",
        "                     min_samples_split,\n",
        "                     criterion,\n",
        "                     X_train=X_train,\n",
        "                     t_train=t_train,\n",
        "                     X_valid=X_valid,\n",
        "                     t_valid=t_valid):\n",
        "    \"\"\"\n",
        "    Parameters:\n",
        "        `max_depths` - A list of values representing the max_depth values to be\n",
        "                       try as hyperparameter values\n",
        "        `min_samples_split` - An list of values representing the min_samples_split\n",
        "                       values to try as hyperpareameter values\n",
        "        `criterion` -  A string; either \"entropy\" or \"gini\"\n",
        "\n",
        "    Returns a dictionary, `out`, whose keys are the the hyperparameter choices, and whose values are\n",
        "    the training and validation accuracies (via the `score()` method).\n",
        "    In other words, out[(max_depth, min_samples_split)]['val'] = validation score and\n",
        "                    out[(max_depth, min_samples_split)]['train'] = training score\n",
        "    For that combination of (max_depth, min_samples_split) hyperparameters.\n",
        "    \"\"\"\n",
        "    out = {}\n",
        "\n",
        "    for d in max_depths:\n",
        "        for s in min_samples_split:\n",
        "            out[(d, s)] = {}\n",
        "            tree = DecisionTreeClassifier(criterion=criterion, max_depth=d, min_samples_split=s)\n",
        "            # Create a DecisionTreeClassifier based on the given hyperparameters and fit it to the data\n",
        "            tree.fit(X_train, t_train)\n",
        "            # TODO: store the validation and training scores in the `out` dictionary\n",
        "            out[(d, s)]['val'] = tree.score(X_valid, t_valid) # TODO\n",
        "            out[(d, s)]['train'] = tree.score(X_train, t_train) # TODO\n",
        "    return out"
      ]
    },
    {
      "cell_type": "markdown",
      "id": "medical-indonesian",
      "metadata": {
        "id": "medical-indonesian"
      },
      "source": [
        "**Graded Task:** In this task, we will use an approach called **grid search** to\n",
        "tune hyperparameters: we will list possible values for each hyperparameter,\n",
        "and then attempt every combination of hyperparameter choices. In our case,\n",
        "we will start with some possible values for `max_depth`, `min_samples_split` and `criterion`. Then we will try all combinations\n",
        "of these hyperparameter choices.\n",
        "\n",
        "Complete the code below that performs grid search, by using `build_all_models`\n",
        "to build models and evaluate hyperparameter choices.\n",
        "Print the best parameters and corresponding scores (accuracy) for each of\n",
        "criterion=entropy and criterion=gini (i.e. you should have 2 print statements, 1 for each criterion)."
      ]
    },
    {
      "cell_type": "code",
      "execution_count": 97,
      "id": "roman-kingston",
      "metadata": {
        "id": "roman-kingston",
        "colab": {
          "base_uri": "https://localhost:8080/"
        },
        "outputId": "15bb89e0-3859-4b2b-c73c-863977eaa661"
      },
      "outputs": [
        {
          "output_type": "stream",
          "name": "stdout",
          "text": [
            "\n",
            "Using criterion entropy\n",
            "max_depth: 25, min_samples_split: 2\n",
            "Validation Accuracy: 0.9667\n",
            "\n",
            "Using criterion gini\n",
            "max_depth: 20, min_samples_split: 2\n",
            "Validation Accuracy: 0.9593\n"
          ]
        }
      ],
      "source": [
        "# Hyperparameters values to try in our grid search\n",
        "criterions = [\"entropy\", \"gini\"]\n",
        "max_depths = [1, 5, 10, 15, 20, 25, 30, 50, 100]\n",
        "min_samples_split = [2, 4, 8, 16, 32, 64, 128, 256, 512, 1024]\n",
        "\n",
        "for criterion in criterions:\n",
        "    print(\"\\nUsing criterion {}\".format(criterion))\n",
        "    res = build_all_models(max_depths, min_samples_split, criterion)# TODO: call `build_all_models` for the given hyperparameters\n",
        "\n",
        "    best_params = None\n",
        "    best_score = 0.0\n",
        "    # TODO: complete this loop which should search for the optimal\n",
        "    #  (max_depth, min_samples_split) given this criterion\n",
        "    for d, s in res:\n",
        "        val_score = res[(d, s)]['val']\n",
        "        if val_score > best_score:\n",
        "            best_score = val_score\n",
        "            best_params = (d, s) # TODO\n",
        "\n",
        "    print(\"max_depth: {}, min_samples_split: {}\".format(best_params[0], best_params[1]))\n",
        "    print(\"Validation Accuracy: {:.4f}\".format(best_score))"
      ]
    },
    {
      "cell_type": "markdown",
      "id": "useful-context",
      "metadata": {
        "id": "useful-context"
      },
      "source": [
        "## Part 4. Test accuracy\n",
        "\n",
        "**Task:** Use the optimal set of hyperparameters you previously discovered to fit a new Decision Tree model to the data. Report the test score."
      ]
    },
    {
      "cell_type": "code",
      "execution_count": 98,
      "id": "severe-forum",
      "metadata": {
        "id": "severe-forum",
        "colab": {
          "base_uri": "https://localhost:8080/"
        },
        "outputId": "f2b2dc6f-c16c-44c2-a203-2dd680ad61cb"
      },
      "outputs": [
        {
          "output_type": "execute_result",
          "data": {
            "text/plain": [
              "0.968"
            ]
          },
          "metadata": {},
          "execution_count": 98
        }
      ],
      "source": [
        "best_tree = DecisionTreeClassifier(criterion=\"entropy\",\n",
        "                                   max_depth=25,\n",
        "                                   min_samples_split=4)\n",
        "best_tree.fit(X_train, t_train)\n",
        "test_accuracy = best_tree.score(X_test, t_test)\n",
        "test_accuracy\n",
        " # TODO"
      ]
    },
    {
      "cell_type": "markdown",
      "id": "statistical-admission",
      "metadata": {
        "id": "statistical-admission"
      },
      "source": [
        "The accuracy measure above considers every mis-classification that is made by our model an `error`, and it assumes that each and every error is of equal importance. However, in many domains, not all errors are of equal importance at all! Some mistakes may have significant negative impacts on people, while others may not.  In future labs, we'll look more closely at different kinds of errors that our models may make and reflect on how these errors might be related to risks.\n",
        "\n",
        "For now, however, let's simply reflect on some shortcomings of the accuracy measure above.\n",
        "\n",
        "**Graded Task:** Assume we have two decision trees that both report 95% accuracy on our validation set.\n",
        "Why might a doctor prefer to use one tree rather than the other?  Answer below in 100 words or less."
      ]
    },
    {
      "cell_type": "code",
      "execution_count": 99,
      "id": "surprised-terror",
      "metadata": {
        "id": "surprised-terror"
      },
      "outputs": [],
      "source": [
        "#  The trees may vary in their ability to correctly identify critical medical\n",
        "# conditions or in the severity of false positives and false negatives. In a\n",
        "# medical context, factors like sensitivity, specificity, and the consequences\n",
        "# of misclassifications are crucial. A tree with better performance on\n",
        "# clinically significant outcomes or fewer harmful misclassifications would be\n",
        "# preferred by a doctor, emphasizing the importance of considering the specific\n",
        "# context and consequences of errors in healthcare applications."
      ]
    }
  ],
  "metadata": {
    "colab": {
      "provenance": []
    },
    "language_info": {
      "name": "python"
    },
    "kernelspec": {
      "name": "python3",
      "display_name": "Python 3"
    }
  },
  "nbformat": 4,
  "nbformat_minor": 5
}